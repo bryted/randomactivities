{
  "nbformat": 4,
  "nbformat_minor": 0,
  "metadata": {
    "colab": {
      "name": "Copy of Agent.ipynb",
      "provenance": [],
      "collapsed_sections": []
    },
    "kernelspec": {
      "name": "python3",
      "display_name": "Python 3"
    },
    "language_info": {
      "name": "python"
    }
  },
  "cells": [
    {
      "cell_type": "code",
      "source": [
        "import pandas as pd\n",
        "import glob\n"
      ],
      "metadata": {
        "id": "Q4y4Biqrzmd2"
      },
      "execution_count": null,
      "outputs": []
    },
    {
      "cell_type": "code",
      "source": [
        "!pip install xlsxwriter"
      ],
      "metadata": {
        "colab": {
          "base_uri": "https://localhost:8080/"
        },
        "id": "RWUQ43kqBH9h",
        "outputId": "70239766-28ac-4c60-d777-68909311b95e"
      },
      "execution_count": null,
      "outputs": [
        {
          "output_type": "stream",
          "name": "stdout",
          "text": [
            "Requirement already satisfied: xlsxwriter in /usr/local/lib/python3.7/dist-packages (3.0.2)\n"
          ]
        }
      ]
    },
    {
      "cell_type": "code",
      "execution_count": null,
      "metadata": {
        "id": "Fb5FXuRXzAun"
      },
      "outputs": [],
      "source": [
        "#reading main excel file and converting into dataframe\n",
        "df = pd.read_excel('BDM_DataRequest_130122.xlsx',engine='openpyxl')"
      ]
    },
    {
      "cell_type": "code",
      "source": [
        "df\n"
      ],
      "metadata": {
        "colab": {
          "base_uri": "https://localhost:8080/",
          "height": 423
        },
        "id": "JxNtFaT6zlgj",
        "outputId": "93d47b86-0bc8-4e70-fd7f-6b0ba8ac8f6c"
      },
      "execution_count": null,
      "outputs": [
        {
          "output_type": "execute_result",
          "data": {
            "text/html": [
              "\n",
              "  <div id=\"df-26155643-54d8-446e-98aa-4fc93c386fab\">\n",
              "    <div class=\"colab-df-container\">\n",
              "      <div>\n",
              "<style scoped>\n",
              "    .dataframe tbody tr th:only-of-type {\n",
              "        vertical-align: middle;\n",
              "    }\n",
              "\n",
              "    .dataframe tbody tr th {\n",
              "        vertical-align: top;\n",
              "    }\n",
              "\n",
              "    .dataframe thead th {\n",
              "        text-align: right;\n",
              "    }\n",
              "</style>\n",
              "<table border=\"1\" class=\"dataframe\">\n",
              "  <thead>\n",
              "    <tr style=\"text-align: right;\">\n",
              "      <th></th>\n",
              "      <th>Full Name</th>\n",
              "      <th>Member number</th>\n",
              "      <th>[Scheme number]</th>\n",
              "      <th>Mobile</th>\n",
              "      <th>Date of birth</th>\n",
              "      <th>[Scheme name]</th>\n",
              "      <th>Status</th>\n",
              "      <th>Previous AD</th>\n",
              "      <th>Type</th>\n",
              "      <th>Agent</th>\n",
              "    </tr>\n",
              "  </thead>\n",
              "  <tbody>\n",
              "    <tr>\n",
              "      <th>0</th>\n",
              "      <td>AGNES AGNES</td>\n",
              "      <td>397290347</td>\n",
              "      <td>1000PPS042269</td>\n",
              "      <td>242360346.0</td>\n",
              "      <td>1899-12-30 00:00:00</td>\n",
              "      <td>PPT PERSONAL PENSION SCHEME</td>\n",
              "      <td>Open</td>\n",
              "      <td>NO</td>\n",
              "      <td>CASH</td>\n",
              "      <td>NaN</td>\n",
              "    </tr>\n",
              "    <tr>\n",
              "      <th>1</th>\n",
              "      <td>FELICIA FELICIA</td>\n",
              "      <td>691910216</td>\n",
              "      <td>1000PPS042270</td>\n",
              "      <td>555654824.0</td>\n",
              "      <td>1899-12-30 00:00:00</td>\n",
              "      <td>PPT PERSONAL PENSION SCHEME</td>\n",
              "      <td>Open</td>\n",
              "      <td>YES</td>\n",
              "      <td>UNKNOWN</td>\n",
              "      <td>NaN</td>\n",
              "    </tr>\n",
              "    <tr>\n",
              "      <th>2</th>\n",
              "      <td>CUSTOMER CUSTOMER</td>\n",
              "      <td>520994981</td>\n",
              "      <td>1000PPS042271</td>\n",
              "      <td>242334993.0</td>\n",
              "      <td>1899-12-30 00:00:00</td>\n",
              "      <td>PPT PERSONAL PENSION SCHEME</td>\n",
              "      <td>Open</td>\n",
              "      <td>NO</td>\n",
              "      <td>UNKNOWN</td>\n",
              "      <td>NaN</td>\n",
              "    </tr>\n",
              "    <tr>\n",
              "      <th>3</th>\n",
              "      <td>RICHARD NII RICHARD NII</td>\n",
              "      <td>173140204</td>\n",
              "      <td>1000PPS042272</td>\n",
              "      <td>240088637.0</td>\n",
              "      <td>1899-12-30 00:00:00</td>\n",
              "      <td>PPT PERSONAL PENSION SCHEME</td>\n",
              "      <td>Open</td>\n",
              "      <td>YES</td>\n",
              "      <td>UNKNOWN</td>\n",
              "      <td>NaN</td>\n",
              "    </tr>\n",
              "    <tr>\n",
              "      <th>4</th>\n",
              "      <td>JOSEPH JOSEPH</td>\n",
              "      <td>240204272</td>\n",
              "      <td>1000PPS042273</td>\n",
              "      <td>243845761.0</td>\n",
              "      <td>1899-12-30 00:00:00</td>\n",
              "      <td>PPT PERSONAL PENSION SCHEME</td>\n",
              "      <td>Open</td>\n",
              "      <td>NO</td>\n",
              "      <td>CASH</td>\n",
              "      <td>NaN</td>\n",
              "    </tr>\n",
              "    <tr>\n",
              "      <th>...</th>\n",
              "      <td>...</td>\n",
              "      <td>...</td>\n",
              "      <td>...</td>\n",
              "      <td>...</td>\n",
              "      <td>...</td>\n",
              "      <td>...</td>\n",
              "      <td>...</td>\n",
              "      <td>...</td>\n",
              "      <td>...</td>\n",
              "      <td>...</td>\n",
              "    </tr>\n",
              "    <tr>\n",
              "      <th>44782</th>\n",
              "      <td>EVELYN ABOAGYE</td>\n",
              "      <td>797562246</td>\n",
              "      <td>1010PPS044846</td>\n",
              "      <td>542786785.0</td>\n",
              "      <td>1984-08-27 00:00:00</td>\n",
              "      <td>PPT PERSONAL PENSION SCHEME</td>\n",
              "      <td>Open</td>\n",
              "      <td>NO</td>\n",
              "      <td>AUTO DEBIT</td>\n",
              "      <td>LAUD MENSAH</td>\n",
              "    </tr>\n",
              "    <tr>\n",
              "      <th>44783</th>\n",
              "      <td>AUGUSTINA LEMAWU</td>\n",
              "      <td>432678409</td>\n",
              "      <td>1010PPS044848</td>\n",
              "      <td>546114620.0</td>\n",
              "      <td>1991-08-24 00:00:00</td>\n",
              "      <td>PPT PERSONAL PENSION SCHEME</td>\n",
              "      <td>Open</td>\n",
              "      <td>NO</td>\n",
              "      <td>UNKNOWN</td>\n",
              "      <td>LAUD MENSAH</td>\n",
              "    </tr>\n",
              "    <tr>\n",
              "      <th>44784</th>\n",
              "      <td>LETICIA ASIAMAH</td>\n",
              "      <td>925766342</td>\n",
              "      <td>1010PPS044922</td>\n",
              "      <td>579591935.0</td>\n",
              "      <td>1981-10-19 00:00:00</td>\n",
              "      <td>PPT PERSONAL PENSION SCHEME</td>\n",
              "      <td>Open</td>\n",
              "      <td>NO</td>\n",
              "      <td>CASH</td>\n",
              "      <td>LAUD MENSAH</td>\n",
              "    </tr>\n",
              "    <tr>\n",
              "      <th>44785</th>\n",
              "      <td>GEORGINA KORVEH</td>\n",
              "      <td>936857732</td>\n",
              "      <td>1010PPS044911</td>\n",
              "      <td>246219394.0</td>\n",
              "      <td>1980-04-03 00:00:00</td>\n",
              "      <td>PPT PERSONAL PENSION SCHEME</td>\n",
              "      <td>Open</td>\n",
              "      <td>NO</td>\n",
              "      <td>AUTO DEBIT</td>\n",
              "      <td>LAUD MENSAH</td>\n",
              "    </tr>\n",
              "    <tr>\n",
              "      <th>44786</th>\n",
              "      <td>TEST CAN-TAMAKLOE</td>\n",
              "      <td>918011953</td>\n",
              "      <td>1010PPS044985</td>\n",
              "      <td>203252449.0</td>\n",
              "      <td>2004-12-16 00:00:00</td>\n",
              "      <td>PPT PERSONAL PENSION SCHEME</td>\n",
              "      <td>Open</td>\n",
              "      <td>NO</td>\n",
              "      <td>UNKNOWN</td>\n",
              "      <td>DIASPORA HOMECARE</td>\n",
              "    </tr>\n",
              "  </tbody>\n",
              "</table>\n",
              "<p>44787 rows × 10 columns</p>\n",
              "</div>\n",
              "      <button class=\"colab-df-convert\" onclick=\"convertToInteractive('df-26155643-54d8-446e-98aa-4fc93c386fab')\"\n",
              "              title=\"Convert this dataframe to an interactive table.\"\n",
              "              style=\"display:none;\">\n",
              "        \n",
              "  <svg xmlns=\"http://www.w3.org/2000/svg\" height=\"24px\"viewBox=\"0 0 24 24\"\n",
              "       width=\"24px\">\n",
              "    <path d=\"M0 0h24v24H0V0z\" fill=\"none\"/>\n",
              "    <path d=\"M18.56 5.44l.94 2.06.94-2.06 2.06-.94-2.06-.94-.94-2.06-.94 2.06-2.06.94zm-11 1L8.5 8.5l.94-2.06 2.06-.94-2.06-.94L8.5 2.5l-.94 2.06-2.06.94zm10 10l.94 2.06.94-2.06 2.06-.94-2.06-.94-.94-2.06-.94 2.06-2.06.94z\"/><path d=\"M17.41 7.96l-1.37-1.37c-.4-.4-.92-.59-1.43-.59-.52 0-1.04.2-1.43.59L10.3 9.45l-7.72 7.72c-.78.78-.78 2.05 0 2.83L4 21.41c.39.39.9.59 1.41.59.51 0 1.02-.2 1.41-.59l7.78-7.78 2.81-2.81c.8-.78.8-2.07 0-2.86zM5.41 20L4 18.59l7.72-7.72 1.47 1.35L5.41 20z\"/>\n",
              "  </svg>\n",
              "      </button>\n",
              "      \n",
              "  <style>\n",
              "    .colab-df-container {\n",
              "      display:flex;\n",
              "      flex-wrap:wrap;\n",
              "      gap: 12px;\n",
              "    }\n",
              "\n",
              "    .colab-df-convert {\n",
              "      background-color: #E8F0FE;\n",
              "      border: none;\n",
              "      border-radius: 50%;\n",
              "      cursor: pointer;\n",
              "      display: none;\n",
              "      fill: #1967D2;\n",
              "      height: 32px;\n",
              "      padding: 0 0 0 0;\n",
              "      width: 32px;\n",
              "    }\n",
              "\n",
              "    .colab-df-convert:hover {\n",
              "      background-color: #E2EBFA;\n",
              "      box-shadow: 0px 1px 2px rgba(60, 64, 67, 0.3), 0px 1px 3px 1px rgba(60, 64, 67, 0.15);\n",
              "      fill: #174EA6;\n",
              "    }\n",
              "\n",
              "    [theme=dark] .colab-df-convert {\n",
              "      background-color: #3B4455;\n",
              "      fill: #D2E3FC;\n",
              "    }\n",
              "\n",
              "    [theme=dark] .colab-df-convert:hover {\n",
              "      background-color: #434B5C;\n",
              "      box-shadow: 0px 1px 3px 1px rgba(0, 0, 0, 0.15);\n",
              "      filter: drop-shadow(0px 1px 2px rgba(0, 0, 0, 0.3));\n",
              "      fill: #FFFFFF;\n",
              "    }\n",
              "  </style>\n",
              "\n",
              "      <script>\n",
              "        const buttonEl =\n",
              "          document.querySelector('#df-26155643-54d8-446e-98aa-4fc93c386fab button.colab-df-convert');\n",
              "        buttonEl.style.display =\n",
              "          google.colab.kernel.accessAllowed ? 'block' : 'none';\n",
              "\n",
              "        async function convertToInteractive(key) {\n",
              "          const element = document.querySelector('#df-26155643-54d8-446e-98aa-4fc93c386fab');\n",
              "          const dataTable =\n",
              "            await google.colab.kernel.invokeFunction('convertToInteractive',\n",
              "                                                     [key], {});\n",
              "          if (!dataTable) return;\n",
              "\n",
              "          const docLinkHtml = 'Like what you see? Visit the ' +\n",
              "            '<a target=\"_blank\" href=https://colab.research.google.com/notebooks/data_table.ipynb>data table notebook</a>'\n",
              "            + ' to learn more about interactive tables.';\n",
              "          element.innerHTML = '';\n",
              "          dataTable['output_type'] = 'display_data';\n",
              "          await google.colab.output.renderOutput(dataTable, element);\n",
              "          const docLink = document.createElement('div');\n",
              "          docLink.innerHTML = docLinkHtml;\n",
              "          element.appendChild(docLink);\n",
              "        }\n",
              "      </script>\n",
              "    </div>\n",
              "  </div>\n",
              "  "
            ],
            "text/plain": [
              "                     Full Name  Member number  ...        Type              Agent\n",
              "0                  AGNES AGNES      397290347  ...        CASH                NaN\n",
              "1              FELICIA FELICIA      691910216  ...     UNKNOWN                NaN\n",
              "2            CUSTOMER CUSTOMER      520994981  ...     UNKNOWN                NaN\n",
              "3      RICHARD NII RICHARD NII      173140204  ...     UNKNOWN                NaN\n",
              "4                JOSEPH JOSEPH      240204272  ...        CASH                NaN\n",
              "...                        ...            ...  ...         ...                ...\n",
              "44782           EVELYN ABOAGYE      797562246  ...  AUTO DEBIT        LAUD MENSAH\n",
              "44783         AUGUSTINA LEMAWU      432678409  ...     UNKNOWN        LAUD MENSAH\n",
              "44784          LETICIA ASIAMAH      925766342  ...        CASH        LAUD MENSAH\n",
              "44785          GEORGINA KORVEH      936857732  ...  AUTO DEBIT        LAUD MENSAH\n",
              "44786        TEST CAN-TAMAKLOE      918011953  ...     UNKNOWN  DIASPORA HOMECARE\n",
              "\n",
              "[44787 rows x 10 columns]"
            ]
          },
          "metadata": {},
          "execution_count": 21
        }
      ]
    },
    {
      "cell_type": "code",
      "source": [
        ""
      ],
      "metadata": {
        "id": "pPUS93sarH-u"
      },
      "execution_count": null,
      "outputs": []
    },
    {
      "cell_type": "code",
      "source": [
        "df.info()"
      ],
      "metadata": {
        "id": "fEJ6qX6Oz5uM",
        "colab": {
          "base_uri": "https://localhost:8080/"
        },
        "outputId": "7bdd7002-d368-4a37-bb4e-2bb362937c37"
      },
      "execution_count": null,
      "outputs": [
        {
          "output_type": "stream",
          "name": "stdout",
          "text": [
            "<class 'pandas.core.frame.DataFrame'>\n",
            "RangeIndex: 44787 entries, 0 to 44786\n",
            "Data columns (total 10 columns):\n",
            " #   Column           Non-Null Count  Dtype  \n",
            "---  ------           --------------  -----  \n",
            " 0   Full Name        44787 non-null  object \n",
            " 1   Member number    44787 non-null  int64  \n",
            " 2   [Scheme number]  44787 non-null  object \n",
            " 3   Mobile           44786 non-null  float64\n",
            " 4   Date of birth    44787 non-null  object \n",
            " 5   [Scheme name]    44787 non-null  object \n",
            " 6   Status           44787 non-null  object \n",
            " 7   Previous AD      44787 non-null  object \n",
            " 8   Type             44787 non-null  object \n",
            " 9   Agent            44769 non-null  object \n",
            "dtypes: float64(1), int64(1), object(8)\n",
            "memory usage: 3.4+ MB\n"
          ]
        }
      ]
    },
    {
      "cell_type": "code",
      "source": [
        "#filling all nullvalues in 'Type' column with \"UNKNOWN\"\n",
        "df['Agent'] = df['Agent'].fillna('UNKNOWN')"
      ],
      "metadata": {
        "id": "LvlFRa760eyE"
      },
      "execution_count": null,
      "outputs": []
    },
    {
      "cell_type": "code",
      "source": [
        "df"
      ],
      "metadata": {
        "colab": {
          "base_uri": "https://localhost:8080/",
          "height": 423
        },
        "id": "ohdpWEhd08S1",
        "outputId": "073d2f60-3867-4278-e67e-b2ad6874bacf"
      },
      "execution_count": null,
      "outputs": [
        {
          "output_type": "execute_result",
          "data": {
            "text/html": [
              "\n",
              "  <div id=\"df-5a179c7c-f79a-4a21-b076-b64aa3d836a1\">\n",
              "    <div class=\"colab-df-container\">\n",
              "      <div>\n",
              "<style scoped>\n",
              "    .dataframe tbody tr th:only-of-type {\n",
              "        vertical-align: middle;\n",
              "    }\n",
              "\n",
              "    .dataframe tbody tr th {\n",
              "        vertical-align: top;\n",
              "    }\n",
              "\n",
              "    .dataframe thead th {\n",
              "        text-align: right;\n",
              "    }\n",
              "</style>\n",
              "<table border=\"1\" class=\"dataframe\">\n",
              "  <thead>\n",
              "    <tr style=\"text-align: right;\">\n",
              "      <th></th>\n",
              "      <th>Full Name</th>\n",
              "      <th>Member number</th>\n",
              "      <th>[Scheme number]</th>\n",
              "      <th>Mobile</th>\n",
              "      <th>Date of birth</th>\n",
              "      <th>[Scheme name]</th>\n",
              "      <th>Status</th>\n",
              "      <th>Previous AD</th>\n",
              "      <th>Type</th>\n",
              "      <th>Agent</th>\n",
              "    </tr>\n",
              "  </thead>\n",
              "  <tbody>\n",
              "    <tr>\n",
              "      <th>0</th>\n",
              "      <td>AGNES AGNES</td>\n",
              "      <td>397290347</td>\n",
              "      <td>1000PPS042269</td>\n",
              "      <td>242360346.0</td>\n",
              "      <td>1899-12-30 00:00:00</td>\n",
              "      <td>PPT PERSONAL PENSION SCHEME</td>\n",
              "      <td>Open</td>\n",
              "      <td>NO</td>\n",
              "      <td>CASH</td>\n",
              "      <td>UNKNOWN</td>\n",
              "    </tr>\n",
              "    <tr>\n",
              "      <th>1</th>\n",
              "      <td>FELICIA FELICIA</td>\n",
              "      <td>691910216</td>\n",
              "      <td>1000PPS042270</td>\n",
              "      <td>555654824.0</td>\n",
              "      <td>1899-12-30 00:00:00</td>\n",
              "      <td>PPT PERSONAL PENSION SCHEME</td>\n",
              "      <td>Open</td>\n",
              "      <td>YES</td>\n",
              "      <td>UNKNOWN</td>\n",
              "      <td>UNKNOWN</td>\n",
              "    </tr>\n",
              "    <tr>\n",
              "      <th>2</th>\n",
              "      <td>CUSTOMER CUSTOMER</td>\n",
              "      <td>520994981</td>\n",
              "      <td>1000PPS042271</td>\n",
              "      <td>242334993.0</td>\n",
              "      <td>1899-12-30 00:00:00</td>\n",
              "      <td>PPT PERSONAL PENSION SCHEME</td>\n",
              "      <td>Open</td>\n",
              "      <td>NO</td>\n",
              "      <td>UNKNOWN</td>\n",
              "      <td>UNKNOWN</td>\n",
              "    </tr>\n",
              "    <tr>\n",
              "      <th>3</th>\n",
              "      <td>RICHARD NII RICHARD NII</td>\n",
              "      <td>173140204</td>\n",
              "      <td>1000PPS042272</td>\n",
              "      <td>240088637.0</td>\n",
              "      <td>1899-12-30 00:00:00</td>\n",
              "      <td>PPT PERSONAL PENSION SCHEME</td>\n",
              "      <td>Open</td>\n",
              "      <td>YES</td>\n",
              "      <td>UNKNOWN</td>\n",
              "      <td>UNKNOWN</td>\n",
              "    </tr>\n",
              "    <tr>\n",
              "      <th>4</th>\n",
              "      <td>JOSEPH JOSEPH</td>\n",
              "      <td>240204272</td>\n",
              "      <td>1000PPS042273</td>\n",
              "      <td>243845761.0</td>\n",
              "      <td>1899-12-30 00:00:00</td>\n",
              "      <td>PPT PERSONAL PENSION SCHEME</td>\n",
              "      <td>Open</td>\n",
              "      <td>NO</td>\n",
              "      <td>CASH</td>\n",
              "      <td>UNKNOWN</td>\n",
              "    </tr>\n",
              "    <tr>\n",
              "      <th>...</th>\n",
              "      <td>...</td>\n",
              "      <td>...</td>\n",
              "      <td>...</td>\n",
              "      <td>...</td>\n",
              "      <td>...</td>\n",
              "      <td>...</td>\n",
              "      <td>...</td>\n",
              "      <td>...</td>\n",
              "      <td>...</td>\n",
              "      <td>...</td>\n",
              "    </tr>\n",
              "    <tr>\n",
              "      <th>44782</th>\n",
              "      <td>EVELYN ABOAGYE</td>\n",
              "      <td>797562246</td>\n",
              "      <td>1010PPS044846</td>\n",
              "      <td>542786785.0</td>\n",
              "      <td>1984-08-27 00:00:00</td>\n",
              "      <td>PPT PERSONAL PENSION SCHEME</td>\n",
              "      <td>Open</td>\n",
              "      <td>NO</td>\n",
              "      <td>AUTO DEBIT</td>\n",
              "      <td>LAUD MENSAH</td>\n",
              "    </tr>\n",
              "    <tr>\n",
              "      <th>44783</th>\n",
              "      <td>AUGUSTINA LEMAWU</td>\n",
              "      <td>432678409</td>\n",
              "      <td>1010PPS044848</td>\n",
              "      <td>546114620.0</td>\n",
              "      <td>1991-08-24 00:00:00</td>\n",
              "      <td>PPT PERSONAL PENSION SCHEME</td>\n",
              "      <td>Open</td>\n",
              "      <td>NO</td>\n",
              "      <td>UNKNOWN</td>\n",
              "      <td>LAUD MENSAH</td>\n",
              "    </tr>\n",
              "    <tr>\n",
              "      <th>44784</th>\n",
              "      <td>LETICIA ASIAMAH</td>\n",
              "      <td>925766342</td>\n",
              "      <td>1010PPS044922</td>\n",
              "      <td>579591935.0</td>\n",
              "      <td>1981-10-19 00:00:00</td>\n",
              "      <td>PPT PERSONAL PENSION SCHEME</td>\n",
              "      <td>Open</td>\n",
              "      <td>NO</td>\n",
              "      <td>CASH</td>\n",
              "      <td>LAUD MENSAH</td>\n",
              "    </tr>\n",
              "    <tr>\n",
              "      <th>44785</th>\n",
              "      <td>GEORGINA KORVEH</td>\n",
              "      <td>936857732</td>\n",
              "      <td>1010PPS044911</td>\n",
              "      <td>246219394.0</td>\n",
              "      <td>1980-04-03 00:00:00</td>\n",
              "      <td>PPT PERSONAL PENSION SCHEME</td>\n",
              "      <td>Open</td>\n",
              "      <td>NO</td>\n",
              "      <td>AUTO DEBIT</td>\n",
              "      <td>LAUD MENSAH</td>\n",
              "    </tr>\n",
              "    <tr>\n",
              "      <th>44786</th>\n",
              "      <td>TEST CAN-TAMAKLOE</td>\n",
              "      <td>918011953</td>\n",
              "      <td>1010PPS044985</td>\n",
              "      <td>203252449.0</td>\n",
              "      <td>2004-12-16 00:00:00</td>\n",
              "      <td>PPT PERSONAL PENSION SCHEME</td>\n",
              "      <td>Open</td>\n",
              "      <td>NO</td>\n",
              "      <td>UNKNOWN</td>\n",
              "      <td>DIASPORA HOMECARE</td>\n",
              "    </tr>\n",
              "  </tbody>\n",
              "</table>\n",
              "<p>44787 rows × 10 columns</p>\n",
              "</div>\n",
              "      <button class=\"colab-df-convert\" onclick=\"convertToInteractive('df-5a179c7c-f79a-4a21-b076-b64aa3d836a1')\"\n",
              "              title=\"Convert this dataframe to an interactive table.\"\n",
              "              style=\"display:none;\">\n",
              "        \n",
              "  <svg xmlns=\"http://www.w3.org/2000/svg\" height=\"24px\"viewBox=\"0 0 24 24\"\n",
              "       width=\"24px\">\n",
              "    <path d=\"M0 0h24v24H0V0z\" fill=\"none\"/>\n",
              "    <path d=\"M18.56 5.44l.94 2.06.94-2.06 2.06-.94-2.06-.94-.94-2.06-.94 2.06-2.06.94zm-11 1L8.5 8.5l.94-2.06 2.06-.94-2.06-.94L8.5 2.5l-.94 2.06-2.06.94zm10 10l.94 2.06.94-2.06 2.06-.94-2.06-.94-.94-2.06-.94 2.06-2.06.94z\"/><path d=\"M17.41 7.96l-1.37-1.37c-.4-.4-.92-.59-1.43-.59-.52 0-1.04.2-1.43.59L10.3 9.45l-7.72 7.72c-.78.78-.78 2.05 0 2.83L4 21.41c.39.39.9.59 1.41.59.51 0 1.02-.2 1.41-.59l7.78-7.78 2.81-2.81c.8-.78.8-2.07 0-2.86zM5.41 20L4 18.59l7.72-7.72 1.47 1.35L5.41 20z\"/>\n",
              "  </svg>\n",
              "      </button>\n",
              "      \n",
              "  <style>\n",
              "    .colab-df-container {\n",
              "      display:flex;\n",
              "      flex-wrap:wrap;\n",
              "      gap: 12px;\n",
              "    }\n",
              "\n",
              "    .colab-df-convert {\n",
              "      background-color: #E8F0FE;\n",
              "      border: none;\n",
              "      border-radius: 50%;\n",
              "      cursor: pointer;\n",
              "      display: none;\n",
              "      fill: #1967D2;\n",
              "      height: 32px;\n",
              "      padding: 0 0 0 0;\n",
              "      width: 32px;\n",
              "    }\n",
              "\n",
              "    .colab-df-convert:hover {\n",
              "      background-color: #E2EBFA;\n",
              "      box-shadow: 0px 1px 2px rgba(60, 64, 67, 0.3), 0px 1px 3px 1px rgba(60, 64, 67, 0.15);\n",
              "      fill: #174EA6;\n",
              "    }\n",
              "\n",
              "    [theme=dark] .colab-df-convert {\n",
              "      background-color: #3B4455;\n",
              "      fill: #D2E3FC;\n",
              "    }\n",
              "\n",
              "    [theme=dark] .colab-df-convert:hover {\n",
              "      background-color: #434B5C;\n",
              "      box-shadow: 0px 1px 3px 1px rgba(0, 0, 0, 0.15);\n",
              "      filter: drop-shadow(0px 1px 2px rgba(0, 0, 0, 0.3));\n",
              "      fill: #FFFFFF;\n",
              "    }\n",
              "  </style>\n",
              "\n",
              "      <script>\n",
              "        const buttonEl =\n",
              "          document.querySelector('#df-5a179c7c-f79a-4a21-b076-b64aa3d836a1 button.colab-df-convert');\n",
              "        buttonEl.style.display =\n",
              "          google.colab.kernel.accessAllowed ? 'block' : 'none';\n",
              "\n",
              "        async function convertToInteractive(key) {\n",
              "          const element = document.querySelector('#df-5a179c7c-f79a-4a21-b076-b64aa3d836a1');\n",
              "          const dataTable =\n",
              "            await google.colab.kernel.invokeFunction('convertToInteractive',\n",
              "                                                     [key], {});\n",
              "          if (!dataTable) return;\n",
              "\n",
              "          const docLinkHtml = 'Like what you see? Visit the ' +\n",
              "            '<a target=\"_blank\" href=https://colab.research.google.com/notebooks/data_table.ipynb>data table notebook</a>'\n",
              "            + ' to learn more about interactive tables.';\n",
              "          element.innerHTML = '';\n",
              "          dataTable['output_type'] = 'display_data';\n",
              "          await google.colab.output.renderOutput(dataTable, element);\n",
              "          const docLink = document.createElement('div');\n",
              "          docLink.innerHTML = docLinkHtml;\n",
              "          element.appendChild(docLink);\n",
              "        }\n",
              "      </script>\n",
              "    </div>\n",
              "  </div>\n",
              "  "
            ],
            "text/plain": [
              "                     Full Name  Member number  ...        Type              Agent\n",
              "0                  AGNES AGNES      397290347  ...        CASH            UNKNOWN\n",
              "1              FELICIA FELICIA      691910216  ...     UNKNOWN            UNKNOWN\n",
              "2            CUSTOMER CUSTOMER      520994981  ...     UNKNOWN            UNKNOWN\n",
              "3      RICHARD NII RICHARD NII      173140204  ...     UNKNOWN            UNKNOWN\n",
              "4                JOSEPH JOSEPH      240204272  ...        CASH            UNKNOWN\n",
              "...                        ...            ...  ...         ...                ...\n",
              "44782           EVELYN ABOAGYE      797562246  ...  AUTO DEBIT        LAUD MENSAH\n",
              "44783         AUGUSTINA LEMAWU      432678409  ...     UNKNOWN        LAUD MENSAH\n",
              "44784          LETICIA ASIAMAH      925766342  ...        CASH        LAUD MENSAH\n",
              "44785          GEORGINA KORVEH      936857732  ...  AUTO DEBIT        LAUD MENSAH\n",
              "44786        TEST CAN-TAMAKLOE      918011953  ...     UNKNOWN  DIASPORA HOMECARE\n",
              "\n",
              "[44787 rows x 10 columns]"
            ]
          },
          "metadata": {},
          "execution_count": 25
        }
      ]
    },
    {
      "cell_type": "code",
      "source": [
        "#unique values for Agent\n",
        "df['Agent'].explode().value_counts()"
      ],
      "metadata": {
        "colab": {
          "base_uri": "https://localhost:8080/"
        },
        "id": "7W_DyrP71K8L",
        "outputId": "f1579463-6876-41c0-fe96-12ed665eb9f1"
      },
      "execution_count": null,
      "outputs": [
        {
          "output_type": "execute_result",
          "data": {
            "text/plain": [
              "DENNIS AGGREY OTOO              15147\n",
              "BEATRICE GYAMARKIE               7426\n",
              "YAA ASAMOAH                      2592\n",
              "NEW AGENT(PRINCE BOATENG)         984\n",
              "NANCY CHRISTIANA BIRIWAA          938\n",
              "                                ...  \n",
              "RACHAEL TETTEY                      1\n",
              "CAROLINE ASEYE GBADEGBENYO\\t        1\n",
              "ADOMBIRE MARYANNE AGANA             1\n",
              "ERNEST AGBESI                       1\n",
              "GIZ-HO MSME PROJECT                 1\n",
              "Name: Agent, Length: 101, dtype: int64"
            ]
          },
          "metadata": {},
          "execution_count": 26
        }
      ]
    },
    {
      "cell_type": "code",
      "source": [
        "#grouping dataframe by Agent\n",
        "grouped = df.groupby(df.Agent)\n",
        "agents = grouped.groups.keys()\n"
      ],
      "metadata": {
        "id": "_r-PsKaH2Su2"
      },
      "execution_count": null,
      "outputs": []
    },
    {
      "cell_type": "code",
      "source": [
        "#splitting dataframe into different excel sheets and saving them in colab folder\n",
        "for agent in agents:\n",
        "  splitdf = grouped.get_group(agent)\n",
        "  splitdf.to_excel(str(agent)+\".xlsx\", engine='xlsxwriter')\n",
        "  "
      ],
      "metadata": {
        "id": "zY6ACiv_AKB_"
      },
      "execution_count": null,
      "outputs": []
    },
    {
      "cell_type": "code",
      "source": [
        "#this code zips up content folder of colab so files can be downloaded\n",
        "!zip -r /content/file.zip /content/\n",
        "\n"
      ],
      "metadata": {
        "id": "mm9oKofYtwMR"
      },
      "execution_count": null,
      "outputs": []
    },
    {
      "cell_type": "code",
      "source": [
        "names = df['Type'].unique().tolist()\n",
        "writer = pd.ExcelWriter(\"DAVID OFORI.xlsx\", engine='xlsxwriter')\n",
        "for t in names:\n",
        "  mytype = df.loc[df.Type == t]\n",
        "  mytype.to_excel(writer,sheet_name = t)\n",
        "writer.save()"
      ],
      "metadata": {
        "id": "G7TjO42fuGGm"
      },
      "execution_count": null,
      "outputs": []
    },
    {
      "cell_type": "markdown",
      "source": [
        "After files have been downloaded, they are then uploaded to google drive so we can read and access them for the next phase"
      ],
      "metadata": {
        "id": "FmhNVHB1lgh2"
      }
    },
    {
      "cell_type": "code",
      "source": [
        ""
      ],
      "metadata": {
        "id": "QaDZG1_QlvMu"
      },
      "execution_count": null,
      "outputs": []
    },
    {
      "cell_type": "code",
      "source": [
        "# defining a path to enable colab read files from my goole drive account\n",
        "path =r\"/content/drive/MyDrive/content/\"\n",
        "filenames = glob.glob(path + \"/*.xlsx\")\n",
        "print('File names:', filenames)"
      ],
      "metadata": {
        "id": "vGOi37GKvPI8"
      },
      "execution_count": null,
      "outputs": []
    },
    {
      "cell_type": "code",
      "source": [
        "# read multiple excel files\n",
        "for file in filenames:\n",
        "   print(\"\\nReading file = \",file)\n",
        "   print(pd.read_excel(file))"
      ],
      "metadata": {
        "id": "2ODDKW0zNwkm"
      },
      "execution_count": null,
      "outputs": []
    },
    {
      "cell_type": "markdown",
      "source": [
        ""
      ],
      "metadata": {
        "id": "cTFtLZnMmeay"
      }
    },
    {
      "cell_type": "code",
      "source": [
        "# assign excel files to a dataframe\n",
        "df2=pd.read_excel(file)\n"
      ],
      "metadata": {
        "id": "XE8Woru9QKXd"
      },
      "execution_count": null,
      "outputs": []
    },
    {
      "cell_type": "code",
      "source": [
        "# function to read excel files and assign sheets based on the 'type' column in each excel \n",
        "for file in filenames:\n",
        "  df2=pd.read_excel(file)\n",
        "  names = df2['Type'].unique().tolist()\n",
        "  writer = pd.ExcelWriter(file, engine='xlsxwriter')\n",
        "  for t in names:\n",
        "      mytype = df2.loc[df2.Type == t]\n",
        "      mytype.to_excel(writer,sheet_name = t)\n",
        "  writer.save()"
      ],
      "metadata": {
        "id": "VMIhQJ5hQ7jK"
      },
      "execution_count": null,
      "outputs": []
    },
    {
      "cell_type": "code",
      "source": [
        ""
      ],
      "metadata": {
        "id": "2OkCT6S6Q7cs"
      },
      "execution_count": null,
      "outputs": []
    }
  ]
}