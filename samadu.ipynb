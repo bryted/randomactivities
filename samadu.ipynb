{
  "nbformat": 4,
  "nbformat_minor": 0,
  "metadata": {
    "colab": {
      "name": "samadu.ipynb",
      "provenance": [],
      "collapsed_sections": [],
      "authorship_tag": "ABX9TyM33L/aibfsCQekCby0cH3d",
      "include_colab_link": true
    },
    "kernelspec": {
      "name": "python3",
      "display_name": "Python 3"
    },
    "language_info": {
      "name": "python"
    }
  },
  "cells": [
    {
      "cell_type": "markdown",
      "metadata": {
        "id": "view-in-github",
        "colab_type": "text"
      },
      "source": [
        "<a href=\"https://colab.research.google.com/github/bryted/randomactivities/blob/main/samadu.ipynb\" target=\"_parent\"><img src=\"https://colab.research.google.com/assets/colab-badge.svg\" alt=\"Open In Colab\"/></a>"
      ]
    },
    {
      "cell_type": "code",
      "source": [
        "import numpy as np\n",
        "import pandas as pd"
      ],
      "metadata": {
        "id": "-YJj4FHbPlB_"
      },
      "execution_count": 119,
      "outputs": []
    },
    {
      "cell_type": "code",
      "execution_count": 120,
      "metadata": {
        "id": "Q2fddEq9Oc9H"
      },
      "outputs": [],
      "source": [
        "df = pd.read_excel('all.xlsx')\n"
      ]
    },
    {
      "cell_type": "code",
      "source": [
        "df"
      ],
      "metadata": {
        "colab": {
          "base_uri": "https://localhost:8080/",
          "height": 711
        },
        "id": "W7CAmOAsQej8",
        "outputId": "01e23e5f-789f-4df8-f8fe-d3f4dd0e8e5c"
      },
      "execution_count": 121,
      "outputs": [
        {
          "output_type": "execute_result",
          "data": {
            "text/plain": [
              "            Id Creation time [Sesseion date]  Batch number      Mobile  \\\n",
              "0       163630    2021-04-06      2021-04-01  TR0511262222  0203266010   \n",
              "1       140496    2021-02-11      2021-01-27  TR0608854710  0203266010   \n",
              "2       152560    2021-03-11      2021-03-03  TR0253752022  0203266010   \n",
              "3       193488    2021-05-06      2021-04-30  TR0793989825  0203266010   \n",
              "4       208499    2021-06-04      2021-05-31  TR0064567367  0203266010   \n",
              "...        ...           ...             ...           ...         ...   \n",
              "153247  367439    2022-03-01      2022-01-21  TR0072161308  0556190256   \n",
              "153248  367440    2022-03-01      2022-01-21  TR0072161308  0249689084   \n",
              "153249  367441    2022-03-01      2022-01-21  TR0072161308  0277793008   \n",
              "153250  366298    2022-02-28      2022-02-28    PPTL347791  0553753788   \n",
              "153251  366394    2022-02-28      2022-02-28    PPTE348262  0505660467   \n",
              "\n",
              "                           Product type [Scheme number] [Other number]  \\\n",
              "0       PPT Occupational Pension Scheme   1010OPS000001        1000040   \n",
              "1       PPT Occupational Pension Scheme   1010OPS000001        1000040   \n",
              "2       PPT Occupational Pension Scheme   1010OPS000001        1000040   \n",
              "3       PPT Occupational Pension Scheme   1010OPS000001        1000040   \n",
              "4       PPT Occupational Pension Scheme   1010OPS000001        1000040   \n",
              "...                                 ...             ...            ...   \n",
              "153247  PPT Occupational Pension Scheme   1010OPS008929            NaN   \n",
              "153248  PPT Occupational Pension Scheme   1010OPS008930            NaN   \n",
              "153249  PPT Occupational Pension Scheme   1010OPS008931            NaN   \n",
              "153250      PPT Personal Pension Scheme   1010PPS045246            NaN   \n",
              "153251      PPT Personal Pension Scheme   1010PPS045257            NaN   \n",
              "\n",
              "       User name                  Method     Type                  Reference  \\\n",
              "0          skubi                  cheque  Deposit  Payment for Febraury 2021   \n",
              "1          skubi                  cheque  Deposit  Payment for December 2020   \n",
              "2          skubi                  cheque  Deposit   Payment for January 2021   \n",
              "3          skubi    SCB-OPS Cash Payment  Deposit     Payment for March 2021   \n",
              "4          skubi    SCB-OPS Cash Payment  Deposit     Payment for April 2021   \n",
              "...          ...                     ...      ...                        ...   \n",
              "153247  sayertey  SCB-OPS Cheque Payment  Deposit  Payment for December 2021   \n",
              "153248  sayertey  SCB-OPS Cheque Payment  Deposit  Payment for December 2021   \n",
              "153249  sayertey  SCB-OPS Cheque Payment  Deposit  Payment for December 2021   \n",
              "153250    System                    MOMO  DEPOSIT               CONTRIBUTION   \n",
              "153251    System                    MOMO  DEPOSIT               CONTRIBUTION   \n",
              "\n",
              "        [Contribution]  [Withdrawal]  \n",
              "0                18.00           0.0  \n",
              "1                18.00           0.0  \n",
              "2                18.00           0.0  \n",
              "3                18.00           0.0  \n",
              "4                18.00           0.0  \n",
              "...                ...           ...  \n",
              "153247           18.55           0.0  \n",
              "153248           18.55           0.0  \n",
              "153249           18.55           0.0  \n",
              "153250            2.00           0.0  \n",
              "153251           10.00           0.0  \n",
              "\n",
              "[153252 rows x 14 columns]"
            ],
            "text/html": [
              "\n",
              "  <div id=\"df-8b8d7033-ae83-4b8e-b331-50dbd459c71f\">\n",
              "    <div class=\"colab-df-container\">\n",
              "      <div>\n",
              "<style scoped>\n",
              "    .dataframe tbody tr th:only-of-type {\n",
              "        vertical-align: middle;\n",
              "    }\n",
              "\n",
              "    .dataframe tbody tr th {\n",
              "        vertical-align: top;\n",
              "    }\n",
              "\n",
              "    .dataframe thead th {\n",
              "        text-align: right;\n",
              "    }\n",
              "</style>\n",
              "<table border=\"1\" class=\"dataframe\">\n",
              "  <thead>\n",
              "    <tr style=\"text-align: right;\">\n",
              "      <th></th>\n",
              "      <th>Id</th>\n",
              "      <th>Creation time</th>\n",
              "      <th>[Sesseion date]</th>\n",
              "      <th>Batch number</th>\n",
              "      <th>Mobile</th>\n",
              "      <th>Product type</th>\n",
              "      <th>[Scheme number]</th>\n",
              "      <th>[Other number]</th>\n",
              "      <th>User name</th>\n",
              "      <th>Method</th>\n",
              "      <th>Type</th>\n",
              "      <th>Reference</th>\n",
              "      <th>[Contribution]</th>\n",
              "      <th>[Withdrawal]</th>\n",
              "    </tr>\n",
              "  </thead>\n",
              "  <tbody>\n",
              "    <tr>\n",
              "      <th>0</th>\n",
              "      <td>163630</td>\n",
              "      <td>2021-04-06</td>\n",
              "      <td>2021-04-01</td>\n",
              "      <td>TR0511262222</td>\n",
              "      <td>0203266010</td>\n",
              "      <td>PPT Occupational Pension Scheme</td>\n",
              "      <td>1010OPS000001</td>\n",
              "      <td>1000040</td>\n",
              "      <td>skubi</td>\n",
              "      <td>cheque</td>\n",
              "      <td>Deposit</td>\n",
              "      <td>Payment for Febraury 2021</td>\n",
              "      <td>18.00</td>\n",
              "      <td>0.0</td>\n",
              "    </tr>\n",
              "    <tr>\n",
              "      <th>1</th>\n",
              "      <td>140496</td>\n",
              "      <td>2021-02-11</td>\n",
              "      <td>2021-01-27</td>\n",
              "      <td>TR0608854710</td>\n",
              "      <td>0203266010</td>\n",
              "      <td>PPT Occupational Pension Scheme</td>\n",
              "      <td>1010OPS000001</td>\n",
              "      <td>1000040</td>\n",
              "      <td>skubi</td>\n",
              "      <td>cheque</td>\n",
              "      <td>Deposit</td>\n",
              "      <td>Payment for December 2020</td>\n",
              "      <td>18.00</td>\n",
              "      <td>0.0</td>\n",
              "    </tr>\n",
              "    <tr>\n",
              "      <th>2</th>\n",
              "      <td>152560</td>\n",
              "      <td>2021-03-11</td>\n",
              "      <td>2021-03-03</td>\n",
              "      <td>TR0253752022</td>\n",
              "      <td>0203266010</td>\n",
              "      <td>PPT Occupational Pension Scheme</td>\n",
              "      <td>1010OPS000001</td>\n",
              "      <td>1000040</td>\n",
              "      <td>skubi</td>\n",
              "      <td>cheque</td>\n",
              "      <td>Deposit</td>\n",
              "      <td>Payment for January 2021</td>\n",
              "      <td>18.00</td>\n",
              "      <td>0.0</td>\n",
              "    </tr>\n",
              "    <tr>\n",
              "      <th>3</th>\n",
              "      <td>193488</td>\n",
              "      <td>2021-05-06</td>\n",
              "      <td>2021-04-30</td>\n",
              "      <td>TR0793989825</td>\n",
              "      <td>0203266010</td>\n",
              "      <td>PPT Occupational Pension Scheme</td>\n",
              "      <td>1010OPS000001</td>\n",
              "      <td>1000040</td>\n",
              "      <td>skubi</td>\n",
              "      <td>SCB-OPS Cash Payment</td>\n",
              "      <td>Deposit</td>\n",
              "      <td>Payment for March 2021</td>\n",
              "      <td>18.00</td>\n",
              "      <td>0.0</td>\n",
              "    </tr>\n",
              "    <tr>\n",
              "      <th>4</th>\n",
              "      <td>208499</td>\n",
              "      <td>2021-06-04</td>\n",
              "      <td>2021-05-31</td>\n",
              "      <td>TR0064567367</td>\n",
              "      <td>0203266010</td>\n",
              "      <td>PPT Occupational Pension Scheme</td>\n",
              "      <td>1010OPS000001</td>\n",
              "      <td>1000040</td>\n",
              "      <td>skubi</td>\n",
              "      <td>SCB-OPS Cash Payment</td>\n",
              "      <td>Deposit</td>\n",
              "      <td>Payment for April 2021</td>\n",
              "      <td>18.00</td>\n",
              "      <td>0.0</td>\n",
              "    </tr>\n",
              "    <tr>\n",
              "      <th>...</th>\n",
              "      <td>...</td>\n",
              "      <td>...</td>\n",
              "      <td>...</td>\n",
              "      <td>...</td>\n",
              "      <td>...</td>\n",
              "      <td>...</td>\n",
              "      <td>...</td>\n",
              "      <td>...</td>\n",
              "      <td>...</td>\n",
              "      <td>...</td>\n",
              "      <td>...</td>\n",
              "      <td>...</td>\n",
              "      <td>...</td>\n",
              "      <td>...</td>\n",
              "    </tr>\n",
              "    <tr>\n",
              "      <th>153247</th>\n",
              "      <td>367439</td>\n",
              "      <td>2022-03-01</td>\n",
              "      <td>2022-01-21</td>\n",
              "      <td>TR0072161308</td>\n",
              "      <td>0556190256</td>\n",
              "      <td>PPT Occupational Pension Scheme</td>\n",
              "      <td>1010OPS008929</td>\n",
              "      <td>NaN</td>\n",
              "      <td>sayertey</td>\n",
              "      <td>SCB-OPS Cheque Payment</td>\n",
              "      <td>Deposit</td>\n",
              "      <td>Payment for December 2021</td>\n",
              "      <td>18.55</td>\n",
              "      <td>0.0</td>\n",
              "    </tr>\n",
              "    <tr>\n",
              "      <th>153248</th>\n",
              "      <td>367440</td>\n",
              "      <td>2022-03-01</td>\n",
              "      <td>2022-01-21</td>\n",
              "      <td>TR0072161308</td>\n",
              "      <td>0249689084</td>\n",
              "      <td>PPT Occupational Pension Scheme</td>\n",
              "      <td>1010OPS008930</td>\n",
              "      <td>NaN</td>\n",
              "      <td>sayertey</td>\n",
              "      <td>SCB-OPS Cheque Payment</td>\n",
              "      <td>Deposit</td>\n",
              "      <td>Payment for December 2021</td>\n",
              "      <td>18.55</td>\n",
              "      <td>0.0</td>\n",
              "    </tr>\n",
              "    <tr>\n",
              "      <th>153249</th>\n",
              "      <td>367441</td>\n",
              "      <td>2022-03-01</td>\n",
              "      <td>2022-01-21</td>\n",
              "      <td>TR0072161308</td>\n",
              "      <td>0277793008</td>\n",
              "      <td>PPT Occupational Pension Scheme</td>\n",
              "      <td>1010OPS008931</td>\n",
              "      <td>NaN</td>\n",
              "      <td>sayertey</td>\n",
              "      <td>SCB-OPS Cheque Payment</td>\n",
              "      <td>Deposit</td>\n",
              "      <td>Payment for December 2021</td>\n",
              "      <td>18.55</td>\n",
              "      <td>0.0</td>\n",
              "    </tr>\n",
              "    <tr>\n",
              "      <th>153250</th>\n",
              "      <td>366298</td>\n",
              "      <td>2022-02-28</td>\n",
              "      <td>2022-02-28</td>\n",
              "      <td>PPTL347791</td>\n",
              "      <td>0553753788</td>\n",
              "      <td>PPT Personal Pension Scheme</td>\n",
              "      <td>1010PPS045246</td>\n",
              "      <td>NaN</td>\n",
              "      <td>System</td>\n",
              "      <td>MOMO</td>\n",
              "      <td>DEPOSIT</td>\n",
              "      <td>CONTRIBUTION</td>\n",
              "      <td>2.00</td>\n",
              "      <td>0.0</td>\n",
              "    </tr>\n",
              "    <tr>\n",
              "      <th>153251</th>\n",
              "      <td>366394</td>\n",
              "      <td>2022-02-28</td>\n",
              "      <td>2022-02-28</td>\n",
              "      <td>PPTE348262</td>\n",
              "      <td>0505660467</td>\n",
              "      <td>PPT Personal Pension Scheme</td>\n",
              "      <td>1010PPS045257</td>\n",
              "      <td>NaN</td>\n",
              "      <td>System</td>\n",
              "      <td>MOMO</td>\n",
              "      <td>DEPOSIT</td>\n",
              "      <td>CONTRIBUTION</td>\n",
              "      <td>10.00</td>\n",
              "      <td>0.0</td>\n",
              "    </tr>\n",
              "  </tbody>\n",
              "</table>\n",
              "<p>153252 rows × 14 columns</p>\n",
              "</div>\n",
              "      <button class=\"colab-df-convert\" onclick=\"convertToInteractive('df-8b8d7033-ae83-4b8e-b331-50dbd459c71f')\"\n",
              "              title=\"Convert this dataframe to an interactive table.\"\n",
              "              style=\"display:none;\">\n",
              "        \n",
              "  <svg xmlns=\"http://www.w3.org/2000/svg\" height=\"24px\"viewBox=\"0 0 24 24\"\n",
              "       width=\"24px\">\n",
              "    <path d=\"M0 0h24v24H0V0z\" fill=\"none\"/>\n",
              "    <path d=\"M18.56 5.44l.94 2.06.94-2.06 2.06-.94-2.06-.94-.94-2.06-.94 2.06-2.06.94zm-11 1L8.5 8.5l.94-2.06 2.06-.94-2.06-.94L8.5 2.5l-.94 2.06-2.06.94zm10 10l.94 2.06.94-2.06 2.06-.94-2.06-.94-.94-2.06-.94 2.06-2.06.94z\"/><path d=\"M17.41 7.96l-1.37-1.37c-.4-.4-.92-.59-1.43-.59-.52 0-1.04.2-1.43.59L10.3 9.45l-7.72 7.72c-.78.78-.78 2.05 0 2.83L4 21.41c.39.39.9.59 1.41.59.51 0 1.02-.2 1.41-.59l7.78-7.78 2.81-2.81c.8-.78.8-2.07 0-2.86zM5.41 20L4 18.59l7.72-7.72 1.47 1.35L5.41 20z\"/>\n",
              "  </svg>\n",
              "      </button>\n",
              "      \n",
              "  <style>\n",
              "    .colab-df-container {\n",
              "      display:flex;\n",
              "      flex-wrap:wrap;\n",
              "      gap: 12px;\n",
              "    }\n",
              "\n",
              "    .colab-df-convert {\n",
              "      background-color: #E8F0FE;\n",
              "      border: none;\n",
              "      border-radius: 50%;\n",
              "      cursor: pointer;\n",
              "      display: none;\n",
              "      fill: #1967D2;\n",
              "      height: 32px;\n",
              "      padding: 0 0 0 0;\n",
              "      width: 32px;\n",
              "    }\n",
              "\n",
              "    .colab-df-convert:hover {\n",
              "      background-color: #E2EBFA;\n",
              "      box-shadow: 0px 1px 2px rgba(60, 64, 67, 0.3), 0px 1px 3px 1px rgba(60, 64, 67, 0.15);\n",
              "      fill: #174EA6;\n",
              "    }\n",
              "\n",
              "    [theme=dark] .colab-df-convert {\n",
              "      background-color: #3B4455;\n",
              "      fill: #D2E3FC;\n",
              "    }\n",
              "\n",
              "    [theme=dark] .colab-df-convert:hover {\n",
              "      background-color: #434B5C;\n",
              "      box-shadow: 0px 1px 3px 1px rgba(0, 0, 0, 0.15);\n",
              "      filter: drop-shadow(0px 1px 2px rgba(0, 0, 0, 0.3));\n",
              "      fill: #FFFFFF;\n",
              "    }\n",
              "  </style>\n",
              "\n",
              "      <script>\n",
              "        const buttonEl =\n",
              "          document.querySelector('#df-8b8d7033-ae83-4b8e-b331-50dbd459c71f button.colab-df-convert');\n",
              "        buttonEl.style.display =\n",
              "          google.colab.kernel.accessAllowed ? 'block' : 'none';\n",
              "\n",
              "        async function convertToInteractive(key) {\n",
              "          const element = document.querySelector('#df-8b8d7033-ae83-4b8e-b331-50dbd459c71f');\n",
              "          const dataTable =\n",
              "            await google.colab.kernel.invokeFunction('convertToInteractive',\n",
              "                                                     [key], {});\n",
              "          if (!dataTable) return;\n",
              "\n",
              "          const docLinkHtml = 'Like what you see? Visit the ' +\n",
              "            '<a target=\"_blank\" href=https://colab.research.google.com/notebooks/data_table.ipynb>data table notebook</a>'\n",
              "            + ' to learn more about interactive tables.';\n",
              "          element.innerHTML = '';\n",
              "          dataTable['output_type'] = 'display_data';\n",
              "          await google.colab.output.renderOutput(dataTable, element);\n",
              "          const docLink = document.createElement('div');\n",
              "          docLink.innerHTML = docLinkHtml;\n",
              "          element.appendChild(docLink);\n",
              "        }\n",
              "      </script>\n",
              "    </div>\n",
              "  </div>\n",
              "  "
            ]
          },
          "metadata": {},
          "execution_count": 121
        }
      ]
    },
    {
      "cell_type": "code",
      "source": [
        "df['Sector'] = df['Product type'].replace({'PPT Personal Pension Scheme':'Informal','PPT Occupational Pension Scheme':'Formal','PPT TUC UNIWA Scheme':'Informal','PPT Provident Fund Scheme':'Formal'})"
      ],
      "metadata": {
        "id": "d9iKw8yTP6f_"
      },
      "execution_count": 122,
      "outputs": []
    },
    {
      "cell_type": "code",
      "source": [
        "# Creating a column based on 1st 3 letters of batch number\n",
        "df['Group'] = df.iloc[:,3].str[:3]"
      ],
      "metadata": {
        "id": "PFpUCgiyP97_"
      },
      "execution_count": 123,
      "outputs": []
    },
    {
      "cell_type": "code",
      "source": [
        "TR0 = df[df.Group == 'TR0']\n",
        "PPT = df[df.Group == 'PPT']\n",
        "IPA = df[df.Group == 'IPA']\n",
        "PA0 = df[df.Group == 'PA0']\n",
        "N209 = df[df.Group == '209']\n",
        "N224= df[df.Group == '224']"
      ],
      "metadata": {
        "id": "4bt7n7XMQweZ"
      },
      "execution_count": 124,
      "outputs": []
    },
    {
      "cell_type": "code",
      "source": [
        "IPA['NewBatch'] = IPA.iloc[:,3].str[:14]"
      ],
      "metadata": {
        "colab": {
          "base_uri": "https://localhost:8080/"
        },
        "id": "Qk_te-NtQAKI",
        "outputId": "16e6279a-afe0-451c-eabc-a1299f7512fd"
      },
      "execution_count": 125,
      "outputs": [
        {
          "output_type": "stream",
          "name": "stderr",
          "text": [
            "/usr/local/lib/python3.7/dist-packages/ipykernel_launcher.py:1: SettingWithCopyWarning: \n",
            "A value is trying to be set on a copy of a slice from a DataFrame.\n",
            "Try using .loc[row_indexer,col_indexer] = value instead\n",
            "\n",
            "See the caveats in the documentation: https://pandas.pydata.org/pandas-docs/stable/user_guide/indexing.html#returning-a-view-versus-a-copy\n",
            "  \"\"\"Entry point for launching an IPython kernel.\n"
          ]
        }
      ]
    },
    {
      "cell_type": "code",
      "source": [
        "IPA['NewBatch'] = IPA.iloc[:,3].str[:14]"
      ],
      "metadata": {
        "colab": {
          "base_uri": "https://localhost:8080/"
        },
        "id": "GJO8XYQnQCiQ",
        "outputId": "a5e80d2e-a57e-4683-9bdf-d73dd349ae9b"
      },
      "execution_count": 126,
      "outputs": [
        {
          "output_type": "stream",
          "name": "stderr",
          "text": [
            "/usr/local/lib/python3.7/dist-packages/ipykernel_launcher.py:1: SettingWithCopyWarning: \n",
            "A value is trying to be set on a copy of a slice from a DataFrame.\n",
            "Try using .loc[row_indexer,col_indexer] = value instead\n",
            "\n",
            "See the caveats in the documentation: https://pandas.pydata.org/pandas-docs/stable/user_guide/indexing.html#returning-a-view-versus-a-copy\n",
            "  \"\"\"Entry point for launching an IPython kernel.\n"
          ]
        }
      ]
    },
    {
      "cell_type": "code",
      "source": [
        "TR0['NewBatch'] = TR0.iloc[:,3].str[:12]"
      ],
      "metadata": {
        "colab": {
          "base_uri": "https://localhost:8080/"
        },
        "id": "ToWbP9BMQFrp",
        "outputId": "00551baa-dc42-4fb2-f9c2-2be0fd964393"
      },
      "execution_count": 127,
      "outputs": [
        {
          "output_type": "stream",
          "name": "stderr",
          "text": [
            "/usr/local/lib/python3.7/dist-packages/ipykernel_launcher.py:1: SettingWithCopyWarning: \n",
            "A value is trying to be set on a copy of a slice from a DataFrame.\n",
            "Try using .loc[row_indexer,col_indexer] = value instead\n",
            "\n",
            "See the caveats in the documentation: https://pandas.pydata.org/pandas-docs/stable/user_guide/indexing.html#returning-a-view-versus-a-copy\n",
            "  \"\"\"Entry point for launching an IPython kernel.\n"
          ]
        }
      ]
    },
    {
      "cell_type": "code",
      "source": [
        "frames = [PPT, IPA, TR0,PA0, N209,N224 ]"
      ],
      "metadata": {
        "id": "9fP-0mpKQI84"
      },
      "execution_count": 128,
      "outputs": []
    },
    {
      "cell_type": "code",
      "source": [
        "result = pd.concat(frames)"
      ],
      "metadata": {
        "id": "JwEj1UwrQLhm"
      },
      "execution_count": 129,
      "outputs": []
    },
    {
      "cell_type": "code",
      "source": [
        "result['Reversal'] = result.iloc[:,3].str[-2:]"
      ],
      "metadata": {
        "id": "1byTlajlQR4D"
      },
      "execution_count": 130,
      "outputs": []
    },
    {
      "cell_type": "code",
      "source": [
        "result.loc[result['Reversal'] == '/1', 'Status'] = 'Reversal' \n",
        "result.loc[result['Reversal'] != '/1', 'Status'] = 'Actual' "
      ],
      "metadata": {
        "id": "PWMgvVctQUKE"
      },
      "execution_count": 131,
      "outputs": []
    },
    {
      "cell_type": "code",
      "source": [
        "actual=result[result['Status']=='Actual']"
      ],
      "metadata": {
        "id": "hDKfCf5jQ_Nb"
      },
      "execution_count": 132,
      "outputs": []
    },
    {
      "cell_type": "code",
      "source": [
        "rever=result[result['Status']=='Reversal']"
      ],
      "metadata": {
        "id": "D_rlD_h8RBIE"
      },
      "execution_count": 133,
      "outputs": []
    },
    {
      "cell_type": "code",
      "source": [
        "C = actual.loc[~((actual.NewBatch.isin(rever[\"NewBatch\"])))]"
      ],
      "metadata": {
        "id": "yPeHk3UQRGNC"
      },
      "execution_count": 134,
      "outputs": []
    },
    {
      "cell_type": "code",
      "source": [
        "C.Status.value_counts()"
      ],
      "metadata": {
        "colab": {
          "base_uri": "https://localhost:8080/"
        },
        "id": "Cg2LNIC7RMtB",
        "outputId": "b60e4e40-2c11-4faf-ce5e-e0e5005b30f6"
      },
      "execution_count": 135,
      "outputs": [
        {
          "output_type": "execute_result",
          "data": {
            "text/plain": [
              "Actual    112814\n",
              "Name: Status, dtype: int64"
            ]
          },
          "metadata": {},
          "execution_count": 135
        }
      ]
    },
    {
      "cell_type": "code",
      "source": [
        "C.info()"
      ],
      "metadata": {
        "colab": {
          "base_uri": "https://localhost:8080/"
        },
        "id": "YsFFO9sCReMu",
        "outputId": "e5a51377-3b17-43d8-c3a3-9e24661f0a0f"
      },
      "execution_count": 136,
      "outputs": [
        {
          "output_type": "stream",
          "name": "stdout",
          "text": [
            "<class 'pandas.core.frame.DataFrame'>\n",
            "Int64Index: 112814 entries, 332 to 153249\n",
            "Data columns (total 19 columns):\n",
            " #   Column           Non-Null Count   Dtype         \n",
            "---  ------           --------------   -----         \n",
            " 0   Id               112814 non-null  int64         \n",
            " 1   Creation time    112814 non-null  datetime64[ns]\n",
            " 2   [Sesseion date]  112814 non-null  datetime64[ns]\n",
            " 3   Batch number     112814 non-null  object        \n",
            " 4   Mobile           112812 non-null  object        \n",
            " 5   Product type     112814 non-null  object        \n",
            " 6   [Scheme number]  112814 non-null  object        \n",
            " 7   [Other number]   85511 non-null   object        \n",
            " 8   User name        112814 non-null  object        \n",
            " 9   Method           112805 non-null  object        \n",
            " 10  Type             112814 non-null  object        \n",
            " 11  Reference        112814 non-null  object        \n",
            " 12  [Contribution]   112814 non-null  float64       \n",
            " 13  [Withdrawal]     112814 non-null  float64       \n",
            " 14  Sector           112814 non-null  object        \n",
            " 15  Group            112814 non-null  object        \n",
            " 16  NewBatch         112814 non-null  object        \n",
            " 17  Reversal         112814 non-null  object        \n",
            " 18  Status           112814 non-null  object        \n",
            "dtypes: datetime64[ns](2), float64(2), int64(1), object(14)\n",
            "memory usage: 17.2+ MB\n"
          ]
        }
      ]
    },
    {
      "cell_type": "code",
      "source": [
        "C = C.rename(columns = {'[Sesseion date]':'sessiondate'})"
      ],
      "metadata": {
        "id": "VNYuUn3HS30c"
      },
      "execution_count": 137,
      "outputs": []
    },
    {
      "cell_type": "code",
      "source": [
        "C[\"sessiondate\"] = pd.to_datetime(C[\"sessiondate\"])\n",
        "C.sessiondate  = C.sessiondate.dt.strftime('%Y-%m')"
      ],
      "metadata": {
        "id": "G1UjRpyeSYaB"
      },
      "execution_count": 138,
      "outputs": []
    },
    {
      "cell_type": "code",
      "source": [
        "C['Mobile'] = C['Mobile'].str[1:]"
      ],
      "metadata": {
        "id": "uwrVsqxYU7Rr"
      },
      "execution_count": 139,
      "outputs": []
    },
    {
      "cell_type": "code",
      "source": [
        "C['Mobile'] = '233'+ C['Mobile']"
      ],
      "metadata": {
        "id": "4BK_gofkVuTu"
      },
      "execution_count": 140,
      "outputs": []
    },
    {
      "cell_type": "code",
      "source": [
        "C.info()"
      ],
      "metadata": {
        "colab": {
          "base_uri": "https://localhost:8080/"
        },
        "id": "THz8vAOtZzqc",
        "outputId": "9d6822d0-8b85-455a-b2b9-dd8e56ce1bd5"
      },
      "execution_count": 141,
      "outputs": [
        {
          "output_type": "stream",
          "name": "stdout",
          "text": [
            "<class 'pandas.core.frame.DataFrame'>\n",
            "Int64Index: 112814 entries, 332 to 153249\n",
            "Data columns (total 19 columns):\n",
            " #   Column           Non-Null Count   Dtype         \n",
            "---  ------           --------------   -----         \n",
            " 0   Id               112814 non-null  int64         \n",
            " 1   Creation time    112814 non-null  datetime64[ns]\n",
            " 2   sessiondate      112814 non-null  object        \n",
            " 3   Batch number     112814 non-null  object        \n",
            " 4   Mobile           112812 non-null  object        \n",
            " 5   Product type     112814 non-null  object        \n",
            " 6   [Scheme number]  112814 non-null  object        \n",
            " 7   [Other number]   85511 non-null   object        \n",
            " 8   User name        112814 non-null  object        \n",
            " 9   Method           112805 non-null  object        \n",
            " 10  Type             112814 non-null  object        \n",
            " 11  Reference        112814 non-null  object        \n",
            " 12  [Contribution]   112814 non-null  float64       \n",
            " 13  [Withdrawal]     112814 non-null  float64       \n",
            " 14  Sector           112814 non-null  object        \n",
            " 15  Group            112814 non-null  object        \n",
            " 16  NewBatch         112814 non-null  object        \n",
            " 17  Reversal         112814 non-null  object        \n",
            " 18  Status           112814 non-null  object        \n",
            "dtypes: datetime64[ns](1), float64(2), int64(1), object(15)\n",
            "memory usage: 17.2+ MB\n"
          ]
        }
      ]
    },
    {
      "cell_type": "code",
      "source": [
        "#C.to_excel('a.xlsx')"
      ],
      "metadata": {
        "id": "snwnbddzXuoA"
      },
      "execution_count": 142,
      "outputs": []
    },
    {
      "cell_type": "code",
      "source": [
        ""
      ],
      "metadata": {
        "id": "ADX0HewQcpi6"
      },
      "execution_count": 142,
      "outputs": []
    },
    {
      "cell_type": "code",
      "source": [
        ""
      ],
      "metadata": {
        "id": "lWZAf9mbaBaY"
      },
      "execution_count": 142,
      "outputs": []
    },
    {
      "cell_type": "code",
      "source": [
        "md = pd.read_excel('md2802.xlsx') #member dump\n",
        "md =md[['agentname', 'Mobile']]"
      ],
      "metadata": {
        "id": "mxY1ossZZBCc"
      },
      "execution_count": 143,
      "outputs": []
    },
    {
      "cell_type": "code",
      "source": [
        "md.info()"
      ],
      "metadata": {
        "colab": {
          "base_uri": "https://localhost:8080/"
        },
        "id": "teNg5rFEZlGh",
        "outputId": "8378db74-d0d3-4174-ac4a-bf340914538a"
      },
      "execution_count": 144,
      "outputs": [
        {
          "output_type": "stream",
          "name": "stdout",
          "text": [
            "<class 'pandas.core.frame.DataFrame'>\n",
            "RangeIndex: 50491 entries, 0 to 50490\n",
            "Data columns (total 2 columns):\n",
            " #   Column     Non-Null Count  Dtype \n",
            "---  ------     --------------  ----- \n",
            " 0   agentname  50491 non-null  object\n",
            " 1   Mobile     50491 non-null  int64 \n",
            "dtypes: int64(1), object(1)\n",
            "memory usage: 789.0+ KB\n"
          ]
        }
      ]
    },
    {
      "cell_type": "code",
      "source": [
        "a = pd.read_excel('a.xlsx')\n"
      ],
      "metadata": {
        "id": "shOj3kJwcwcY"
      },
      "execution_count": 145,
      "outputs": []
    },
    {
      "cell_type": "code",
      "source": [
        "#b = pd.read_excel('MembersDump (1).xlsx')"
      ],
      "metadata": {
        "id": "6COhsA6Z9j-6"
      },
      "execution_count": 146,
      "outputs": []
    },
    {
      "cell_type": "code",
      "source": [
        "#b = b.filter(['Mobile','[Scheme number]','Start date'])"
      ],
      "metadata": {
        "id": "N1IleMF8-Vn5"
      },
      "execution_count": 147,
      "outputs": []
    },
    {
      "cell_type": "code",
      "source": [
        "#b['Mobile'] = b['Mobile'].str[1:]\n",
        "#b['Mobile'] = '233'+ b['Mobile']"
      ],
      "metadata": {
        "id": "NTyyM-uJ-wl1"
      },
      "execution_count": 148,
      "outputs": []
    },
    {
      "cell_type": "code",
      "source": [
        "#b[\"Start date\"] = pd.to_datetime(b[\"Start date\"])\n",
        "#b['Start date']  = b['Start date'].dt.strftime('%Y-%m')"
      ],
      "metadata": {
        "id": "io-fJt_R_wWC"
      },
      "execution_count": 149,
      "outputs": []
    },
    {
      "cell_type": "code",
      "source": [
        "#b.to_excel('b.xlsx')"
      ],
      "metadata": {
        "id": "4YbrSbMM_All"
      },
      "execution_count": 150,
      "outputs": []
    },
    {
      "cell_type": "code",
      "source": [
        "b1 = pd.read_excel('b1.xlsx')"
      ],
      "metadata": {
        "id": "VS99gMPFDhTN"
      },
      "execution_count": 151,
      "outputs": []
    },
    {
      "cell_type": "code",
      "source": [
        "b2 = pd.merge( b1, md,\n",
        "                      on ='Mobile', \n",
        "                      how ='left')"
      ],
      "metadata": {
        "id": "Jq0SzMW7EFY4"
      },
      "execution_count": 152,
      "outputs": []
    },
    {
      "cell_type": "code",
      "source": [
        "c2 = pd.merge( a, md,\n",
        "                      on ='Mobile', \n",
        "                      how ='left')"
      ],
      "metadata": {
        "id": "kwCMDQ-pZSmF"
      },
      "execution_count": 153,
      "outputs": []
    },
    {
      "cell_type": "code",
      "source": [
        "c2.agentname.value_counts()"
      ],
      "metadata": {
        "colab": {
          "base_uri": "https://localhost:8080/"
        },
        "id": "B9O3Kv5OgbRx",
        "outputId": "ddcf95f3-09d2-43a8-f8aa-5b2ee9db7435"
      },
      "execution_count": 154,
      "outputs": [
        {
          "output_type": "execute_result",
          "data": {
            "text/plain": [
              "DENNIS AGGREY OTOO     17509\n",
              "ERIC APPENTENG         10867\n",
              "ABENA SERWAH OSEI       7406\n",
              "OBED APPIAH ASAMOAH     5813\n",
              "RICHARD NYARBI          5267\n",
              "                       ...  \n",
              "KELVIN BOAMAH              4\n",
              "SAMUEL MUSAH               3\n",
              "JANNES STEVENS             2\n",
              "DIASPORA HOMECARE          1\n",
              "NANCY KWAO                 1\n",
              "Name: agentname, Length: 113, dtype: int64"
            ]
          },
          "metadata": {},
          "execution_count": 154
        }
      ]
    },
    {
      "cell_type": "code",
      "source": [
        "c2"
      ],
      "metadata": {
        "colab": {
          "base_uri": "https://localhost:8080/",
          "height": 1000
        },
        "id": "OAc3uAaW3II4",
        "outputId": "00f29fb3-c6ee-48d2-f041-626b87f4e7be"
      },
      "execution_count": 155,
      "outputs": [
        {
          "output_type": "execute_result",
          "data": {
            "text/plain": [
              "            Id  Creation time sessiondate    Batch number        Mobile  \\\n",
              "0       253247          44438     2021-08  IPAY0269540543  233246014301   \n",
              "1       238178          44417     2021-08  IPAY0263178962  233246014301   \n",
              "2       243201          44425     2021-08  IPAY0265900457  233246014301   \n",
              "3       232042          44404     2021-07  IPAY0259301261  233246014301   \n",
              "4       231156          44403     2021-07  IPAY0258887755  233546700600   \n",
              "...        ...            ...         ...             ...           ...   \n",
              "125511  366607          44620     2022-01    TR0234046980  233200322222   \n",
              "125512  366608          44620     2022-01    TR0234046980  233200002200   \n",
              "125513  367439          44621     2022-01    TR0072161308  233556190256   \n",
              "125514  367440          44621     2022-01    TR0072161308  233249689084   \n",
              "125515  367441          44621     2022-01    TR0072161308  233277793008   \n",
              "\n",
              "                           Product type [Scheme number] [Other number]  \\\n",
              "0       PPT Occupational Pension Scheme   1010OPS000048        1003150   \n",
              "1       PPT Occupational Pension Scheme   1010OPS000048        1003150   \n",
              "2       PPT Occupational Pension Scheme   1010OPS000048        1003150   \n",
              "3       PPT Occupational Pension Scheme   1010OPS000048        1003150   \n",
              "4       PPT Occupational Pension Scheme   1010OPS002699        1040390   \n",
              "...                                 ...             ...            ...   \n",
              "125511  PPT Occupational Pension Scheme   1010OPS008927            NaN   \n",
              "125512  PPT Occupational Pension Scheme   1010OPS008928            NaN   \n",
              "125513  PPT Occupational Pension Scheme   1010OPS008929            NaN   \n",
              "125514  PPT Occupational Pension Scheme   1010OPS008930            NaN   \n",
              "125515  PPT Occupational Pension Scheme   1010OPS008931            NaN   \n",
              "\n",
              "       User name                  Method     Type                  Reference  \\\n",
              "0         System                    MOMO  DEPOSIT               CONTRIBUTION   \n",
              "1         System                    MOMO  DEPOSIT               CONTRIBUTION   \n",
              "2         System                    MOMO  DEPOSIT               CONTRIBUTION   \n",
              "3         System                    MOMO  DEPOSIT               CONTRIBUTION   \n",
              "4         System                    MOMO  DEPOSIT               CONTRIBUTION   \n",
              "...          ...                     ...      ...                        ...   \n",
              "125511  sayertey         SCB OPS Payment  Deposit  Payment for December 2021   \n",
              "125512  sayertey         SCB OPS Payment  Deposit  Payment for December 2021   \n",
              "125513  sayertey  SCB-OPS Cheque Payment  Deposit  Payment for December 2021   \n",
              "125514  sayertey  SCB-OPS Cheque Payment  Deposit  Payment for December 2021   \n",
              "125515  sayertey  SCB-OPS Cheque Payment  Deposit  Payment for December 2021   \n",
              "\n",
              "        [Contribution]  [Withdrawal]  Sector Group        NewBatch  Reversal  \\\n",
              "0                 1.00           0.0  Formal   IPA  IPAY0269540543        43   \n",
              "1                 1.00           0.0  Formal   IPA  IPAY0263178962        62   \n",
              "2                 0.10           0.0  Formal   IPA  IPAY0265900457        57   \n",
              "3                 1.00           0.0  Formal   IPA  IPAY0259301261        61   \n",
              "4               100.00           0.0  Formal   IPA  IPAY0258887755        55   \n",
              "...                ...           ...     ...   ...             ...       ...   \n",
              "125511           22.82           0.0  Formal   TR0    TR0234046980        80   \n",
              "125512           22.82           0.0  Formal   TR0    TR0234046980        80   \n",
              "125513           18.55           0.0  Formal   TR0    TR0072161308         8   \n",
              "125514           18.55           0.0  Formal   TR0    TR0072161308         8   \n",
              "125515           18.55           0.0  Formal   TR0    TR0072161308         8   \n",
              "\n",
              "        Status            agentname  \n",
              "0       Actual       ERIC APPENTENG  \n",
              "1       Actual       ERIC APPENTENG  \n",
              "2       Actual       ERIC APPENTENG  \n",
              "3       Actual       ERIC APPENTENG  \n",
              "4       Actual   DENNIS AGGREY OTOO  \n",
              "...        ...                  ...  \n",
              "125511  Actual    ABENA SERWAH OSEI  \n",
              "125512  Actual    ABENA SERWAH OSEI  \n",
              "125513  Actual  OBED APPIAH ASAMOAH  \n",
              "125514  Actual  OBED APPIAH ASAMOAH  \n",
              "125515  Actual  OBED APPIAH ASAMOAH  \n",
              "\n",
              "[125516 rows x 20 columns]"
            ],
            "text/html": [
              "\n",
              "  <div id=\"df-12b19c04-bbda-448f-88d3-ce72d60b8dfa\">\n",
              "    <div class=\"colab-df-container\">\n",
              "      <div>\n",
              "<style scoped>\n",
              "    .dataframe tbody tr th:only-of-type {\n",
              "        vertical-align: middle;\n",
              "    }\n",
              "\n",
              "    .dataframe tbody tr th {\n",
              "        vertical-align: top;\n",
              "    }\n",
              "\n",
              "    .dataframe thead th {\n",
              "        text-align: right;\n",
              "    }\n",
              "</style>\n",
              "<table border=\"1\" class=\"dataframe\">\n",
              "  <thead>\n",
              "    <tr style=\"text-align: right;\">\n",
              "      <th></th>\n",
              "      <th>Id</th>\n",
              "      <th>Creation time</th>\n",
              "      <th>sessiondate</th>\n",
              "      <th>Batch number</th>\n",
              "      <th>Mobile</th>\n",
              "      <th>Product type</th>\n",
              "      <th>[Scheme number]</th>\n",
              "      <th>[Other number]</th>\n",
              "      <th>User name</th>\n",
              "      <th>Method</th>\n",
              "      <th>Type</th>\n",
              "      <th>Reference</th>\n",
              "      <th>[Contribution]</th>\n",
              "      <th>[Withdrawal]</th>\n",
              "      <th>Sector</th>\n",
              "      <th>Group</th>\n",
              "      <th>NewBatch</th>\n",
              "      <th>Reversal</th>\n",
              "      <th>Status</th>\n",
              "      <th>agentname</th>\n",
              "    </tr>\n",
              "  </thead>\n",
              "  <tbody>\n",
              "    <tr>\n",
              "      <th>0</th>\n",
              "      <td>253247</td>\n",
              "      <td>44438</td>\n",
              "      <td>2021-08</td>\n",
              "      <td>IPAY0269540543</td>\n",
              "      <td>233246014301</td>\n",
              "      <td>PPT Occupational Pension Scheme</td>\n",
              "      <td>1010OPS000048</td>\n",
              "      <td>1003150</td>\n",
              "      <td>System</td>\n",
              "      <td>MOMO</td>\n",
              "      <td>DEPOSIT</td>\n",
              "      <td>CONTRIBUTION</td>\n",
              "      <td>1.00</td>\n",
              "      <td>0.0</td>\n",
              "      <td>Formal</td>\n",
              "      <td>IPA</td>\n",
              "      <td>IPAY0269540543</td>\n",
              "      <td>43</td>\n",
              "      <td>Actual</td>\n",
              "      <td>ERIC APPENTENG</td>\n",
              "    </tr>\n",
              "    <tr>\n",
              "      <th>1</th>\n",
              "      <td>238178</td>\n",
              "      <td>44417</td>\n",
              "      <td>2021-08</td>\n",
              "      <td>IPAY0263178962</td>\n",
              "      <td>233246014301</td>\n",
              "      <td>PPT Occupational Pension Scheme</td>\n",
              "      <td>1010OPS000048</td>\n",
              "      <td>1003150</td>\n",
              "      <td>System</td>\n",
              "      <td>MOMO</td>\n",
              "      <td>DEPOSIT</td>\n",
              "      <td>CONTRIBUTION</td>\n",
              "      <td>1.00</td>\n",
              "      <td>0.0</td>\n",
              "      <td>Formal</td>\n",
              "      <td>IPA</td>\n",
              "      <td>IPAY0263178962</td>\n",
              "      <td>62</td>\n",
              "      <td>Actual</td>\n",
              "      <td>ERIC APPENTENG</td>\n",
              "    </tr>\n",
              "    <tr>\n",
              "      <th>2</th>\n",
              "      <td>243201</td>\n",
              "      <td>44425</td>\n",
              "      <td>2021-08</td>\n",
              "      <td>IPAY0265900457</td>\n",
              "      <td>233246014301</td>\n",
              "      <td>PPT Occupational Pension Scheme</td>\n",
              "      <td>1010OPS000048</td>\n",
              "      <td>1003150</td>\n",
              "      <td>System</td>\n",
              "      <td>MOMO</td>\n",
              "      <td>DEPOSIT</td>\n",
              "      <td>CONTRIBUTION</td>\n",
              "      <td>0.10</td>\n",
              "      <td>0.0</td>\n",
              "      <td>Formal</td>\n",
              "      <td>IPA</td>\n",
              "      <td>IPAY0265900457</td>\n",
              "      <td>57</td>\n",
              "      <td>Actual</td>\n",
              "      <td>ERIC APPENTENG</td>\n",
              "    </tr>\n",
              "    <tr>\n",
              "      <th>3</th>\n",
              "      <td>232042</td>\n",
              "      <td>44404</td>\n",
              "      <td>2021-07</td>\n",
              "      <td>IPAY0259301261</td>\n",
              "      <td>233246014301</td>\n",
              "      <td>PPT Occupational Pension Scheme</td>\n",
              "      <td>1010OPS000048</td>\n",
              "      <td>1003150</td>\n",
              "      <td>System</td>\n",
              "      <td>MOMO</td>\n",
              "      <td>DEPOSIT</td>\n",
              "      <td>CONTRIBUTION</td>\n",
              "      <td>1.00</td>\n",
              "      <td>0.0</td>\n",
              "      <td>Formal</td>\n",
              "      <td>IPA</td>\n",
              "      <td>IPAY0259301261</td>\n",
              "      <td>61</td>\n",
              "      <td>Actual</td>\n",
              "      <td>ERIC APPENTENG</td>\n",
              "    </tr>\n",
              "    <tr>\n",
              "      <th>4</th>\n",
              "      <td>231156</td>\n",
              "      <td>44403</td>\n",
              "      <td>2021-07</td>\n",
              "      <td>IPAY0258887755</td>\n",
              "      <td>233546700600</td>\n",
              "      <td>PPT Occupational Pension Scheme</td>\n",
              "      <td>1010OPS002699</td>\n",
              "      <td>1040390</td>\n",
              "      <td>System</td>\n",
              "      <td>MOMO</td>\n",
              "      <td>DEPOSIT</td>\n",
              "      <td>CONTRIBUTION</td>\n",
              "      <td>100.00</td>\n",
              "      <td>0.0</td>\n",
              "      <td>Formal</td>\n",
              "      <td>IPA</td>\n",
              "      <td>IPAY0258887755</td>\n",
              "      <td>55</td>\n",
              "      <td>Actual</td>\n",
              "      <td>DENNIS AGGREY OTOO</td>\n",
              "    </tr>\n",
              "    <tr>\n",
              "      <th>...</th>\n",
              "      <td>...</td>\n",
              "      <td>...</td>\n",
              "      <td>...</td>\n",
              "      <td>...</td>\n",
              "      <td>...</td>\n",
              "      <td>...</td>\n",
              "      <td>...</td>\n",
              "      <td>...</td>\n",
              "      <td>...</td>\n",
              "      <td>...</td>\n",
              "      <td>...</td>\n",
              "      <td>...</td>\n",
              "      <td>...</td>\n",
              "      <td>...</td>\n",
              "      <td>...</td>\n",
              "      <td>...</td>\n",
              "      <td>...</td>\n",
              "      <td>...</td>\n",
              "      <td>...</td>\n",
              "      <td>...</td>\n",
              "    </tr>\n",
              "    <tr>\n",
              "      <th>125511</th>\n",
              "      <td>366607</td>\n",
              "      <td>44620</td>\n",
              "      <td>2022-01</td>\n",
              "      <td>TR0234046980</td>\n",
              "      <td>233200322222</td>\n",
              "      <td>PPT Occupational Pension Scheme</td>\n",
              "      <td>1010OPS008927</td>\n",
              "      <td>NaN</td>\n",
              "      <td>sayertey</td>\n",
              "      <td>SCB OPS Payment</td>\n",
              "      <td>Deposit</td>\n",
              "      <td>Payment for December 2021</td>\n",
              "      <td>22.82</td>\n",
              "      <td>0.0</td>\n",
              "      <td>Formal</td>\n",
              "      <td>TR0</td>\n",
              "      <td>TR0234046980</td>\n",
              "      <td>80</td>\n",
              "      <td>Actual</td>\n",
              "      <td>ABENA SERWAH OSEI</td>\n",
              "    </tr>\n",
              "    <tr>\n",
              "      <th>125512</th>\n",
              "      <td>366608</td>\n",
              "      <td>44620</td>\n",
              "      <td>2022-01</td>\n",
              "      <td>TR0234046980</td>\n",
              "      <td>233200002200</td>\n",
              "      <td>PPT Occupational Pension Scheme</td>\n",
              "      <td>1010OPS008928</td>\n",
              "      <td>NaN</td>\n",
              "      <td>sayertey</td>\n",
              "      <td>SCB OPS Payment</td>\n",
              "      <td>Deposit</td>\n",
              "      <td>Payment for December 2021</td>\n",
              "      <td>22.82</td>\n",
              "      <td>0.0</td>\n",
              "      <td>Formal</td>\n",
              "      <td>TR0</td>\n",
              "      <td>TR0234046980</td>\n",
              "      <td>80</td>\n",
              "      <td>Actual</td>\n",
              "      <td>ABENA SERWAH OSEI</td>\n",
              "    </tr>\n",
              "    <tr>\n",
              "      <th>125513</th>\n",
              "      <td>367439</td>\n",
              "      <td>44621</td>\n",
              "      <td>2022-01</td>\n",
              "      <td>TR0072161308</td>\n",
              "      <td>233556190256</td>\n",
              "      <td>PPT Occupational Pension Scheme</td>\n",
              "      <td>1010OPS008929</td>\n",
              "      <td>NaN</td>\n",
              "      <td>sayertey</td>\n",
              "      <td>SCB-OPS Cheque Payment</td>\n",
              "      <td>Deposit</td>\n",
              "      <td>Payment for December 2021</td>\n",
              "      <td>18.55</td>\n",
              "      <td>0.0</td>\n",
              "      <td>Formal</td>\n",
              "      <td>TR0</td>\n",
              "      <td>TR0072161308</td>\n",
              "      <td>8</td>\n",
              "      <td>Actual</td>\n",
              "      <td>OBED APPIAH ASAMOAH</td>\n",
              "    </tr>\n",
              "    <tr>\n",
              "      <th>125514</th>\n",
              "      <td>367440</td>\n",
              "      <td>44621</td>\n",
              "      <td>2022-01</td>\n",
              "      <td>TR0072161308</td>\n",
              "      <td>233249689084</td>\n",
              "      <td>PPT Occupational Pension Scheme</td>\n",
              "      <td>1010OPS008930</td>\n",
              "      <td>NaN</td>\n",
              "      <td>sayertey</td>\n",
              "      <td>SCB-OPS Cheque Payment</td>\n",
              "      <td>Deposit</td>\n",
              "      <td>Payment for December 2021</td>\n",
              "      <td>18.55</td>\n",
              "      <td>0.0</td>\n",
              "      <td>Formal</td>\n",
              "      <td>TR0</td>\n",
              "      <td>TR0072161308</td>\n",
              "      <td>8</td>\n",
              "      <td>Actual</td>\n",
              "      <td>OBED APPIAH ASAMOAH</td>\n",
              "    </tr>\n",
              "    <tr>\n",
              "      <th>125515</th>\n",
              "      <td>367441</td>\n",
              "      <td>44621</td>\n",
              "      <td>2022-01</td>\n",
              "      <td>TR0072161308</td>\n",
              "      <td>233277793008</td>\n",
              "      <td>PPT Occupational Pension Scheme</td>\n",
              "      <td>1010OPS008931</td>\n",
              "      <td>NaN</td>\n",
              "      <td>sayertey</td>\n",
              "      <td>SCB-OPS Cheque Payment</td>\n",
              "      <td>Deposit</td>\n",
              "      <td>Payment for December 2021</td>\n",
              "      <td>18.55</td>\n",
              "      <td>0.0</td>\n",
              "      <td>Formal</td>\n",
              "      <td>TR0</td>\n",
              "      <td>TR0072161308</td>\n",
              "      <td>8</td>\n",
              "      <td>Actual</td>\n",
              "      <td>OBED APPIAH ASAMOAH</td>\n",
              "    </tr>\n",
              "  </tbody>\n",
              "</table>\n",
              "<p>125516 rows × 20 columns</p>\n",
              "</div>\n",
              "      <button class=\"colab-df-convert\" onclick=\"convertToInteractive('df-12b19c04-bbda-448f-88d3-ce72d60b8dfa')\"\n",
              "              title=\"Convert this dataframe to an interactive table.\"\n",
              "              style=\"display:none;\">\n",
              "        \n",
              "  <svg xmlns=\"http://www.w3.org/2000/svg\" height=\"24px\"viewBox=\"0 0 24 24\"\n",
              "       width=\"24px\">\n",
              "    <path d=\"M0 0h24v24H0V0z\" fill=\"none\"/>\n",
              "    <path d=\"M18.56 5.44l.94 2.06.94-2.06 2.06-.94-2.06-.94-.94-2.06-.94 2.06-2.06.94zm-11 1L8.5 8.5l.94-2.06 2.06-.94-2.06-.94L8.5 2.5l-.94 2.06-2.06.94zm10 10l.94 2.06.94-2.06 2.06-.94-2.06-.94-.94-2.06-.94 2.06-2.06.94z\"/><path d=\"M17.41 7.96l-1.37-1.37c-.4-.4-.92-.59-1.43-.59-.52 0-1.04.2-1.43.59L10.3 9.45l-7.72 7.72c-.78.78-.78 2.05 0 2.83L4 21.41c.39.39.9.59 1.41.59.51 0 1.02-.2 1.41-.59l7.78-7.78 2.81-2.81c.8-.78.8-2.07 0-2.86zM5.41 20L4 18.59l7.72-7.72 1.47 1.35L5.41 20z\"/>\n",
              "  </svg>\n",
              "      </button>\n",
              "      \n",
              "  <style>\n",
              "    .colab-df-container {\n",
              "      display:flex;\n",
              "      flex-wrap:wrap;\n",
              "      gap: 12px;\n",
              "    }\n",
              "\n",
              "    .colab-df-convert {\n",
              "      background-color: #E8F0FE;\n",
              "      border: none;\n",
              "      border-radius: 50%;\n",
              "      cursor: pointer;\n",
              "      display: none;\n",
              "      fill: #1967D2;\n",
              "      height: 32px;\n",
              "      padding: 0 0 0 0;\n",
              "      width: 32px;\n",
              "    }\n",
              "\n",
              "    .colab-df-convert:hover {\n",
              "      background-color: #E2EBFA;\n",
              "      box-shadow: 0px 1px 2px rgba(60, 64, 67, 0.3), 0px 1px 3px 1px rgba(60, 64, 67, 0.15);\n",
              "      fill: #174EA6;\n",
              "    }\n",
              "\n",
              "    [theme=dark] .colab-df-convert {\n",
              "      background-color: #3B4455;\n",
              "      fill: #D2E3FC;\n",
              "    }\n",
              "\n",
              "    [theme=dark] .colab-df-convert:hover {\n",
              "      background-color: #434B5C;\n",
              "      box-shadow: 0px 1px 3px 1px rgba(0, 0, 0, 0.15);\n",
              "      filter: drop-shadow(0px 1px 2px rgba(0, 0, 0, 0.3));\n",
              "      fill: #FFFFFF;\n",
              "    }\n",
              "  </style>\n",
              "\n",
              "      <script>\n",
              "        const buttonEl =\n",
              "          document.querySelector('#df-12b19c04-bbda-448f-88d3-ce72d60b8dfa button.colab-df-convert');\n",
              "        buttonEl.style.display =\n",
              "          google.colab.kernel.accessAllowed ? 'block' : 'none';\n",
              "\n",
              "        async function convertToInteractive(key) {\n",
              "          const element = document.querySelector('#df-12b19c04-bbda-448f-88d3-ce72d60b8dfa');\n",
              "          const dataTable =\n",
              "            await google.colab.kernel.invokeFunction('convertToInteractive',\n",
              "                                                     [key], {});\n",
              "          if (!dataTable) return;\n",
              "\n",
              "          const docLinkHtml = 'Like what you see? Visit the ' +\n",
              "            '<a target=\"_blank\" href=https://colab.research.google.com/notebooks/data_table.ipynb>data table notebook</a>'\n",
              "            + ' to learn more about interactive tables.';\n",
              "          element.innerHTML = '';\n",
              "          dataTable['output_type'] = 'display_data';\n",
              "          await google.colab.output.renderOutput(dataTable, element);\n",
              "          const docLink = document.createElement('div');\n",
              "          docLink.innerHTML = docLinkHtml;\n",
              "          element.appendChild(docLink);\n",
              "        }\n",
              "      </script>\n",
              "    </div>\n",
              "  </div>\n",
              "  "
            ]
          },
          "metadata": {},
          "execution_count": 155
        }
      ]
    },
    {
      "cell_type": "code",
      "source": [
        "c3 = c2.loc[c2['agentname'] == 'RICHARD NYARBI']\n",
        "c4 = c3.loc[c3['Product type'] == 'PPT Personal Pension Scheme' ]"
      ],
      "metadata": {
        "id": "nzaopPEykOE7"
      },
      "execution_count": 167,
      "outputs": []
    },
    {
      "cell_type": "code",
      "source": [
        "c4['Product type'].value_counts()"
      ],
      "metadata": {
        "colab": {
          "base_uri": "https://localhost:8080/"
        },
        "id": "8GAaM1qokudM",
        "outputId": "7fdebc20-596b-49f4-a0c8-0c2885b459e6"
      },
      "execution_count": 168,
      "outputs": [
        {
          "output_type": "execute_result",
          "data": {
            "text/plain": [
              "PPT Personal Pension Scheme    377\n",
              "Name: Product type, dtype: int64"
            ]
          },
          "metadata": {},
          "execution_count": 168
        }
      ]
    },
    {
      "cell_type": "code",
      "source": [
        "c5 = c4.loc[c4['[Withdrawal]'] == 0.0 ]"
      ],
      "metadata": {
        "id": "ma7DFixhuVZO"
      },
      "execution_count": 169,
      "outputs": []
    },
    {
      "cell_type": "code",
      "source": [
        "c5['[Withdrawal]'].value_counts()"
      ],
      "metadata": {
        "colab": {
          "base_uri": "https://localhost:8080/"
        },
        "id": "4we-Bm8otUby",
        "outputId": "8ca749cc-c1d1-40c5-e29e-893a67d1e490"
      },
      "execution_count": 170,
      "outputs": [
        {
          "output_type": "execute_result",
          "data": {
            "text/plain": [
              "0.0    372\n",
              "Name: [Withdrawal], dtype: int64"
            ]
          },
          "metadata": {},
          "execution_count": 170
        }
      ]
    },
    {
      "cell_type": "code",
      "source": [
        "c5.info()"
      ],
      "metadata": {
        "colab": {
          "base_uri": "https://localhost:8080/"
        },
        "id": "8kahDAqJuvgE",
        "outputId": "39281a5e-df4d-4ca6-e1d9-6c3f96cdeb17"
      },
      "execution_count": 171,
      "outputs": [
        {
          "output_type": "stream",
          "name": "stdout",
          "text": [
            "<class 'pandas.core.frame.DataFrame'>\n",
            "Int64Index: 372 entries, 43 to 121965\n",
            "Data columns (total 20 columns):\n",
            " #   Column           Non-Null Count  Dtype  \n",
            "---  ------           --------------  -----  \n",
            " 0   Id               372 non-null    int64  \n",
            " 1   Creation time    372 non-null    int64  \n",
            " 2   sessiondate      372 non-null    object \n",
            " 3   Batch number     372 non-null    object \n",
            " 4   Mobile           372 non-null    object \n",
            " 5   Product type     372 non-null    object \n",
            " 6   [Scheme number]  372 non-null    object \n",
            " 7   [Other number]   266 non-null    object \n",
            " 8   User name        372 non-null    object \n",
            " 9   Method           372 non-null    object \n",
            " 10  Type             372 non-null    object \n",
            " 11  Reference        372 non-null    object \n",
            " 12  [Contribution]   372 non-null    float64\n",
            " 13  [Withdrawal]     372 non-null    float64\n",
            " 14  Sector           372 non-null    object \n",
            " 15  Group            372 non-null    object \n",
            " 16  NewBatch         372 non-null    object \n",
            " 17  Reversal         372 non-null    int64  \n",
            " 18  Status           372 non-null    object \n",
            " 19  agentname        372 non-null    object \n",
            "dtypes: float64(2), int64(3), object(15)\n",
            "memory usage: 61.0+ KB\n"
          ]
        }
      ]
    },
    {
      "cell_type": "code",
      "source": [
        "c5 = c5.filter(['sessiondate','[Contribution]','agentname','[Scheme number]'])"
      ],
      "metadata": {
        "id": "oV_FgRXavJ4j"
      },
      "execution_count": 172,
      "outputs": []
    },
    {
      "cell_type": "code",
      "source": [
        "c5"
      ],
      "metadata": {
        "colab": {
          "base_uri": "https://localhost:8080/",
          "height": 424
        },
        "id": "Q8hLgJZsvlyJ",
        "outputId": "e7861cce-c0b4-4f3b-d3b0-7e1759043295"
      },
      "execution_count": 173,
      "outputs": [
        {
          "output_type": "execute_result",
          "data": {
            "text/plain": [
              "       sessiondate  [Contribution]       agentname [Scheme number]\n",
              "43         2021-07            40.0  RICHARD NYARBI   1010PPS005407\n",
              "300        2021-08            30.0  RICHARD NYARBI   1010PPS009475\n",
              "301        2021-07            30.0  RICHARD NYARBI   1010PPS009475\n",
              "302        2021-07            20.0  RICHARD NYARBI   1010PPS010047\n",
              "437        2021-08            30.0  RICHARD NYARBI   1010PPS013114\n",
              "...            ...             ...             ...             ...\n",
              "101234     2021-05            10.0  RICHARD NYARBI   1010PPS043219\n",
              "101235     2021-10            10.0  RICHARD NYARBI   1010PPS043219\n",
              "101236     2021-09            10.0  RICHARD NYARBI   1010PPS043219\n",
              "121963     2022-01            50.0  RICHARD NYARBI   1010PPS008556\n",
              "121965     2022-02            50.0  RICHARD NYARBI   1010PPS008556\n",
              "\n",
              "[372 rows x 4 columns]"
            ],
            "text/html": [
              "\n",
              "  <div id=\"df-92bbc7b5-3352-4fb6-9f3f-1fe52ad7b632\">\n",
              "    <div class=\"colab-df-container\">\n",
              "      <div>\n",
              "<style scoped>\n",
              "    .dataframe tbody tr th:only-of-type {\n",
              "        vertical-align: middle;\n",
              "    }\n",
              "\n",
              "    .dataframe tbody tr th {\n",
              "        vertical-align: top;\n",
              "    }\n",
              "\n",
              "    .dataframe thead th {\n",
              "        text-align: right;\n",
              "    }\n",
              "</style>\n",
              "<table border=\"1\" class=\"dataframe\">\n",
              "  <thead>\n",
              "    <tr style=\"text-align: right;\">\n",
              "      <th></th>\n",
              "      <th>sessiondate</th>\n",
              "      <th>[Contribution]</th>\n",
              "      <th>agentname</th>\n",
              "      <th>[Scheme number]</th>\n",
              "    </tr>\n",
              "  </thead>\n",
              "  <tbody>\n",
              "    <tr>\n",
              "      <th>43</th>\n",
              "      <td>2021-07</td>\n",
              "      <td>40.0</td>\n",
              "      <td>RICHARD NYARBI</td>\n",
              "      <td>1010PPS005407</td>\n",
              "    </tr>\n",
              "    <tr>\n",
              "      <th>300</th>\n",
              "      <td>2021-08</td>\n",
              "      <td>30.0</td>\n",
              "      <td>RICHARD NYARBI</td>\n",
              "      <td>1010PPS009475</td>\n",
              "    </tr>\n",
              "    <tr>\n",
              "      <th>301</th>\n",
              "      <td>2021-07</td>\n",
              "      <td>30.0</td>\n",
              "      <td>RICHARD NYARBI</td>\n",
              "      <td>1010PPS009475</td>\n",
              "    </tr>\n",
              "    <tr>\n",
              "      <th>302</th>\n",
              "      <td>2021-07</td>\n",
              "      <td>20.0</td>\n",
              "      <td>RICHARD NYARBI</td>\n",
              "      <td>1010PPS010047</td>\n",
              "    </tr>\n",
              "    <tr>\n",
              "      <th>437</th>\n",
              "      <td>2021-08</td>\n",
              "      <td>30.0</td>\n",
              "      <td>RICHARD NYARBI</td>\n",
              "      <td>1010PPS013114</td>\n",
              "    </tr>\n",
              "    <tr>\n",
              "      <th>...</th>\n",
              "      <td>...</td>\n",
              "      <td>...</td>\n",
              "      <td>...</td>\n",
              "      <td>...</td>\n",
              "    </tr>\n",
              "    <tr>\n",
              "      <th>101234</th>\n",
              "      <td>2021-05</td>\n",
              "      <td>10.0</td>\n",
              "      <td>RICHARD NYARBI</td>\n",
              "      <td>1010PPS043219</td>\n",
              "    </tr>\n",
              "    <tr>\n",
              "      <th>101235</th>\n",
              "      <td>2021-10</td>\n",
              "      <td>10.0</td>\n",
              "      <td>RICHARD NYARBI</td>\n",
              "      <td>1010PPS043219</td>\n",
              "    </tr>\n",
              "    <tr>\n",
              "      <th>101236</th>\n",
              "      <td>2021-09</td>\n",
              "      <td>10.0</td>\n",
              "      <td>RICHARD NYARBI</td>\n",
              "      <td>1010PPS043219</td>\n",
              "    </tr>\n",
              "    <tr>\n",
              "      <th>121963</th>\n",
              "      <td>2022-01</td>\n",
              "      <td>50.0</td>\n",
              "      <td>RICHARD NYARBI</td>\n",
              "      <td>1010PPS008556</td>\n",
              "    </tr>\n",
              "    <tr>\n",
              "      <th>121965</th>\n",
              "      <td>2022-02</td>\n",
              "      <td>50.0</td>\n",
              "      <td>RICHARD NYARBI</td>\n",
              "      <td>1010PPS008556</td>\n",
              "    </tr>\n",
              "  </tbody>\n",
              "</table>\n",
              "<p>372 rows × 4 columns</p>\n",
              "</div>\n",
              "      <button class=\"colab-df-convert\" onclick=\"convertToInteractive('df-92bbc7b5-3352-4fb6-9f3f-1fe52ad7b632')\"\n",
              "              title=\"Convert this dataframe to an interactive table.\"\n",
              "              style=\"display:none;\">\n",
              "        \n",
              "  <svg xmlns=\"http://www.w3.org/2000/svg\" height=\"24px\"viewBox=\"0 0 24 24\"\n",
              "       width=\"24px\">\n",
              "    <path d=\"M0 0h24v24H0V0z\" fill=\"none\"/>\n",
              "    <path d=\"M18.56 5.44l.94 2.06.94-2.06 2.06-.94-2.06-.94-.94-2.06-.94 2.06-2.06.94zm-11 1L8.5 8.5l.94-2.06 2.06-.94-2.06-.94L8.5 2.5l-.94 2.06-2.06.94zm10 10l.94 2.06.94-2.06 2.06-.94-2.06-.94-.94-2.06-.94 2.06-2.06.94z\"/><path d=\"M17.41 7.96l-1.37-1.37c-.4-.4-.92-.59-1.43-.59-.52 0-1.04.2-1.43.59L10.3 9.45l-7.72 7.72c-.78.78-.78 2.05 0 2.83L4 21.41c.39.39.9.59 1.41.59.51 0 1.02-.2 1.41-.59l7.78-7.78 2.81-2.81c.8-.78.8-2.07 0-2.86zM5.41 20L4 18.59l7.72-7.72 1.47 1.35L5.41 20z\"/>\n",
              "  </svg>\n",
              "      </button>\n",
              "      \n",
              "  <style>\n",
              "    .colab-df-container {\n",
              "      display:flex;\n",
              "      flex-wrap:wrap;\n",
              "      gap: 12px;\n",
              "    }\n",
              "\n",
              "    .colab-df-convert {\n",
              "      background-color: #E8F0FE;\n",
              "      border: none;\n",
              "      border-radius: 50%;\n",
              "      cursor: pointer;\n",
              "      display: none;\n",
              "      fill: #1967D2;\n",
              "      height: 32px;\n",
              "      padding: 0 0 0 0;\n",
              "      width: 32px;\n",
              "    }\n",
              "\n",
              "    .colab-df-convert:hover {\n",
              "      background-color: #E2EBFA;\n",
              "      box-shadow: 0px 1px 2px rgba(60, 64, 67, 0.3), 0px 1px 3px 1px rgba(60, 64, 67, 0.15);\n",
              "      fill: #174EA6;\n",
              "    }\n",
              "\n",
              "    [theme=dark] .colab-df-convert {\n",
              "      background-color: #3B4455;\n",
              "      fill: #D2E3FC;\n",
              "    }\n",
              "\n",
              "    [theme=dark] .colab-df-convert:hover {\n",
              "      background-color: #434B5C;\n",
              "      box-shadow: 0px 1px 3px 1px rgba(0, 0, 0, 0.15);\n",
              "      filter: drop-shadow(0px 1px 2px rgba(0, 0, 0, 0.3));\n",
              "      fill: #FFFFFF;\n",
              "    }\n",
              "  </style>\n",
              "\n",
              "      <script>\n",
              "        const buttonEl =\n",
              "          document.querySelector('#df-92bbc7b5-3352-4fb6-9f3f-1fe52ad7b632 button.colab-df-convert');\n",
              "        buttonEl.style.display =\n",
              "          google.colab.kernel.accessAllowed ? 'block' : 'none';\n",
              "\n",
              "        async function convertToInteractive(key) {\n",
              "          const element = document.querySelector('#df-92bbc7b5-3352-4fb6-9f3f-1fe52ad7b632');\n",
              "          const dataTable =\n",
              "            await google.colab.kernel.invokeFunction('convertToInteractive',\n",
              "                                                     [key], {});\n",
              "          if (!dataTable) return;\n",
              "\n",
              "          const docLinkHtml = 'Like what you see? Visit the ' +\n",
              "            '<a target=\"_blank\" href=https://colab.research.google.com/notebooks/data_table.ipynb>data table notebook</a>'\n",
              "            + ' to learn more about interactive tables.';\n",
              "          element.innerHTML = '';\n",
              "          dataTable['output_type'] = 'display_data';\n",
              "          await google.colab.output.renderOutput(dataTable, element);\n",
              "          const docLink = document.createElement('div');\n",
              "          docLink.innerHTML = docLinkHtml;\n",
              "          element.appendChild(docLink);\n",
              "        }\n",
              "      </script>\n",
              "    </div>\n",
              "  </div>\n",
              "  "
            ]
          },
          "metadata": {},
          "execution_count": 173
        }
      ]
    },
    {
      "cell_type": "code",
      "source": [
        "b2.info()"
      ],
      "metadata": {
        "colab": {
          "base_uri": "https://localhost:8080/"
        },
        "id": "lVfwM_z5EOpl",
        "outputId": "79ce784e-872b-451f-f8fe-8aa98ccfaca3"
      },
      "execution_count": 174,
      "outputs": [
        {
          "output_type": "stream",
          "name": "stdout",
          "text": [
            "<class 'pandas.core.frame.DataFrame'>\n",
            "Int64Index: 6690 entries, 0 to 6689\n",
            "Data columns (total 4 columns):\n",
            " #   Column           Non-Null Count  Dtype \n",
            "---  ------           --------------  ----- \n",
            " 0   Mobile           6679 non-null   object\n",
            " 1   [Scheme number]  6690 non-null   object\n",
            " 2   Start date       6690 non-null   object\n",
            " 3   agentname        6111 non-null   object\n",
            "dtypes: object(4)\n",
            "memory usage: 261.3+ KB\n"
          ]
        }
      ]
    },
    {
      "cell_type": "code",
      "source": [
        "b3= b2.loc[b2['agentname'] == 'RICHARD NYABI' ]\n"
      ],
      "metadata": {
        "id": "B8aOKC1iEwyu"
      },
      "execution_count": 175,
      "outputs": []
    },
    {
      "cell_type": "code",
      "source": [
        "b3"
      ],
      "metadata": {
        "colab": {
          "base_uri": "https://localhost:8080/",
          "height": 49
        },
        "id": "V26lTUGSMRpX",
        "outputId": "57bab834-583f-46cc-d9db-d7b9f0dffa0f"
      },
      "execution_count": 178,
      "outputs": [
        {
          "output_type": "execute_result",
          "data": {
            "text/plain": [
              "Empty DataFrame\n",
              "Columns: [Mobile, [Scheme number], Start date, agentname]\n",
              "Index: []"
            ],
            "text/html": [
              "\n",
              "  <div id=\"df-5e9405e4-0067-409c-b436-a7d7591217ce\">\n",
              "    <div class=\"colab-df-container\">\n",
              "      <div>\n",
              "<style scoped>\n",
              "    .dataframe tbody tr th:only-of-type {\n",
              "        vertical-align: middle;\n",
              "    }\n",
              "\n",
              "    .dataframe tbody tr th {\n",
              "        vertical-align: top;\n",
              "    }\n",
              "\n",
              "    .dataframe thead th {\n",
              "        text-align: right;\n",
              "    }\n",
              "</style>\n",
              "<table border=\"1\" class=\"dataframe\">\n",
              "  <thead>\n",
              "    <tr style=\"text-align: right;\">\n",
              "      <th></th>\n",
              "      <th>Mobile</th>\n",
              "      <th>[Scheme number]</th>\n",
              "      <th>Start date</th>\n",
              "      <th>agentname</th>\n",
              "    </tr>\n",
              "  </thead>\n",
              "  <tbody>\n",
              "  </tbody>\n",
              "</table>\n",
              "</div>\n",
              "      <button class=\"colab-df-convert\" onclick=\"convertToInteractive('df-5e9405e4-0067-409c-b436-a7d7591217ce')\"\n",
              "              title=\"Convert this dataframe to an interactive table.\"\n",
              "              style=\"display:none;\">\n",
              "        \n",
              "  <svg xmlns=\"http://www.w3.org/2000/svg\" height=\"24px\"viewBox=\"0 0 24 24\"\n",
              "       width=\"24px\">\n",
              "    <path d=\"M0 0h24v24H0V0z\" fill=\"none\"/>\n",
              "    <path d=\"M18.56 5.44l.94 2.06.94-2.06 2.06-.94-2.06-.94-.94-2.06-.94 2.06-2.06.94zm-11 1L8.5 8.5l.94-2.06 2.06-.94-2.06-.94L8.5 2.5l-.94 2.06-2.06.94zm10 10l.94 2.06.94-2.06 2.06-.94-2.06-.94-.94-2.06-.94 2.06-2.06.94z\"/><path d=\"M17.41 7.96l-1.37-1.37c-.4-.4-.92-.59-1.43-.59-.52 0-1.04.2-1.43.59L10.3 9.45l-7.72 7.72c-.78.78-.78 2.05 0 2.83L4 21.41c.39.39.9.59 1.41.59.51 0 1.02-.2 1.41-.59l7.78-7.78 2.81-2.81c.8-.78.8-2.07 0-2.86zM5.41 20L4 18.59l7.72-7.72 1.47 1.35L5.41 20z\"/>\n",
              "  </svg>\n",
              "      </button>\n",
              "      \n",
              "  <style>\n",
              "    .colab-df-container {\n",
              "      display:flex;\n",
              "      flex-wrap:wrap;\n",
              "      gap: 12px;\n",
              "    }\n",
              "\n",
              "    .colab-df-convert {\n",
              "      background-color: #E8F0FE;\n",
              "      border: none;\n",
              "      border-radius: 50%;\n",
              "      cursor: pointer;\n",
              "      display: none;\n",
              "      fill: #1967D2;\n",
              "      height: 32px;\n",
              "      padding: 0 0 0 0;\n",
              "      width: 32px;\n",
              "    }\n",
              "\n",
              "    .colab-df-convert:hover {\n",
              "      background-color: #E2EBFA;\n",
              "      box-shadow: 0px 1px 2px rgba(60, 64, 67, 0.3), 0px 1px 3px 1px rgba(60, 64, 67, 0.15);\n",
              "      fill: #174EA6;\n",
              "    }\n",
              "\n",
              "    [theme=dark] .colab-df-convert {\n",
              "      background-color: #3B4455;\n",
              "      fill: #D2E3FC;\n",
              "    }\n",
              "\n",
              "    [theme=dark] .colab-df-convert:hover {\n",
              "      background-color: #434B5C;\n",
              "      box-shadow: 0px 1px 3px 1px rgba(0, 0, 0, 0.15);\n",
              "      filter: drop-shadow(0px 1px 2px rgba(0, 0, 0, 0.3));\n",
              "      fill: #FFFFFF;\n",
              "    }\n",
              "  </style>\n",
              "\n",
              "      <script>\n",
              "        const buttonEl =\n",
              "          document.querySelector('#df-5e9405e4-0067-409c-b436-a7d7591217ce button.colab-df-convert');\n",
              "        buttonEl.style.display =\n",
              "          google.colab.kernel.accessAllowed ? 'block' : 'none';\n",
              "\n",
              "        async function convertToInteractive(key) {\n",
              "          const element = document.querySelector('#df-5e9405e4-0067-409c-b436-a7d7591217ce');\n",
              "          const dataTable =\n",
              "            await google.colab.kernel.invokeFunction('convertToInteractive',\n",
              "                                                     [key], {});\n",
              "          if (!dataTable) return;\n",
              "\n",
              "          const docLinkHtml = 'Like what you see? Visit the ' +\n",
              "            '<a target=\"_blank\" href=https://colab.research.google.com/notebooks/data_table.ipynb>data table notebook</a>'\n",
              "            + ' to learn more about interactive tables.';\n",
              "          element.innerHTML = '';\n",
              "          dataTable['output_type'] = 'display_data';\n",
              "          await google.colab.output.renderOutput(dataTable, element);\n",
              "          const docLink = document.createElement('div');\n",
              "          docLink.innerHTML = docLinkHtml;\n",
              "          element.appendChild(docLink);\n",
              "        }\n",
              "      </script>\n",
              "    </div>\n",
              "  </div>\n",
              "  "
            ]
          },
          "metadata": {},
          "execution_count": 178
        }
      ]
    },
    {
      "cell_type": "code",
      "source": [
        "lb= pd.pivot_table(b3, index = ['Start date', '[Scheme number]'], columns = ['agentname'])#, values = ['[Contribution]'],aggfunc = np.sum)#######\n"
      ],
      "metadata": {
        "id": "POUJqNyAETMf"
      },
      "execution_count": 176,
      "outputs": []
    },
    {
      "cell_type": "code",
      "source": [
        "lb.to_excel('lbs.xlsx')"
      ],
      "metadata": {
        "id": "tQpLmY1XEngz"
      },
      "execution_count": null,
      "outputs": []
    },
    {
      "cell_type": "code",
      "source": [
        "l = pd.pivot_table(c5, index = ['sessiondate', '[Scheme number]'], columns = ['agentname'], values = ['[Contribution]'],aggfunc = np.sum)#######"
      ],
      "metadata": {
        "id": "fjnt5URcwI1N"
      },
      "execution_count": 179,
      "outputs": []
    },
    {
      "cell_type": "code",
      "source": [
        "l"
      ],
      "metadata": {
        "colab": {
          "base_uri": "https://localhost:8080/",
          "height": 486
        },
        "id": "feTGblYfMYMA",
        "outputId": "6d3aa212-fbd4-4855-cb81-8c7f42439839"
      },
      "execution_count": 181,
      "outputs": [
        {
          "output_type": "execute_result",
          "data": {
            "text/plain": [
              "                            [Contribution]\n",
              "agentname                   RICHARD NYARBI\n",
              "sessiondate [Scheme number]               \n",
              "2021-01     1010PPS006509             10.0\n",
              "            1010PPS008120             30.0\n",
              "            1010PPS008556             50.0\n",
              "            1010PPS010990              5.0\n",
              "            1010PPS012714             34.0\n",
              "...                                    ...\n",
              "2021-12     1010PPS008120             10.0\n",
              "            1010PPS008556             50.0\n",
              "            1010PPS042640            100.0\n",
              "2022-01     1010PPS008556             50.0\n",
              "2022-02     1010PPS008556             50.0\n",
              "\n",
              "[120 rows x 1 columns]"
            ],
            "text/html": [
              "\n",
              "  <div id=\"df-63f06cc0-cddf-43e7-af25-4cf567771d53\">\n",
              "    <div class=\"colab-df-container\">\n",
              "      <div>\n",
              "<style scoped>\n",
              "    .dataframe tbody tr th:only-of-type {\n",
              "        vertical-align: middle;\n",
              "    }\n",
              "\n",
              "    .dataframe tbody tr th {\n",
              "        vertical-align: top;\n",
              "    }\n",
              "\n",
              "    .dataframe thead tr th {\n",
              "        text-align: left;\n",
              "    }\n",
              "\n",
              "    .dataframe thead tr:last-of-type th {\n",
              "        text-align: right;\n",
              "    }\n",
              "</style>\n",
              "<table border=\"1\" class=\"dataframe\">\n",
              "  <thead>\n",
              "    <tr>\n",
              "      <th></th>\n",
              "      <th></th>\n",
              "      <th>[Contribution]</th>\n",
              "    </tr>\n",
              "    <tr>\n",
              "      <th></th>\n",
              "      <th>agentname</th>\n",
              "      <th>RICHARD NYARBI</th>\n",
              "    </tr>\n",
              "    <tr>\n",
              "      <th>sessiondate</th>\n",
              "      <th>[Scheme number]</th>\n",
              "      <th></th>\n",
              "    </tr>\n",
              "  </thead>\n",
              "  <tbody>\n",
              "    <tr>\n",
              "      <th rowspan=\"5\" valign=\"top\">2021-01</th>\n",
              "      <th>1010PPS006509</th>\n",
              "      <td>10.0</td>\n",
              "    </tr>\n",
              "    <tr>\n",
              "      <th>1010PPS008120</th>\n",
              "      <td>30.0</td>\n",
              "    </tr>\n",
              "    <tr>\n",
              "      <th>1010PPS008556</th>\n",
              "      <td>50.0</td>\n",
              "    </tr>\n",
              "    <tr>\n",
              "      <th>1010PPS010990</th>\n",
              "      <td>5.0</td>\n",
              "    </tr>\n",
              "    <tr>\n",
              "      <th>1010PPS012714</th>\n",
              "      <td>34.0</td>\n",
              "    </tr>\n",
              "    <tr>\n",
              "      <th>...</th>\n",
              "      <th>...</th>\n",
              "      <td>...</td>\n",
              "    </tr>\n",
              "    <tr>\n",
              "      <th rowspan=\"3\" valign=\"top\">2021-12</th>\n",
              "      <th>1010PPS008120</th>\n",
              "      <td>10.0</td>\n",
              "    </tr>\n",
              "    <tr>\n",
              "      <th>1010PPS008556</th>\n",
              "      <td>50.0</td>\n",
              "    </tr>\n",
              "    <tr>\n",
              "      <th>1010PPS042640</th>\n",
              "      <td>100.0</td>\n",
              "    </tr>\n",
              "    <tr>\n",
              "      <th>2022-01</th>\n",
              "      <th>1010PPS008556</th>\n",
              "      <td>50.0</td>\n",
              "    </tr>\n",
              "    <tr>\n",
              "      <th>2022-02</th>\n",
              "      <th>1010PPS008556</th>\n",
              "      <td>50.0</td>\n",
              "    </tr>\n",
              "  </tbody>\n",
              "</table>\n",
              "<p>120 rows × 1 columns</p>\n",
              "</div>\n",
              "      <button class=\"colab-df-convert\" onclick=\"convertToInteractive('df-63f06cc0-cddf-43e7-af25-4cf567771d53')\"\n",
              "              title=\"Convert this dataframe to an interactive table.\"\n",
              "              style=\"display:none;\">\n",
              "        \n",
              "  <svg xmlns=\"http://www.w3.org/2000/svg\" height=\"24px\"viewBox=\"0 0 24 24\"\n",
              "       width=\"24px\">\n",
              "    <path d=\"M0 0h24v24H0V0z\" fill=\"none\"/>\n",
              "    <path d=\"M18.56 5.44l.94 2.06.94-2.06 2.06-.94-2.06-.94-.94-2.06-.94 2.06-2.06.94zm-11 1L8.5 8.5l.94-2.06 2.06-.94-2.06-.94L8.5 2.5l-.94 2.06-2.06.94zm10 10l.94 2.06.94-2.06 2.06-.94-2.06-.94-.94-2.06-.94 2.06-2.06.94z\"/><path d=\"M17.41 7.96l-1.37-1.37c-.4-.4-.92-.59-1.43-.59-.52 0-1.04.2-1.43.59L10.3 9.45l-7.72 7.72c-.78.78-.78 2.05 0 2.83L4 21.41c.39.39.9.59 1.41.59.51 0 1.02-.2 1.41-.59l7.78-7.78 2.81-2.81c.8-.78.8-2.07 0-2.86zM5.41 20L4 18.59l7.72-7.72 1.47 1.35L5.41 20z\"/>\n",
              "  </svg>\n",
              "      </button>\n",
              "      \n",
              "  <style>\n",
              "    .colab-df-container {\n",
              "      display:flex;\n",
              "      flex-wrap:wrap;\n",
              "      gap: 12px;\n",
              "    }\n",
              "\n",
              "    .colab-df-convert {\n",
              "      background-color: #E8F0FE;\n",
              "      border: none;\n",
              "      border-radius: 50%;\n",
              "      cursor: pointer;\n",
              "      display: none;\n",
              "      fill: #1967D2;\n",
              "      height: 32px;\n",
              "      padding: 0 0 0 0;\n",
              "      width: 32px;\n",
              "    }\n",
              "\n",
              "    .colab-df-convert:hover {\n",
              "      background-color: #E2EBFA;\n",
              "      box-shadow: 0px 1px 2px rgba(60, 64, 67, 0.3), 0px 1px 3px 1px rgba(60, 64, 67, 0.15);\n",
              "      fill: #174EA6;\n",
              "    }\n",
              "\n",
              "    [theme=dark] .colab-df-convert {\n",
              "      background-color: #3B4455;\n",
              "      fill: #D2E3FC;\n",
              "    }\n",
              "\n",
              "    [theme=dark] .colab-df-convert:hover {\n",
              "      background-color: #434B5C;\n",
              "      box-shadow: 0px 1px 3px 1px rgba(0, 0, 0, 0.15);\n",
              "      filter: drop-shadow(0px 1px 2px rgba(0, 0, 0, 0.3));\n",
              "      fill: #FFFFFF;\n",
              "    }\n",
              "  </style>\n",
              "\n",
              "      <script>\n",
              "        const buttonEl =\n",
              "          document.querySelector('#df-63f06cc0-cddf-43e7-af25-4cf567771d53 button.colab-df-convert');\n",
              "        buttonEl.style.display =\n",
              "          google.colab.kernel.accessAllowed ? 'block' : 'none';\n",
              "\n",
              "        async function convertToInteractive(key) {\n",
              "          const element = document.querySelector('#df-63f06cc0-cddf-43e7-af25-4cf567771d53');\n",
              "          const dataTable =\n",
              "            await google.colab.kernel.invokeFunction('convertToInteractive',\n",
              "                                                     [key], {});\n",
              "          if (!dataTable) return;\n",
              "\n",
              "          const docLinkHtml = 'Like what you see? Visit the ' +\n",
              "            '<a target=\"_blank\" href=https://colab.research.google.com/notebooks/data_table.ipynb>data table notebook</a>'\n",
              "            + ' to learn more about interactive tables.';\n",
              "          element.innerHTML = '';\n",
              "          dataTable['output_type'] = 'display_data';\n",
              "          await google.colab.output.renderOutput(dataTable, element);\n",
              "          const docLink = document.createElement('div');\n",
              "          docLink.innerHTML = docLinkHtml;\n",
              "          element.appendChild(docLink);\n",
              "        }\n",
              "      </script>\n",
              "    </div>\n",
              "  </div>\n",
              "  "
            ]
          },
          "metadata": {},
          "execution_count": 181
        }
      ]
    },
    {
      "cell_type": "code",
      "source": [
        "l.to_excel('RICHARD.xlsx')"
      ],
      "metadata": {
        "id": "r2N66bcTwrRO"
      },
      "execution_count": 182,
      "outputs": []
    }
  ]
}