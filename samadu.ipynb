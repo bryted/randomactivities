{
  "nbformat": 4,
  "nbformat_minor": 0,
  "metadata": {
    "colab": {
      "name": "samadu.ipynb",
      "provenance": [],
      "collapsed_sections": [],
      "authorship_tag": "ABX9TyMsaiwvY//YuLVM8D/8qPs/",
      "include_colab_link": true
    },
    "kernelspec": {
      "name": "python3",
      "display_name": "Python 3"
    },
    "language_info": {
      "name": "python"
    }
  },
  "cells": [
    {
      "cell_type": "markdown",
      "metadata": {
        "id": "view-in-github",
        "colab_type": "text"
      },
      "source": [
        "<a href=\"https://colab.research.google.com/github/bryted/randomactivities/blob/main/samadu.ipynb\" target=\"_parent\"><img src=\"https://colab.research.google.com/assets/colab-badge.svg\" alt=\"Open In Colab\"/></a>"
      ]
    },
    {
      "cell_type": "code",
      "source": [
        "import numpy as np\n",
        "import pandas as pd"
      ],
      "metadata": {
        "id": "-YJj4FHbPlB_"
      },
      "execution_count": 89,
      "outputs": []
    },
    {
      "cell_type": "code",
      "execution_count": 90,
      "metadata": {
        "id": "Q2fddEq9Oc9H"
      },
      "outputs": [],
      "source": [
        "df = pd.read_excel('all.xlsx')\n"
      ]
    },
    {
      "cell_type": "code",
      "source": [
        "df"
      ],
      "metadata": {
        "colab": {
          "base_uri": "https://localhost:8080/",
          "height": 711
        },
        "id": "W7CAmOAsQej8",
        "outputId": "d61111ff-44a6-4d74-abec-319ebc979a70"
      },
      "execution_count": 91,
      "outputs": [
        {
          "output_type": "execute_result",
          "data": {
            "text/html": [
              "\n",
              "  <div id=\"df-38c0415c-209b-45d4-b3db-506292971c27\">\n",
              "    <div class=\"colab-df-container\">\n",
              "      <div>\n",
              "<style scoped>\n",
              "    .dataframe tbody tr th:only-of-type {\n",
              "        vertical-align: middle;\n",
              "    }\n",
              "\n",
              "    .dataframe tbody tr th {\n",
              "        vertical-align: top;\n",
              "    }\n",
              "\n",
              "    .dataframe thead th {\n",
              "        text-align: right;\n",
              "    }\n",
              "</style>\n",
              "<table border=\"1\" class=\"dataframe\">\n",
              "  <thead>\n",
              "    <tr style=\"text-align: right;\">\n",
              "      <th></th>\n",
              "      <th>Id</th>\n",
              "      <th>Creation time</th>\n",
              "      <th>[Sesseion date]</th>\n",
              "      <th>Batch number</th>\n",
              "      <th>Mobile</th>\n",
              "      <th>Product type</th>\n",
              "      <th>[Scheme number]</th>\n",
              "      <th>[Other number]</th>\n",
              "      <th>User name</th>\n",
              "      <th>Method</th>\n",
              "      <th>Type</th>\n",
              "      <th>Reference</th>\n",
              "      <th>[Contribution]</th>\n",
              "      <th>[Withdrawal]</th>\n",
              "    </tr>\n",
              "  </thead>\n",
              "  <tbody>\n",
              "    <tr>\n",
              "      <th>0</th>\n",
              "      <td>163630</td>\n",
              "      <td>2021-04-06</td>\n",
              "      <td>2021-04-01</td>\n",
              "      <td>TR0511262222</td>\n",
              "      <td>0203266010</td>\n",
              "      <td>PPT Occupational Pension Scheme</td>\n",
              "      <td>1010OPS000001</td>\n",
              "      <td>1000040</td>\n",
              "      <td>skubi</td>\n",
              "      <td>cheque</td>\n",
              "      <td>Deposit</td>\n",
              "      <td>Payment for Febraury 2021</td>\n",
              "      <td>18.00</td>\n",
              "      <td>0.0</td>\n",
              "    </tr>\n",
              "    <tr>\n",
              "      <th>1</th>\n",
              "      <td>140496</td>\n",
              "      <td>2021-02-11</td>\n",
              "      <td>2021-01-27</td>\n",
              "      <td>TR0608854710</td>\n",
              "      <td>0203266010</td>\n",
              "      <td>PPT Occupational Pension Scheme</td>\n",
              "      <td>1010OPS000001</td>\n",
              "      <td>1000040</td>\n",
              "      <td>skubi</td>\n",
              "      <td>cheque</td>\n",
              "      <td>Deposit</td>\n",
              "      <td>Payment for December 2020</td>\n",
              "      <td>18.00</td>\n",
              "      <td>0.0</td>\n",
              "    </tr>\n",
              "    <tr>\n",
              "      <th>2</th>\n",
              "      <td>152560</td>\n",
              "      <td>2021-03-11</td>\n",
              "      <td>2021-03-03</td>\n",
              "      <td>TR0253752022</td>\n",
              "      <td>0203266010</td>\n",
              "      <td>PPT Occupational Pension Scheme</td>\n",
              "      <td>1010OPS000001</td>\n",
              "      <td>1000040</td>\n",
              "      <td>skubi</td>\n",
              "      <td>cheque</td>\n",
              "      <td>Deposit</td>\n",
              "      <td>Payment for January 2021</td>\n",
              "      <td>18.00</td>\n",
              "      <td>0.0</td>\n",
              "    </tr>\n",
              "    <tr>\n",
              "      <th>3</th>\n",
              "      <td>193488</td>\n",
              "      <td>2021-05-06</td>\n",
              "      <td>2021-04-30</td>\n",
              "      <td>TR0793989825</td>\n",
              "      <td>0203266010</td>\n",
              "      <td>PPT Occupational Pension Scheme</td>\n",
              "      <td>1010OPS000001</td>\n",
              "      <td>1000040</td>\n",
              "      <td>skubi</td>\n",
              "      <td>SCB-OPS Cash Payment</td>\n",
              "      <td>Deposit</td>\n",
              "      <td>Payment for March 2021</td>\n",
              "      <td>18.00</td>\n",
              "      <td>0.0</td>\n",
              "    </tr>\n",
              "    <tr>\n",
              "      <th>4</th>\n",
              "      <td>208499</td>\n",
              "      <td>2021-06-04</td>\n",
              "      <td>2021-05-31</td>\n",
              "      <td>TR0064567367</td>\n",
              "      <td>0203266010</td>\n",
              "      <td>PPT Occupational Pension Scheme</td>\n",
              "      <td>1010OPS000001</td>\n",
              "      <td>1000040</td>\n",
              "      <td>skubi</td>\n",
              "      <td>SCB-OPS Cash Payment</td>\n",
              "      <td>Deposit</td>\n",
              "      <td>Payment for April 2021</td>\n",
              "      <td>18.00</td>\n",
              "      <td>0.0</td>\n",
              "    </tr>\n",
              "    <tr>\n",
              "      <th>...</th>\n",
              "      <td>...</td>\n",
              "      <td>...</td>\n",
              "      <td>...</td>\n",
              "      <td>...</td>\n",
              "      <td>...</td>\n",
              "      <td>...</td>\n",
              "      <td>...</td>\n",
              "      <td>...</td>\n",
              "      <td>...</td>\n",
              "      <td>...</td>\n",
              "      <td>...</td>\n",
              "      <td>...</td>\n",
              "      <td>...</td>\n",
              "      <td>...</td>\n",
              "    </tr>\n",
              "    <tr>\n",
              "      <th>153247</th>\n",
              "      <td>367439</td>\n",
              "      <td>2022-03-01</td>\n",
              "      <td>2022-01-21</td>\n",
              "      <td>TR0072161308</td>\n",
              "      <td>0556190256</td>\n",
              "      <td>PPT Occupational Pension Scheme</td>\n",
              "      <td>1010OPS008929</td>\n",
              "      <td>NaN</td>\n",
              "      <td>sayertey</td>\n",
              "      <td>SCB-OPS Cheque Payment</td>\n",
              "      <td>Deposit</td>\n",
              "      <td>Payment for December 2021</td>\n",
              "      <td>18.55</td>\n",
              "      <td>0.0</td>\n",
              "    </tr>\n",
              "    <tr>\n",
              "      <th>153248</th>\n",
              "      <td>367440</td>\n",
              "      <td>2022-03-01</td>\n",
              "      <td>2022-01-21</td>\n",
              "      <td>TR0072161308</td>\n",
              "      <td>0249689084</td>\n",
              "      <td>PPT Occupational Pension Scheme</td>\n",
              "      <td>1010OPS008930</td>\n",
              "      <td>NaN</td>\n",
              "      <td>sayertey</td>\n",
              "      <td>SCB-OPS Cheque Payment</td>\n",
              "      <td>Deposit</td>\n",
              "      <td>Payment for December 2021</td>\n",
              "      <td>18.55</td>\n",
              "      <td>0.0</td>\n",
              "    </tr>\n",
              "    <tr>\n",
              "      <th>153249</th>\n",
              "      <td>367441</td>\n",
              "      <td>2022-03-01</td>\n",
              "      <td>2022-01-21</td>\n",
              "      <td>TR0072161308</td>\n",
              "      <td>0277793008</td>\n",
              "      <td>PPT Occupational Pension Scheme</td>\n",
              "      <td>1010OPS008931</td>\n",
              "      <td>NaN</td>\n",
              "      <td>sayertey</td>\n",
              "      <td>SCB-OPS Cheque Payment</td>\n",
              "      <td>Deposit</td>\n",
              "      <td>Payment for December 2021</td>\n",
              "      <td>18.55</td>\n",
              "      <td>0.0</td>\n",
              "    </tr>\n",
              "    <tr>\n",
              "      <th>153250</th>\n",
              "      <td>366298</td>\n",
              "      <td>2022-02-28</td>\n",
              "      <td>2022-02-28</td>\n",
              "      <td>PPTL347791</td>\n",
              "      <td>0553753788</td>\n",
              "      <td>PPT Personal Pension Scheme</td>\n",
              "      <td>1010PPS045246</td>\n",
              "      <td>NaN</td>\n",
              "      <td>System</td>\n",
              "      <td>MOMO</td>\n",
              "      <td>DEPOSIT</td>\n",
              "      <td>CONTRIBUTION</td>\n",
              "      <td>2.00</td>\n",
              "      <td>0.0</td>\n",
              "    </tr>\n",
              "    <tr>\n",
              "      <th>153251</th>\n",
              "      <td>366394</td>\n",
              "      <td>2022-02-28</td>\n",
              "      <td>2022-02-28</td>\n",
              "      <td>PPTE348262</td>\n",
              "      <td>0505660467</td>\n",
              "      <td>PPT Personal Pension Scheme</td>\n",
              "      <td>1010PPS045257</td>\n",
              "      <td>NaN</td>\n",
              "      <td>System</td>\n",
              "      <td>MOMO</td>\n",
              "      <td>DEPOSIT</td>\n",
              "      <td>CONTRIBUTION</td>\n",
              "      <td>10.00</td>\n",
              "      <td>0.0</td>\n",
              "    </tr>\n",
              "  </tbody>\n",
              "</table>\n",
              "<p>153252 rows × 14 columns</p>\n",
              "</div>\n",
              "      <button class=\"colab-df-convert\" onclick=\"convertToInteractive('df-38c0415c-209b-45d4-b3db-506292971c27')\"\n",
              "              title=\"Convert this dataframe to an interactive table.\"\n",
              "              style=\"display:none;\">\n",
              "        \n",
              "  <svg xmlns=\"http://www.w3.org/2000/svg\" height=\"24px\"viewBox=\"0 0 24 24\"\n",
              "       width=\"24px\">\n",
              "    <path d=\"M0 0h24v24H0V0z\" fill=\"none\"/>\n",
              "    <path d=\"M18.56 5.44l.94 2.06.94-2.06 2.06-.94-2.06-.94-.94-2.06-.94 2.06-2.06.94zm-11 1L8.5 8.5l.94-2.06 2.06-.94-2.06-.94L8.5 2.5l-.94 2.06-2.06.94zm10 10l.94 2.06.94-2.06 2.06-.94-2.06-.94-.94-2.06-.94 2.06-2.06.94z\"/><path d=\"M17.41 7.96l-1.37-1.37c-.4-.4-.92-.59-1.43-.59-.52 0-1.04.2-1.43.59L10.3 9.45l-7.72 7.72c-.78.78-.78 2.05 0 2.83L4 21.41c.39.39.9.59 1.41.59.51 0 1.02-.2 1.41-.59l7.78-7.78 2.81-2.81c.8-.78.8-2.07 0-2.86zM5.41 20L4 18.59l7.72-7.72 1.47 1.35L5.41 20z\"/>\n",
              "  </svg>\n",
              "      </button>\n",
              "      \n",
              "  <style>\n",
              "    .colab-df-container {\n",
              "      display:flex;\n",
              "      flex-wrap:wrap;\n",
              "      gap: 12px;\n",
              "    }\n",
              "\n",
              "    .colab-df-convert {\n",
              "      background-color: #E8F0FE;\n",
              "      border: none;\n",
              "      border-radius: 50%;\n",
              "      cursor: pointer;\n",
              "      display: none;\n",
              "      fill: #1967D2;\n",
              "      height: 32px;\n",
              "      padding: 0 0 0 0;\n",
              "      width: 32px;\n",
              "    }\n",
              "\n",
              "    .colab-df-convert:hover {\n",
              "      background-color: #E2EBFA;\n",
              "      box-shadow: 0px 1px 2px rgba(60, 64, 67, 0.3), 0px 1px 3px 1px rgba(60, 64, 67, 0.15);\n",
              "      fill: #174EA6;\n",
              "    }\n",
              "\n",
              "    [theme=dark] .colab-df-convert {\n",
              "      background-color: #3B4455;\n",
              "      fill: #D2E3FC;\n",
              "    }\n",
              "\n",
              "    [theme=dark] .colab-df-convert:hover {\n",
              "      background-color: #434B5C;\n",
              "      box-shadow: 0px 1px 3px 1px rgba(0, 0, 0, 0.15);\n",
              "      filter: drop-shadow(0px 1px 2px rgba(0, 0, 0, 0.3));\n",
              "      fill: #FFFFFF;\n",
              "    }\n",
              "  </style>\n",
              "\n",
              "      <script>\n",
              "        const buttonEl =\n",
              "          document.querySelector('#df-38c0415c-209b-45d4-b3db-506292971c27 button.colab-df-convert');\n",
              "        buttonEl.style.display =\n",
              "          google.colab.kernel.accessAllowed ? 'block' : 'none';\n",
              "\n",
              "        async function convertToInteractive(key) {\n",
              "          const element = document.querySelector('#df-38c0415c-209b-45d4-b3db-506292971c27');\n",
              "          const dataTable =\n",
              "            await google.colab.kernel.invokeFunction('convertToInteractive',\n",
              "                                                     [key], {});\n",
              "          if (!dataTable) return;\n",
              "\n",
              "          const docLinkHtml = 'Like what you see? Visit the ' +\n",
              "            '<a target=\"_blank\" href=https://colab.research.google.com/notebooks/data_table.ipynb>data table notebook</a>'\n",
              "            + ' to learn more about interactive tables.';\n",
              "          element.innerHTML = '';\n",
              "          dataTable['output_type'] = 'display_data';\n",
              "          await google.colab.output.renderOutput(dataTable, element);\n",
              "          const docLink = document.createElement('div');\n",
              "          docLink.innerHTML = docLinkHtml;\n",
              "          element.appendChild(docLink);\n",
              "        }\n",
              "      </script>\n",
              "    </div>\n",
              "  </div>\n",
              "  "
            ],
            "text/plain": [
              "            Id Creation time [Sesseion date]  Batch number      Mobile  \\\n",
              "0       163630    2021-04-06      2021-04-01  TR0511262222  0203266010   \n",
              "1       140496    2021-02-11      2021-01-27  TR0608854710  0203266010   \n",
              "2       152560    2021-03-11      2021-03-03  TR0253752022  0203266010   \n",
              "3       193488    2021-05-06      2021-04-30  TR0793989825  0203266010   \n",
              "4       208499    2021-06-04      2021-05-31  TR0064567367  0203266010   \n",
              "...        ...           ...             ...           ...         ...   \n",
              "153247  367439    2022-03-01      2022-01-21  TR0072161308  0556190256   \n",
              "153248  367440    2022-03-01      2022-01-21  TR0072161308  0249689084   \n",
              "153249  367441    2022-03-01      2022-01-21  TR0072161308  0277793008   \n",
              "153250  366298    2022-02-28      2022-02-28    PPTL347791  0553753788   \n",
              "153251  366394    2022-02-28      2022-02-28    PPTE348262  0505660467   \n",
              "\n",
              "                           Product type [Scheme number] [Other number]  \\\n",
              "0       PPT Occupational Pension Scheme   1010OPS000001        1000040   \n",
              "1       PPT Occupational Pension Scheme   1010OPS000001        1000040   \n",
              "2       PPT Occupational Pension Scheme   1010OPS000001        1000040   \n",
              "3       PPT Occupational Pension Scheme   1010OPS000001        1000040   \n",
              "4       PPT Occupational Pension Scheme   1010OPS000001        1000040   \n",
              "...                                 ...             ...            ...   \n",
              "153247  PPT Occupational Pension Scheme   1010OPS008929            NaN   \n",
              "153248  PPT Occupational Pension Scheme   1010OPS008930            NaN   \n",
              "153249  PPT Occupational Pension Scheme   1010OPS008931            NaN   \n",
              "153250      PPT Personal Pension Scheme   1010PPS045246            NaN   \n",
              "153251      PPT Personal Pension Scheme   1010PPS045257            NaN   \n",
              "\n",
              "       User name                  Method     Type                  Reference  \\\n",
              "0          skubi                  cheque  Deposit  Payment for Febraury 2021   \n",
              "1          skubi                  cheque  Deposit  Payment for December 2020   \n",
              "2          skubi                  cheque  Deposit   Payment for January 2021   \n",
              "3          skubi    SCB-OPS Cash Payment  Deposit     Payment for March 2021   \n",
              "4          skubi    SCB-OPS Cash Payment  Deposit     Payment for April 2021   \n",
              "...          ...                     ...      ...                        ...   \n",
              "153247  sayertey  SCB-OPS Cheque Payment  Deposit  Payment for December 2021   \n",
              "153248  sayertey  SCB-OPS Cheque Payment  Deposit  Payment for December 2021   \n",
              "153249  sayertey  SCB-OPS Cheque Payment  Deposit  Payment for December 2021   \n",
              "153250    System                    MOMO  DEPOSIT               CONTRIBUTION   \n",
              "153251    System                    MOMO  DEPOSIT               CONTRIBUTION   \n",
              "\n",
              "        [Contribution]  [Withdrawal]  \n",
              "0                18.00           0.0  \n",
              "1                18.00           0.0  \n",
              "2                18.00           0.0  \n",
              "3                18.00           0.0  \n",
              "4                18.00           0.0  \n",
              "...                ...           ...  \n",
              "153247           18.55           0.0  \n",
              "153248           18.55           0.0  \n",
              "153249           18.55           0.0  \n",
              "153250            2.00           0.0  \n",
              "153251           10.00           0.0  \n",
              "\n",
              "[153252 rows x 14 columns]"
            ]
          },
          "metadata": {},
          "execution_count": 91
        }
      ]
    },
    {
      "cell_type": "code",
      "source": [
        "df['Sector'] = df['Product type'].replace({'PPT Personal Pension Scheme':'Informal','PPT Occupational Pension Scheme':'Formal','PPT TUC UNIWA Scheme':'Informal','PPT Provident Fund Scheme':'Formal'})"
      ],
      "metadata": {
        "id": "d9iKw8yTP6f_"
      },
      "execution_count": 92,
      "outputs": []
    },
    {
      "cell_type": "code",
      "source": [
        "# Creating a column based on 1st 3 letters of batch number\n",
        "df['Group'] = df.iloc[:,3].str[:3]"
      ],
      "metadata": {
        "id": "PFpUCgiyP97_"
      },
      "execution_count": 93,
      "outputs": []
    },
    {
      "cell_type": "code",
      "source": [
        "TR0 = df[df.Group == 'TR0']\n",
        "PPT = df[df.Group == 'PPT']\n",
        "IPA = df[df.Group == 'IPA']\n",
        "PA0 = df[df.Group == 'PA0']\n",
        "N209 = df[df.Group == '209']\n",
        "N224= df[df.Group == '224']"
      ],
      "metadata": {
        "id": "4bt7n7XMQweZ"
      },
      "execution_count": 94,
      "outputs": []
    },
    {
      "cell_type": "code",
      "source": [
        "IPA['NewBatch'] = IPA.iloc[:,3].str[:14]"
      ],
      "metadata": {
        "colab": {
          "base_uri": "https://localhost:8080/"
        },
        "id": "Qk_te-NtQAKI",
        "outputId": "df3649dd-a8ea-4c2a-8deb-62418f8d0948"
      },
      "execution_count": 95,
      "outputs": [
        {
          "output_type": "stream",
          "name": "stderr",
          "text": [
            "/usr/local/lib/python3.7/dist-packages/ipykernel_launcher.py:1: SettingWithCopyWarning: \n",
            "A value is trying to be set on a copy of a slice from a DataFrame.\n",
            "Try using .loc[row_indexer,col_indexer] = value instead\n",
            "\n",
            "See the caveats in the documentation: https://pandas.pydata.org/pandas-docs/stable/user_guide/indexing.html#returning-a-view-versus-a-copy\n",
            "  \"\"\"Entry point for launching an IPython kernel.\n"
          ]
        }
      ]
    },
    {
      "cell_type": "code",
      "source": [
        "IPA['NewBatch'] = IPA.iloc[:,3].str[:14]"
      ],
      "metadata": {
        "colab": {
          "base_uri": "https://localhost:8080/"
        },
        "id": "GJO8XYQnQCiQ",
        "outputId": "4d7f43b0-118a-4eab-db36-446d0d2a5d24"
      },
      "execution_count": 96,
      "outputs": [
        {
          "output_type": "stream",
          "name": "stderr",
          "text": [
            "/usr/local/lib/python3.7/dist-packages/ipykernel_launcher.py:1: SettingWithCopyWarning: \n",
            "A value is trying to be set on a copy of a slice from a DataFrame.\n",
            "Try using .loc[row_indexer,col_indexer] = value instead\n",
            "\n",
            "See the caveats in the documentation: https://pandas.pydata.org/pandas-docs/stable/user_guide/indexing.html#returning-a-view-versus-a-copy\n",
            "  \"\"\"Entry point for launching an IPython kernel.\n"
          ]
        }
      ]
    },
    {
      "cell_type": "code",
      "source": [
        "TR0['NewBatch'] = TR0.iloc[:,3].str[:12]"
      ],
      "metadata": {
        "colab": {
          "base_uri": "https://localhost:8080/"
        },
        "id": "ToWbP9BMQFrp",
        "outputId": "1f19d355-2c12-4828-f259-20f9c5152d06"
      },
      "execution_count": 97,
      "outputs": [
        {
          "output_type": "stream",
          "name": "stderr",
          "text": [
            "/usr/local/lib/python3.7/dist-packages/ipykernel_launcher.py:1: SettingWithCopyWarning: \n",
            "A value is trying to be set on a copy of a slice from a DataFrame.\n",
            "Try using .loc[row_indexer,col_indexer] = value instead\n",
            "\n",
            "See the caveats in the documentation: https://pandas.pydata.org/pandas-docs/stable/user_guide/indexing.html#returning-a-view-versus-a-copy\n",
            "  \"\"\"Entry point for launching an IPython kernel.\n"
          ]
        }
      ]
    },
    {
      "cell_type": "code",
      "source": [
        "frames = [PPT, IPA, TR0,PA0, N209,N224 ]"
      ],
      "metadata": {
        "id": "9fP-0mpKQI84"
      },
      "execution_count": 98,
      "outputs": []
    },
    {
      "cell_type": "code",
      "source": [
        "result = pd.concat(frames)"
      ],
      "metadata": {
        "id": "JwEj1UwrQLhm"
      },
      "execution_count": 99,
      "outputs": []
    },
    {
      "cell_type": "code",
      "source": [
        "result['Reversal'] = result.iloc[:,3].str[-2:]"
      ],
      "metadata": {
        "id": "1byTlajlQR4D"
      },
      "execution_count": 100,
      "outputs": []
    },
    {
      "cell_type": "code",
      "source": [
        "result.loc[result['Reversal'] == '/1', 'Status'] = 'Reversal' \n",
        "result.loc[result['Reversal'] != '/1', 'Status'] = 'Actual' "
      ],
      "metadata": {
        "id": "PWMgvVctQUKE"
      },
      "execution_count": 101,
      "outputs": []
    },
    {
      "cell_type": "code",
      "source": [
        "actual=result[result['Status']=='Actual']"
      ],
      "metadata": {
        "id": "hDKfCf5jQ_Nb"
      },
      "execution_count": 102,
      "outputs": []
    },
    {
      "cell_type": "code",
      "source": [
        "rever=result[result['Status']=='Reversal']"
      ],
      "metadata": {
        "id": "D_rlD_h8RBIE"
      },
      "execution_count": 103,
      "outputs": []
    },
    {
      "cell_type": "code",
      "source": [
        "C = actual.loc[~((actual.NewBatch.isin(rever[\"NewBatch\"])))]"
      ],
      "metadata": {
        "id": "yPeHk3UQRGNC"
      },
      "execution_count": 104,
      "outputs": []
    },
    {
      "cell_type": "code",
      "source": [
        "C.Status.value_counts()"
      ],
      "metadata": {
        "colab": {
          "base_uri": "https://localhost:8080/"
        },
        "id": "Cg2LNIC7RMtB",
        "outputId": "7b59b899-47f6-46e0-b43a-dca1e363082c"
      },
      "execution_count": 105,
      "outputs": [
        {
          "output_type": "execute_result",
          "data": {
            "text/plain": [
              "Actual    112814\n",
              "Name: Status, dtype: int64"
            ]
          },
          "metadata": {},
          "execution_count": 105
        }
      ]
    },
    {
      "cell_type": "code",
      "source": [
        "C.info()"
      ],
      "metadata": {
        "colab": {
          "base_uri": "https://localhost:8080/"
        },
        "id": "YsFFO9sCReMu",
        "outputId": "d7fe3727-e76c-41a4-cf6f-082296f37306"
      },
      "execution_count": 106,
      "outputs": [
        {
          "output_type": "stream",
          "name": "stdout",
          "text": [
            "<class 'pandas.core.frame.DataFrame'>\n",
            "Int64Index: 112814 entries, 332 to 153249\n",
            "Data columns (total 19 columns):\n",
            " #   Column           Non-Null Count   Dtype         \n",
            "---  ------           --------------   -----         \n",
            " 0   Id               112814 non-null  int64         \n",
            " 1   Creation time    112814 non-null  datetime64[ns]\n",
            " 2   [Sesseion date]  112814 non-null  datetime64[ns]\n",
            " 3   Batch number     112814 non-null  object        \n",
            " 4   Mobile           112812 non-null  object        \n",
            " 5   Product type     112814 non-null  object        \n",
            " 6   [Scheme number]  112814 non-null  object        \n",
            " 7   [Other number]   85511 non-null   object        \n",
            " 8   User name        112814 non-null  object        \n",
            " 9   Method           112805 non-null  object        \n",
            " 10  Type             112814 non-null  object        \n",
            " 11  Reference        112814 non-null  object        \n",
            " 12  [Contribution]   112814 non-null  float64       \n",
            " 13  [Withdrawal]     112814 non-null  float64       \n",
            " 14  Sector           112814 non-null  object        \n",
            " 15  Group            112814 non-null  object        \n",
            " 16  NewBatch         112814 non-null  object        \n",
            " 17  Reversal         112814 non-null  object        \n",
            " 18  Status           112814 non-null  object        \n",
            "dtypes: datetime64[ns](2), float64(2), int64(1), object(14)\n",
            "memory usage: 17.2+ MB\n"
          ]
        }
      ]
    },
    {
      "cell_type": "code",
      "source": [
        "C = C.rename(columns = {'[Sesseion date]':'sessiondate'})"
      ],
      "metadata": {
        "id": "VNYuUn3HS30c"
      },
      "execution_count": 107,
      "outputs": []
    },
    {
      "cell_type": "code",
      "source": [
        "C[\"sessiondate\"] = pd.to_datetime(C[\"sessiondate\"])\n",
        "C.sessiondate  = C.sessiondate.dt.strftime('%Y-%m')"
      ],
      "metadata": {
        "id": "G1UjRpyeSYaB"
      },
      "execution_count": 108,
      "outputs": []
    },
    {
      "cell_type": "code",
      "source": [
        "C['Mobile'] = C['Mobile'].str[1:]"
      ],
      "metadata": {
        "id": "uwrVsqxYU7Rr"
      },
      "execution_count": 109,
      "outputs": []
    },
    {
      "cell_type": "code",
      "source": [
        "C['Mobile'] = '233'+ C['Mobile']"
      ],
      "metadata": {
        "id": "4BK_gofkVuTu"
      },
      "execution_count": 110,
      "outputs": []
    },
    {
      "cell_type": "code",
      "source": [
        "C.info()"
      ],
      "metadata": {
        "colab": {
          "base_uri": "https://localhost:8080/"
        },
        "id": "THz8vAOtZzqc",
        "outputId": "158cdb8a-f41a-4872-b6f0-816e8579a6a5"
      },
      "execution_count": 111,
      "outputs": [
        {
          "output_type": "stream",
          "name": "stdout",
          "text": [
            "<class 'pandas.core.frame.DataFrame'>\n",
            "Int64Index: 112814 entries, 332 to 153249\n",
            "Data columns (total 19 columns):\n",
            " #   Column           Non-Null Count   Dtype         \n",
            "---  ------           --------------   -----         \n",
            " 0   Id               112814 non-null  int64         \n",
            " 1   Creation time    112814 non-null  datetime64[ns]\n",
            " 2   sessiondate      112814 non-null  object        \n",
            " 3   Batch number     112814 non-null  object        \n",
            " 4   Mobile           112812 non-null  object        \n",
            " 5   Product type     112814 non-null  object        \n",
            " 6   [Scheme number]  112814 non-null  object        \n",
            " 7   [Other number]   85511 non-null   object        \n",
            " 8   User name        112814 non-null  object        \n",
            " 9   Method           112805 non-null  object        \n",
            " 10  Type             112814 non-null  object        \n",
            " 11  Reference        112814 non-null  object        \n",
            " 12  [Contribution]   112814 non-null  float64       \n",
            " 13  [Withdrawal]     112814 non-null  float64       \n",
            " 14  Sector           112814 non-null  object        \n",
            " 15  Group            112814 non-null  object        \n",
            " 16  NewBatch         112814 non-null  object        \n",
            " 17  Reversal         112814 non-null  object        \n",
            " 18  Status           112814 non-null  object        \n",
            "dtypes: datetime64[ns](1), float64(2), int64(1), object(15)\n",
            "memory usage: 17.2+ MB\n"
          ]
        }
      ]
    },
    {
      "cell_type": "code",
      "source": [
        "#C.to_excel('a.xlsx')"
      ],
      "metadata": {
        "id": "snwnbddzXuoA"
      },
      "execution_count": 115,
      "outputs": []
    },
    {
      "cell_type": "code",
      "source": [
        ""
      ],
      "metadata": {
        "id": "ADX0HewQcpi6"
      },
      "execution_count": 112,
      "outputs": []
    },
    {
      "cell_type": "code",
      "source": [
        ""
      ],
      "metadata": {
        "id": "lWZAf9mbaBaY"
      },
      "execution_count": 112,
      "outputs": []
    },
    {
      "cell_type": "code",
      "source": [
        "md = pd.read_excel('md2802.xlsx') #member dump\n",
        "md =md[['agentname', 'Mobile']]"
      ],
      "metadata": {
        "id": "mxY1ossZZBCc"
      },
      "execution_count": 113,
      "outputs": []
    },
    {
      "cell_type": "code",
      "source": [
        "md.info()"
      ],
      "metadata": {
        "colab": {
          "base_uri": "https://localhost:8080/"
        },
        "id": "teNg5rFEZlGh",
        "outputId": "e4148f42-bf03-477a-d545-5d7059608b1d"
      },
      "execution_count": 114,
      "outputs": [
        {
          "output_type": "stream",
          "name": "stdout",
          "text": [
            "<class 'pandas.core.frame.DataFrame'>\n",
            "RangeIndex: 50491 entries, 0 to 50490\n",
            "Data columns (total 2 columns):\n",
            " #   Column     Non-Null Count  Dtype \n",
            "---  ------     --------------  ----- \n",
            " 0   agentname  50491 non-null  object\n",
            " 1   Mobile     50491 non-null  int64 \n",
            "dtypes: int64(1), object(1)\n",
            "memory usage: 789.0+ KB\n"
          ]
        }
      ]
    },
    {
      "cell_type": "code",
      "source": [
        "a = pd.read_excel('a.xlsx')\n"
      ],
      "metadata": {
        "id": "shOj3kJwcwcY"
      },
      "execution_count": 117,
      "outputs": []
    },
    {
      "cell_type": "code",
      "source": [
        "b = pd.read_excel('MembersDump (1).xlsx')"
      ],
      "metadata": {
        "id": "6COhsA6Z9j-6"
      },
      "execution_count": 150,
      "outputs": []
    },
    {
      "cell_type": "code",
      "source": [
        "b = b.filter(['Mobile','[Scheme number]','Start date'])"
      ],
      "metadata": {
        "id": "N1IleMF8-Vn5"
      },
      "execution_count": 151,
      "outputs": []
    },
    {
      "cell_type": "code",
      "source": [
        "b['Mobile'] = b['Mobile'].str[1:]\n",
        "b['Mobile'] = '233'+ b['Mobile']"
      ],
      "metadata": {
        "id": "NTyyM-uJ-wl1"
      },
      "execution_count": 152,
      "outputs": []
    },
    {
      "cell_type": "code",
      "source": [
        "b[\"Start date\"] = pd.to_datetime(b[\"Start date\"])\n",
        "b['Start date']  = b['Start date'].dt.strftime('%Y-%m')"
      ],
      "metadata": {
        "id": "io-fJt_R_wWC"
      },
      "execution_count": 156,
      "outputs": []
    },
    {
      "cell_type": "code",
      "source": [
        "b.to_excel('b.xlsx')"
      ],
      "metadata": {
        "id": "4YbrSbMM_All"
      },
      "execution_count": 159,
      "outputs": []
    },
    {
      "cell_type": "code",
      "source": [
        "b1 = pd.read_excel('b1.xlsx')"
      ],
      "metadata": {
        "id": "VS99gMPFDhTN"
      },
      "execution_count": 160,
      "outputs": []
    },
    {
      "cell_type": "code",
      "source": [
        "b2 = pd.merge( b1, md,\n",
        "                      on ='Mobile', \n",
        "                      how ='left')"
      ],
      "metadata": {
        "id": "Jq0SzMW7EFY4"
      },
      "execution_count": 161,
      "outputs": []
    },
    {
      "cell_type": "code",
      "source": [
        "c2 = pd.merge( a, md,\n",
        "                      on ='Mobile', \n",
        "                      how ='left')"
      ],
      "metadata": {
        "id": "kwCMDQ-pZSmF"
      },
      "execution_count": 118,
      "outputs": []
    },
    {
      "cell_type": "code",
      "source": [
        "c2.agentname.value_counts()"
      ],
      "metadata": {
        "colab": {
          "base_uri": "https://localhost:8080/"
        },
        "id": "B9O3Kv5OgbRx",
        "outputId": "0c6387e7-b2aa-49c9-954b-1402127a76f4"
      },
      "execution_count": 119,
      "outputs": [
        {
          "output_type": "execute_result",
          "data": {
            "text/plain": [
              "DENNIS AGGREY OTOO     17509\n",
              "ERIC APPENTENG         10867\n",
              "ABENA SERWAH OSEI       7406\n",
              "OBED APPIAH ASAMOAH     5813\n",
              "RICHARD NYARBI          5267\n",
              "                       ...  \n",
              "KELVIN BOAMAH              4\n",
              "SAMUEL MUSAH               3\n",
              "JANNES STEVENS             2\n",
              "DIASPORA HOMECARE          1\n",
              "NANCY KWAO                 1\n",
              "Name: agentname, Length: 115, dtype: int64"
            ]
          },
          "metadata": {},
          "execution_count": 119
        }
      ]
    },
    {
      "cell_type": "code",
      "source": [
        "C\n",
        "c4 = c3.loc[c3['Product type'] == 'PPT Personal Pension Scheme' ]"
      ],
      "metadata": {
        "id": "nzaopPEykOE7"
      },
      "execution_count": 122,
      "outputs": []
    },
    {
      "cell_type": "code",
      "source": [
        "c4['Product type'].value_counts()"
      ],
      "metadata": {
        "colab": {
          "base_uri": "https://localhost:8080/"
        },
        "id": "8GAaM1qokudM",
        "outputId": "3b50c275-1357-426c-acce-926804674315"
      },
      "execution_count": 123,
      "outputs": [
        {
          "output_type": "execute_result",
          "data": {
            "text/plain": [
              "PPT Personal Pension Scheme    282\n",
              "Name: Product type, dtype: int64"
            ]
          },
          "metadata": {},
          "execution_count": 123
        }
      ]
    },
    {
      "cell_type": "code",
      "source": [
        "c5 = c4.loc[c4['[Withdrawal]'] == 0.0 ]"
      ],
      "metadata": {
        "id": "ma7DFixhuVZO"
      },
      "execution_count": 138,
      "outputs": []
    },
    {
      "cell_type": "code",
      "source": [
        "c5['[Withdrawal]'].value_counts()"
      ],
      "metadata": {
        "colab": {
          "base_uri": "https://localhost:8080/"
        },
        "id": "4we-Bm8otUby",
        "outputId": "32c548ff-f17f-4a36-b21e-1dd8625b1aea"
      },
      "execution_count": 129,
      "outputs": [
        {
          "output_type": "execute_result",
          "data": {
            "text/plain": [
              "0.0    264\n",
              "Name: [Withdrawal], dtype: int64"
            ]
          },
          "metadata": {},
          "execution_count": 129
        }
      ]
    },
    {
      "cell_type": "code",
      "source": [
        "c5.info()"
      ],
      "metadata": {
        "colab": {
          "base_uri": "https://localhost:8080/"
        },
        "id": "8kahDAqJuvgE",
        "outputId": "62393645-eec6-4ad2-e2e1-d0a97227e6bc"
      },
      "execution_count": 139,
      "outputs": [
        {
          "output_type": "stream",
          "name": "stdout",
          "text": [
            "<class 'pandas.core.frame.DataFrame'>\n",
            "Int64Index: 264 entries, 82 to 122079\n",
            "Data columns (total 20 columns):\n",
            " #   Column           Non-Null Count  Dtype  \n",
            "---  ------           --------------  -----  \n",
            " 0   Id               264 non-null    int64  \n",
            " 1   Creation time    264 non-null    int64  \n",
            " 2   sessiondate      264 non-null    object \n",
            " 3   Batch number     264 non-null    object \n",
            " 4   Mobile           264 non-null    object \n",
            " 5   Product type     264 non-null    object \n",
            " 6   [Scheme number]  264 non-null    object \n",
            " 7   [Other number]   254 non-null    object \n",
            " 8   User name        264 non-null    object \n",
            " 9   Method           264 non-null    object \n",
            " 10  Type             264 non-null    object \n",
            " 11  Reference        264 non-null    object \n",
            " 12  [Contribution]   264 non-null    float64\n",
            " 13  [Withdrawal]     264 non-null    float64\n",
            " 14  Sector           264 non-null    object \n",
            " 15  Group            264 non-null    object \n",
            " 16  NewBatch         264 non-null    object \n",
            " 17  Reversal         264 non-null    int64  \n",
            " 18  Status           264 non-null    object \n",
            " 19  agentname        264 non-null    object \n",
            "dtypes: float64(2), int64(3), object(15)\n",
            "memory usage: 43.3+ KB\n"
          ]
        }
      ]
    },
    {
      "cell_type": "code",
      "source": [
        "c5 = c5.filter(['sessiondate','[Contribution]','agentname','[Scheme number]'])"
      ],
      "metadata": {
        "id": "oV_FgRXavJ4j"
      },
      "execution_count": 140,
      "outputs": []
    },
    {
      "cell_type": "code",
      "source": [
        "c5"
      ],
      "metadata": {
        "colab": {
          "base_uri": "https://localhost:8080/",
          "height": 424
        },
        "id": "Q8hLgJZsvlyJ",
        "outputId": "3f68eda6-ce0e-4bb4-9a67-e6749c51774c"
      },
      "execution_count": 145,
      "outputs": [
        {
          "output_type": "execute_result",
          "data": {
            "text/html": [
              "\n",
              "  <div id=\"df-7b920ad4-76e0-424a-bab6-91a401e3164e\">\n",
              "    <div class=\"colab-df-container\">\n",
              "      <div>\n",
              "<style scoped>\n",
              "    .dataframe tbody tr th:only-of-type {\n",
              "        vertical-align: middle;\n",
              "    }\n",
              "\n",
              "    .dataframe tbody tr th {\n",
              "        vertical-align: top;\n",
              "    }\n",
              "\n",
              "    .dataframe thead th {\n",
              "        text-align: right;\n",
              "    }\n",
              "</style>\n",
              "<table border=\"1\" class=\"dataframe\">\n",
              "  <thead>\n",
              "    <tr style=\"text-align: right;\">\n",
              "      <th></th>\n",
              "      <th>sessiondate</th>\n",
              "      <th>[Contribution]</th>\n",
              "      <th>agentname</th>\n",
              "      <th>[Scheme number]</th>\n",
              "    </tr>\n",
              "  </thead>\n",
              "  <tbody>\n",
              "    <tr>\n",
              "      <th>82</th>\n",
              "      <td>2021-08</td>\n",
              "      <td>20.0</td>\n",
              "      <td>NAKOE SAMADU</td>\n",
              "      <td>1010PPS007091</td>\n",
              "    </tr>\n",
              "    <tr>\n",
              "      <th>413</th>\n",
              "      <td>2021-08</td>\n",
              "      <td>10.0</td>\n",
              "      <td>NAKOE SAMADU</td>\n",
              "      <td>1010PPS012756</td>\n",
              "    </tr>\n",
              "    <tr>\n",
              "      <th>414</th>\n",
              "      <td>2021-07</td>\n",
              "      <td>20.0</td>\n",
              "      <td>NAKOE SAMADU</td>\n",
              "      <td>1010PPS012756</td>\n",
              "    </tr>\n",
              "    <tr>\n",
              "      <th>415</th>\n",
              "      <td>2021-07</td>\n",
              "      <td>20.0</td>\n",
              "      <td>NAKOE SAMADU</td>\n",
              "      <td>1010PPS012756</td>\n",
              "    </tr>\n",
              "    <tr>\n",
              "      <th>416</th>\n",
              "      <td>2021-08</td>\n",
              "      <td>10.0</td>\n",
              "      <td>NAKOE SAMADU</td>\n",
              "      <td>1010PPS012756</td>\n",
              "    </tr>\n",
              "    <tr>\n",
              "      <th>...</th>\n",
              "      <td>...</td>\n",
              "      <td>...</td>\n",
              "      <td>...</td>\n",
              "      <td>...</td>\n",
              "    </tr>\n",
              "    <tr>\n",
              "      <th>122075</th>\n",
              "      <td>2022-02</td>\n",
              "      <td>500.0</td>\n",
              "      <td>NAKOE SAMADU</td>\n",
              "      <td>1010PPS009190</td>\n",
              "    </tr>\n",
              "    <tr>\n",
              "      <th>122076</th>\n",
              "      <td>2022-01</td>\n",
              "      <td>500.0</td>\n",
              "      <td>NAKOE SAMADU</td>\n",
              "      <td>1010PPS009194</td>\n",
              "    </tr>\n",
              "    <tr>\n",
              "      <th>122077</th>\n",
              "      <td>2022-02</td>\n",
              "      <td>500.0</td>\n",
              "      <td>NAKOE SAMADU</td>\n",
              "      <td>1010PPS009194</td>\n",
              "    </tr>\n",
              "    <tr>\n",
              "      <th>122078</th>\n",
              "      <td>2022-02</td>\n",
              "      <td>500.0</td>\n",
              "      <td>NAKOE SAMADU</td>\n",
              "      <td>1010PPS009196</td>\n",
              "    </tr>\n",
              "    <tr>\n",
              "      <th>122079</th>\n",
              "      <td>2022-01</td>\n",
              "      <td>500.0</td>\n",
              "      <td>NAKOE SAMADU</td>\n",
              "      <td>1010PPS009196</td>\n",
              "    </tr>\n",
              "  </tbody>\n",
              "</table>\n",
              "<p>264 rows × 4 columns</p>\n",
              "</div>\n",
              "      <button class=\"colab-df-convert\" onclick=\"convertToInteractive('df-7b920ad4-76e0-424a-bab6-91a401e3164e')\"\n",
              "              title=\"Convert this dataframe to an interactive table.\"\n",
              "              style=\"display:none;\">\n",
              "        \n",
              "  <svg xmlns=\"http://www.w3.org/2000/svg\" height=\"24px\"viewBox=\"0 0 24 24\"\n",
              "       width=\"24px\">\n",
              "    <path d=\"M0 0h24v24H0V0z\" fill=\"none\"/>\n",
              "    <path d=\"M18.56 5.44l.94 2.06.94-2.06 2.06-.94-2.06-.94-.94-2.06-.94 2.06-2.06.94zm-11 1L8.5 8.5l.94-2.06 2.06-.94-2.06-.94L8.5 2.5l-.94 2.06-2.06.94zm10 10l.94 2.06.94-2.06 2.06-.94-2.06-.94-.94-2.06-.94 2.06-2.06.94z\"/><path d=\"M17.41 7.96l-1.37-1.37c-.4-.4-.92-.59-1.43-.59-.52 0-1.04.2-1.43.59L10.3 9.45l-7.72 7.72c-.78.78-.78 2.05 0 2.83L4 21.41c.39.39.9.59 1.41.59.51 0 1.02-.2 1.41-.59l7.78-7.78 2.81-2.81c.8-.78.8-2.07 0-2.86zM5.41 20L4 18.59l7.72-7.72 1.47 1.35L5.41 20z\"/>\n",
              "  </svg>\n",
              "      </button>\n",
              "      \n",
              "  <style>\n",
              "    .colab-df-container {\n",
              "      display:flex;\n",
              "      flex-wrap:wrap;\n",
              "      gap: 12px;\n",
              "    }\n",
              "\n",
              "    .colab-df-convert {\n",
              "      background-color: #E8F0FE;\n",
              "      border: none;\n",
              "      border-radius: 50%;\n",
              "      cursor: pointer;\n",
              "      display: none;\n",
              "      fill: #1967D2;\n",
              "      height: 32px;\n",
              "      padding: 0 0 0 0;\n",
              "      width: 32px;\n",
              "    }\n",
              "\n",
              "    .colab-df-convert:hover {\n",
              "      background-color: #E2EBFA;\n",
              "      box-shadow: 0px 1px 2px rgba(60, 64, 67, 0.3), 0px 1px 3px 1px rgba(60, 64, 67, 0.15);\n",
              "      fill: #174EA6;\n",
              "    }\n",
              "\n",
              "    [theme=dark] .colab-df-convert {\n",
              "      background-color: #3B4455;\n",
              "      fill: #D2E3FC;\n",
              "    }\n",
              "\n",
              "    [theme=dark] .colab-df-convert:hover {\n",
              "      background-color: #434B5C;\n",
              "      box-shadow: 0px 1px 3px 1px rgba(0, 0, 0, 0.15);\n",
              "      filter: drop-shadow(0px 1px 2px rgba(0, 0, 0, 0.3));\n",
              "      fill: #FFFFFF;\n",
              "    }\n",
              "  </style>\n",
              "\n",
              "      <script>\n",
              "        const buttonEl =\n",
              "          document.querySelector('#df-7b920ad4-76e0-424a-bab6-91a401e3164e button.colab-df-convert');\n",
              "        buttonEl.style.display =\n",
              "          google.colab.kernel.accessAllowed ? 'block' : 'none';\n",
              "\n",
              "        async function convertToInteractive(key) {\n",
              "          const element = document.querySelector('#df-7b920ad4-76e0-424a-bab6-91a401e3164e');\n",
              "          const dataTable =\n",
              "            await google.colab.kernel.invokeFunction('convertToInteractive',\n",
              "                                                     [key], {});\n",
              "          if (!dataTable) return;\n",
              "\n",
              "          const docLinkHtml = 'Like what you see? Visit the ' +\n",
              "            '<a target=\"_blank\" href=https://colab.research.google.com/notebooks/data_table.ipynb>data table notebook</a>'\n",
              "            + ' to learn more about interactive tables.';\n",
              "          element.innerHTML = '';\n",
              "          dataTable['output_type'] = 'display_data';\n",
              "          await google.colab.output.renderOutput(dataTable, element);\n",
              "          const docLink = document.createElement('div');\n",
              "          docLink.innerHTML = docLinkHtml;\n",
              "          element.appendChild(docLink);\n",
              "        }\n",
              "      </script>\n",
              "    </div>\n",
              "  </div>\n",
              "  "
            ],
            "text/plain": [
              "       sessiondate  [Contribution]     agentname [Scheme number]\n",
              "82         2021-08            20.0  NAKOE SAMADU   1010PPS007091\n",
              "413        2021-08            10.0  NAKOE SAMADU   1010PPS012756\n",
              "414        2021-07            20.0  NAKOE SAMADU   1010PPS012756\n",
              "415        2021-07            20.0  NAKOE SAMADU   1010PPS012756\n",
              "416        2021-08            10.0  NAKOE SAMADU   1010PPS012756\n",
              "...            ...             ...           ...             ...\n",
              "122075     2022-02           500.0  NAKOE SAMADU   1010PPS009190\n",
              "122076     2022-01           500.0  NAKOE SAMADU   1010PPS009194\n",
              "122077     2022-02           500.0  NAKOE SAMADU   1010PPS009194\n",
              "122078     2022-02           500.0  NAKOE SAMADU   1010PPS009196\n",
              "122079     2022-01           500.0  NAKOE SAMADU   1010PPS009196\n",
              "\n",
              "[264 rows x 4 columns]"
            ]
          },
          "metadata": {},
          "execution_count": 145
        }
      ]
    },
    {
      "cell_type": "code",
      "source": [
        "b2.info()"
      ],
      "metadata": {
        "colab": {
          "base_uri": "https://localhost:8080/"
        },
        "id": "lVfwM_z5EOpl",
        "outputId": "778a87a0-8c99-432b-a23c-631881641fb4"
      },
      "execution_count": 162,
      "outputs": [
        {
          "output_type": "stream",
          "name": "stdout",
          "text": [
            "<class 'pandas.core.frame.DataFrame'>\n",
            "Int64Index: 6690 entries, 0 to 6689\n",
            "Data columns (total 4 columns):\n",
            " #   Column           Non-Null Count  Dtype \n",
            "---  ------           --------------  ----- \n",
            " 0   Mobile           6679 non-null   object\n",
            " 1   [Scheme number]  6690 non-null   object\n",
            " 2   Start date       6690 non-null   object\n",
            " 3   agentname        6111 non-null   object\n",
            "dtypes: object(4)\n",
            "memory usage: 261.3+ KB\n"
          ]
        }
      ]
    },
    {
      "cell_type": "code",
      "source": [
        "b3= b2.loc[b2['agentname'] == 'NAKOE SAMADU' ]\n"
      ],
      "metadata": {
        "id": "B8aOKC1iEwyu"
      },
      "execution_count": 166,
      "outputs": []
    },
    {
      "cell_type": "code",
      "source": [
        "lb= pd.pivot_table(b3, index = ['Start date', '[Scheme number]'], columns = ['agentname'])#, values = ['[Contribution]'],aggfunc = np.sum)#######\n"
      ],
      "metadata": {
        "id": "POUJqNyAETMf"
      },
      "execution_count": 167,
      "outputs": []
    },
    {
      "cell_type": "code",
      "source": [
        "lb.to_excel('lbs.xlsx')"
      ],
      "metadata": {
        "id": "tQpLmY1XEngz"
      },
      "execution_count": 169,
      "outputs": []
    },
    {
      "cell_type": "code",
      "source": [
        "l = pd.pivot_table(c5, index = ['sessiondate', '[Scheme number]'], columns = ['agentname'], values = ['[Contribution]'],aggfunc = np.sum)#######"
      ],
      "metadata": {
        "id": "fjnt5URcwI1N"
      },
      "execution_count": 142,
      "outputs": []
    },
    {
      "cell_type": "code",
      "source": [
        "l.to_excel('samadu.xlsx')"
      ],
      "metadata": {
        "id": "r2N66bcTwrRO"
      },
      "execution_count": 144,
      "outputs": []
    }
  ]
}