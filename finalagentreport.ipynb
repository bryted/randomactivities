{
  "nbformat": 4,
  "nbformat_minor": 0,
  "metadata": {
    "colab": {
      "name": "finalagentreport.ipynb",
      "provenance": [],
      "collapsed_sections": [],
      "authorship_tag": "ABX9TyNFS+Xw5tYy0wUieetbDVFH"
    },
    "kernelspec": {
      "name": "python3",
      "display_name": "Python 3"
    },
    "language_info": {
      "name": "python"
    }
  },
  "cells": [
    {
      "cell_type": "code",
      "execution_count": null,
      "metadata": {
        "id": "vJF7jMuvskQn",
        "colab": {
          "base_uri": "https://localhost:8080/"
        },
        "outputId": "1b2e35db-246e-4c78-dbd5-66532c1d243d"
      },
      "outputs": [
        {
          "output_type": "stream",
          "name": "stdout",
          "text": [
            "Requirement already satisfied: xlsxwriter in /usr/local/lib/python3.7/dist-packages (3.0.3)\n"
          ]
        }
      ],
      "source": [
        "#import packages\n",
        "import re\n",
        "import pandas as pd\n",
        "import numpy as np\n",
        "!pip install xlsxwriter\n",
        "#!pip install openpyxl --upgrade --pre"
      ]
    },
    {
      "cell_type": "code",
      "source": [
        "df_mth = pd.read_excel('MerchantTransactionHistoryAgentWise_14_03_2022_to_20_03_2022.xlsx')\n",
        "df_mp = pd.read_excel('maximus-payment_export-1647850966336.xlsx')"
      ],
      "metadata": {
        "id": "kO_ZUpfyMU51"
      },
      "execution_count": null,
      "outputs": []
    },
    {
      "cell_type": "code",
      "source": [
        "df_mp1 = df_mp[['tranid','source']] #picking out only two columns from main data\n",
        "df_mp1.rename(columns={'tranid': 'Merchant Ref.Code'}, inplace=True) #renaming columns for cohesion"
      ],
      "metadata": {
        "id": "imKsPCRUMpds",
        "colab": {
          "base_uri": "https://localhost:8080/"
        },
        "outputId": "92d421b9-a8e5-46ca-8cf1-5b292ab3a073"
      },
      "execution_count": null,
      "outputs": [
        {
          "output_type": "stream",
          "name": "stderr",
          "text": [
            "/usr/local/lib/python3.7/dist-packages/pandas/core/frame.py:5047: SettingWithCopyWarning: \n",
            "A value is trying to be set on a copy of a slice from a DataFrame\n",
            "\n",
            "See the caveats in the documentation: https://pandas.pydata.org/pandas-docs/stable/user_guide/indexing.html#returning-a-view-versus-a-copy\n",
            "  errors=errors,\n"
          ]
        }
      ]
    },
    {
      "cell_type": "code",
      "source": [
        "df_mth.info()"
      ],
      "metadata": {
        "id": "IubGiBm6Nvk8",
        "colab": {
          "base_uri": "https://localhost:8080/"
        },
        "outputId": "d0ab4983-452a-4aaf-db57-e8b999e11567"
      },
      "execution_count": null,
      "outputs": [
        {
          "output_type": "stream",
          "name": "stdout",
          "text": [
            "<class 'pandas.core.frame.DataFrame'>\n",
            "RangeIndex: 2014 entries, 0 to 2013\n",
            "Data columns (total 29 columns):\n",
            " #   Column                      Non-Null Count  Dtype  \n",
            "---  ------                      --------------  -----  \n",
            " 0   Trans.ID                    2014 non-null   int64  \n",
            " 1   Trans.Date                  2014 non-null   object \n",
            " 2   Settlement Date             2014 non-null   object \n",
            " 3   Value Date                  2014 non-null   object \n",
            " 4   Interpay Ref No             2014 non-null   int64  \n",
            " 5   Fee Type                    2014 non-null   object \n",
            " 6   Invoice Amount              2014 non-null   float64\n",
            " 7   Invoice Currency            2014 non-null   object \n",
            " 8   Transacted Amount           2014 non-null   float64\n",
            " 9   Transacted Currency         2014 non-null   object \n",
            " 10  Commission Amount           2014 non-null   float64\n",
            " 11  Net to Merchant             2014 non-null   float64\n",
            " 12  Payee Name                  2014 non-null   object \n",
            " 13  Payee Mobile                2014 non-null   int64  \n",
            " 14  Payee Email                 2008 non-null   object \n",
            " 15  Merchant Ref.Code           2014 non-null   object \n",
            " 16  Merchant-Client Code        0 non-null      float64\n",
            " 17  Transaction Type            2014 non-null   object \n",
            " 18  Payment Mode Name           2014 non-null   object \n",
            " 19  Payment Mode Reference      2014 non-null   object \n",
            " 20  Bank Name                   2014 non-null   object \n",
            " 21  Bank Account                2014 non-null   int64  \n",
            " 22  Transaction Source          2014 non-null   object \n",
            " 23  Reversal Status             0 non-null      float64\n",
            " 24  Reversal Date               0 non-null      float64\n",
            " 25  Reversal Payback Amount     2014 non-null   int64  \n",
            " 26  Agent Reference Number      0 non-null      float64\n",
            " 27  Customer Membership Number  0 non-null      float64\n",
            " 28  Customer Mobile Number      0 non-null      float64\n",
            "dtypes: float64(10), int64(5), object(14)\n",
            "memory usage: 456.4+ KB\n"
          ]
        }
      ]
    },
    {
      "cell_type": "code",
      "source": [
        "#this code determines the source of payments( AUTODEBIT,USSD,etc.)\n",
        "df_mth1 = pd.merge( df_mth, df_mp1,\n",
        "                      on ='Merchant Ref.Code', \n",
        "                      how ='left') \n",
        "df_mth1.rename(columns={'Payee Mobile': 'Mobile'}, inplace=True)#renaming columns for cohession\n",
        "df_mth1['source'].fillna('Not Available',inplace = True)"
      ],
      "metadata": {
        "id": "9aXdL2xQMwnv"
      },
      "execution_count": null,
      "outputs": []
    },
    {
      "cell_type": "code",
      "source": [
        "df_mth1.info()"
      ],
      "metadata": {
        "id": "BixkzNKpN9qE",
        "colab": {
          "base_uri": "https://localhost:8080/"
        },
        "outputId": "2d79c986-1315-429a-d9e0-8422adf14390"
      },
      "execution_count": null,
      "outputs": [
        {
          "output_type": "stream",
          "name": "stdout",
          "text": [
            "<class 'pandas.core.frame.DataFrame'>\n",
            "Int64Index: 2014 entries, 0 to 2013\n",
            "Data columns (total 30 columns):\n",
            " #   Column                      Non-Null Count  Dtype  \n",
            "---  ------                      --------------  -----  \n",
            " 0   Trans.ID                    2014 non-null   int64  \n",
            " 1   Trans.Date                  2014 non-null   object \n",
            " 2   Settlement Date             2014 non-null   object \n",
            " 3   Value Date                  2014 non-null   object \n",
            " 4   Interpay Ref No             2014 non-null   int64  \n",
            " 5   Fee Type                    2014 non-null   object \n",
            " 6   Invoice Amount              2014 non-null   float64\n",
            " 7   Invoice Currency            2014 non-null   object \n",
            " 8   Transacted Amount           2014 non-null   float64\n",
            " 9   Transacted Currency         2014 non-null   object \n",
            " 10  Commission Amount           2014 non-null   float64\n",
            " 11  Net to Merchant             2014 non-null   float64\n",
            " 12  Payee Name                  2014 non-null   object \n",
            " 13  Mobile                      2014 non-null   int64  \n",
            " 14  Payee Email                 2008 non-null   object \n",
            " 15  Merchant Ref.Code           2014 non-null   object \n",
            " 16  Merchant-Client Code        0 non-null      float64\n",
            " 17  Transaction Type            2014 non-null   object \n",
            " 18  Payment Mode Name           2014 non-null   object \n",
            " 19  Payment Mode Reference      2014 non-null   object \n",
            " 20  Bank Name                   2014 non-null   object \n",
            " 21  Bank Account                2014 non-null   int64  \n",
            " 22  Transaction Source          2014 non-null   object \n",
            " 23  Reversal Status             0 non-null      float64\n",
            " 24  Reversal Date               0 non-null      float64\n",
            " 25  Reversal Payback Amount     2014 non-null   int64  \n",
            " 26  Agent Reference Number      0 non-null      float64\n",
            " 27  Customer Membership Number  0 non-null      float64\n",
            " 28  Customer Mobile Number      0 non-null      float64\n",
            " 29  source                      2014 non-null   object \n",
            "dtypes: float64(10), int64(5), object(15)\n",
            "memory usage: 487.8+ KB\n"
          ]
        }
      ]
    },
    {
      "cell_type": "code",
      "source": [
        "df_mth1.Mobile.nunique()"
      ],
      "metadata": {
        "colab": {
          "base_uri": "https://localhost:8080/"
        },
        "id": "3vKYIdIvdwSl",
        "outputId": "76d90ab3-d1ac-4020-d5e7-01a4611a15d0"
      },
      "execution_count": null,
      "outputs": [
        {
          "output_type": "execute_result",
          "data": {
            "text/plain": [
              "778"
            ]
          },
          "metadata": {},
          "execution_count": 12
        }
      ]
    },
    {
      "cell_type": "code",
      "source": [
        "df_mth1.source.value_counts()"
      ],
      "metadata": {
        "colab": {
          "base_uri": "https://localhost:8080/"
        },
        "id": "fnwZ1rcza4LF",
        "outputId": "9cad36f7-5f65-4a72-9e5e-09b1f04d22f5"
      },
      "execution_count": null,
      "outputs": [
        {
          "output_type": "execute_result",
          "data": {
            "text/plain": [
              "AUTODEBIT        1472\n",
              "AGENT             307\n",
              "Not Available     109\n",
              "USSD               76\n",
              "Tier2              49\n",
              "REFERER-163         1\n",
              "Name: source, dtype: int64"
            ]
          },
          "metadata": {},
          "execution_count": 13
        }
      ]
    },
    {
      "cell_type": "markdown",
      "source": [
        ""
      ],
      "metadata": {
        "id": "wEoFmGaEq8Ad"
      }
    },
    {
      "cell_type": "code",
      "source": [
        "md = pd.read_excel('md2802.xlsx') #member dump\n",
        "md =md[['agentname', 'Mobile']]"
      ],
      "metadata": {
        "id": "3g6lVtzQOS6i"
      },
      "execution_count": null,
      "outputs": []
    },
    {
      "cell_type": "code",
      "source": [
        "md.info()"
      ],
      "metadata": {
        "id": "X8Wc02APOkcs"
      },
      "execution_count": null,
      "outputs": []
    },
    {
      "cell_type": "code",
      "source": [
        "agrf1 = pd.read_excel('agentupdate.xlsx')\n",
        "agrf1 =agrf1[['agentname', 'Mobile']]"
      ],
      "metadata": {
        "id": "nFqM8RroOcgs"
      },
      "execution_count": null,
      "outputs": []
    },
    {
      "cell_type": "code",
      "source": [
        "agentonly = df_mth1[df_mth1['source'] == 'AGENT']"
      ],
      "metadata": {
        "id": "CZrZPOdUmyJZ"
      },
      "execution_count": null,
      "outputs": []
    },
    {
      "cell_type": "code",
      "source": [
        "agentonly.info()"
      ],
      "metadata": {
        "id": "D68rhJWvOqNz",
        "colab": {
          "base_uri": "https://localhost:8080/"
        },
        "outputId": "2244ba5e-a17b-44b1-dbe2-6819bd05cbd2"
      },
      "execution_count": null,
      "outputs": [
        {
          "output_type": "stream",
          "name": "stdout",
          "text": [
            "<class 'pandas.core.frame.DataFrame'>\n",
            "Int64Index: 307 entries, 16 to 1972\n",
            "Data columns (total 30 columns):\n",
            " #   Column                      Non-Null Count  Dtype  \n",
            "---  ------                      --------------  -----  \n",
            " 0   Trans.ID                    307 non-null    int64  \n",
            " 1   Trans.Date                  307 non-null    object \n",
            " 2   Settlement Date             307 non-null    object \n",
            " 3   Value Date                  307 non-null    object \n",
            " 4   Interpay Ref No             307 non-null    int64  \n",
            " 5   Fee Type                    307 non-null    object \n",
            " 6   Invoice Amount              307 non-null    float64\n",
            " 7   Invoice Currency            307 non-null    object \n",
            " 8   Transacted Amount           307 non-null    float64\n",
            " 9   Transacted Currency         307 non-null    object \n",
            " 10  Commission Amount           307 non-null    float64\n",
            " 11  Net to Merchant             307 non-null    float64\n",
            " 12  Payee Name                  307 non-null    object \n",
            " 13  Mobile                      307 non-null    int64  \n",
            " 14  Payee Email                 307 non-null    object \n",
            " 15  Merchant Ref.Code           307 non-null    object \n",
            " 16  Merchant-Client Code        0 non-null      float64\n",
            " 17  Transaction Type            307 non-null    object \n",
            " 18  Payment Mode Name           307 non-null    object \n",
            " 19  Payment Mode Reference      307 non-null    object \n",
            " 20  Bank Name                   307 non-null    object \n",
            " 21  Bank Account                307 non-null    int64  \n",
            " 22  Transaction Source          307 non-null    object \n",
            " 23  Reversal Status             0 non-null      float64\n",
            " 24  Reversal Date               0 non-null      float64\n",
            " 25  Reversal Payback Amount     307 non-null    int64  \n",
            " 26  Agent Reference Number      0 non-null      float64\n",
            " 27  Customer Membership Number  0 non-null      float64\n",
            " 28  Customer Mobile Number      0 non-null      float64\n",
            " 29  source                      307 non-null    object \n",
            "dtypes: float64(10), int64(5), object(15)\n",
            "memory usage: 74.4+ KB\n"
          ]
        }
      ]
    },
    {
      "cell_type": "code",
      "source": [
        ""
      ],
      "metadata": {
        "id": "yBaaD0NelJRR"
      },
      "execution_count": null,
      "outputs": []
    },
    {
      "cell_type": "code",
      "source": [
        "agrf2 = agrf1.drop_duplicates(subset=['Mobile'])"
      ],
      "metadata": {
        "id": "fZcAoS9ElKIF"
      },
      "execution_count": null,
      "outputs": []
    },
    {
      "cell_type": "code",
      "source": [
        "agrf2.info()"
      ],
      "metadata": {
        "id": "GHXWSNzrlYWz",
        "colab": {
          "base_uri": "https://localhost:8080/"
        },
        "outputId": "a0e29bc4-cdad-446d-a43a-e176b0a3cfef"
      },
      "execution_count": null,
      "outputs": [
        {
          "output_type": "stream",
          "name": "stdout",
          "text": [
            "<class 'pandas.core.frame.DataFrame'>\n",
            "Int64Index: 102 entries, 0 to 115\n",
            "Data columns (total 2 columns):\n",
            " #   Column     Non-Null Count  Dtype \n",
            "---  ------     --------------  ----- \n",
            " 0   agentname  102 non-null    object\n",
            " 1   Mobile     102 non-null    int64 \n",
            "dtypes: int64(1), object(1)\n",
            "memory usage: 2.4+ KB\n"
          ]
        }
      ]
    },
    {
      "cell_type": "code",
      "source": [
        "df_mth2 = pd.merge( agentonly, agrf2,\n",
        "                      on ='Mobile', \n",
        "                      how ='left')\n"
      ],
      "metadata": {
        "id": "bOW2cGUaLG-6"
      },
      "execution_count": null,
      "outputs": []
    },
    {
      "cell_type": "code",
      "source": [
        "df_mth2.info()"
      ],
      "metadata": {
        "id": "a6ApVUnRWt7T",
        "colab": {
          "base_uri": "https://localhost:8080/"
        },
        "outputId": "dacc068e-7de2-40e2-f9e2-436a63a45650"
      },
      "execution_count": null,
      "outputs": [
        {
          "output_type": "stream",
          "name": "stdout",
          "text": [
            "<class 'pandas.core.frame.DataFrame'>\n",
            "Int64Index: 307 entries, 0 to 306\n",
            "Data columns (total 31 columns):\n",
            " #   Column                      Non-Null Count  Dtype  \n",
            "---  ------                      --------------  -----  \n",
            " 0   Trans.ID                    307 non-null    int64  \n",
            " 1   Trans.Date                  307 non-null    object \n",
            " 2   Settlement Date             307 non-null    object \n",
            " 3   Value Date                  307 non-null    object \n",
            " 4   Interpay Ref No             307 non-null    int64  \n",
            " 5   Fee Type                    307 non-null    object \n",
            " 6   Invoice Amount              307 non-null    float64\n",
            " 7   Invoice Currency            307 non-null    object \n",
            " 8   Transacted Amount           307 non-null    float64\n",
            " 9   Transacted Currency         307 non-null    object \n",
            " 10  Commission Amount           307 non-null    float64\n",
            " 11  Net to Merchant             307 non-null    float64\n",
            " 12  Payee Name                  307 non-null    object \n",
            " 13  Mobile                      307 non-null    int64  \n",
            " 14  Payee Email                 307 non-null    object \n",
            " 15  Merchant Ref.Code           307 non-null    object \n",
            " 16  Merchant-Client Code        0 non-null      float64\n",
            " 17  Transaction Type            307 non-null    object \n",
            " 18  Payment Mode Name           307 non-null    object \n",
            " 19  Payment Mode Reference      307 non-null    object \n",
            " 20  Bank Name                   307 non-null    object \n",
            " 21  Bank Account                307 non-null    int64  \n",
            " 22  Transaction Source          307 non-null    object \n",
            " 23  Reversal Status             0 non-null      float64\n",
            " 24  Reversal Date               0 non-null      float64\n",
            " 25  Reversal Payback Amount     307 non-null    int64  \n",
            " 26  Agent Reference Number      0 non-null      float64\n",
            " 27  Customer Membership Number  0 non-null      float64\n",
            " 28  Customer Mobile Number      0 non-null      float64\n",
            " 29  source                      307 non-null    object \n",
            " 30  agentname                   307 non-null    object \n",
            "dtypes: float64(10), int64(5), object(16)\n",
            "memory usage: 76.8+ KB\n"
          ]
        }
      ]
    },
    {
      "cell_type": "code",
      "source": [
        "#df_mth2.to_excel('agentonly.xlsx')"
      ],
      "metadata": {
        "id": "EppflcFZRSp_"
      },
      "execution_count": null,
      "outputs": []
    },
    {
      "cell_type": "code",
      "source": [
        "others  = df_mth1.drop(df_mth1[df_mth1.source == 'AGENT'].index)"
      ],
      "metadata": {
        "id": "RsL6SK0pSrN_"
      },
      "execution_count": null,
      "outputs": []
    },
    {
      "cell_type": "code",
      "source": [
        "others.info()"
      ],
      "metadata": {
        "id": "XkvGwJGKdMrt",
        "colab": {
          "base_uri": "https://localhost:8080/"
        },
        "outputId": "30497100-aa45-4e0e-9004-a3a074f5ee52"
      },
      "execution_count": null,
      "outputs": [
        {
          "output_type": "stream",
          "name": "stdout",
          "text": [
            "<class 'pandas.core.frame.DataFrame'>\n",
            "Int64Index: 1707 entries, 0 to 2013\n",
            "Data columns (total 30 columns):\n",
            " #   Column                      Non-Null Count  Dtype  \n",
            "---  ------                      --------------  -----  \n",
            " 0   Trans.ID                    1707 non-null   int64  \n",
            " 1   Trans.Date                  1707 non-null   object \n",
            " 2   Settlement Date             1707 non-null   object \n",
            " 3   Value Date                  1707 non-null   object \n",
            " 4   Interpay Ref No             1707 non-null   int64  \n",
            " 5   Fee Type                    1707 non-null   object \n",
            " 6   Invoice Amount              1707 non-null   float64\n",
            " 7   Invoice Currency            1707 non-null   object \n",
            " 8   Transacted Amount           1707 non-null   float64\n",
            " 9   Transacted Currency         1707 non-null   object \n",
            " 10  Commission Amount           1707 non-null   float64\n",
            " 11  Net to Merchant             1707 non-null   float64\n",
            " 12  Payee Name                  1707 non-null   object \n",
            " 13  Mobile                      1707 non-null   int64  \n",
            " 14  Payee Email                 1701 non-null   object \n",
            " 15  Merchant Ref.Code           1707 non-null   object \n",
            " 16  Merchant-Client Code        0 non-null      float64\n",
            " 17  Transaction Type            1707 non-null   object \n",
            " 18  Payment Mode Name           1707 non-null   object \n",
            " 19  Payment Mode Reference      1707 non-null   object \n",
            " 20  Bank Name                   1707 non-null   object \n",
            " 21  Bank Account                1707 non-null   int64  \n",
            " 22  Transaction Source          1707 non-null   object \n",
            " 23  Reversal Status             0 non-null      float64\n",
            " 24  Reversal Date               0 non-null      float64\n",
            " 25  Reversal Payback Amount     1707 non-null   int64  \n",
            " 26  Agent Reference Number      0 non-null      float64\n",
            " 27  Customer Membership Number  0 non-null      float64\n",
            " 28  Customer Mobile Number      0 non-null      float64\n",
            " 29  source                      1707 non-null   object \n",
            "dtypes: float64(10), int64(5), object(15)\n",
            "memory usage: 413.4+ KB\n"
          ]
        }
      ]
    },
    {
      "cell_type": "code",
      "source": [
        "md1 = md.drop_duplicates(subset=['Mobile'])"
      ],
      "metadata": {
        "id": "i4dimPQjjn4x"
      },
      "execution_count": null,
      "outputs": []
    },
    {
      "cell_type": "code",
      "source": [
        "others1 = pd.merge( others, md1,\n",
        "                      on ='Mobile', \n",
        "                      how ='left')"
      ],
      "metadata": {
        "id": "DZgT0F_2Y-Tl"
      },
      "execution_count": null,
      "outputs": []
    },
    {
      "cell_type": "code",
      "source": [
        "others1.info()"
      ],
      "metadata": {
        "id": "DLY2yZYRULvf",
        "colab": {
          "base_uri": "https://localhost:8080/"
        },
        "outputId": "b4df6288-5d67-417d-e590-d7fc9b68b6bc"
      },
      "execution_count": null,
      "outputs": [
        {
          "output_type": "stream",
          "name": "stdout",
          "text": [
            "<class 'pandas.core.frame.DataFrame'>\n",
            "Int64Index: 1707 entries, 0 to 1706\n",
            "Data columns (total 31 columns):\n",
            " #   Column                      Non-Null Count  Dtype  \n",
            "---  ------                      --------------  -----  \n",
            " 0   Trans.ID                    1707 non-null   int64  \n",
            " 1   Trans.Date                  1707 non-null   object \n",
            " 2   Settlement Date             1707 non-null   object \n",
            " 3   Value Date                  1707 non-null   object \n",
            " 4   Interpay Ref No             1707 non-null   int64  \n",
            " 5   Fee Type                    1707 non-null   object \n",
            " 6   Invoice Amount              1707 non-null   float64\n",
            " 7   Invoice Currency            1707 non-null   object \n",
            " 8   Transacted Amount           1707 non-null   float64\n",
            " 9   Transacted Currency         1707 non-null   object \n",
            " 10  Commission Amount           1707 non-null   float64\n",
            " 11  Net to Merchant             1707 non-null   float64\n",
            " 12  Payee Name                  1707 non-null   object \n",
            " 13  Mobile                      1707 non-null   int64  \n",
            " 14  Payee Email                 1701 non-null   object \n",
            " 15  Merchant Ref.Code           1707 non-null   object \n",
            " 16  Merchant-Client Code        0 non-null      float64\n",
            " 17  Transaction Type            1707 non-null   object \n",
            " 18  Payment Mode Name           1707 non-null   object \n",
            " 19  Payment Mode Reference      1707 non-null   object \n",
            " 20  Bank Name                   1707 non-null   object \n",
            " 21  Bank Account                1707 non-null   int64  \n",
            " 22  Transaction Source          1707 non-null   object \n",
            " 23  Reversal Status             0 non-null      float64\n",
            " 24  Reversal Date               0 non-null      float64\n",
            " 25  Reversal Payback Amount     1707 non-null   int64  \n",
            " 26  Agent Reference Number      0 non-null      float64\n",
            " 27  Customer Membership Number  0 non-null      float64\n",
            " 28  Customer Mobile Number      0 non-null      float64\n",
            " 29  source                      1707 non-null   object \n",
            " 30  agentname                   1633 non-null   object \n",
            "dtypes: float64(10), int64(5), object(16)\n",
            "memory usage: 426.8+ KB\n"
          ]
        }
      ]
    },
    {
      "cell_type": "code",
      "source": [
        "others1.Mobile.value_counts()"
      ],
      "metadata": {
        "id": "WN9qrfCWZNTP",
        "colab": {
          "base_uri": "https://localhost:8080/"
        },
        "outputId": "444b90fb-a2de-4d95-949a-0213d642982d"
      },
      "execution_count": null,
      "outputs": [
        {
          "output_type": "execute_result",
          "data": {
            "text/plain": [
              "233264330988    21\n",
              "233242657366    19\n",
              "233553443373    18\n",
              "233549292946    18\n",
              "233545343004    13\n",
              "                ..\n",
              "233277482501     1\n",
              "233246816867     1\n",
              "233248060851     1\n",
              "233546434131     1\n",
              "233550090476     1\n",
              "Name: Mobile, Length: 774, dtype: int64"
            ]
          },
          "metadata": {},
          "execution_count": 32
        }
      ]
    },
    {
      "cell_type": "code",
      "source": [
        "#others1.to_excel('others1.xlsx')"
      ],
      "metadata": {
        "id": "t2YIr1oiUgCI"
      },
      "execution_count": null,
      "outputs": []
    },
    {
      "cell_type": "code",
      "source": [
        "final = pd.concat([df_mth2, others1 ])"
      ],
      "metadata": {
        "id": "ibneUTT8aRhv"
      },
      "execution_count": null,
      "outputs": []
    },
    {
      "cell_type": "code",
      "source": [
        "final.info()"
      ],
      "metadata": {
        "id": "-8WFjhr-sw7T",
        "colab": {
          "base_uri": "https://localhost:8080/"
        },
        "outputId": "645653c5-3e53-4daa-e1d8-21e7869a959e"
      },
      "execution_count": null,
      "outputs": [
        {
          "output_type": "stream",
          "name": "stdout",
          "text": [
            "<class 'pandas.core.frame.DataFrame'>\n",
            "Int64Index: 2014 entries, 0 to 1706\n",
            "Data columns (total 31 columns):\n",
            " #   Column                      Non-Null Count  Dtype  \n",
            "---  ------                      --------------  -----  \n",
            " 0   Trans.ID                    2014 non-null   int64  \n",
            " 1   Trans.Date                  2014 non-null   object \n",
            " 2   Settlement Date             2014 non-null   object \n",
            " 3   Value Date                  2014 non-null   object \n",
            " 4   Interpay Ref No             2014 non-null   int64  \n",
            " 5   Fee Type                    2014 non-null   object \n",
            " 6   Invoice Amount              2014 non-null   float64\n",
            " 7   Invoice Currency            2014 non-null   object \n",
            " 8   Transacted Amount           2014 non-null   float64\n",
            " 9   Transacted Currency         2014 non-null   object \n",
            " 10  Commission Amount           2014 non-null   float64\n",
            " 11  Net to Merchant             2014 non-null   float64\n",
            " 12  Payee Name                  2014 non-null   object \n",
            " 13  Mobile                      2014 non-null   int64  \n",
            " 14  Payee Email                 2008 non-null   object \n",
            " 15  Merchant Ref.Code           2014 non-null   object \n",
            " 16  Merchant-Client Code        0 non-null      float64\n",
            " 17  Transaction Type            2014 non-null   object \n",
            " 18  Payment Mode Name           2014 non-null   object \n",
            " 19  Payment Mode Reference      2014 non-null   object \n",
            " 20  Bank Name                   2014 non-null   object \n",
            " 21  Bank Account                2014 non-null   int64  \n",
            " 22  Transaction Source          2014 non-null   object \n",
            " 23  Reversal Status             0 non-null      float64\n",
            " 24  Reversal Date               0 non-null      float64\n",
            " 25  Reversal Payback Amount     2014 non-null   int64  \n",
            " 26  Agent Reference Number      0 non-null      float64\n",
            " 27  Customer Membership Number  0 non-null      float64\n",
            " 28  Customer Mobile Number      0 non-null      float64\n",
            " 29  source                      2014 non-null   object \n",
            " 30  agentname                   1940 non-null   object \n",
            "dtypes: float64(10), int64(5), object(16)\n",
            "memory usage: 503.5+ KB\n"
          ]
        }
      ]
    },
    {
      "cell_type": "code",
      "source": [
        "final.agentname = final.agentname.str.upper()#converts agentname to capital letters"
      ],
      "metadata": {
        "id": "e4889LBts56U"
      },
      "execution_count": null,
      "outputs": []
    },
    {
      "cell_type": "code",
      "source": [
        "final['agentname'] = final['agentname'].str.replace('ASANA BIAKA','ASANA BIANKA')\n",
        "final['agentname'] = final['agentname'].str.replace('DELIGHT SELASE AZANDA','DELIGHT AZANDA')\n",
        "final['agentname'] = final['agentname'].str.replace('ERIC ADU APPENTENG','ERIC APPENTENG')\n",
        "final['agentname'] = final['agentname'].str.replace('NANCY CHRISTIANA BIRIWAA','NANCY BIRIWA')\n",
        "final['agentname'] = final['agentname'].str.replace('ERNEST AFUN','ERNEST AFUM')\n",
        "final['agentname'] = final['agentname'].str.replace('ERNEST EFFUM','ERNEST AFUM')\n",
        "final['agentname'] = final['agentname'].str.replace('EUNICE VISION WORMADEY','EUNICE VISION')\n",
        "final['agentname'] = final['agentname'].str.replace('NANCY BIRIWAA','NANCY BIRIWA')\n",
        "final['agentname'] = final['agentname'].str.replace('TESSA EMEFA','EMEFA TESSY')\n",
        "final['agentname'] = final['agentname'].str.replace('TESSY EMEFA','EMEFA TESSY')\n",
        "#final['agentname'] = final['agentname'].str.replace('PRISCILLA APPAU\\t','PRISCILLA APPAU')\n",
        "#final['agentname'] = final['agentname'].str.replace('NANCY CHRISTIANA BIRIWAAAA','NANCY BIRIWAA')"
      ],
      "metadata": {
        "id": "VrvYIIbJjC4c"
      },
      "execution_count": null,
      "outputs": []
    },
    {
      "cell_type": "code",
      "source": [
        "final.source.value_counts()"
      ],
      "metadata": {
        "colab": {
          "base_uri": "https://localhost:8080/"
        },
        "id": "87S3t8J-ZjC8",
        "outputId": "7656ea62-e2dd-46ec-b310-be9a6872df7e"
      },
      "execution_count": null,
      "outputs": [
        {
          "output_type": "execute_result",
          "data": {
            "text/plain": [
              "AUTODEBIT        1472\n",
              "AGENT             307\n",
              "Not Available     109\n",
              "USSD               76\n",
              "Tier2              49\n",
              "REFERER-163         1\n",
              "Name: source, dtype: int64"
            ]
          },
          "metadata": {},
          "execution_count": 38
        }
      ]
    },
    {
      "cell_type": "code",
      "source": [
        "final.drop(final.index[final['source']=='Tier2'],inplace=True)"
      ],
      "metadata": {
        "id": "dJJn4KJdcqMD"
      },
      "execution_count": null,
      "outputs": []
    },
    {
      "cell_type": "code",
      "source": [
        "final['trans_type'] = np.where(final['source'] == 'AGENT', 'CASH', 'DIGITAL')\n",
        "\n",
        "#final['trans_type'] = np.where(final['source'] == 'AGENT', 'CASH', 'Tier2','TIER2','DIGITAL')"
      ],
      "metadata": {
        "id": "ekAtv3ZIVknd"
      },
      "execution_count": null,
      "outputs": []
    },
    {
      "cell_type": "code",
      "source": [
        "final['agentname'] = final['agentname'].str.split().str.join(' ')"
      ],
      "metadata": {
        "id": "CtzAuXEdWcd-"
      },
      "execution_count": null,
      "outputs": []
    },
    {
      "cell_type": "code",
      "source": [
        "final['agentname'] = final['agentname'].str.replace(('\\t'), '',regex=True)"
      ],
      "metadata": {
        "id": "doN5b56iSsk9"
      },
      "execution_count": null,
      "outputs": []
    },
    {
      "cell_type": "code",
      "source": [
        "a = final.agentname.unique()"
      ],
      "metadata": {
        "id": "UYdPq0w1sBkr"
      },
      "execution_count": null,
      "outputs": []
    },
    {
      "cell_type": "code",
      "source": [
        "aa = pd.DataFrame(a)"
      ],
      "metadata": {
        "id": "uZfLKxc4xZ2F"
      },
      "execution_count": null,
      "outputs": []
    },
    {
      "cell_type": "code",
      "source": [
        "aa"
      ],
      "metadata": {
        "colab": {
          "base_uri": "https://localhost:8080/",
          "height": 424
        },
        "id": "brs_83TpyHme",
        "outputId": "fca59e69-7a73-4d06-99ea-3c1194e0b292"
      },
      "execution_count": null,
      "outputs": [
        {
          "output_type": "execute_result",
          "data": {
            "text/plain": [
              "                          0\n",
              "0         BEATRICE FANTEKWA\n",
              "1               ERNEST AFUM\n",
              "2              MANDY ASANTE\n",
              "3           EBENEZER MENSAH\n",
              "4               MOSES NDIDA\n",
              "..                      ...\n",
              "70          PRISCILLA OWUSU\n",
              "71  PHILIP KWAKU ACHEAMPONG\n",
              "72        ABENA SERWAH OSEI\n",
              "73        JUSTINA ANOSEDEMA\n",
              "74     YAKUBU UMMUL- KALSUM\n",
              "\n",
              "[75 rows x 1 columns]"
            ],
            "text/html": [
              "\n",
              "  <div id=\"df-9e755fce-4a91-44ee-9204-9ff3d1dafe08\">\n",
              "    <div class=\"colab-df-container\">\n",
              "      <div>\n",
              "<style scoped>\n",
              "    .dataframe tbody tr th:only-of-type {\n",
              "        vertical-align: middle;\n",
              "    }\n",
              "\n",
              "    .dataframe tbody tr th {\n",
              "        vertical-align: top;\n",
              "    }\n",
              "\n",
              "    .dataframe thead th {\n",
              "        text-align: right;\n",
              "    }\n",
              "</style>\n",
              "<table border=\"1\" class=\"dataframe\">\n",
              "  <thead>\n",
              "    <tr style=\"text-align: right;\">\n",
              "      <th></th>\n",
              "      <th>0</th>\n",
              "    </tr>\n",
              "  </thead>\n",
              "  <tbody>\n",
              "    <tr>\n",
              "      <th>0</th>\n",
              "      <td>BEATRICE FANTEKWA</td>\n",
              "    </tr>\n",
              "    <tr>\n",
              "      <th>1</th>\n",
              "      <td>ERNEST AFUM</td>\n",
              "    </tr>\n",
              "    <tr>\n",
              "      <th>2</th>\n",
              "      <td>MANDY ASANTE</td>\n",
              "    </tr>\n",
              "    <tr>\n",
              "      <th>3</th>\n",
              "      <td>EBENEZER MENSAH</td>\n",
              "    </tr>\n",
              "    <tr>\n",
              "      <th>4</th>\n",
              "      <td>MOSES NDIDA</td>\n",
              "    </tr>\n",
              "    <tr>\n",
              "      <th>...</th>\n",
              "      <td>...</td>\n",
              "    </tr>\n",
              "    <tr>\n",
              "      <th>70</th>\n",
              "      <td>PRISCILLA OWUSU</td>\n",
              "    </tr>\n",
              "    <tr>\n",
              "      <th>71</th>\n",
              "      <td>PHILIP KWAKU ACHEAMPONG</td>\n",
              "    </tr>\n",
              "    <tr>\n",
              "      <th>72</th>\n",
              "      <td>ABENA SERWAH OSEI</td>\n",
              "    </tr>\n",
              "    <tr>\n",
              "      <th>73</th>\n",
              "      <td>JUSTINA ANOSEDEMA</td>\n",
              "    </tr>\n",
              "    <tr>\n",
              "      <th>74</th>\n",
              "      <td>YAKUBU UMMUL- KALSUM</td>\n",
              "    </tr>\n",
              "  </tbody>\n",
              "</table>\n",
              "<p>75 rows × 1 columns</p>\n",
              "</div>\n",
              "      <button class=\"colab-df-convert\" onclick=\"convertToInteractive('df-9e755fce-4a91-44ee-9204-9ff3d1dafe08')\"\n",
              "              title=\"Convert this dataframe to an interactive table.\"\n",
              "              style=\"display:none;\">\n",
              "        \n",
              "  <svg xmlns=\"http://www.w3.org/2000/svg\" height=\"24px\"viewBox=\"0 0 24 24\"\n",
              "       width=\"24px\">\n",
              "    <path d=\"M0 0h24v24H0V0z\" fill=\"none\"/>\n",
              "    <path d=\"M18.56 5.44l.94 2.06.94-2.06 2.06-.94-2.06-.94-.94-2.06-.94 2.06-2.06.94zm-11 1L8.5 8.5l.94-2.06 2.06-.94-2.06-.94L8.5 2.5l-.94 2.06-2.06.94zm10 10l.94 2.06.94-2.06 2.06-.94-2.06-.94-.94-2.06-.94 2.06-2.06.94z\"/><path d=\"M17.41 7.96l-1.37-1.37c-.4-.4-.92-.59-1.43-.59-.52 0-1.04.2-1.43.59L10.3 9.45l-7.72 7.72c-.78.78-.78 2.05 0 2.83L4 21.41c.39.39.9.59 1.41.59.51 0 1.02-.2 1.41-.59l7.78-7.78 2.81-2.81c.8-.78.8-2.07 0-2.86zM5.41 20L4 18.59l7.72-7.72 1.47 1.35L5.41 20z\"/>\n",
              "  </svg>\n",
              "      </button>\n",
              "      \n",
              "  <style>\n",
              "    .colab-df-container {\n",
              "      display:flex;\n",
              "      flex-wrap:wrap;\n",
              "      gap: 12px;\n",
              "    }\n",
              "\n",
              "    .colab-df-convert {\n",
              "      background-color: #E8F0FE;\n",
              "      border: none;\n",
              "      border-radius: 50%;\n",
              "      cursor: pointer;\n",
              "      display: none;\n",
              "      fill: #1967D2;\n",
              "      height: 32px;\n",
              "      padding: 0 0 0 0;\n",
              "      width: 32px;\n",
              "    }\n",
              "\n",
              "    .colab-df-convert:hover {\n",
              "      background-color: #E2EBFA;\n",
              "      box-shadow: 0px 1px 2px rgba(60, 64, 67, 0.3), 0px 1px 3px 1px rgba(60, 64, 67, 0.15);\n",
              "      fill: #174EA6;\n",
              "    }\n",
              "\n",
              "    [theme=dark] .colab-df-convert {\n",
              "      background-color: #3B4455;\n",
              "      fill: #D2E3FC;\n",
              "    }\n",
              "\n",
              "    [theme=dark] .colab-df-convert:hover {\n",
              "      background-color: #434B5C;\n",
              "      box-shadow: 0px 1px 3px 1px rgba(0, 0, 0, 0.15);\n",
              "      filter: drop-shadow(0px 1px 2px rgba(0, 0, 0, 0.3));\n",
              "      fill: #FFFFFF;\n",
              "    }\n",
              "  </style>\n",
              "\n",
              "      <script>\n",
              "        const buttonEl =\n",
              "          document.querySelector('#df-9e755fce-4a91-44ee-9204-9ff3d1dafe08 button.colab-df-convert');\n",
              "        buttonEl.style.display =\n",
              "          google.colab.kernel.accessAllowed ? 'block' : 'none';\n",
              "\n",
              "        async function convertToInteractive(key) {\n",
              "          const element = document.querySelector('#df-9e755fce-4a91-44ee-9204-9ff3d1dafe08');\n",
              "          const dataTable =\n",
              "            await google.colab.kernel.invokeFunction('convertToInteractive',\n",
              "                                                     [key], {});\n",
              "          if (!dataTable) return;\n",
              "\n",
              "          const docLinkHtml = 'Like what you see? Visit the ' +\n",
              "            '<a target=\"_blank\" href=https://colab.research.google.com/notebooks/data_table.ipynb>data table notebook</a>'\n",
              "            + ' to learn more about interactive tables.';\n",
              "          element.innerHTML = '';\n",
              "          dataTable['output_type'] = 'display_data';\n",
              "          await google.colab.output.renderOutput(dataTable, element);\n",
              "          const docLink = document.createElement('div');\n",
              "          docLink.innerHTML = docLinkHtml;\n",
              "          element.appendChild(docLink);\n",
              "        }\n",
              "      </script>\n",
              "    </div>\n",
              "  </div>\n",
              "  "
            ]
          },
          "metadata": {},
          "execution_count": 45
        }
      ]
    },
    {
      "cell_type": "code",
      "source": [
        "final"
      ],
      "metadata": {
        "colab": {
          "base_uri": "https://localhost:8080/",
          "height": 696
        },
        "id": "NLxHQJlFfVRl",
        "outputId": "e58bc32e-cc9f-4775-c0b4-716f7d0e84a9"
      },
      "execution_count": null,
      "outputs": [
        {
          "output_type": "execute_result",
          "data": {
            "text/plain": [
              "       Trans.ID             Trans.Date        Settlement Date  Value Date  \\\n",
              "0     121255844  20/03/2022 07:47:10PM  21/03/2022 09:06:00AM  20/03/2022   \n",
              "1     121255643  20/03/2022 07:45:22PM  21/03/2022 09:06:00AM  20/03/2022   \n",
              "2     121255376  20/03/2022 07:42:53PM  21/03/2022 09:06:00AM  20/03/2022   \n",
              "3     121255063  20/03/2022 07:40:27PM  21/03/2022 09:06:00AM  20/03/2022   \n",
              "4     121254874  20/03/2022 07:38:50PM  21/03/2022 09:06:00AM  20/03/2022   \n",
              "...         ...                    ...                    ...         ...   \n",
              "1702  120384094  14/03/2022 12:03:51AM  15/03/2022 09:06:00AM  14/03/2022   \n",
              "1703  120384083  14/03/2022 12:03:08AM  15/03/2022 09:06:00AM  14/03/2022   \n",
              "1704  120384046  14/03/2022 12:00:51AM  15/03/2022 09:06:00AM  14/03/2022   \n",
              "1705  120384029  14/03/2022 12:00:35AM  15/03/2022 09:06:00AM  14/03/2022   \n",
              "1706  120384019  14/03/2022 12:00:07AM  15/03/2022 09:06:00AM  14/03/2022   \n",
              "\n",
              "      Interpay Ref No         Fee Type  Invoice Amount Invoice Currency  \\\n",
              "0            83474620  GENERAL PAYMENT             5.0              GHS   \n",
              "1            83474540  GENERAL PAYMENT            10.0              GHS   \n",
              "2            83474417  GENERAL PAYMENT            20.0              GHS   \n",
              "3            83474292  GENERAL PAYMENT            40.0              GHS   \n",
              "4            83474214  GENERAL PAYMENT            10.0              GHS   \n",
              "...               ...              ...             ...              ...   \n",
              "1702         82928205  GENERAL PAYMENT             5.0              GHS   \n",
              "1703         82928198  GENERAL PAYMENT             1.0              GHS   \n",
              "1704         82928166  GENERAL PAYMENT            20.0              GHS   \n",
              "1705         82928161  GENERAL PAYMENT             5.0              GHS   \n",
              "1706         82928158  GENERAL PAYMENT            10.0              GHS   \n",
              "\n",
              "      Transacted Amount Transacted Currency  ...    Transaction Source  \\\n",
              "0                  5.15                 GHS  ...  MERCHANT INVOICE API   \n",
              "1                 10.30                 GHS  ...  MERCHANT INVOICE API   \n",
              "2                 20.59                 GHS  ...  MERCHANT INVOICE API   \n",
              "3                 41.18                 GHS  ...  MERCHANT INVOICE API   \n",
              "4                 10.30                 GHS  ...  MERCHANT INVOICE API   \n",
              "...                 ...                 ...  ...                   ...   \n",
              "1702               5.15                 GHS  ...  MERCHANT INVOICE API   \n",
              "1703               1.03                 GHS  ...  MERCHANT INVOICE API   \n",
              "1704              20.59                 GHS  ...  MERCHANT INVOICE API   \n",
              "1705               5.15                 GHS  ...  MERCHANT INVOICE API   \n",
              "1706              10.30                 GHS  ...  MERCHANT INVOICE API   \n",
              "\n",
              "      Reversal Status Reversal Date  Reversal Payback Amount  \\\n",
              "0                 NaN           NaN                        0   \n",
              "1                 NaN           NaN                        0   \n",
              "2                 NaN           NaN                        0   \n",
              "3                 NaN           NaN                        0   \n",
              "4                 NaN           NaN                        0   \n",
              "...               ...           ...                      ...   \n",
              "1702              NaN           NaN                        0   \n",
              "1703              NaN           NaN                        0   \n",
              "1704              NaN           NaN                        0   \n",
              "1705              NaN           NaN                        0   \n",
              "1706              NaN           NaN                        0   \n",
              "\n",
              "     Agent Reference Number Customer Membership Number  \\\n",
              "0                       NaN                        NaN   \n",
              "1                       NaN                        NaN   \n",
              "2                       NaN                        NaN   \n",
              "3                       NaN                        NaN   \n",
              "4                       NaN                        NaN   \n",
              "...                     ...                        ...   \n",
              "1702                    NaN                        NaN   \n",
              "1703                    NaN                        NaN   \n",
              "1704                    NaN                        NaN   \n",
              "1705                    NaN                        NaN   \n",
              "1706                    NaN                        NaN   \n",
              "\n",
              "      Customer Mobile Number     source          agentname trans_type  \n",
              "0                        NaN      AGENT  BEATRICE FANTEKWA       CASH  \n",
              "1                        NaN      AGENT  BEATRICE FANTEKWA       CASH  \n",
              "2                        NaN      AGENT  BEATRICE FANTEKWA       CASH  \n",
              "3                        NaN      AGENT  BEATRICE FANTEKWA       CASH  \n",
              "4                        NaN      AGENT  BEATRICE FANTEKWA       CASH  \n",
              "...                      ...        ...                ...        ...  \n",
              "1702                     NaN  AUTODEBIT     OTHER CHANNELS    DIGITAL  \n",
              "1703                     NaN  AUTODEBIT     ERIC APPENTENG    DIGITAL  \n",
              "1704                     NaN  AUTODEBIT     OTHER CHANNELS    DIGITAL  \n",
              "1705                     NaN  AUTODEBIT        YAA ASAMOAH    DIGITAL  \n",
              "1706                     NaN  AUTODEBIT     OTHER CHANNELS    DIGITAL  \n",
              "\n",
              "[1965 rows x 32 columns]"
            ],
            "text/html": [
              "\n",
              "  <div id=\"df-ee3f97dd-9354-4bcf-b4b4-9c39ad464691\">\n",
              "    <div class=\"colab-df-container\">\n",
              "      <div>\n",
              "<style scoped>\n",
              "    .dataframe tbody tr th:only-of-type {\n",
              "        vertical-align: middle;\n",
              "    }\n",
              "\n",
              "    .dataframe tbody tr th {\n",
              "        vertical-align: top;\n",
              "    }\n",
              "\n",
              "    .dataframe thead th {\n",
              "        text-align: right;\n",
              "    }\n",
              "</style>\n",
              "<table border=\"1\" class=\"dataframe\">\n",
              "  <thead>\n",
              "    <tr style=\"text-align: right;\">\n",
              "      <th></th>\n",
              "      <th>Trans.ID</th>\n",
              "      <th>Trans.Date</th>\n",
              "      <th>Settlement Date</th>\n",
              "      <th>Value Date</th>\n",
              "      <th>Interpay Ref No</th>\n",
              "      <th>Fee Type</th>\n",
              "      <th>Invoice Amount</th>\n",
              "      <th>Invoice Currency</th>\n",
              "      <th>Transacted Amount</th>\n",
              "      <th>Transacted Currency</th>\n",
              "      <th>...</th>\n",
              "      <th>Transaction Source</th>\n",
              "      <th>Reversal Status</th>\n",
              "      <th>Reversal Date</th>\n",
              "      <th>Reversal Payback Amount</th>\n",
              "      <th>Agent Reference Number</th>\n",
              "      <th>Customer Membership Number</th>\n",
              "      <th>Customer Mobile Number</th>\n",
              "      <th>source</th>\n",
              "      <th>agentname</th>\n",
              "      <th>trans_type</th>\n",
              "    </tr>\n",
              "  </thead>\n",
              "  <tbody>\n",
              "    <tr>\n",
              "      <th>0</th>\n",
              "      <td>121255844</td>\n",
              "      <td>20/03/2022 07:47:10PM</td>\n",
              "      <td>21/03/2022 09:06:00AM</td>\n",
              "      <td>20/03/2022</td>\n",
              "      <td>83474620</td>\n",
              "      <td>GENERAL PAYMENT</td>\n",
              "      <td>5.0</td>\n",
              "      <td>GHS</td>\n",
              "      <td>5.15</td>\n",
              "      <td>GHS</td>\n",
              "      <td>...</td>\n",
              "      <td>MERCHANT INVOICE API</td>\n",
              "      <td>NaN</td>\n",
              "      <td>NaN</td>\n",
              "      <td>0</td>\n",
              "      <td>NaN</td>\n",
              "      <td>NaN</td>\n",
              "      <td>NaN</td>\n",
              "      <td>AGENT</td>\n",
              "      <td>BEATRICE FANTEKWA</td>\n",
              "      <td>CASH</td>\n",
              "    </tr>\n",
              "    <tr>\n",
              "      <th>1</th>\n",
              "      <td>121255643</td>\n",
              "      <td>20/03/2022 07:45:22PM</td>\n",
              "      <td>21/03/2022 09:06:00AM</td>\n",
              "      <td>20/03/2022</td>\n",
              "      <td>83474540</td>\n",
              "      <td>GENERAL PAYMENT</td>\n",
              "      <td>10.0</td>\n",
              "      <td>GHS</td>\n",
              "      <td>10.30</td>\n",
              "      <td>GHS</td>\n",
              "      <td>...</td>\n",
              "      <td>MERCHANT INVOICE API</td>\n",
              "      <td>NaN</td>\n",
              "      <td>NaN</td>\n",
              "      <td>0</td>\n",
              "      <td>NaN</td>\n",
              "      <td>NaN</td>\n",
              "      <td>NaN</td>\n",
              "      <td>AGENT</td>\n",
              "      <td>BEATRICE FANTEKWA</td>\n",
              "      <td>CASH</td>\n",
              "    </tr>\n",
              "    <tr>\n",
              "      <th>2</th>\n",
              "      <td>121255376</td>\n",
              "      <td>20/03/2022 07:42:53PM</td>\n",
              "      <td>21/03/2022 09:06:00AM</td>\n",
              "      <td>20/03/2022</td>\n",
              "      <td>83474417</td>\n",
              "      <td>GENERAL PAYMENT</td>\n",
              "      <td>20.0</td>\n",
              "      <td>GHS</td>\n",
              "      <td>20.59</td>\n",
              "      <td>GHS</td>\n",
              "      <td>...</td>\n",
              "      <td>MERCHANT INVOICE API</td>\n",
              "      <td>NaN</td>\n",
              "      <td>NaN</td>\n",
              "      <td>0</td>\n",
              "      <td>NaN</td>\n",
              "      <td>NaN</td>\n",
              "      <td>NaN</td>\n",
              "      <td>AGENT</td>\n",
              "      <td>BEATRICE FANTEKWA</td>\n",
              "      <td>CASH</td>\n",
              "    </tr>\n",
              "    <tr>\n",
              "      <th>3</th>\n",
              "      <td>121255063</td>\n",
              "      <td>20/03/2022 07:40:27PM</td>\n",
              "      <td>21/03/2022 09:06:00AM</td>\n",
              "      <td>20/03/2022</td>\n",
              "      <td>83474292</td>\n",
              "      <td>GENERAL PAYMENT</td>\n",
              "      <td>40.0</td>\n",
              "      <td>GHS</td>\n",
              "      <td>41.18</td>\n",
              "      <td>GHS</td>\n",
              "      <td>...</td>\n",
              "      <td>MERCHANT INVOICE API</td>\n",
              "      <td>NaN</td>\n",
              "      <td>NaN</td>\n",
              "      <td>0</td>\n",
              "      <td>NaN</td>\n",
              "      <td>NaN</td>\n",
              "      <td>NaN</td>\n",
              "      <td>AGENT</td>\n",
              "      <td>BEATRICE FANTEKWA</td>\n",
              "      <td>CASH</td>\n",
              "    </tr>\n",
              "    <tr>\n",
              "      <th>4</th>\n",
              "      <td>121254874</td>\n",
              "      <td>20/03/2022 07:38:50PM</td>\n",
              "      <td>21/03/2022 09:06:00AM</td>\n",
              "      <td>20/03/2022</td>\n",
              "      <td>83474214</td>\n",
              "      <td>GENERAL PAYMENT</td>\n",
              "      <td>10.0</td>\n",
              "      <td>GHS</td>\n",
              "      <td>10.30</td>\n",
              "      <td>GHS</td>\n",
              "      <td>...</td>\n",
              "      <td>MERCHANT INVOICE API</td>\n",
              "      <td>NaN</td>\n",
              "      <td>NaN</td>\n",
              "      <td>0</td>\n",
              "      <td>NaN</td>\n",
              "      <td>NaN</td>\n",
              "      <td>NaN</td>\n",
              "      <td>AGENT</td>\n",
              "      <td>BEATRICE FANTEKWA</td>\n",
              "      <td>CASH</td>\n",
              "    </tr>\n",
              "    <tr>\n",
              "      <th>...</th>\n",
              "      <td>...</td>\n",
              "      <td>...</td>\n",
              "      <td>...</td>\n",
              "      <td>...</td>\n",
              "      <td>...</td>\n",
              "      <td>...</td>\n",
              "      <td>...</td>\n",
              "      <td>...</td>\n",
              "      <td>...</td>\n",
              "      <td>...</td>\n",
              "      <td>...</td>\n",
              "      <td>...</td>\n",
              "      <td>...</td>\n",
              "      <td>...</td>\n",
              "      <td>...</td>\n",
              "      <td>...</td>\n",
              "      <td>...</td>\n",
              "      <td>...</td>\n",
              "      <td>...</td>\n",
              "      <td>...</td>\n",
              "      <td>...</td>\n",
              "    </tr>\n",
              "    <tr>\n",
              "      <th>1702</th>\n",
              "      <td>120384094</td>\n",
              "      <td>14/03/2022 12:03:51AM</td>\n",
              "      <td>15/03/2022 09:06:00AM</td>\n",
              "      <td>14/03/2022</td>\n",
              "      <td>82928205</td>\n",
              "      <td>GENERAL PAYMENT</td>\n",
              "      <td>5.0</td>\n",
              "      <td>GHS</td>\n",
              "      <td>5.15</td>\n",
              "      <td>GHS</td>\n",
              "      <td>...</td>\n",
              "      <td>MERCHANT INVOICE API</td>\n",
              "      <td>NaN</td>\n",
              "      <td>NaN</td>\n",
              "      <td>0</td>\n",
              "      <td>NaN</td>\n",
              "      <td>NaN</td>\n",
              "      <td>NaN</td>\n",
              "      <td>AUTODEBIT</td>\n",
              "      <td>OTHER CHANNELS</td>\n",
              "      <td>DIGITAL</td>\n",
              "    </tr>\n",
              "    <tr>\n",
              "      <th>1703</th>\n",
              "      <td>120384083</td>\n",
              "      <td>14/03/2022 12:03:08AM</td>\n",
              "      <td>15/03/2022 09:06:00AM</td>\n",
              "      <td>14/03/2022</td>\n",
              "      <td>82928198</td>\n",
              "      <td>GENERAL PAYMENT</td>\n",
              "      <td>1.0</td>\n",
              "      <td>GHS</td>\n",
              "      <td>1.03</td>\n",
              "      <td>GHS</td>\n",
              "      <td>...</td>\n",
              "      <td>MERCHANT INVOICE API</td>\n",
              "      <td>NaN</td>\n",
              "      <td>NaN</td>\n",
              "      <td>0</td>\n",
              "      <td>NaN</td>\n",
              "      <td>NaN</td>\n",
              "      <td>NaN</td>\n",
              "      <td>AUTODEBIT</td>\n",
              "      <td>ERIC APPENTENG</td>\n",
              "      <td>DIGITAL</td>\n",
              "    </tr>\n",
              "    <tr>\n",
              "      <th>1704</th>\n",
              "      <td>120384046</td>\n",
              "      <td>14/03/2022 12:00:51AM</td>\n",
              "      <td>15/03/2022 09:06:00AM</td>\n",
              "      <td>14/03/2022</td>\n",
              "      <td>82928166</td>\n",
              "      <td>GENERAL PAYMENT</td>\n",
              "      <td>20.0</td>\n",
              "      <td>GHS</td>\n",
              "      <td>20.59</td>\n",
              "      <td>GHS</td>\n",
              "      <td>...</td>\n",
              "      <td>MERCHANT INVOICE API</td>\n",
              "      <td>NaN</td>\n",
              "      <td>NaN</td>\n",
              "      <td>0</td>\n",
              "      <td>NaN</td>\n",
              "      <td>NaN</td>\n",
              "      <td>NaN</td>\n",
              "      <td>AUTODEBIT</td>\n",
              "      <td>OTHER CHANNELS</td>\n",
              "      <td>DIGITAL</td>\n",
              "    </tr>\n",
              "    <tr>\n",
              "      <th>1705</th>\n",
              "      <td>120384029</td>\n",
              "      <td>14/03/2022 12:00:35AM</td>\n",
              "      <td>15/03/2022 09:06:00AM</td>\n",
              "      <td>14/03/2022</td>\n",
              "      <td>82928161</td>\n",
              "      <td>GENERAL PAYMENT</td>\n",
              "      <td>5.0</td>\n",
              "      <td>GHS</td>\n",
              "      <td>5.15</td>\n",
              "      <td>GHS</td>\n",
              "      <td>...</td>\n",
              "      <td>MERCHANT INVOICE API</td>\n",
              "      <td>NaN</td>\n",
              "      <td>NaN</td>\n",
              "      <td>0</td>\n",
              "      <td>NaN</td>\n",
              "      <td>NaN</td>\n",
              "      <td>NaN</td>\n",
              "      <td>AUTODEBIT</td>\n",
              "      <td>YAA ASAMOAH</td>\n",
              "      <td>DIGITAL</td>\n",
              "    </tr>\n",
              "    <tr>\n",
              "      <th>1706</th>\n",
              "      <td>120384019</td>\n",
              "      <td>14/03/2022 12:00:07AM</td>\n",
              "      <td>15/03/2022 09:06:00AM</td>\n",
              "      <td>14/03/2022</td>\n",
              "      <td>82928158</td>\n",
              "      <td>GENERAL PAYMENT</td>\n",
              "      <td>10.0</td>\n",
              "      <td>GHS</td>\n",
              "      <td>10.30</td>\n",
              "      <td>GHS</td>\n",
              "      <td>...</td>\n",
              "      <td>MERCHANT INVOICE API</td>\n",
              "      <td>NaN</td>\n",
              "      <td>NaN</td>\n",
              "      <td>0</td>\n",
              "      <td>NaN</td>\n",
              "      <td>NaN</td>\n",
              "      <td>NaN</td>\n",
              "      <td>AUTODEBIT</td>\n",
              "      <td>OTHER CHANNELS</td>\n",
              "      <td>DIGITAL</td>\n",
              "    </tr>\n",
              "  </tbody>\n",
              "</table>\n",
              "<p>1965 rows × 32 columns</p>\n",
              "</div>\n",
              "      <button class=\"colab-df-convert\" onclick=\"convertToInteractive('df-ee3f97dd-9354-4bcf-b4b4-9c39ad464691')\"\n",
              "              title=\"Convert this dataframe to an interactive table.\"\n",
              "              style=\"display:none;\">\n",
              "        \n",
              "  <svg xmlns=\"http://www.w3.org/2000/svg\" height=\"24px\"viewBox=\"0 0 24 24\"\n",
              "       width=\"24px\">\n",
              "    <path d=\"M0 0h24v24H0V0z\" fill=\"none\"/>\n",
              "    <path d=\"M18.56 5.44l.94 2.06.94-2.06 2.06-.94-2.06-.94-.94-2.06-.94 2.06-2.06.94zm-11 1L8.5 8.5l.94-2.06 2.06-.94-2.06-.94L8.5 2.5l-.94 2.06-2.06.94zm10 10l.94 2.06.94-2.06 2.06-.94-2.06-.94-.94-2.06-.94 2.06-2.06.94z\"/><path d=\"M17.41 7.96l-1.37-1.37c-.4-.4-.92-.59-1.43-.59-.52 0-1.04.2-1.43.59L10.3 9.45l-7.72 7.72c-.78.78-.78 2.05 0 2.83L4 21.41c.39.39.9.59 1.41.59.51 0 1.02-.2 1.41-.59l7.78-7.78 2.81-2.81c.8-.78.8-2.07 0-2.86zM5.41 20L4 18.59l7.72-7.72 1.47 1.35L5.41 20z\"/>\n",
              "  </svg>\n",
              "      </button>\n",
              "      \n",
              "  <style>\n",
              "    .colab-df-container {\n",
              "      display:flex;\n",
              "      flex-wrap:wrap;\n",
              "      gap: 12px;\n",
              "    }\n",
              "\n",
              "    .colab-df-convert {\n",
              "      background-color: #E8F0FE;\n",
              "      border: none;\n",
              "      border-radius: 50%;\n",
              "      cursor: pointer;\n",
              "      display: none;\n",
              "      fill: #1967D2;\n",
              "      height: 32px;\n",
              "      padding: 0 0 0 0;\n",
              "      width: 32px;\n",
              "    }\n",
              "\n",
              "    .colab-df-convert:hover {\n",
              "      background-color: #E2EBFA;\n",
              "      box-shadow: 0px 1px 2px rgba(60, 64, 67, 0.3), 0px 1px 3px 1px rgba(60, 64, 67, 0.15);\n",
              "      fill: #174EA6;\n",
              "    }\n",
              "\n",
              "    [theme=dark] .colab-df-convert {\n",
              "      background-color: #3B4455;\n",
              "      fill: #D2E3FC;\n",
              "    }\n",
              "\n",
              "    [theme=dark] .colab-df-convert:hover {\n",
              "      background-color: #434B5C;\n",
              "      box-shadow: 0px 1px 3px 1px rgba(0, 0, 0, 0.15);\n",
              "      filter: drop-shadow(0px 1px 2px rgba(0, 0, 0, 0.3));\n",
              "      fill: #FFFFFF;\n",
              "    }\n",
              "  </style>\n",
              "\n",
              "      <script>\n",
              "        const buttonEl =\n",
              "          document.querySelector('#df-ee3f97dd-9354-4bcf-b4b4-9c39ad464691 button.colab-df-convert');\n",
              "        buttonEl.style.display =\n",
              "          google.colab.kernel.accessAllowed ? 'block' : 'none';\n",
              "\n",
              "        async function convertToInteractive(key) {\n",
              "          const element = document.querySelector('#df-ee3f97dd-9354-4bcf-b4b4-9c39ad464691');\n",
              "          const dataTable =\n",
              "            await google.colab.kernel.invokeFunction('convertToInteractive',\n",
              "                                                     [key], {});\n",
              "          if (!dataTable) return;\n",
              "\n",
              "          const docLinkHtml = 'Like what you see? Visit the ' +\n",
              "            '<a target=\"_blank\" href=https://colab.research.google.com/notebooks/data_table.ipynb>data table notebook</a>'\n",
              "            + ' to learn more about interactive tables.';\n",
              "          element.innerHTML = '';\n",
              "          dataTable['output_type'] = 'display_data';\n",
              "          await google.colab.output.renderOutput(dataTable, element);\n",
              "          const docLink = document.createElement('div');\n",
              "          docLink.innerHTML = docLinkHtml;\n",
              "          element.appendChild(docLink);\n",
              "        }\n",
              "      </script>\n",
              "    </div>\n",
              "  </div>\n",
              "  "
            ]
          },
          "metadata": {},
          "execution_count": 46
        }
      ]
    },
    {
      "cell_type": "code",
      "source": [
        "final.source.value_counts()"
      ],
      "metadata": {
        "colab": {
          "base_uri": "https://localhost:8080/"
        },
        "id": "NnsBbqzB_p2X",
        "outputId": "06dec80b-65a4-4d9b-95fc-873bbbcd90c2"
      },
      "execution_count": null,
      "outputs": [
        {
          "output_type": "execute_result",
          "data": {
            "text/plain": [
              "AUTODEBIT        1472\n",
              "AGENT             307\n",
              "Not Available     109\n",
              "USSD               76\n",
              "REFERER-163         1\n",
              "Name: source, dtype: int64"
            ]
          },
          "metadata": {},
          "execution_count": 47
        }
      ]
    },
    {
      "cell_type": "code",
      "source": [
        "#final.to_excel('report.xlsx')"
      ],
      "metadata": {
        "id": "Rj0Z9rCg7rtG"
      },
      "execution_count": null,
      "outputs": []
    },
    {
      "cell_type": "code",
      "source": [
        "agent_list = pd.read_excel('agent_list.xlsx')"
      ],
      "metadata": {
        "id": "xMweAVNm_1Ul"
      },
      "execution_count": null,
      "outputs": []
    },
    {
      "cell_type": "code",
      "source": [
        "agent_list"
      ],
      "metadata": {
        "colab": {
          "base_uri": "https://localhost:8080/",
          "height": 1000
        },
        "id": "jSb2gCRbJ0jY",
        "outputId": "833d5771-92be-4522-b84e-e3a8c69705bb"
      },
      "execution_count": null,
      "outputs": [
        {
          "output_type": "execute_result",
          "data": {
            "text/plain": [
              "                   agentname\n",
              "0          ABENA SERWAH OSEI\n",
              "1               ASANA BIANKA\n",
              "2             BENJAMIN QUAYE\n",
              "3             DELIGHT AZANDA\n",
              "4         DENNIS AGGREY OTOO\n",
              "5                EMEFA TESSY\n",
              "6             ERIC APPENTENG\n",
              "7                ERNEST AFUM\n",
              "8              EUNICE VISION\n",
              "9          FLORENCE ZINKPIEW\n",
              "10            FRANCIS OPPONG\n",
              "11              GIFTY LARTEY\n",
              "12        JUSTINA  ANOSEDEMA\n",
              "13              MANDY ASANTE\n",
              "14              MARY BUABENG\n",
              "15             MICHAEL BONSU\n",
              "16               MOSES NDIDA\n",
              "17              NANCY BIRIWA\n",
              "18       OBED APPIAH ASAMOAH\n",
              "19              PRINCE OHENE\n",
              "20           PRISCILLA APPAU\n",
              "21            RICHARD NYARBI\n",
              "22      SAMUEL BOACHIE-ENNIN\n",
              "23               DAVID OFORI\n",
              "24             KELVIN BOAMAH\n",
              "25               LAUD MENSAH\n",
              "26           NEHEMIAH TETTEH\n",
              "27              PRINCE OHENE\n",
              "28               YAA ASAMOAH\n",
              "29            DERRICK FILSON\n",
              "30            ABRAHAM MENSAH\n",
              "31      MOSES ALLISON TETTEH\n",
              "32              GEORGE WEDZI\n",
              "33       RICHMOND EDEM TSALA\n",
              "34            WINFRED NYARKO\n",
              "35  MABEL ADEI OPPONG KONADU\n",
              "36         JUSTINA ANOSEDEMA\n",
              "37          NAA DEEDEI ANNAG\n",
              "38                NANCY KWAO\n",
              "39           EBENEZER MENSAH"
            ],
            "text/html": [
              "\n",
              "  <div id=\"df-0df14cf6-53ee-4604-86e2-e99e7303f884\">\n",
              "    <div class=\"colab-df-container\">\n",
              "      <div>\n",
              "<style scoped>\n",
              "    .dataframe tbody tr th:only-of-type {\n",
              "        vertical-align: middle;\n",
              "    }\n",
              "\n",
              "    .dataframe tbody tr th {\n",
              "        vertical-align: top;\n",
              "    }\n",
              "\n",
              "    .dataframe thead th {\n",
              "        text-align: right;\n",
              "    }\n",
              "</style>\n",
              "<table border=\"1\" class=\"dataframe\">\n",
              "  <thead>\n",
              "    <tr style=\"text-align: right;\">\n",
              "      <th></th>\n",
              "      <th>agentname</th>\n",
              "    </tr>\n",
              "  </thead>\n",
              "  <tbody>\n",
              "    <tr>\n",
              "      <th>0</th>\n",
              "      <td>ABENA SERWAH OSEI</td>\n",
              "    </tr>\n",
              "    <tr>\n",
              "      <th>1</th>\n",
              "      <td>ASANA BIANKA</td>\n",
              "    </tr>\n",
              "    <tr>\n",
              "      <th>2</th>\n",
              "      <td>BENJAMIN QUAYE</td>\n",
              "    </tr>\n",
              "    <tr>\n",
              "      <th>3</th>\n",
              "      <td>DELIGHT AZANDA</td>\n",
              "    </tr>\n",
              "    <tr>\n",
              "      <th>4</th>\n",
              "      <td>DENNIS AGGREY OTOO</td>\n",
              "    </tr>\n",
              "    <tr>\n",
              "      <th>5</th>\n",
              "      <td>EMEFA TESSY</td>\n",
              "    </tr>\n",
              "    <tr>\n",
              "      <th>6</th>\n",
              "      <td>ERIC APPENTENG</td>\n",
              "    </tr>\n",
              "    <tr>\n",
              "      <th>7</th>\n",
              "      <td>ERNEST AFUM</td>\n",
              "    </tr>\n",
              "    <tr>\n",
              "      <th>8</th>\n",
              "      <td>EUNICE VISION</td>\n",
              "    </tr>\n",
              "    <tr>\n",
              "      <th>9</th>\n",
              "      <td>FLORENCE ZINKPIEW</td>\n",
              "    </tr>\n",
              "    <tr>\n",
              "      <th>10</th>\n",
              "      <td>FRANCIS OPPONG</td>\n",
              "    </tr>\n",
              "    <tr>\n",
              "      <th>11</th>\n",
              "      <td>GIFTY LARTEY</td>\n",
              "    </tr>\n",
              "    <tr>\n",
              "      <th>12</th>\n",
              "      <td>JUSTINA  ANOSEDEMA</td>\n",
              "    </tr>\n",
              "    <tr>\n",
              "      <th>13</th>\n",
              "      <td>MANDY ASANTE</td>\n",
              "    </tr>\n",
              "    <tr>\n",
              "      <th>14</th>\n",
              "      <td>MARY BUABENG</td>\n",
              "    </tr>\n",
              "    <tr>\n",
              "      <th>15</th>\n",
              "      <td>MICHAEL BONSU</td>\n",
              "    </tr>\n",
              "    <tr>\n",
              "      <th>16</th>\n",
              "      <td>MOSES NDIDA</td>\n",
              "    </tr>\n",
              "    <tr>\n",
              "      <th>17</th>\n",
              "      <td>NANCY BIRIWA</td>\n",
              "    </tr>\n",
              "    <tr>\n",
              "      <th>18</th>\n",
              "      <td>OBED APPIAH ASAMOAH</td>\n",
              "    </tr>\n",
              "    <tr>\n",
              "      <th>19</th>\n",
              "      <td>PRINCE OHENE</td>\n",
              "    </tr>\n",
              "    <tr>\n",
              "      <th>20</th>\n",
              "      <td>PRISCILLA APPAU</td>\n",
              "    </tr>\n",
              "    <tr>\n",
              "      <th>21</th>\n",
              "      <td>RICHARD NYARBI</td>\n",
              "    </tr>\n",
              "    <tr>\n",
              "      <th>22</th>\n",
              "      <td>SAMUEL BOACHIE-ENNIN</td>\n",
              "    </tr>\n",
              "    <tr>\n",
              "      <th>23</th>\n",
              "      <td>DAVID OFORI</td>\n",
              "    </tr>\n",
              "    <tr>\n",
              "      <th>24</th>\n",
              "      <td>KELVIN BOAMAH</td>\n",
              "    </tr>\n",
              "    <tr>\n",
              "      <th>25</th>\n",
              "      <td>LAUD MENSAH</td>\n",
              "    </tr>\n",
              "    <tr>\n",
              "      <th>26</th>\n",
              "      <td>NEHEMIAH TETTEH</td>\n",
              "    </tr>\n",
              "    <tr>\n",
              "      <th>27</th>\n",
              "      <td>PRINCE OHENE</td>\n",
              "    </tr>\n",
              "    <tr>\n",
              "      <th>28</th>\n",
              "      <td>YAA ASAMOAH</td>\n",
              "    </tr>\n",
              "    <tr>\n",
              "      <th>29</th>\n",
              "      <td>DERRICK FILSON</td>\n",
              "    </tr>\n",
              "    <tr>\n",
              "      <th>30</th>\n",
              "      <td>ABRAHAM MENSAH</td>\n",
              "    </tr>\n",
              "    <tr>\n",
              "      <th>31</th>\n",
              "      <td>MOSES ALLISON TETTEH</td>\n",
              "    </tr>\n",
              "    <tr>\n",
              "      <th>32</th>\n",
              "      <td>GEORGE WEDZI</td>\n",
              "    </tr>\n",
              "    <tr>\n",
              "      <th>33</th>\n",
              "      <td>RICHMOND EDEM TSALA</td>\n",
              "    </tr>\n",
              "    <tr>\n",
              "      <th>34</th>\n",
              "      <td>WINFRED NYARKO</td>\n",
              "    </tr>\n",
              "    <tr>\n",
              "      <th>35</th>\n",
              "      <td>MABEL ADEI OPPONG KONADU</td>\n",
              "    </tr>\n",
              "    <tr>\n",
              "      <th>36</th>\n",
              "      <td>JUSTINA ANOSEDEMA</td>\n",
              "    </tr>\n",
              "    <tr>\n",
              "      <th>37</th>\n",
              "      <td>NAA DEEDEI ANNAG</td>\n",
              "    </tr>\n",
              "    <tr>\n",
              "      <th>38</th>\n",
              "      <td>NANCY KWAO</td>\n",
              "    </tr>\n",
              "    <tr>\n",
              "      <th>39</th>\n",
              "      <td>EBENEZER MENSAH</td>\n",
              "    </tr>\n",
              "  </tbody>\n",
              "</table>\n",
              "</div>\n",
              "      <button class=\"colab-df-convert\" onclick=\"convertToInteractive('df-0df14cf6-53ee-4604-86e2-e99e7303f884')\"\n",
              "              title=\"Convert this dataframe to an interactive table.\"\n",
              "              style=\"display:none;\">\n",
              "        \n",
              "  <svg xmlns=\"http://www.w3.org/2000/svg\" height=\"24px\"viewBox=\"0 0 24 24\"\n",
              "       width=\"24px\">\n",
              "    <path d=\"M0 0h24v24H0V0z\" fill=\"none\"/>\n",
              "    <path d=\"M18.56 5.44l.94 2.06.94-2.06 2.06-.94-2.06-.94-.94-2.06-.94 2.06-2.06.94zm-11 1L8.5 8.5l.94-2.06 2.06-.94-2.06-.94L8.5 2.5l-.94 2.06-2.06.94zm10 10l.94 2.06.94-2.06 2.06-.94-2.06-.94-.94-2.06-.94 2.06-2.06.94z\"/><path d=\"M17.41 7.96l-1.37-1.37c-.4-.4-.92-.59-1.43-.59-.52 0-1.04.2-1.43.59L10.3 9.45l-7.72 7.72c-.78.78-.78 2.05 0 2.83L4 21.41c.39.39.9.59 1.41.59.51 0 1.02-.2 1.41-.59l7.78-7.78 2.81-2.81c.8-.78.8-2.07 0-2.86zM5.41 20L4 18.59l7.72-7.72 1.47 1.35L5.41 20z\"/>\n",
              "  </svg>\n",
              "      </button>\n",
              "      \n",
              "  <style>\n",
              "    .colab-df-container {\n",
              "      display:flex;\n",
              "      flex-wrap:wrap;\n",
              "      gap: 12px;\n",
              "    }\n",
              "\n",
              "    .colab-df-convert {\n",
              "      background-color: #E8F0FE;\n",
              "      border: none;\n",
              "      border-radius: 50%;\n",
              "      cursor: pointer;\n",
              "      display: none;\n",
              "      fill: #1967D2;\n",
              "      height: 32px;\n",
              "      padding: 0 0 0 0;\n",
              "      width: 32px;\n",
              "    }\n",
              "\n",
              "    .colab-df-convert:hover {\n",
              "      background-color: #E2EBFA;\n",
              "      box-shadow: 0px 1px 2px rgba(60, 64, 67, 0.3), 0px 1px 3px 1px rgba(60, 64, 67, 0.15);\n",
              "      fill: #174EA6;\n",
              "    }\n",
              "\n",
              "    [theme=dark] .colab-df-convert {\n",
              "      background-color: #3B4455;\n",
              "      fill: #D2E3FC;\n",
              "    }\n",
              "\n",
              "    [theme=dark] .colab-df-convert:hover {\n",
              "      background-color: #434B5C;\n",
              "      box-shadow: 0px 1px 3px 1px rgba(0, 0, 0, 0.15);\n",
              "      filter: drop-shadow(0px 1px 2px rgba(0, 0, 0, 0.3));\n",
              "      fill: #FFFFFF;\n",
              "    }\n",
              "  </style>\n",
              "\n",
              "      <script>\n",
              "        const buttonEl =\n",
              "          document.querySelector('#df-0df14cf6-53ee-4604-86e2-e99e7303f884 button.colab-df-convert');\n",
              "        buttonEl.style.display =\n",
              "          google.colab.kernel.accessAllowed ? 'block' : 'none';\n",
              "\n",
              "        async function convertToInteractive(key) {\n",
              "          const element = document.querySelector('#df-0df14cf6-53ee-4604-86e2-e99e7303f884');\n",
              "          const dataTable =\n",
              "            await google.colab.kernel.invokeFunction('convertToInteractive',\n",
              "                                                     [key], {});\n",
              "          if (!dataTable) return;\n",
              "\n",
              "          const docLinkHtml = 'Like what you see? Visit the ' +\n",
              "            '<a target=\"_blank\" href=https://colab.research.google.com/notebooks/data_table.ipynb>data table notebook</a>'\n",
              "            + ' to learn more about interactive tables.';\n",
              "          element.innerHTML = '';\n",
              "          dataTable['output_type'] = 'display_data';\n",
              "          await google.colab.output.renderOutput(dataTable, element);\n",
              "          const docLink = document.createElement('div');\n",
              "          docLink.innerHTML = docLinkHtml;\n",
              "          element.appendChild(docLink);\n",
              "        }\n",
              "      </script>\n",
              "    </div>\n",
              "  </div>\n",
              "  "
            ]
          },
          "metadata": {},
          "execution_count": 49
        }
      ]
    },
    {
      "cell_type": "code",
      "source": [
        "ag_list = pd.merge( final, agent_list,\n",
        "                      on ='agentname', \n",
        "                      how ='right')"
      ],
      "metadata": {
        "id": "_Gex3LXmnHQS"
      },
      "execution_count": null,
      "outputs": []
    },
    {
      "cell_type": "code",
      "source": [
        "ag_list1 = pd.pivot_table(ag_list, index = ['Value Date', 'agentname'], columns = ['trans_type'], values = ['Net to Merchant'],aggfunc = np.sum)#######"
      ],
      "metadata": {
        "id": "luTmv1idBL4L"
      },
      "execution_count": null,
      "outputs": []
    },
    {
      "cell_type": "code",
      "source": [
        "ag_list2 = pd.pivot_table(ag_list, index = ['Value Date','agentname'], columns = ['source'], values = ['Net to Merchant'],aggfunc = np.sum)#######"
      ],
      "metadata": {
        "id": "D8mdGQ7XAvC-"
      },
      "execution_count": null,
      "outputs": []
    },
    {
      "cell_type": "code",
      "source": [
        "ag_list3 = pd.pivot_table(ag_list, index = ['agentname'], columns = ['trans_type'], values = ['Invoice Amount'],aggfunc = ('count', np.sum))"
      ],
      "metadata": {
        "id": "1tXAhey3n_5T"
      },
      "execution_count": null,
      "outputs": []
    },
    {
      "cell_type": "code",
      "source": [
        "ag_list3 = ag_list3.fillna(0)"
      ],
      "metadata": {
        "id": "KXvsbLbBti5E"
      },
      "execution_count": null,
      "outputs": []
    },
    {
      "cell_type": "code",
      "source": [
        "#ag_list3.to_excel('AgentReport.xlsx')\n"
      ],
      "metadata": {
        "id": "armwkZUcvpLA"
      },
      "execution_count": null,
      "outputs": []
    },
    {
      "cell_type": "code",
      "source": [
        ""
      ],
      "metadata": {
        "id": "yM52bV8duJPL"
      },
      "execution_count": null,
      "outputs": []
    },
    {
      "cell_type": "code",
      "source": [
        "ag_list1"
      ],
      "metadata": {
        "colab": {
          "base_uri": "https://localhost:8080/",
          "height": 486
        },
        "id": "jiTgty_-bFhA",
        "outputId": "58145cc1-af7e-4b33-842b-e96434741c20"
      },
      "execution_count": null,
      "outputs": [
        {
          "output_type": "execute_result",
          "data": {
            "text/plain": [
              "                                Net to Merchant        \n",
              "trans_type                                 CASH DIGITAL\n",
              "Value Date agentname                                   \n",
              "14/03/2022 ASANA BIANKA                   40.18   33.15\n",
              "           BENJAMIN QUAYE                   NaN   30.13\n",
              "           DAVID OFORI                      NaN   21.09\n",
              "           DELIGHT AZANDA                   NaN  136.62\n",
              "           DENNIS AGGREY OTOO               NaN  519.35\n",
              "...                                         ...     ...\n",
              "20/03/2022 PRINCE OHENE                     NaN  170.78\n",
              "           RICHARD NYARBI                   NaN    4.02\n",
              "           SAMUEL BOACHIE-ENNIN             NaN  120.55\n",
              "           YAA ASAMOAH                      NaN   90.40\n",
              "           GEORGE WEDZI                     NaN   50.23\n",
              "\n",
              "[181 rows x 2 columns]"
            ],
            "text/html": [
              "\n",
              "  <div id=\"df-ddefcc67-05c3-4b41-b680-c98764493e16\">\n",
              "    <div class=\"colab-df-container\">\n",
              "      <div>\n",
              "<style scoped>\n",
              "    .dataframe tbody tr th:only-of-type {\n",
              "        vertical-align: middle;\n",
              "    }\n",
              "\n",
              "    .dataframe tbody tr th {\n",
              "        vertical-align: top;\n",
              "    }\n",
              "\n",
              "    .dataframe thead tr th {\n",
              "        text-align: left;\n",
              "    }\n",
              "\n",
              "    .dataframe thead tr:last-of-type th {\n",
              "        text-align: right;\n",
              "    }\n",
              "</style>\n",
              "<table border=\"1\" class=\"dataframe\">\n",
              "  <thead>\n",
              "    <tr>\n",
              "      <th></th>\n",
              "      <th></th>\n",
              "      <th colspan=\"2\" halign=\"left\">Net to Merchant</th>\n",
              "    </tr>\n",
              "    <tr>\n",
              "      <th></th>\n",
              "      <th>trans_type</th>\n",
              "      <th>CASH</th>\n",
              "      <th>DIGITAL</th>\n",
              "    </tr>\n",
              "    <tr>\n",
              "      <th>Value Date</th>\n",
              "      <th>agentname</th>\n",
              "      <th></th>\n",
              "      <th></th>\n",
              "    </tr>\n",
              "  </thead>\n",
              "  <tbody>\n",
              "    <tr>\n",
              "      <th rowspan=\"5\" valign=\"top\">14/03/2022</th>\n",
              "      <th>ASANA BIANKA</th>\n",
              "      <td>40.18</td>\n",
              "      <td>33.15</td>\n",
              "    </tr>\n",
              "    <tr>\n",
              "      <th>BENJAMIN QUAYE</th>\n",
              "      <td>NaN</td>\n",
              "      <td>30.13</td>\n",
              "    </tr>\n",
              "    <tr>\n",
              "      <th>DAVID OFORI</th>\n",
              "      <td>NaN</td>\n",
              "      <td>21.09</td>\n",
              "    </tr>\n",
              "    <tr>\n",
              "      <th>DELIGHT AZANDA</th>\n",
              "      <td>NaN</td>\n",
              "      <td>136.62</td>\n",
              "    </tr>\n",
              "    <tr>\n",
              "      <th>DENNIS AGGREY OTOO</th>\n",
              "      <td>NaN</td>\n",
              "      <td>519.35</td>\n",
              "    </tr>\n",
              "    <tr>\n",
              "      <th>...</th>\n",
              "      <th>...</th>\n",
              "      <td>...</td>\n",
              "      <td>...</td>\n",
              "    </tr>\n",
              "    <tr>\n",
              "      <th rowspan=\"5\" valign=\"top\">20/03/2022</th>\n",
              "      <th>PRINCE OHENE</th>\n",
              "      <td>NaN</td>\n",
              "      <td>170.78</td>\n",
              "    </tr>\n",
              "    <tr>\n",
              "      <th>RICHARD NYARBI</th>\n",
              "      <td>NaN</td>\n",
              "      <td>4.02</td>\n",
              "    </tr>\n",
              "    <tr>\n",
              "      <th>SAMUEL BOACHIE-ENNIN</th>\n",
              "      <td>NaN</td>\n",
              "      <td>120.55</td>\n",
              "    </tr>\n",
              "    <tr>\n",
              "      <th>YAA ASAMOAH</th>\n",
              "      <td>NaN</td>\n",
              "      <td>90.40</td>\n",
              "    </tr>\n",
              "    <tr>\n",
              "      <th>GEORGE WEDZI</th>\n",
              "      <td>NaN</td>\n",
              "      <td>50.23</td>\n",
              "    </tr>\n",
              "  </tbody>\n",
              "</table>\n",
              "<p>181 rows × 2 columns</p>\n",
              "</div>\n",
              "      <button class=\"colab-df-convert\" onclick=\"convertToInteractive('df-ddefcc67-05c3-4b41-b680-c98764493e16')\"\n",
              "              title=\"Convert this dataframe to an interactive table.\"\n",
              "              style=\"display:none;\">\n",
              "        \n",
              "  <svg xmlns=\"http://www.w3.org/2000/svg\" height=\"24px\"viewBox=\"0 0 24 24\"\n",
              "       width=\"24px\">\n",
              "    <path d=\"M0 0h24v24H0V0z\" fill=\"none\"/>\n",
              "    <path d=\"M18.56 5.44l.94 2.06.94-2.06 2.06-.94-2.06-.94-.94-2.06-.94 2.06-2.06.94zm-11 1L8.5 8.5l.94-2.06 2.06-.94-2.06-.94L8.5 2.5l-.94 2.06-2.06.94zm10 10l.94 2.06.94-2.06 2.06-.94-2.06-.94-.94-2.06-.94 2.06-2.06.94z\"/><path d=\"M17.41 7.96l-1.37-1.37c-.4-.4-.92-.59-1.43-.59-.52 0-1.04.2-1.43.59L10.3 9.45l-7.72 7.72c-.78.78-.78 2.05 0 2.83L4 21.41c.39.39.9.59 1.41.59.51 0 1.02-.2 1.41-.59l7.78-7.78 2.81-2.81c.8-.78.8-2.07 0-2.86zM5.41 20L4 18.59l7.72-7.72 1.47 1.35L5.41 20z\"/>\n",
              "  </svg>\n",
              "      </button>\n",
              "      \n",
              "  <style>\n",
              "    .colab-df-container {\n",
              "      display:flex;\n",
              "      flex-wrap:wrap;\n",
              "      gap: 12px;\n",
              "    }\n",
              "\n",
              "    .colab-df-convert {\n",
              "      background-color: #E8F0FE;\n",
              "      border: none;\n",
              "      border-radius: 50%;\n",
              "      cursor: pointer;\n",
              "      display: none;\n",
              "      fill: #1967D2;\n",
              "      height: 32px;\n",
              "      padding: 0 0 0 0;\n",
              "      width: 32px;\n",
              "    }\n",
              "\n",
              "    .colab-df-convert:hover {\n",
              "      background-color: #E2EBFA;\n",
              "      box-shadow: 0px 1px 2px rgba(60, 64, 67, 0.3), 0px 1px 3px 1px rgba(60, 64, 67, 0.15);\n",
              "      fill: #174EA6;\n",
              "    }\n",
              "\n",
              "    [theme=dark] .colab-df-convert {\n",
              "      background-color: #3B4455;\n",
              "      fill: #D2E3FC;\n",
              "    }\n",
              "\n",
              "    [theme=dark] .colab-df-convert:hover {\n",
              "      background-color: #434B5C;\n",
              "      box-shadow: 0px 1px 3px 1px rgba(0, 0, 0, 0.15);\n",
              "      filter: drop-shadow(0px 1px 2px rgba(0, 0, 0, 0.3));\n",
              "      fill: #FFFFFF;\n",
              "    }\n",
              "  </style>\n",
              "\n",
              "      <script>\n",
              "        const buttonEl =\n",
              "          document.querySelector('#df-ddefcc67-05c3-4b41-b680-c98764493e16 button.colab-df-convert');\n",
              "        buttonEl.style.display =\n",
              "          google.colab.kernel.accessAllowed ? 'block' : 'none';\n",
              "\n",
              "        async function convertToInteractive(key) {\n",
              "          const element = document.querySelector('#df-ddefcc67-05c3-4b41-b680-c98764493e16');\n",
              "          const dataTable =\n",
              "            await google.colab.kernel.invokeFunction('convertToInteractive',\n",
              "                                                     [key], {});\n",
              "          if (!dataTable) return;\n",
              "\n",
              "          const docLinkHtml = 'Like what you see? Visit the ' +\n",
              "            '<a target=\"_blank\" href=https://colab.research.google.com/notebooks/data_table.ipynb>data table notebook</a>'\n",
              "            + ' to learn more about interactive tables.';\n",
              "          element.innerHTML = '';\n",
              "          dataTable['output_type'] = 'display_data';\n",
              "          await google.colab.output.renderOutput(dataTable, element);\n",
              "          const docLink = document.createElement('div');\n",
              "          docLink.innerHTML = docLinkHtml;\n",
              "          element.appendChild(docLink);\n",
              "        }\n",
              "      </script>\n",
              "    </div>\n",
              "  </div>\n",
              "  "
            ]
          },
          "metadata": {},
          "execution_count": 79
        }
      ]
    },
    {
      "cell_type": "code",
      "source": [
        "ag_list1.to_excel('march14to21.xlsx')"
      ],
      "metadata": {
        "id": "0-QeCrv8dyzG"
      },
      "execution_count": null,
      "outputs": []
    },
    {
      "cell_type": "code",
      "source": [
        "ag_list1"
      ],
      "metadata": {
        "id": "oli6Bh_VBUiZ"
      },
      "execution_count": null,
      "outputs": []
    },
    {
      "cell_type": "code",
      "source": [
        "final1 = pd.pivot_table(final, index = [ 'Value Date','agentname'], columns = ['trans_type'], values = ['Net to Merchant'],aggfunc = np.sum)"
      ],
      "metadata": {
        "id": "3Q2LfpYPXBye"
      },
      "execution_count": null,
      "outputs": []
    },
    {
      "cell_type": "code",
      "source": [
        "final2 = pd.pivot_table(final, index = ['Value Date','agentname'], columns = ['source'], values = ['Net to Merchant'],aggfunc = np.sum)"
      ],
      "metadata": {
        "id": "KCVBnCFH_79k"
      },
      "execution_count": null,
      "outputs": []
    },
    {
      "cell_type": "code",
      "source": [
        "final3 = pd.pivot_table(final, index = ['agentname'], columns = ['trans_type'], values = ['Invoice Amount'],aggfunc = ('count', np.sum))"
      ],
      "metadata": {
        "id": "x5IxtActn5BF"
      },
      "execution_count": null,
      "outputs": []
    },
    {
      "cell_type": "code",
      "source": [
        "final3 = final3.fillna(0)"
      ],
      "metadata": {
        "id": "mUTHji62vI2t"
      },
      "execution_count": null,
      "outputs": []
    },
    {
      "cell_type": "code",
      "source": [
        "#final3.to_excel('AllAgentReport.xlsx')"
      ],
      "metadata": {
        "id": "3lNbtVVPvY5e"
      },
      "execution_count": null,
      "outputs": []
    },
    {
      "cell_type": "code",
      "source": [
        "final1"
      ],
      "metadata": {
        "id": "Doh86TKobNnO"
      },
      "execution_count": null,
      "outputs": []
    },
    {
      "cell_type": "code",
      "source": [
        "final1.to_excel('March14to21allagents.xlsx')"
      ],
      "metadata": {
        "id": "_RHXYryuAOqC"
      },
      "execution_count": null,
      "outputs": []
    },
    {
      "cell_type": "code",
      "source": [
        "#final2.to_excel('March07-13AllAgents.xlsx')"
      ],
      "metadata": {
        "id": "ibCIr1AMZ4m9"
      },
      "execution_count": null,
      "outputs": []
    },
    {
      "cell_type": "code",
      "source": [
        ""
      ],
      "metadata": {
        "id": "v51rjNq7-7Yd"
      },
      "execution_count": null,
      "outputs": []
    },
    {
      "cell_type": "code",
      "source": [
        "ag_list2.to_excel('MARCH07-13SelectedAgents.xlsx')"
      ],
      "metadata": {
        "id": "3YlMgwLftM-t"
      },
      "execution_count": null,
      "outputs": []
    },
    {
      "cell_type": "code",
      "source": [
        "#writer = pd.ExcelWriter('agent_report.xlsx', engine='xlsxwriter')"
      ],
      "metadata": {
        "id": "rBoq9IuMFCog"
      },
      "execution_count": null,
      "outputs": []
    },
    {
      "cell_type": "code",
      "source": [
        "#ag_list1.to_excel(writer, sheet_name='SelectedAgents1')\n",
        "#ag_list2.to_excel(writer, sheet_name='SelectedAgents2')\n",
        "#final1.to_excel(writer, sheet_name='AllAgents1')\n",
        "#final2.to_excel(writer, sheet_name='AllAgnets2')"
      ],
      "metadata": {
        "id": "eGXANsvWFYoJ"
      },
      "execution_count": null,
      "outputs": []
    },
    {
      "cell_type": "code",
      "source": [
        "#writer.save()"
      ],
      "metadata": {
        "id": "oCL74YnzGYFP"
      },
      "execution_count": null,
      "outputs": []
    }
  ]
}