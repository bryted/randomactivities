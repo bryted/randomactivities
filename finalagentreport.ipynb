{
  "nbformat": 4,
  "nbformat_minor": 0,
  "metadata": {
    "colab": {
      "name": "finalagentreport.ipynb",
      "provenance": [],
      "collapsed_sections": [],
      "authorship_tag": "ABX9TyP99k/afnkwEH7odYLhJ4/H",
      "include_colab_link": true
    },
    "kernelspec": {
      "name": "python3",
      "display_name": "Python 3"
    },
    "language_info": {
      "name": "python"
    }
  },
  "cells": [
    {
      "cell_type": "markdown",
      "metadata": {
        "id": "view-in-github",
        "colab_type": "text"
      },
      "source": [
        "<a href=\"https://colab.research.google.com/github/bryted/randomactivities/blob/main/finalagentreport.ipynb\" target=\"_parent\"><img src=\"https://colab.research.google.com/assets/colab-badge.svg\" alt=\"Open In Colab\"/></a>"
      ]
    },
    {
      "cell_type": "code",
      "execution_count": 1,
      "metadata": {
        "id": "vJF7jMuvskQn"
      },
      "outputs": [],
      "source": [
        "#import packages\n",
        "import pandas as pd\n",
        "import numpy as np\n",
        "#!pip install xlsxwriter\n",
        "#!pip install openpyxl --upgrade --pre"
      ]
    },
    {
      "cell_type": "code",
      "source": [
        "df_mth = pd.read_excel('MerchantTransactionHistoryAgentWise_03_02_2022_to_03_02_2022.xlsx')\n",
        "df_mp = pd.read_excel('maximus-payment_export-1643968571337.xlsx')"
      ],
      "metadata": {
        "id": "kO_ZUpfyMU51"
      },
      "execution_count": 2,
      "outputs": []
    },
    {
      "cell_type": "code",
      "source": [
        "df_mp1 = df_mp[['tranid','source']] #picking out only two columns from main data\n",
        "df_mp1.rename(columns={'tranid': 'Merchant Ref.Code'}, inplace=True) #renaming columns for cohesion"
      ],
      "metadata": {
        "colab": {
          "base_uri": "https://localhost:8080/"
        },
        "id": "imKsPCRUMpds",
        "outputId": "8a41762e-bcb5-472f-a3ed-c707c3f25e9c"
      },
      "execution_count": 3,
      "outputs": [
        {
          "output_type": "stream",
          "name": "stderr",
          "text": [
            "/usr/local/lib/python3.7/dist-packages/pandas/core/frame.py:5047: SettingWithCopyWarning: \n",
            "A value is trying to be set on a copy of a slice from a DataFrame\n",
            "\n",
            "See the caveats in the documentation: https://pandas.pydata.org/pandas-docs/stable/user_guide/indexing.html#returning-a-view-versus-a-copy\n",
            "  errors=errors,\n"
          ]
        }
      ]
    },
    {
      "cell_type": "code",
      "source": [
        "df_mth.info()"
      ],
      "metadata": {
        "colab": {
          "base_uri": "https://localhost:8080/"
        },
        "id": "IubGiBm6Nvk8",
        "outputId": "e1207e4d-5faf-4196-bcd5-431f628b7582"
      },
      "execution_count": 4,
      "outputs": [
        {
          "output_type": "stream",
          "name": "stdout",
          "text": [
            "<class 'pandas.core.frame.DataFrame'>\n",
            "RangeIndex: 301 entries, 0 to 300\n",
            "Data columns (total 29 columns):\n",
            " #   Column                      Non-Null Count  Dtype  \n",
            "---  ------                      --------------  -----  \n",
            " 0   Trans.ID                    301 non-null    int64  \n",
            " 1   Trans.Date                  301 non-null    object \n",
            " 2   Settlement Date             301 non-null    object \n",
            " 3   Value Date                  301 non-null    object \n",
            " 4   Interpay Ref No             301 non-null    int64  \n",
            " 5   Fee Type                    301 non-null    object \n",
            " 6   Invoice Amount              301 non-null    float64\n",
            " 7   Invoice Currency            301 non-null    object \n",
            " 8   Transacted Amount           301 non-null    float64\n",
            " 9   Transacted Currency         301 non-null    object \n",
            " 10  Commission Amount           301 non-null    float64\n",
            " 11  Net to Merchant             301 non-null    float64\n",
            " 12  Payee Name                  301 non-null    object \n",
            " 13  Payee Mobile                301 non-null    int64  \n",
            " 14  Payee Email                 294 non-null    object \n",
            " 15  Merchant Ref.Code           301 non-null    object \n",
            " 16  Merchant-Client Code        0 non-null      float64\n",
            " 17  Transaction Type            301 non-null    object \n",
            " 18  Payment Mode Name           301 non-null    object \n",
            " 19  Payment Mode Reference      301 non-null    object \n",
            " 20  Bank Name                   301 non-null    object \n",
            " 21  Bank Account                301 non-null    int64  \n",
            " 22  Transaction Source          301 non-null    object \n",
            " 23  Reversal Status             0 non-null      float64\n",
            " 24  Reversal Date               0 non-null      float64\n",
            " 25  Reversal Payback Amount     301 non-null    int64  \n",
            " 26  Agent Reference Number      0 non-null      float64\n",
            " 27  Customer Membership Number  0 non-null      float64\n",
            " 28  Customer Mobile Number      0 non-null      float64\n",
            "dtypes: float64(10), int64(5), object(14)\n",
            "memory usage: 68.3+ KB\n"
          ]
        }
      ]
    },
    {
      "cell_type": "code",
      "source": [
        "#this code determines the source of payments( AUTODEBIT,USSD,etc.)\n",
        "df_mth1 = pd.merge( df_mth, df_mp1,\n",
        "                      on ='Merchant Ref.Code', \n",
        "                      how ='left') \n",
        "df_mth1.rename(columns={'Payee Mobile': 'Mobile'}, inplace=True)#renaming columns for cohession\n",
        "df_mth1['source'].fillna('Not Available',inplace = True)"
      ],
      "metadata": {
        "id": "9aXdL2xQMwnv"
      },
      "execution_count": 5,
      "outputs": []
    },
    {
      "cell_type": "code",
      "source": [
        "df_mth1.info()"
      ],
      "metadata": {
        "colab": {
          "base_uri": "https://localhost:8080/"
        },
        "id": "BixkzNKpN9qE",
        "outputId": "3c4d5e86-a225-4838-fccd-6dd91ba7cce9"
      },
      "execution_count": 6,
      "outputs": [
        {
          "output_type": "stream",
          "name": "stdout",
          "text": [
            "<class 'pandas.core.frame.DataFrame'>\n",
            "Int64Index: 301 entries, 0 to 300\n",
            "Data columns (total 30 columns):\n",
            " #   Column                      Non-Null Count  Dtype  \n",
            "---  ------                      --------------  -----  \n",
            " 0   Trans.ID                    301 non-null    int64  \n",
            " 1   Trans.Date                  301 non-null    object \n",
            " 2   Settlement Date             301 non-null    object \n",
            " 3   Value Date                  301 non-null    object \n",
            " 4   Interpay Ref No             301 non-null    int64  \n",
            " 5   Fee Type                    301 non-null    object \n",
            " 6   Invoice Amount              301 non-null    float64\n",
            " 7   Invoice Currency            301 non-null    object \n",
            " 8   Transacted Amount           301 non-null    float64\n",
            " 9   Transacted Currency         301 non-null    object \n",
            " 10  Commission Amount           301 non-null    float64\n",
            " 11  Net to Merchant             301 non-null    float64\n",
            " 12  Payee Name                  301 non-null    object \n",
            " 13  Mobile                      301 non-null    int64  \n",
            " 14  Payee Email                 294 non-null    object \n",
            " 15  Merchant Ref.Code           301 non-null    object \n",
            " 16  Merchant-Client Code        0 non-null      float64\n",
            " 17  Transaction Type            301 non-null    object \n",
            " 18  Payment Mode Name           301 non-null    object \n",
            " 19  Payment Mode Reference      301 non-null    object \n",
            " 20  Bank Name                   301 non-null    object \n",
            " 21  Bank Account                301 non-null    int64  \n",
            " 22  Transaction Source          301 non-null    object \n",
            " 23  Reversal Status             0 non-null      float64\n",
            " 24  Reversal Date               0 non-null      float64\n",
            " 25  Reversal Payback Amount     301 non-null    int64  \n",
            " 26  Agent Reference Number      0 non-null      float64\n",
            " 27  Customer Membership Number  0 non-null      float64\n",
            " 28  Customer Mobile Number      0 non-null      float64\n",
            " 29  source                      301 non-null    object \n",
            "dtypes: float64(10), int64(5), object(15)\n",
            "memory usage: 72.9+ KB\n"
          ]
        }
      ]
    },
    {
      "cell_type": "code",
      "source": [
        "md = pd.read_excel('md0102.xlsx') #member dump\n",
        "md =md[['agentname', 'Mobile']]"
      ],
      "metadata": {
        "id": "3g6lVtzQOS6i"
      },
      "execution_count": 7,
      "outputs": []
    },
    {
      "cell_type": "code",
      "source": [
        "md.info()"
      ],
      "metadata": {
        "colab": {
          "base_uri": "https://localhost:8080/"
        },
        "id": "X8Wc02APOkcs",
        "outputId": "4df0e111-a363-4457-e23d-0729db7a9a1f"
      },
      "execution_count": 8,
      "outputs": [
        {
          "output_type": "stream",
          "name": "stdout",
          "text": [
            "<class 'pandas.core.frame.DataFrame'>\n",
            "RangeIndex: 53906 entries, 0 to 53905\n",
            "Data columns (total 2 columns):\n",
            " #   Column     Non-Null Count  Dtype \n",
            "---  ------     --------------  ----- \n",
            " 0   agentname  53888 non-null  object\n",
            " 1   Mobile     53906 non-null  object\n",
            "dtypes: object(2)\n",
            "memory usage: 842.4+ KB\n"
          ]
        }
      ]
    },
    {
      "cell_type": "code",
      "source": [
        "agrf1 = pd.read_excel('agentupdate.xlsx')\n",
        "agrf1 =agrf1[['agentname', 'Mobile']]"
      ],
      "metadata": {
        "id": "nFqM8RroOcgs"
      },
      "execution_count": 9,
      "outputs": []
    },
    {
      "cell_type": "code",
      "source": [
        "agentonly = df_mth1[df_mth1['source'] == 'AGENT']"
      ],
      "metadata": {
        "id": "CZrZPOdUmyJZ"
      },
      "execution_count": 10,
      "outputs": []
    },
    {
      "cell_type": "code",
      "source": [
        "agentonly.info()"
      ],
      "metadata": {
        "colab": {
          "base_uri": "https://localhost:8080/"
        },
        "id": "D68rhJWvOqNz",
        "outputId": "f8d2d49d-c034-4ebe-c0c4-2736508b5700"
      },
      "execution_count": 11,
      "outputs": [
        {
          "output_type": "stream",
          "name": "stdout",
          "text": [
            "<class 'pandas.core.frame.DataFrame'>\n",
            "Int64Index: 41 entries, 32 to 150\n",
            "Data columns (total 30 columns):\n",
            " #   Column                      Non-Null Count  Dtype  \n",
            "---  ------                      --------------  -----  \n",
            " 0   Trans.ID                    41 non-null     int64  \n",
            " 1   Trans.Date                  41 non-null     object \n",
            " 2   Settlement Date             41 non-null     object \n",
            " 3   Value Date                  41 non-null     object \n",
            " 4   Interpay Ref No             41 non-null     int64  \n",
            " 5   Fee Type                    41 non-null     object \n",
            " 6   Invoice Amount              41 non-null     float64\n",
            " 7   Invoice Currency            41 non-null     object \n",
            " 8   Transacted Amount           41 non-null     float64\n",
            " 9   Transacted Currency         41 non-null     object \n",
            " 10  Commission Amount           41 non-null     float64\n",
            " 11  Net to Merchant             41 non-null     float64\n",
            " 12  Payee Name                  41 non-null     object \n",
            " 13  Mobile                      41 non-null     int64  \n",
            " 14  Payee Email                 41 non-null     object \n",
            " 15  Merchant Ref.Code           41 non-null     object \n",
            " 16  Merchant-Client Code        0 non-null      float64\n",
            " 17  Transaction Type            41 non-null     object \n",
            " 18  Payment Mode Name           41 non-null     object \n",
            " 19  Payment Mode Reference      41 non-null     object \n",
            " 20  Bank Name                   41 non-null     object \n",
            " 21  Bank Account                41 non-null     int64  \n",
            " 22  Transaction Source          41 non-null     object \n",
            " 23  Reversal Status             0 non-null      float64\n",
            " 24  Reversal Date               0 non-null      float64\n",
            " 25  Reversal Payback Amount     41 non-null     int64  \n",
            " 26  Agent Reference Number      0 non-null      float64\n",
            " 27  Customer Membership Number  0 non-null      float64\n",
            " 28  Customer Mobile Number      0 non-null      float64\n",
            " 29  source                      41 non-null     object \n",
            "dtypes: float64(10), int64(5), object(15)\n",
            "memory usage: 9.9+ KB\n"
          ]
        }
      ]
    },
    {
      "cell_type": "code",
      "source": [
        ""
      ],
      "metadata": {
        "id": "yBaaD0NelJRR"
      },
      "execution_count": 11,
      "outputs": []
    },
    {
      "cell_type": "code",
      "source": [
        "agrf2 = agrf1.drop_duplicates(subset=['Mobile'])"
      ],
      "metadata": {
        "id": "fZcAoS9ElKIF"
      },
      "execution_count": 12,
      "outputs": []
    },
    {
      "cell_type": "code",
      "source": [
        "agrf2.info()"
      ],
      "metadata": {
        "colab": {
          "base_uri": "https://localhost:8080/"
        },
        "id": "GHXWSNzrlYWz",
        "outputId": "ab1eb41b-a3c5-4291-ee37-a8cb65ad66b5"
      },
      "execution_count": 13,
      "outputs": [
        {
          "output_type": "stream",
          "name": "stdout",
          "text": [
            "<class 'pandas.core.frame.DataFrame'>\n",
            "Int64Index: 101 entries, 0 to 116\n",
            "Data columns (total 2 columns):\n",
            " #   Column     Non-Null Count  Dtype \n",
            "---  ------     --------------  ----- \n",
            " 0   agentname  101 non-null    object\n",
            " 1   Mobile     101 non-null    int64 \n",
            "dtypes: int64(1), object(1)\n",
            "memory usage: 2.4+ KB\n"
          ]
        }
      ]
    },
    {
      "cell_type": "code",
      "source": [
        "df_mth2 = pd.merge( agentonly, agrf2,\n",
        "                      on ='Mobile', \n",
        "                      how ='left')\n"
      ],
      "metadata": {
        "id": "bOW2cGUaLG-6"
      },
      "execution_count": 14,
      "outputs": []
    },
    {
      "cell_type": "code",
      "source": [
        "df_mth2.info()"
      ],
      "metadata": {
        "colab": {
          "base_uri": "https://localhost:8080/"
        },
        "id": "a6ApVUnRWt7T",
        "outputId": "159c243a-6725-41fd-9223-2515d2018f28"
      },
      "execution_count": 15,
      "outputs": [
        {
          "output_type": "stream",
          "name": "stdout",
          "text": [
            "<class 'pandas.core.frame.DataFrame'>\n",
            "Int64Index: 41 entries, 0 to 40\n",
            "Data columns (total 31 columns):\n",
            " #   Column                      Non-Null Count  Dtype  \n",
            "---  ------                      --------------  -----  \n",
            " 0   Trans.ID                    41 non-null     int64  \n",
            " 1   Trans.Date                  41 non-null     object \n",
            " 2   Settlement Date             41 non-null     object \n",
            " 3   Value Date                  41 non-null     object \n",
            " 4   Interpay Ref No             41 non-null     int64  \n",
            " 5   Fee Type                    41 non-null     object \n",
            " 6   Invoice Amount              41 non-null     float64\n",
            " 7   Invoice Currency            41 non-null     object \n",
            " 8   Transacted Amount           41 non-null     float64\n",
            " 9   Transacted Currency         41 non-null     object \n",
            " 10  Commission Amount           41 non-null     float64\n",
            " 11  Net to Merchant             41 non-null     float64\n",
            " 12  Payee Name                  41 non-null     object \n",
            " 13  Mobile                      41 non-null     int64  \n",
            " 14  Payee Email                 41 non-null     object \n",
            " 15  Merchant Ref.Code           41 non-null     object \n",
            " 16  Merchant-Client Code        0 non-null      float64\n",
            " 17  Transaction Type            41 non-null     object \n",
            " 18  Payment Mode Name           41 non-null     object \n",
            " 19  Payment Mode Reference      41 non-null     object \n",
            " 20  Bank Name                   41 non-null     object \n",
            " 21  Bank Account                41 non-null     int64  \n",
            " 22  Transaction Source          41 non-null     object \n",
            " 23  Reversal Status             0 non-null      float64\n",
            " 24  Reversal Date               0 non-null      float64\n",
            " 25  Reversal Payback Amount     41 non-null     int64  \n",
            " 26  Agent Reference Number      0 non-null      float64\n",
            " 27  Customer Membership Number  0 non-null      float64\n",
            " 28  Customer Mobile Number      0 non-null      float64\n",
            " 29  source                      41 non-null     object \n",
            " 30  agentname                   41 non-null     object \n",
            "dtypes: float64(10), int64(5), object(16)\n",
            "memory usage: 10.2+ KB\n"
          ]
        }
      ]
    },
    {
      "cell_type": "code",
      "source": [
        "#df_mth2.to_excel('agentonly.xlsx')"
      ],
      "metadata": {
        "id": "EppflcFZRSp_"
      },
      "execution_count": 16,
      "outputs": []
    },
    {
      "cell_type": "code",
      "source": [
        "others  = df_mth1.drop(df_mth1[df_mth1.source == 'AGENT'].index)"
      ],
      "metadata": {
        "id": "RsL6SK0pSrN_"
      },
      "execution_count": 17,
      "outputs": []
    },
    {
      "cell_type": "code",
      "source": [
        "others.info()"
      ],
      "metadata": {
        "colab": {
          "base_uri": "https://localhost:8080/"
        },
        "id": "XkvGwJGKdMrt",
        "outputId": "3e66de55-72bd-4935-ef9e-4f8ab2055196"
      },
      "execution_count": 18,
      "outputs": [
        {
          "output_type": "stream",
          "name": "stdout",
          "text": [
            "<class 'pandas.core.frame.DataFrame'>\n",
            "Int64Index: 260 entries, 0 to 300\n",
            "Data columns (total 30 columns):\n",
            " #   Column                      Non-Null Count  Dtype  \n",
            "---  ------                      --------------  -----  \n",
            " 0   Trans.ID                    260 non-null    int64  \n",
            " 1   Trans.Date                  260 non-null    object \n",
            " 2   Settlement Date             260 non-null    object \n",
            " 3   Value Date                  260 non-null    object \n",
            " 4   Interpay Ref No             260 non-null    int64  \n",
            " 5   Fee Type                    260 non-null    object \n",
            " 6   Invoice Amount              260 non-null    float64\n",
            " 7   Invoice Currency            260 non-null    object \n",
            " 8   Transacted Amount           260 non-null    float64\n",
            " 9   Transacted Currency         260 non-null    object \n",
            " 10  Commission Amount           260 non-null    float64\n",
            " 11  Net to Merchant             260 non-null    float64\n",
            " 12  Payee Name                  260 non-null    object \n",
            " 13  Mobile                      260 non-null    int64  \n",
            " 14  Payee Email                 253 non-null    object \n",
            " 15  Merchant Ref.Code           260 non-null    object \n",
            " 16  Merchant-Client Code        0 non-null      float64\n",
            " 17  Transaction Type            260 non-null    object \n",
            " 18  Payment Mode Name           260 non-null    object \n",
            " 19  Payment Mode Reference      260 non-null    object \n",
            " 20  Bank Name                   260 non-null    object \n",
            " 21  Bank Account                260 non-null    int64  \n",
            " 22  Transaction Source          260 non-null    object \n",
            " 23  Reversal Status             0 non-null      float64\n",
            " 24  Reversal Date               0 non-null      float64\n",
            " 25  Reversal Payback Amount     260 non-null    int64  \n",
            " 26  Agent Reference Number      0 non-null      float64\n",
            " 27  Customer Membership Number  0 non-null      float64\n",
            " 28  Customer Mobile Number      0 non-null      float64\n",
            " 29  source                      260 non-null    object \n",
            "dtypes: float64(10), int64(5), object(15)\n",
            "memory usage: 63.0+ KB\n"
          ]
        }
      ]
    },
    {
      "cell_type": "code",
      "source": [
        "md1 = md.drop_duplicates(subset=['Mobile'])"
      ],
      "metadata": {
        "id": "i4dimPQjjn4x"
      },
      "execution_count": 19,
      "outputs": []
    },
    {
      "cell_type": "code",
      "source": [
        "others1 = pd.merge( others, md1,\n",
        "                      on ='Mobile', \n",
        "                      how ='left')"
      ],
      "metadata": {
        "id": "DZgT0F_2Y-Tl"
      },
      "execution_count": 20,
      "outputs": []
    },
    {
      "cell_type": "code",
      "source": [
        "others1.info()"
      ],
      "metadata": {
        "colab": {
          "base_uri": "https://localhost:8080/"
        },
        "id": "DLY2yZYRULvf",
        "outputId": "cec142cb-6ff7-4c05-b0be-877354194b1a"
      },
      "execution_count": 21,
      "outputs": [
        {
          "output_type": "stream",
          "name": "stdout",
          "text": [
            "<class 'pandas.core.frame.DataFrame'>\n",
            "Int64Index: 260 entries, 0 to 259\n",
            "Data columns (total 31 columns):\n",
            " #   Column                      Non-Null Count  Dtype  \n",
            "---  ------                      --------------  -----  \n",
            " 0   Trans.ID                    260 non-null    int64  \n",
            " 1   Trans.Date                  260 non-null    object \n",
            " 2   Settlement Date             260 non-null    object \n",
            " 3   Value Date                  260 non-null    object \n",
            " 4   Interpay Ref No             260 non-null    int64  \n",
            " 5   Fee Type                    260 non-null    object \n",
            " 6   Invoice Amount              260 non-null    float64\n",
            " 7   Invoice Currency            260 non-null    object \n",
            " 8   Transacted Amount           260 non-null    float64\n",
            " 9   Transacted Currency         260 non-null    object \n",
            " 10  Commission Amount           260 non-null    float64\n",
            " 11  Net to Merchant             260 non-null    float64\n",
            " 12  Payee Name                  260 non-null    object \n",
            " 13  Mobile                      260 non-null    object \n",
            " 14  Payee Email                 253 non-null    object \n",
            " 15  Merchant Ref.Code           260 non-null    object \n",
            " 16  Merchant-Client Code        0 non-null      float64\n",
            " 17  Transaction Type            260 non-null    object \n",
            " 18  Payment Mode Name           260 non-null    object \n",
            " 19  Payment Mode Reference      260 non-null    object \n",
            " 20  Bank Name                   260 non-null    object \n",
            " 21  Bank Account                260 non-null    int64  \n",
            " 22  Transaction Source          260 non-null    object \n",
            " 23  Reversal Status             0 non-null      float64\n",
            " 24  Reversal Date               0 non-null      float64\n",
            " 25  Reversal Payback Amount     260 non-null    int64  \n",
            " 26  Agent Reference Number      0 non-null      float64\n",
            " 27  Customer Membership Number  0 non-null      float64\n",
            " 28  Customer Mobile Number      0 non-null      float64\n",
            " 29  source                      260 non-null    object \n",
            " 30  agentname                   252 non-null    object \n",
            "dtypes: float64(10), int64(4), object(17)\n",
            "memory usage: 65.0+ KB\n"
          ]
        }
      ]
    },
    {
      "cell_type": "code",
      "source": [
        "others1.Mobile.value_counts()"
      ],
      "metadata": {
        "id": "WN9qrfCWZNTP",
        "colab": {
          "base_uri": "https://localhost:8080/"
        },
        "outputId": "2767b0f0-fa41-49b1-8652-e4d1c8dacffa"
      },
      "execution_count": 22,
      "outputs": [
        {
          "output_type": "execute_result",
          "data": {
            "text/plain": [
              "233555977978    3\n",
              "233551884722    3\n",
              "233544006649    3\n",
              "233242158138    3\n",
              "233249332649    3\n",
              "               ..\n",
              "233277703678    1\n",
              "233554680873    1\n",
              "233277779426    1\n",
              "233243375928    1\n",
              "233244485236    1\n",
              "Name: Mobile, Length: 232, dtype: int64"
            ]
          },
          "metadata": {},
          "execution_count": 22
        }
      ]
    },
    {
      "cell_type": "code",
      "source": [
        "#others1.to_excel('others1.xlsx')"
      ],
      "metadata": {
        "id": "t2YIr1oiUgCI"
      },
      "execution_count": 23,
      "outputs": []
    },
    {
      "cell_type": "code",
      "source": [
        "final = pd.concat([df_mth2, others1 ])"
      ],
      "metadata": {
        "id": "ibneUTT8aRhv"
      },
      "execution_count": 24,
      "outputs": []
    },
    {
      "cell_type": "code",
      "source": [
        "final.info()"
      ],
      "metadata": {
        "colab": {
          "base_uri": "https://localhost:8080/"
        },
        "id": "-8WFjhr-sw7T",
        "outputId": "e28c8cca-429a-4637-b12e-41b39d7194a3"
      },
      "execution_count": 25,
      "outputs": [
        {
          "output_type": "stream",
          "name": "stdout",
          "text": [
            "<class 'pandas.core.frame.DataFrame'>\n",
            "Int64Index: 301 entries, 0 to 259\n",
            "Data columns (total 31 columns):\n",
            " #   Column                      Non-Null Count  Dtype  \n",
            "---  ------                      --------------  -----  \n",
            " 0   Trans.ID                    301 non-null    int64  \n",
            " 1   Trans.Date                  301 non-null    object \n",
            " 2   Settlement Date             301 non-null    object \n",
            " 3   Value Date                  301 non-null    object \n",
            " 4   Interpay Ref No             301 non-null    int64  \n",
            " 5   Fee Type                    301 non-null    object \n",
            " 6   Invoice Amount              301 non-null    float64\n",
            " 7   Invoice Currency            301 non-null    object \n",
            " 8   Transacted Amount           301 non-null    float64\n",
            " 9   Transacted Currency         301 non-null    object \n",
            " 10  Commission Amount           301 non-null    float64\n",
            " 11  Net to Merchant             301 non-null    float64\n",
            " 12  Payee Name                  301 non-null    object \n",
            " 13  Mobile                      301 non-null    object \n",
            " 14  Payee Email                 294 non-null    object \n",
            " 15  Merchant Ref.Code           301 non-null    object \n",
            " 16  Merchant-Client Code        0 non-null      float64\n",
            " 17  Transaction Type            301 non-null    object \n",
            " 18  Payment Mode Name           301 non-null    object \n",
            " 19  Payment Mode Reference      301 non-null    object \n",
            " 20  Bank Name                   301 non-null    object \n",
            " 21  Bank Account                301 non-null    int64  \n",
            " 22  Transaction Source          301 non-null    object \n",
            " 23  Reversal Status             0 non-null      float64\n",
            " 24  Reversal Date               0 non-null      float64\n",
            " 25  Reversal Payback Amount     301 non-null    int64  \n",
            " 26  Agent Reference Number      0 non-null      float64\n",
            " 27  Customer Membership Number  0 non-null      float64\n",
            " 28  Customer Mobile Number      0 non-null      float64\n",
            " 29  source                      301 non-null    object \n",
            " 30  agentname                   293 non-null    object \n",
            "dtypes: float64(10), int64(4), object(17)\n",
            "memory usage: 75.2+ KB\n"
          ]
        }
      ]
    },
    {
      "cell_type": "code",
      "source": [
        "final.agentname = final.agentname.str.upper()#converts agentname to capital letters"
      ],
      "metadata": {
        "id": "e4889LBts56U"
      },
      "execution_count": 26,
      "outputs": []
    },
    {
      "cell_type": "code",
      "source": [
        "final1 = pd.pivot_table(final, index = ['agentname'], columns = ['source'], values = ['Net to Merchant'],aggfunc = np.sum)"
      ],
      "metadata": {
        "id": "3Q2LfpYPXBye"
      },
      "execution_count": 27,
      "outputs": []
    },
    {
      "cell_type": "code",
      "source": [
        "final1"
      ],
      "metadata": {
        "id": "ibCIr1AMZ4m9"
      },
      "execution_count": null,
      "outputs": []
    },
    {
      "cell_type": "code",
      "source": [
        "final1.to_excel('03jan.xlsx')"
      ],
      "metadata": {
        "id": "3YlMgwLftM-t"
      },
      "execution_count": 29,
      "outputs": []
    }
  ]
}