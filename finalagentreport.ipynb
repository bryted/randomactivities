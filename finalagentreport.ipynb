{
  "nbformat": 4,
  "nbformat_minor": 0,
  "metadata": {
    "colab": {
      "name": "finalagentreport.ipynb",
      "provenance": [],
      "collapsed_sections": [],
      "authorship_tag": "ABX9TyN4PRp5omHaBXTmKzAqDmZO",
      "include_colab_link": true
    },
    "kernelspec": {
      "name": "python3",
      "display_name": "Python 3"
    },
    "language_info": {
      "name": "python"
    }
  },
  "cells": [
    {
      "cell_type": "markdown",
      "metadata": {
        "id": "view-in-github",
        "colab_type": "text"
      },
      "source": [
        "<a href=\"https://colab.research.google.com/github/bryted/randomactivities/blob/main/finalagentreport.ipynb\" target=\"_parent\"><img src=\"https://colab.research.google.com/assets/colab-badge.svg\" alt=\"Open In Colab\"/></a>"
      ]
    },
    {
      "cell_type": "code",
      "execution_count": 72,
      "metadata": {
        "id": "vJF7jMuvskQn"
      },
      "outputs": [],
      "source": [
        "#import packages\n",
        "import pandas as pd\n",
        "import numpy as np\n",
        "#!pip install xlsxwriter\n",
        "#!pip install openpyxl --upgrade --pre"
      ]
    },
    {
      "cell_type": "code",
      "source": [
        "df_mth = pd.read_excel('MerchantTransactionHistoryAgentWise_24_01_2022_to_30_01_2022.xlsx')\n",
        "df_mp = pd.read_excel('maximus-payment_export-1643625904187.xlsx')"
      ],
      "metadata": {
        "id": "kO_ZUpfyMU51"
      },
      "execution_count": 73,
      "outputs": []
    },
    {
      "cell_type": "code",
      "source": [
        "df_mp1 = df_mp[['tranid','source']] #picking out only two columns from main data\n",
        "df_mp1.rename(columns={'tranid': 'Merchant Ref.Code'}, inplace=True) #renaming columns for cohesion"
      ],
      "metadata": {
        "colab": {
          "base_uri": "https://localhost:8080/"
        },
        "id": "imKsPCRUMpds",
        "outputId": "5cab1761-56c6-4987-9a6b-cb6c05ab0d51"
      },
      "execution_count": 74,
      "outputs": [
        {
          "output_type": "stream",
          "name": "stderr",
          "text": [
            "/usr/local/lib/python3.7/dist-packages/pandas/core/frame.py:5047: SettingWithCopyWarning: \n",
            "A value is trying to be set on a copy of a slice from a DataFrame\n",
            "\n",
            "See the caveats in the documentation: https://pandas.pydata.org/pandas-docs/stable/user_guide/indexing.html#returning-a-view-versus-a-copy\n",
            "  errors=errors,\n"
          ]
        }
      ]
    },
    {
      "cell_type": "code",
      "source": [
        "df_mth.info()"
      ],
      "metadata": {
        "colab": {
          "base_uri": "https://localhost:8080/"
        },
        "id": "IubGiBm6Nvk8",
        "outputId": "c872a459-1741-4729-a1e5-854c599b660b"
      },
      "execution_count": 75,
      "outputs": [
        {
          "output_type": "stream",
          "name": "stdout",
          "text": [
            "<class 'pandas.core.frame.DataFrame'>\n",
            "RangeIndex: 1828 entries, 0 to 1827\n",
            "Data columns (total 29 columns):\n",
            " #   Column                      Non-Null Count  Dtype  \n",
            "---  ------                      --------------  -----  \n",
            " 0   Trans.ID                    1828 non-null   int64  \n",
            " 1   Trans.Date                  1828 non-null   object \n",
            " 2   Settlement Date             1828 non-null   object \n",
            " 3   Value Date                  1828 non-null   object \n",
            " 4   Interpay Ref No             1828 non-null   int64  \n",
            " 5   Fee Type                    1828 non-null   object \n",
            " 6   Invoice Amount              1828 non-null   float64\n",
            " 7   Invoice Currency            1828 non-null   object \n",
            " 8   Transacted Amount           1828 non-null   float64\n",
            " 9   Transacted Currency         1828 non-null   object \n",
            " 10  Commission Amount           1828 non-null   float64\n",
            " 11  Net to Merchant             1828 non-null   float64\n",
            " 12  Payee Name                  1827 non-null   object \n",
            " 13  Payee Mobile                1828 non-null   int64  \n",
            " 14  Payee Email                 1824 non-null   object \n",
            " 15  Merchant Ref.Code           1828 non-null   object \n",
            " 16  Merchant-Client Code        1 non-null      object \n",
            " 17  Transaction Type            1828 non-null   object \n",
            " 18  Payment Mode Name           1828 non-null   object \n",
            " 19  Payment Mode Reference      1827 non-null   object \n",
            " 20  Bank Name                   1828 non-null   object \n",
            " 21  Bank Account                1828 non-null   int64  \n",
            " 22  Transaction Source          1827 non-null   object \n",
            " 23  Reversal Status             0 non-null      float64\n",
            " 24  Reversal Date               0 non-null      float64\n",
            " 25  Reversal Payback Amount     1828 non-null   int64  \n",
            " 26  Agent Reference Number      0 non-null      float64\n",
            " 27  Customer Membership Number  0 non-null      float64\n",
            " 28  Customer Mobile Number      0 non-null      float64\n",
            "dtypes: float64(9), int64(5), object(15)\n",
            "memory usage: 414.3+ KB\n"
          ]
        }
      ]
    },
    {
      "cell_type": "code",
      "source": [
        "#this code determines the source of payments( AUTODEBIT,USSD,etc.)\n",
        "df_mth1 = pd.merge( df_mth, df_mp1,\n",
        "                      on ='Merchant Ref.Code', \n",
        "                      how ='left') \n",
        "df_mth1.rename(columns={'Payee Mobile': 'Mobile'}, inplace=True)#renaming columns for cohession\n",
        "df_mth1['source'].fillna('Not Available',inplace = True)"
      ],
      "metadata": {
        "id": "9aXdL2xQMwnv"
      },
      "execution_count": 76,
      "outputs": []
    },
    {
      "cell_type": "code",
      "source": [
        "df_mth1.info()"
      ],
      "metadata": {
        "colab": {
          "base_uri": "https://localhost:8080/"
        },
        "id": "BixkzNKpN9qE",
        "outputId": "9f6c00e7-0096-48e2-e251-ea09fecc644f"
      },
      "execution_count": 77,
      "outputs": [
        {
          "output_type": "stream",
          "name": "stdout",
          "text": [
            "<class 'pandas.core.frame.DataFrame'>\n",
            "Int64Index: 1828 entries, 0 to 1827\n",
            "Data columns (total 30 columns):\n",
            " #   Column                      Non-Null Count  Dtype  \n",
            "---  ------                      --------------  -----  \n",
            " 0   Trans.ID                    1828 non-null   int64  \n",
            " 1   Trans.Date                  1828 non-null   object \n",
            " 2   Settlement Date             1828 non-null   object \n",
            " 3   Value Date                  1828 non-null   object \n",
            " 4   Interpay Ref No             1828 non-null   int64  \n",
            " 5   Fee Type                    1828 non-null   object \n",
            " 6   Invoice Amount              1828 non-null   float64\n",
            " 7   Invoice Currency            1828 non-null   object \n",
            " 8   Transacted Amount           1828 non-null   float64\n",
            " 9   Transacted Currency         1828 non-null   object \n",
            " 10  Commission Amount           1828 non-null   float64\n",
            " 11  Net to Merchant             1828 non-null   float64\n",
            " 12  Payee Name                  1827 non-null   object \n",
            " 13  Mobile                      1828 non-null   int64  \n",
            " 14  Payee Email                 1824 non-null   object \n",
            " 15  Merchant Ref.Code           1828 non-null   object \n",
            " 16  Merchant-Client Code        1 non-null      object \n",
            " 17  Transaction Type            1828 non-null   object \n",
            " 18  Payment Mode Name           1828 non-null   object \n",
            " 19  Payment Mode Reference      1827 non-null   object \n",
            " 20  Bank Name                   1828 non-null   object \n",
            " 21  Bank Account                1828 non-null   int64  \n",
            " 22  Transaction Source          1827 non-null   object \n",
            " 23  Reversal Status             0 non-null      float64\n",
            " 24  Reversal Date               0 non-null      float64\n",
            " 25  Reversal Payback Amount     1828 non-null   int64  \n",
            " 26  Agent Reference Number      0 non-null      float64\n",
            " 27  Customer Membership Number  0 non-null      float64\n",
            " 28  Customer Mobile Number      0 non-null      float64\n",
            " 29  source                      1828 non-null   object \n",
            "dtypes: float64(9), int64(5), object(16)\n",
            "memory usage: 442.7+ KB\n"
          ]
        }
      ]
    },
    {
      "cell_type": "code",
      "source": [
        "md = pd.read_excel('md0102.xlsx') #member dump\n",
        "md =md[['agentname', 'Mobile']]"
      ],
      "metadata": {
        "id": "3g6lVtzQOS6i"
      },
      "execution_count": 78,
      "outputs": []
    },
    {
      "cell_type": "code",
      "source": [
        "md.info()"
      ],
      "metadata": {
        "colab": {
          "base_uri": "https://localhost:8080/"
        },
        "id": "X8Wc02APOkcs",
        "outputId": "09caceb2-6309-40c5-e307-e3ce7a778528"
      },
      "execution_count": 79,
      "outputs": [
        {
          "output_type": "stream",
          "name": "stdout",
          "text": [
            "<class 'pandas.core.frame.DataFrame'>\n",
            "RangeIndex: 53906 entries, 0 to 53905\n",
            "Data columns (total 2 columns):\n",
            " #   Column     Non-Null Count  Dtype \n",
            "---  ------     --------------  ----- \n",
            " 0   agentname  53888 non-null  object\n",
            " 1   Mobile     53906 non-null  object\n",
            "dtypes: object(2)\n",
            "memory usage: 842.4+ KB\n"
          ]
        }
      ]
    },
    {
      "cell_type": "code",
      "source": [
        "agrf1 = pd.read_excel('agrf1.xlsx')\n",
        "agrf1 =agrf1[['agentname', 'Mobile']]"
      ],
      "metadata": {
        "id": "nFqM8RroOcgs"
      },
      "execution_count": 80,
      "outputs": []
    },
    {
      "cell_type": "code",
      "source": [
        "agentonly = df_mth1[df_mth1['source'] == 'AGENT']"
      ],
      "metadata": {
        "id": "CZrZPOdUmyJZ"
      },
      "execution_count": 81,
      "outputs": []
    },
    {
      "cell_type": "code",
      "source": [
        "agentonly.info()"
      ],
      "metadata": {
        "colab": {
          "base_uri": "https://localhost:8080/"
        },
        "id": "D68rhJWvOqNz",
        "outputId": "7024544d-c289-4e91-e46c-05ba196a4b14"
      },
      "execution_count": 82,
      "outputs": [
        {
          "output_type": "stream",
          "name": "stdout",
          "text": [
            "<class 'pandas.core.frame.DataFrame'>\n",
            "Int64Index: 306 entries, 48 to 1731\n",
            "Data columns (total 30 columns):\n",
            " #   Column                      Non-Null Count  Dtype  \n",
            "---  ------                      --------------  -----  \n",
            " 0   Trans.ID                    306 non-null    int64  \n",
            " 1   Trans.Date                  306 non-null    object \n",
            " 2   Settlement Date             306 non-null    object \n",
            " 3   Value Date                  306 non-null    object \n",
            " 4   Interpay Ref No             306 non-null    int64  \n",
            " 5   Fee Type                    306 non-null    object \n",
            " 6   Invoice Amount              306 non-null    float64\n",
            " 7   Invoice Currency            306 non-null    object \n",
            " 8   Transacted Amount           306 non-null    float64\n",
            " 9   Transacted Currency         306 non-null    object \n",
            " 10  Commission Amount           306 non-null    float64\n",
            " 11  Net to Merchant             306 non-null    float64\n",
            " 12  Payee Name                  306 non-null    object \n",
            " 13  Mobile                      306 non-null    int64  \n",
            " 14  Payee Email                 306 non-null    object \n",
            " 15  Merchant Ref.Code           306 non-null    object \n",
            " 16  Merchant-Client Code        0 non-null      object \n",
            " 17  Transaction Type            306 non-null    object \n",
            " 18  Payment Mode Name           306 non-null    object \n",
            " 19  Payment Mode Reference      306 non-null    object \n",
            " 20  Bank Name                   306 non-null    object \n",
            " 21  Bank Account                306 non-null    int64  \n",
            " 22  Transaction Source          306 non-null    object \n",
            " 23  Reversal Status             0 non-null      float64\n",
            " 24  Reversal Date               0 non-null      float64\n",
            " 25  Reversal Payback Amount     306 non-null    int64  \n",
            " 26  Agent Reference Number      0 non-null      float64\n",
            " 27  Customer Membership Number  0 non-null      float64\n",
            " 28  Customer Mobile Number      0 non-null      float64\n",
            " 29  source                      306 non-null    object \n",
            "dtypes: float64(9), int64(5), object(16)\n",
            "memory usage: 74.1+ KB\n"
          ]
        }
      ]
    },
    {
      "cell_type": "code",
      "source": [
        ""
      ],
      "metadata": {
        "id": "yBaaD0NelJRR"
      },
      "execution_count": 82,
      "outputs": []
    },
    {
      "cell_type": "code",
      "source": [
        "agrf2 = agrf1.drop_duplicates(subset=['Mobile'])"
      ],
      "metadata": {
        "id": "fZcAoS9ElKIF"
      },
      "execution_count": 83,
      "outputs": []
    },
    {
      "cell_type": "code",
      "source": [
        "agrf2.info()"
      ],
      "metadata": {
        "colab": {
          "base_uri": "https://localhost:8080/"
        },
        "id": "GHXWSNzrlYWz",
        "outputId": "f33d1118-fda3-467f-fab6-2c817a0c977f"
      },
      "execution_count": 84,
      "outputs": [
        {
          "output_type": "stream",
          "name": "stdout",
          "text": [
            "<class 'pandas.core.frame.DataFrame'>\n",
            "Int64Index: 86 entries, 0 to 87\n",
            "Data columns (total 2 columns):\n",
            " #   Column     Non-Null Count  Dtype \n",
            "---  ------     --------------  ----- \n",
            " 0   agentname  86 non-null     object\n",
            " 1   Mobile     86 non-null     int64 \n",
            "dtypes: int64(1), object(1)\n",
            "memory usage: 2.0+ KB\n"
          ]
        }
      ]
    },
    {
      "cell_type": "code",
      "source": [
        "df_mth2 = pd.merge( agentonly, agrf2,\n",
        "                      on ='Mobile', \n",
        "                      how ='left')\n"
      ],
      "metadata": {
        "id": "bOW2cGUaLG-6"
      },
      "execution_count": 85,
      "outputs": []
    },
    {
      "cell_type": "code",
      "source": [
        "df_mth2.info()"
      ],
      "metadata": {
        "colab": {
          "base_uri": "https://localhost:8080/"
        },
        "id": "a6ApVUnRWt7T",
        "outputId": "1d36b7c5-8caa-4f50-9dd8-90e8d2cc43d3"
      },
      "execution_count": 86,
      "outputs": [
        {
          "output_type": "stream",
          "name": "stdout",
          "text": [
            "<class 'pandas.core.frame.DataFrame'>\n",
            "Int64Index: 306 entries, 0 to 305\n",
            "Data columns (total 31 columns):\n",
            " #   Column                      Non-Null Count  Dtype  \n",
            "---  ------                      --------------  -----  \n",
            " 0   Trans.ID                    306 non-null    int64  \n",
            " 1   Trans.Date                  306 non-null    object \n",
            " 2   Settlement Date             306 non-null    object \n",
            " 3   Value Date                  306 non-null    object \n",
            " 4   Interpay Ref No             306 non-null    int64  \n",
            " 5   Fee Type                    306 non-null    object \n",
            " 6   Invoice Amount              306 non-null    float64\n",
            " 7   Invoice Currency            306 non-null    object \n",
            " 8   Transacted Amount           306 non-null    float64\n",
            " 9   Transacted Currency         306 non-null    object \n",
            " 10  Commission Amount           306 non-null    float64\n",
            " 11  Net to Merchant             306 non-null    float64\n",
            " 12  Payee Name                  306 non-null    object \n",
            " 13  Mobile                      306 non-null    int64  \n",
            " 14  Payee Email                 306 non-null    object \n",
            " 15  Merchant Ref.Code           306 non-null    object \n",
            " 16  Merchant-Client Code        0 non-null      object \n",
            " 17  Transaction Type            306 non-null    object \n",
            " 18  Payment Mode Name           306 non-null    object \n",
            " 19  Payment Mode Reference      306 non-null    object \n",
            " 20  Bank Name                   306 non-null    object \n",
            " 21  Bank Account                306 non-null    int64  \n",
            " 22  Transaction Source          306 non-null    object \n",
            " 23  Reversal Status             0 non-null      float64\n",
            " 24  Reversal Date               0 non-null      float64\n",
            " 25  Reversal Payback Amount     306 non-null    int64  \n",
            " 26  Agent Reference Number      0 non-null      float64\n",
            " 27  Customer Membership Number  0 non-null      float64\n",
            " 28  Customer Mobile Number      0 non-null      float64\n",
            " 29  source                      306 non-null    object \n",
            " 30  agentname                   294 non-null    object \n",
            "dtypes: float64(9), int64(5), object(17)\n",
            "memory usage: 76.5+ KB\n"
          ]
        }
      ]
    },
    {
      "cell_type": "code",
      "source": [
        "#df_mth2.to_excel('agentonly.xlsx')"
      ],
      "metadata": {
        "id": "EppflcFZRSp_"
      },
      "execution_count": 87,
      "outputs": []
    },
    {
      "cell_type": "code",
      "source": [
        "others  = df_mth1.drop(df_mth1[df_mth1.source == 'AGENT'].index)"
      ],
      "metadata": {
        "id": "RsL6SK0pSrN_"
      },
      "execution_count": 88,
      "outputs": []
    },
    {
      "cell_type": "code",
      "source": [
        "others.info()"
      ],
      "metadata": {
        "colab": {
          "base_uri": "https://localhost:8080/"
        },
        "id": "XkvGwJGKdMrt",
        "outputId": "a4b0efea-f3da-45c2-c39b-070a25eac4e1"
      },
      "execution_count": 89,
      "outputs": [
        {
          "output_type": "stream",
          "name": "stdout",
          "text": [
            "<class 'pandas.core.frame.DataFrame'>\n",
            "Int64Index: 1522 entries, 0 to 1827\n",
            "Data columns (total 30 columns):\n",
            " #   Column                      Non-Null Count  Dtype  \n",
            "---  ------                      --------------  -----  \n",
            " 0   Trans.ID                    1522 non-null   int64  \n",
            " 1   Trans.Date                  1522 non-null   object \n",
            " 2   Settlement Date             1522 non-null   object \n",
            " 3   Value Date                  1522 non-null   object \n",
            " 4   Interpay Ref No             1522 non-null   int64  \n",
            " 5   Fee Type                    1522 non-null   object \n",
            " 6   Invoice Amount              1522 non-null   float64\n",
            " 7   Invoice Currency            1522 non-null   object \n",
            " 8   Transacted Amount           1522 non-null   float64\n",
            " 9   Transacted Currency         1522 non-null   object \n",
            " 10  Commission Amount           1522 non-null   float64\n",
            " 11  Net to Merchant             1522 non-null   float64\n",
            " 12  Payee Name                  1521 non-null   object \n",
            " 13  Mobile                      1522 non-null   int64  \n",
            " 14  Payee Email                 1518 non-null   object \n",
            " 15  Merchant Ref.Code           1522 non-null   object \n",
            " 16  Merchant-Client Code        1 non-null      object \n",
            " 17  Transaction Type            1522 non-null   object \n",
            " 18  Payment Mode Name           1522 non-null   object \n",
            " 19  Payment Mode Reference      1521 non-null   object \n",
            " 20  Bank Name                   1522 non-null   object \n",
            " 21  Bank Account                1522 non-null   int64  \n",
            " 22  Transaction Source          1521 non-null   object \n",
            " 23  Reversal Status             0 non-null      float64\n",
            " 24  Reversal Date               0 non-null      float64\n",
            " 25  Reversal Payback Amount     1522 non-null   int64  \n",
            " 26  Agent Reference Number      0 non-null      float64\n",
            " 27  Customer Membership Number  0 non-null      float64\n",
            " 28  Customer Mobile Number      0 non-null      float64\n",
            " 29  source                      1522 non-null   object \n",
            "dtypes: float64(9), int64(5), object(16)\n",
            "memory usage: 368.6+ KB\n"
          ]
        }
      ]
    },
    {
      "cell_type": "code",
      "source": [
        "md1 = md.drop_duplicates(subset=['Mobile'])"
      ],
      "metadata": {
        "id": "i4dimPQjjn4x"
      },
      "execution_count": 90,
      "outputs": []
    },
    {
      "cell_type": "code",
      "source": [
        "others1 = pd.merge( others, md1,\n",
        "                      on ='Mobile', \n",
        "                      how ='left')"
      ],
      "metadata": {
        "id": "DZgT0F_2Y-Tl"
      },
      "execution_count": 91,
      "outputs": []
    },
    {
      "cell_type": "code",
      "source": [
        "others1.info()"
      ],
      "metadata": {
        "colab": {
          "base_uri": "https://localhost:8080/"
        },
        "id": "DLY2yZYRULvf",
        "outputId": "46f33ac6-b475-4447-c2af-0db07aeecfa0"
      },
      "execution_count": 92,
      "outputs": [
        {
          "output_type": "stream",
          "name": "stdout",
          "text": [
            "<class 'pandas.core.frame.DataFrame'>\n",
            "Int64Index: 1522 entries, 0 to 1521\n",
            "Data columns (total 31 columns):\n",
            " #   Column                      Non-Null Count  Dtype  \n",
            "---  ------                      --------------  -----  \n",
            " 0   Trans.ID                    1522 non-null   int64  \n",
            " 1   Trans.Date                  1522 non-null   object \n",
            " 2   Settlement Date             1522 non-null   object \n",
            " 3   Value Date                  1522 non-null   object \n",
            " 4   Interpay Ref No             1522 non-null   int64  \n",
            " 5   Fee Type                    1522 non-null   object \n",
            " 6   Invoice Amount              1522 non-null   float64\n",
            " 7   Invoice Currency            1522 non-null   object \n",
            " 8   Transacted Amount           1522 non-null   float64\n",
            " 9   Transacted Currency         1522 non-null   object \n",
            " 10  Commission Amount           1522 non-null   float64\n",
            " 11  Net to Merchant             1522 non-null   float64\n",
            " 12  Payee Name                  1521 non-null   object \n",
            " 13  Mobile                      1522 non-null   object \n",
            " 14  Payee Email                 1518 non-null   object \n",
            " 15  Merchant Ref.Code           1522 non-null   object \n",
            " 16  Merchant-Client Code        1 non-null      object \n",
            " 17  Transaction Type            1522 non-null   object \n",
            " 18  Payment Mode Name           1522 non-null   object \n",
            " 19  Payment Mode Reference      1521 non-null   object \n",
            " 20  Bank Name                   1522 non-null   object \n",
            " 21  Bank Account                1522 non-null   int64  \n",
            " 22  Transaction Source          1521 non-null   object \n",
            " 23  Reversal Status             0 non-null      float64\n",
            " 24  Reversal Date               0 non-null      float64\n",
            " 25  Reversal Payback Amount     1522 non-null   int64  \n",
            " 26  Agent Reference Number      0 non-null      float64\n",
            " 27  Customer Membership Number  0 non-null      float64\n",
            " 28  Customer Mobile Number      0 non-null      float64\n",
            " 29  source                      1522 non-null   object \n",
            " 30  agentname                   1507 non-null   object \n",
            "dtypes: float64(9), int64(4), object(18)\n",
            "memory usage: 380.5+ KB\n"
          ]
        }
      ]
    },
    {
      "cell_type": "code",
      "source": [
        "others1.Mobile.value_counts()"
      ],
      "metadata": {
        "colab": {
          "base_uri": "https://localhost:8080/"
        },
        "id": "WN9qrfCWZNTP",
        "outputId": "4ee2cf2a-44b2-4220-bef4-4559525c846f"
      },
      "execution_count": 93,
      "outputs": [
        {
          "output_type": "execute_result",
          "data": {
            "text/plain": [
              "233264330988    24\n",
              "233249532771    10\n",
              "233245032189    10\n",
              "233244419030    10\n",
              "233277404627     9\n",
              "                ..\n",
              "233545503371     1\n",
              "233241984291     1\n",
              "233244230815     1\n",
              "233244950220     1\n",
              "233243766265     1\n",
              "Name: Mobile, Length: 773, dtype: int64"
            ]
          },
          "metadata": {},
          "execution_count": 93
        }
      ]
    },
    {
      "cell_type": "code",
      "source": [
        "#others1.to_excel('others1.xlsx')"
      ],
      "metadata": {
        "id": "t2YIr1oiUgCI"
      },
      "execution_count": 94,
      "outputs": []
    },
    {
      "cell_type": "code",
      "source": [
        "final = pd.concat([df_mth2, others1 ])"
      ],
      "metadata": {
        "id": "ibneUTT8aRhv"
      },
      "execution_count": 95,
      "outputs": []
    },
    {
      "cell_type": "code",
      "source": [
        "final.info()"
      ],
      "metadata": {
        "colab": {
          "base_uri": "https://localhost:8080/"
        },
        "id": "-8WFjhr-sw7T",
        "outputId": "2b58d98f-1a33-4030-eee2-935e3b0f070a"
      },
      "execution_count": 96,
      "outputs": [
        {
          "output_type": "stream",
          "name": "stdout",
          "text": [
            "<class 'pandas.core.frame.DataFrame'>\n",
            "Int64Index: 1828 entries, 0 to 1521\n",
            "Data columns (total 31 columns):\n",
            " #   Column                      Non-Null Count  Dtype  \n",
            "---  ------                      --------------  -----  \n",
            " 0   Trans.ID                    1828 non-null   int64  \n",
            " 1   Trans.Date                  1828 non-null   object \n",
            " 2   Settlement Date             1828 non-null   object \n",
            " 3   Value Date                  1828 non-null   object \n",
            " 4   Interpay Ref No             1828 non-null   int64  \n",
            " 5   Fee Type                    1828 non-null   object \n",
            " 6   Invoice Amount              1828 non-null   float64\n",
            " 7   Invoice Currency            1828 non-null   object \n",
            " 8   Transacted Amount           1828 non-null   float64\n",
            " 9   Transacted Currency         1828 non-null   object \n",
            " 10  Commission Amount           1828 non-null   float64\n",
            " 11  Net to Merchant             1828 non-null   float64\n",
            " 12  Payee Name                  1827 non-null   object \n",
            " 13  Mobile                      1828 non-null   object \n",
            " 14  Payee Email                 1824 non-null   object \n",
            " 15  Merchant Ref.Code           1828 non-null   object \n",
            " 16  Merchant-Client Code        1 non-null      object \n",
            " 17  Transaction Type            1828 non-null   object \n",
            " 18  Payment Mode Name           1828 non-null   object \n",
            " 19  Payment Mode Reference      1827 non-null   object \n",
            " 20  Bank Name                   1828 non-null   object \n",
            " 21  Bank Account                1828 non-null   int64  \n",
            " 22  Transaction Source          1827 non-null   object \n",
            " 23  Reversal Status             0 non-null      float64\n",
            " 24  Reversal Date               0 non-null      float64\n",
            " 25  Reversal Payback Amount     1828 non-null   int64  \n",
            " 26  Agent Reference Number      0 non-null      float64\n",
            " 27  Customer Membership Number  0 non-null      float64\n",
            " 28  Customer Mobile Number      0 non-null      float64\n",
            " 29  source                      1828 non-null   object \n",
            " 30  agentname                   1801 non-null   object \n",
            "dtypes: float64(9), int64(4), object(18)\n",
            "memory usage: 457.0+ KB\n"
          ]
        }
      ]
    },
    {
      "cell_type": "code",
      "source": [
        "final.agentname = final.agentname.str.upper()#converts agentname to capital letters"
      ],
      "metadata": {
        "id": "e4889LBts56U"
      },
      "execution_count": 97,
      "outputs": []
    },
    {
      "cell_type": "code",
      "source": [
        "final1 = pd.pivot_table(final, index = ['agentname'], columns = ['source'], values = ['Net to Merchant'],aggfunc = np.sum)"
      ],
      "metadata": {
        "id": "3Q2LfpYPXBye"
      },
      "execution_count": 98,
      "outputs": []
    },
    {
      "cell_type": "code",
      "source": [
        "final1"
      ],
      "metadata": {
        "colab": {
          "base_uri": "https://localhost:8080/",
          "height": 486
        },
        "id": "ibCIr1AMZ4m9",
        "outputId": "5011145c-8077-4e22-b5ed-c442210e14b2"
      },
      "execution_count": 99,
      "outputs": [
        {
          "output_type": "execute_result",
          "data": {
            "text/html": [
              "\n",
              "  <div id=\"df-e03e0c32-87fb-4e71-bd56-b5aba876121c\">\n",
              "    <div class=\"colab-df-container\">\n",
              "      <div>\n",
              "<style scoped>\n",
              "    .dataframe tbody tr th:only-of-type {\n",
              "        vertical-align: middle;\n",
              "    }\n",
              "\n",
              "    .dataframe tbody tr th {\n",
              "        vertical-align: top;\n",
              "    }\n",
              "\n",
              "    .dataframe thead tr th {\n",
              "        text-align: left;\n",
              "    }\n",
              "\n",
              "    .dataframe thead tr:last-of-type th {\n",
              "        text-align: right;\n",
              "    }\n",
              "</style>\n",
              "<table border=\"1\" class=\"dataframe\">\n",
              "  <thead>\n",
              "    <tr>\n",
              "      <th></th>\n",
              "      <th colspan=\"10\" halign=\"left\">Net to Merchant</th>\n",
              "    </tr>\n",
              "    <tr>\n",
              "      <th>source</th>\n",
              "      <th>AGENT</th>\n",
              "      <th>AUTODEBIT</th>\n",
              "      <th>Not Available</th>\n",
              "      <th>REFERER-137</th>\n",
              "      <th>REFERER-144</th>\n",
              "      <th>REFERER-164</th>\n",
              "      <th>REFERER-165</th>\n",
              "      <th>REFERER-184</th>\n",
              "      <th>Tier2</th>\n",
              "      <th>USSD</th>\n",
              "    </tr>\n",
              "    <tr>\n",
              "      <th>agentname</th>\n",
              "      <th></th>\n",
              "      <th></th>\n",
              "      <th></th>\n",
              "      <th></th>\n",
              "      <th></th>\n",
              "      <th></th>\n",
              "      <th></th>\n",
              "      <th></th>\n",
              "      <th></th>\n",
              "      <th></th>\n",
              "    </tr>\n",
              "  </thead>\n",
              "  <tbody>\n",
              "    <tr>\n",
              "      <th>CAROLINE NAA NUNOO\\t</th>\n",
              "      <td>NaN</td>\n",
              "      <td>13.05</td>\n",
              "      <td>NaN</td>\n",
              "      <td>NaN</td>\n",
              "      <td>NaN</td>\n",
              "      <td>NaN</td>\n",
              "      <td>NaN</td>\n",
              "      <td>NaN</td>\n",
              "      <td>NaN</td>\n",
              "      <td>NaN</td>\n",
              "    </tr>\n",
              "    <tr>\n",
              "      <th>BAGONLURI SUNG - SUMA WENDY</th>\n",
              "      <td>NaN</td>\n",
              "      <td>22.10</td>\n",
              "      <td>NaN</td>\n",
              "      <td>NaN</td>\n",
              "      <td>NaN</td>\n",
              "      <td>NaN</td>\n",
              "      <td>NaN</td>\n",
              "      <td>NaN</td>\n",
              "      <td>NaN</td>\n",
              "      <td>NaN</td>\n",
              "    </tr>\n",
              "    <tr>\n",
              "      <th>HEIDI EFFRIM- ESSANDOH</th>\n",
              "      <td>NaN</td>\n",
              "      <td>1.00</td>\n",
              "      <td>NaN</td>\n",
              "      <td>NaN</td>\n",
              "      <td>NaN</td>\n",
              "      <td>NaN</td>\n",
              "      <td>NaN</td>\n",
              "      <td>NaN</td>\n",
              "      <td>NaN</td>\n",
              "      <td>NaN</td>\n",
              "    </tr>\n",
              "    <tr>\n",
              "      <th>LOUISA BESIWA NUNOO</th>\n",
              "      <td>NaN</td>\n",
              "      <td>1.00</td>\n",
              "      <td>NaN</td>\n",
              "      <td>NaN</td>\n",
              "      <td>NaN</td>\n",
              "      <td>NaN</td>\n",
              "      <td>NaN</td>\n",
              "      <td>NaN</td>\n",
              "      <td>NaN</td>\n",
              "      <td>NaN</td>\n",
              "    </tr>\n",
              "    <tr>\n",
              "      <th>ABENA SERWAH OSEI</th>\n",
              "      <td>NaN</td>\n",
              "      <td>150.68</td>\n",
              "      <td>539.94</td>\n",
              "      <td>NaN</td>\n",
              "      <td>NaN</td>\n",
              "      <td>NaN</td>\n",
              "      <td>NaN</td>\n",
              "      <td>NaN</td>\n",
              "      <td>100.45</td>\n",
              "      <td>NaN</td>\n",
              "    </tr>\n",
              "    <tr>\n",
              "      <th>...</th>\n",
              "      <td>...</td>\n",
              "      <td>...</td>\n",
              "      <td>...</td>\n",
              "      <td>...</td>\n",
              "      <td>...</td>\n",
              "      <td>...</td>\n",
              "      <td>...</td>\n",
              "      <td>...</td>\n",
              "      <td>...</td>\n",
              "      <td>...</td>\n",
              "    </tr>\n",
              "    <tr>\n",
              "      <th>SENSARAH OWUSUAA</th>\n",
              "      <td>NaN</td>\n",
              "      <td>5.02</td>\n",
              "      <td>NaN</td>\n",
              "      <td>NaN</td>\n",
              "      <td>NaN</td>\n",
              "      <td>NaN</td>\n",
              "      <td>NaN</td>\n",
              "      <td>NaN</td>\n",
              "      <td>NaN</td>\n",
              "      <td>NaN</td>\n",
              "    </tr>\n",
              "    <tr>\n",
              "      <th>STEPHEN AKANGISIBA</th>\n",
              "      <td>NaN</td>\n",
              "      <td>25.11</td>\n",
              "      <td>NaN</td>\n",
              "      <td>NaN</td>\n",
              "      <td>NaN</td>\n",
              "      <td>NaN</td>\n",
              "      <td>NaN</td>\n",
              "      <td>NaN</td>\n",
              "      <td>117.53</td>\n",
              "      <td>NaN</td>\n",
              "    </tr>\n",
              "    <tr>\n",
              "      <th>STEPHEN ATABOA</th>\n",
              "      <td>271.25</td>\n",
              "      <td>NaN</td>\n",
              "      <td>NaN</td>\n",
              "      <td>NaN</td>\n",
              "      <td>NaN</td>\n",
              "      <td>NaN</td>\n",
              "      <td>NaN</td>\n",
              "      <td>NaN</td>\n",
              "      <td>NaN</td>\n",
              "      <td>NaN</td>\n",
              "    </tr>\n",
              "    <tr>\n",
              "      <th>YAA ASAMOAH</th>\n",
              "      <td>NaN</td>\n",
              "      <td>817.12</td>\n",
              "      <td>120.55</td>\n",
              "      <td>NaN</td>\n",
              "      <td>NaN</td>\n",
              "      <td>NaN</td>\n",
              "      <td>NaN</td>\n",
              "      <td>NaN</td>\n",
              "      <td>NaN</td>\n",
              "      <td>133.6</td>\n",
              "    </tr>\n",
              "    <tr>\n",
              "      <th>YAKUBU UMMUL- KALSUM\\t</th>\n",
              "      <td>NaN</td>\n",
              "      <td>7.02</td>\n",
              "      <td>NaN</td>\n",
              "      <td>NaN</td>\n",
              "      <td>NaN</td>\n",
              "      <td>NaN</td>\n",
              "      <td>NaN</td>\n",
              "      <td>NaN</td>\n",
              "      <td>NaN</td>\n",
              "      <td>NaN</td>\n",
              "    </tr>\n",
              "  </tbody>\n",
              "</table>\n",
              "<p>79 rows × 10 columns</p>\n",
              "</div>\n",
              "      <button class=\"colab-df-convert\" onclick=\"convertToInteractive('df-e03e0c32-87fb-4e71-bd56-b5aba876121c')\"\n",
              "              title=\"Convert this dataframe to an interactive table.\"\n",
              "              style=\"display:none;\">\n",
              "        \n",
              "  <svg xmlns=\"http://www.w3.org/2000/svg\" height=\"24px\"viewBox=\"0 0 24 24\"\n",
              "       width=\"24px\">\n",
              "    <path d=\"M0 0h24v24H0V0z\" fill=\"none\"/>\n",
              "    <path d=\"M18.56 5.44l.94 2.06.94-2.06 2.06-.94-2.06-.94-.94-2.06-.94 2.06-2.06.94zm-11 1L8.5 8.5l.94-2.06 2.06-.94-2.06-.94L8.5 2.5l-.94 2.06-2.06.94zm10 10l.94 2.06.94-2.06 2.06-.94-2.06-.94-.94-2.06-.94 2.06-2.06.94z\"/><path d=\"M17.41 7.96l-1.37-1.37c-.4-.4-.92-.59-1.43-.59-.52 0-1.04.2-1.43.59L10.3 9.45l-7.72 7.72c-.78.78-.78 2.05 0 2.83L4 21.41c.39.39.9.59 1.41.59.51 0 1.02-.2 1.41-.59l7.78-7.78 2.81-2.81c.8-.78.8-2.07 0-2.86zM5.41 20L4 18.59l7.72-7.72 1.47 1.35L5.41 20z\"/>\n",
              "  </svg>\n",
              "      </button>\n",
              "      \n",
              "  <style>\n",
              "    .colab-df-container {\n",
              "      display:flex;\n",
              "      flex-wrap:wrap;\n",
              "      gap: 12px;\n",
              "    }\n",
              "\n",
              "    .colab-df-convert {\n",
              "      background-color: #E8F0FE;\n",
              "      border: none;\n",
              "      border-radius: 50%;\n",
              "      cursor: pointer;\n",
              "      display: none;\n",
              "      fill: #1967D2;\n",
              "      height: 32px;\n",
              "      padding: 0 0 0 0;\n",
              "      width: 32px;\n",
              "    }\n",
              "\n",
              "    .colab-df-convert:hover {\n",
              "      background-color: #E2EBFA;\n",
              "      box-shadow: 0px 1px 2px rgba(60, 64, 67, 0.3), 0px 1px 3px 1px rgba(60, 64, 67, 0.15);\n",
              "      fill: #174EA6;\n",
              "    }\n",
              "\n",
              "    [theme=dark] .colab-df-convert {\n",
              "      background-color: #3B4455;\n",
              "      fill: #D2E3FC;\n",
              "    }\n",
              "\n",
              "    [theme=dark] .colab-df-convert:hover {\n",
              "      background-color: #434B5C;\n",
              "      box-shadow: 0px 1px 3px 1px rgba(0, 0, 0, 0.15);\n",
              "      filter: drop-shadow(0px 1px 2px rgba(0, 0, 0, 0.3));\n",
              "      fill: #FFFFFF;\n",
              "    }\n",
              "  </style>\n",
              "\n",
              "      <script>\n",
              "        const buttonEl =\n",
              "          document.querySelector('#df-e03e0c32-87fb-4e71-bd56-b5aba876121c button.colab-df-convert');\n",
              "        buttonEl.style.display =\n",
              "          google.colab.kernel.accessAllowed ? 'block' : 'none';\n",
              "\n",
              "        async function convertToInteractive(key) {\n",
              "          const element = document.querySelector('#df-e03e0c32-87fb-4e71-bd56-b5aba876121c');\n",
              "          const dataTable =\n",
              "            await google.colab.kernel.invokeFunction('convertToInteractive',\n",
              "                                                     [key], {});\n",
              "          if (!dataTable) return;\n",
              "\n",
              "          const docLinkHtml = 'Like what you see? Visit the ' +\n",
              "            '<a target=\"_blank\" href=https://colab.research.google.com/notebooks/data_table.ipynb>data table notebook</a>'\n",
              "            + ' to learn more about interactive tables.';\n",
              "          element.innerHTML = '';\n",
              "          dataTable['output_type'] = 'display_data';\n",
              "          await google.colab.output.renderOutput(dataTable, element);\n",
              "          const docLink = document.createElement('div');\n",
              "          docLink.innerHTML = docLinkHtml;\n",
              "          element.appendChild(docLink);\n",
              "        }\n",
              "      </script>\n",
              "    </div>\n",
              "  </div>\n",
              "  "
            ],
            "text/plain": [
              "                             Net to Merchant            ...               \n",
              "source                                 AGENT AUTODEBIT  ...   Tier2   USSD\n",
              "agentname                                               ...               \n",
              "  CAROLINE NAA NUNOO\\t                   NaN     13.05  ...     NaN    NaN\n",
              " BAGONLURI SUNG - SUMA WENDY             NaN     22.10  ...     NaN    NaN\n",
              " HEIDI EFFRIM- ESSANDOH                  NaN      1.00  ...     NaN    NaN\n",
              " LOUISA BESIWA NUNOO                     NaN      1.00  ...     NaN    NaN\n",
              "ABENA SERWAH OSEI                        NaN    150.68  ...  100.45    NaN\n",
              "...                                      ...       ...  ...     ...    ...\n",
              "SENSARAH OWUSUAA                         NaN      5.02  ...     NaN    NaN\n",
              "STEPHEN AKANGISIBA                       NaN     25.11  ...  117.53    NaN\n",
              "STEPHEN ATABOA                        271.25       NaN  ...     NaN    NaN\n",
              "YAA ASAMOAH                              NaN    817.12  ...     NaN  133.6\n",
              "YAKUBU UMMUL- KALSUM\\t                   NaN      7.02  ...     NaN    NaN\n",
              "\n",
              "[79 rows x 10 columns]"
            ]
          },
          "metadata": {},
          "execution_count": 99
        }
      ]
    },
    {
      "cell_type": "code",
      "source": [
        "final1.to_excel('24to30report.xlsx')"
      ],
      "metadata": {
        "id": "3YlMgwLftM-t"
      },
      "execution_count": 100,
      "outputs": []
    }
  ]
}