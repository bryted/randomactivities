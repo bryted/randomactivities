{
  "cells": [
    {
      "cell_type": "markdown",
      "metadata": {
        "id": "view-in-github",
        "colab_type": "text"
      },
      "source": [
        "<a href=\"https://colab.research.google.com/github/bryted/randomactivities/blob/main/RETIRERITE%26EASYPENSION.ipynb\" target=\"_parent\"><img src=\"https://colab.research.google.com/assets/colab-badge.svg\" alt=\"Open In Colab\"/></a>"
      ]
    },
    {
      "cell_type": "code",
      "execution_count": null,
      "metadata": {
        "id": "_6BcBjdgvJPL"
      },
      "outputs": [],
      "source": [
        "import numpy as np\n",
        "import pandas as pd"
      ]
    },
    {
      "cell_type": "code",
      "execution_count": null,
      "metadata": {
        "id": "Qy-EvWXSww0Z"
      },
      "outputs": [],
      "source": [
        "df = pd.read_excel('finalpd.xlsx')"
      ]
    },
    {
      "cell_type": "code",
      "execution_count": null,
      "metadata": {
        "id": "AfSEDiVjxEQt"
      },
      "outputs": [],
      "source": [
        "df.info()"
      ]
    },
    {
      "cell_type": "code",
      "execution_count": null,
      "metadata": {
        "id": "rAa3_sJTxX-I"
      },
      "outputs": [],
      "source": [
        "df['set1'] = df.iloc[:,3].str[:3]"
      ]
    },
    {
      "cell_type": "code",
      "execution_count": null,
      "metadata": {
        "id": "-1Ptfcq6xlNt"
      },
      "outputs": [],
      "source": [
        "TR0 = df[df.set1 == 'TR0']\n",
        "PPT = df[df.set1== 'PPT']\n",
        "IPA = df[df.set1 == 'IPA']\n",
        "PA0 = df[df.set1== 'PA0']\n",
        "N209 = df[df.set1 == '209']\n",
        "N224= df[df.set1 == '224']"
      ]
    },
    {
      "cell_type": "code",
      "execution_count": null,
      "metadata": {
        "id": "dc00fPbCykx5"
      },
      "outputs": [],
      "source": [
        "IPA['NewBatch'] = IPA.iloc[:,3].str[:14]\n",
        "TR0['NewBatch'] = TR0.iloc[:,3].str[:12]\n",
        "PPT['NewBatch'] = PPT.iloc[:,3].str[:10]\n"
      ]
    },
    {
      "cell_type": "code",
      "execution_count": null,
      "metadata": {
        "id": "QQLZYsgUzm_S"
      },
      "outputs": [],
      "source": [
        "frames = [PPT, IPA, TR0,PA0, N209,N224 ]"
      ]
    },
    {
      "cell_type": "code",
      "execution_count": null,
      "metadata": {
        "id": "AEDg-5zMzuL3"
      },
      "outputs": [],
      "source": [
        "result = pd.concat(frames)"
      ]
    },
    {
      "cell_type": "code",
      "execution_count": null,
      "metadata": {
        "id": "Wikh-2b6zzRW"
      },
      "outputs": [],
      "source": [
        "result"
      ]
    },
    {
      "cell_type": "code",
      "execution_count": null,
      "metadata": {
        "id": "CxON3Jv80FNf"
      },
      "outputs": [],
      "source": [
        "result.NewBatch.fillna('Actual',inplace=True)"
      ]
    },
    {
      "cell_type": "code",
      "execution_count": null,
      "metadata": {
        "id": "PVqMiVSM0J2W"
      },
      "outputs": [],
      "source": [
        "result.isnull().sum()"
      ]
    },
    {
      "cell_type": "code",
      "execution_count": null,
      "metadata": {
        "id": "K0j0OIMA0PaC"
      },
      "outputs": [],
      "source": [
        "result['Reversal'] = result.iloc[:,3].str[-2:]"
      ]
    },
    {
      "cell_type": "code",
      "execution_count": null,
      "metadata": {
        "id": "QjZRd2jX0SYq"
      },
      "outputs": [],
      "source": [
        "result.loc[result['Reversal'] == '/1', 'Status'] = 'Reversal' \n",
        "result.loc[result['Reversal'] != '/1', 'Status'] = 'Actual' "
      ]
    },
    {
      "cell_type": "code",
      "execution_count": null,
      "metadata": {
        "id": "MhV46zsk0aKk"
      },
      "outputs": [],
      "source": [
        "result.Status.value_counts()"
      ]
    },
    {
      "cell_type": "code",
      "execution_count": null,
      "metadata": {
        "id": "tI3gA4yT0dWm"
      },
      "outputs": [],
      "source": [
        "actual=result[result['Status']=='Actual']"
      ]
    },
    {
      "cell_type": "code",
      "execution_count": null,
      "metadata": {
        "id": "5bmdbf_J0guN"
      },
      "outputs": [],
      "source": [
        "rever=result[result['Status']=='Reversal']"
      ]
    },
    {
      "cell_type": "code",
      "execution_count": null,
      "metadata": {
        "colab": {
          "background_save": true
        },
        "id": "u8bslaQW0kp3",
        "outputId": "34c7930c-4e42-4b11-cc27-19eab6f1eee0"
      },
      "outputs": [
        {
          "data": {
            "text/html": [
              "\n",
              "  <div id=\"df-44772044-94ae-47aa-9870-62539b0dafed\">\n",
              "    <div class=\"colab-df-container\">\n",
              "      <div>\n",
              "<style scoped>\n",
              "    .dataframe tbody tr th:only-of-type {\n",
              "        vertical-align: middle;\n",
              "    }\n",
              "\n",
              "    .dataframe tbody tr th {\n",
              "        vertical-align: top;\n",
              "    }\n",
              "\n",
              "    .dataframe thead th {\n",
              "        text-align: right;\n",
              "    }\n",
              "</style>\n",
              "<table border=\"1\" class=\"dataframe\">\n",
              "  <thead>\n",
              "    <tr style=\"text-align: right;\">\n",
              "      <th></th>\n",
              "      <th>Id</th>\n",
              "      <th>Creation time</th>\n",
              "      <th>[Sesseion date]</th>\n",
              "      <th>Batch number</th>\n",
              "      <th>Mobile</th>\n",
              "      <th>Product type</th>\n",
              "      <th>[Scheme number]</th>\n",
              "      <th>[Other number]</th>\n",
              "      <th>User name</th>\n",
              "      <th>Method</th>\n",
              "      <th>Type</th>\n",
              "      <th>Reference</th>\n",
              "      <th>[Contribution]</th>\n",
              "      <th>[Withdrawal]</th>\n",
              "      <th>set1</th>\n",
              "      <th>NewBatch</th>\n",
              "      <th>Reversal</th>\n",
              "      <th>Status</th>\n",
              "    </tr>\n",
              "  </thead>\n",
              "  <tbody>\n",
              "    <tr>\n",
              "      <th>108940</th>\n",
              "      <td>266081</td>\n",
              "      <td>2021-09-22</td>\n",
              "      <td>2021-09-16</td>\n",
              "      <td>PPTMN13057/1</td>\n",
              "      <td>0555557940</td>\n",
              "      <td>PPT Personal Pension Scheme</td>\n",
              "      <td>1010PPS013001</td>\n",
              "      <td>0781176871</td>\n",
              "      <td>jquansah</td>\n",
              "      <td>MOMO</td>\n",
              "      <td>DEPOSIT</td>\n",
              "      <td>CONTRIBUTION/reversed</td>\n",
              "      <td>0.0</td>\n",
              "      <td>134.68</td>\n",
              "      <td>PPT</td>\n",
              "      <td>PPTMN13057</td>\n",
              "      <td>/1</td>\n",
              "      <td>Reversal</td>\n",
              "    </tr>\n",
              "    <tr>\n",
              "      <th>110762</th>\n",
              "      <td>268438</td>\n",
              "      <td>2021-09-28</td>\n",
              "      <td>2021-09-24</td>\n",
              "      <td>PPT7DJ3860/1</td>\n",
              "      <td>0595108414</td>\n",
              "      <td>PPT Personal Pension Scheme</td>\n",
              "      <td>1010PPS043393</td>\n",
              "      <td>NaN</td>\n",
              "      <td>jquansah</td>\n",
              "      <td>CARD</td>\n",
              "      <td>DEPOSIT</td>\n",
              "      <td>CONTRIBUTION/reversed</td>\n",
              "      <td>0.0</td>\n",
              "      <td>100.00</td>\n",
              "      <td>PPT</td>\n",
              "      <td>PPT7DJ3860</td>\n",
              "      <td>/1</td>\n",
              "      <td>Reversal</td>\n",
              "    </tr>\n",
              "    <tr>\n",
              "      <th>148235</th>\n",
              "      <td>327567</td>\n",
              "      <td>2022-01-10</td>\n",
              "      <td>2021-12-21</td>\n",
              "      <td>PPTBV76582/1</td>\n",
              "      <td>0553144664</td>\n",
              "      <td>PPT Provident Fund Scheme</td>\n",
              "      <td>1010PFS012849</td>\n",
              "      <td>0123817136</td>\n",
              "      <td>jquansah</td>\n",
              "      <td>MOMO</td>\n",
              "      <td>DEPOSIT</td>\n",
              "      <td>CONTRIBUTION/Reversed</td>\n",
              "      <td>0.0</td>\n",
              "      <td>1.00</td>\n",
              "      <td>PPT</td>\n",
              "      <td>PPTBV76582</td>\n",
              "      <td>/1</td>\n",
              "      <td>Reversal</td>\n",
              "    </tr>\n",
              "    <tr>\n",
              "      <th>148236</th>\n",
              "      <td>327569</td>\n",
              "      <td>2022-01-10</td>\n",
              "      <td>2021-12-21</td>\n",
              "      <td>PPTBX74808/1</td>\n",
              "      <td>0553144664</td>\n",
              "      <td>PPT Provident Fund Scheme</td>\n",
              "      <td>1010PFS012849</td>\n",
              "      <td>0123817136</td>\n",
              "      <td>jquansah</td>\n",
              "      <td>MOMO</td>\n",
              "      <td>DEPOSIT</td>\n",
              "      <td>CONTRIBUTION/Reversed</td>\n",
              "      <td>0.0</td>\n",
              "      <td>1.00</td>\n",
              "      <td>PPT</td>\n",
              "      <td>PPTBX74808</td>\n",
              "      <td>/1</td>\n",
              "      <td>Reversal</td>\n",
              "    </tr>\n",
              "    <tr>\n",
              "      <th>148237</th>\n",
              "      <td>327571</td>\n",
              "      <td>2022-01-10</td>\n",
              "      <td>2021-12-20</td>\n",
              "      <td>PPTF571160/1</td>\n",
              "      <td>0553144664</td>\n",
              "      <td>PPT Provident Fund Scheme</td>\n",
              "      <td>1010PFS012849</td>\n",
              "      <td>0123817136</td>\n",
              "      <td>jquansah</td>\n",
              "      <td>MOMO</td>\n",
              "      <td>DEPOSIT</td>\n",
              "      <td>CONTRIBUTION/Reversed</td>\n",
              "      <td>0.0</td>\n",
              "      <td>1.00</td>\n",
              "      <td>PPT</td>\n",
              "      <td>PPTF571160</td>\n",
              "      <td>/1</td>\n",
              "      <td>Reversal</td>\n",
              "    </tr>\n",
              "    <tr>\n",
              "      <th>...</th>\n",
              "      <td>...</td>\n",
              "      <td>...</td>\n",
              "      <td>...</td>\n",
              "      <td>...</td>\n",
              "      <td>...</td>\n",
              "      <td>...</td>\n",
              "      <td>...</td>\n",
              "      <td>...</td>\n",
              "      <td>...</td>\n",
              "      <td>...</td>\n",
              "      <td>...</td>\n",
              "      <td>...</td>\n",
              "      <td>...</td>\n",
              "      <td>...</td>\n",
              "      <td>...</td>\n",
              "      <td>...</td>\n",
              "      <td>...</td>\n",
              "      <td>...</td>\n",
              "    </tr>\n",
              "    <tr>\n",
              "      <th>177901</th>\n",
              "      <td>377123</td>\n",
              "      <td>2022-03-15</td>\n",
              "      <td>2022-02-21</td>\n",
              "      <td>TR0853239431/1</td>\n",
              "      <td>0509776530</td>\n",
              "      <td>PPT Occupational Pension Scheme</td>\n",
              "      <td>1010OPS005870</td>\n",
              "      <td>NaN</td>\n",
              "      <td>jquansah</td>\n",
              "      <td>SCB-OPS Cheque Payment</td>\n",
              "      <td>Deposit</td>\n",
              "      <td>Payment for December 2021/Reversed</td>\n",
              "      <td>0.0</td>\n",
              "      <td>40.00</td>\n",
              "      <td>TR0</td>\n",
              "      <td>TR0853239431</td>\n",
              "      <td>/1</td>\n",
              "      <td>Reversal</td>\n",
              "    </tr>\n",
              "    <tr>\n",
              "      <th>177902</th>\n",
              "      <td>377124</td>\n",
              "      <td>2022-03-15</td>\n",
              "      <td>2022-02-21</td>\n",
              "      <td>TR0853239431/1</td>\n",
              "      <td>0548414783</td>\n",
              "      <td>PPT Occupational Pension Scheme</td>\n",
              "      <td>1010OPS007508</td>\n",
              "      <td>NaN</td>\n",
              "      <td>jquansah</td>\n",
              "      <td>SCB-OPS Cheque Payment</td>\n",
              "      <td>Deposit</td>\n",
              "      <td>Payment for December 2021/Reversed</td>\n",
              "      <td>0.0</td>\n",
              "      <td>45.00</td>\n",
              "      <td>TR0</td>\n",
              "      <td>TR0853239431</td>\n",
              "      <td>/1</td>\n",
              "      <td>Reversal</td>\n",
              "    </tr>\n",
              "    <tr>\n",
              "      <th>177903</th>\n",
              "      <td>377125</td>\n",
              "      <td>2022-03-15</td>\n",
              "      <td>2022-02-21</td>\n",
              "      <td>TR0853239431/1</td>\n",
              "      <td>0241298889</td>\n",
              "      <td>PPT Occupational Pension Scheme</td>\n",
              "      <td>1010OPS007507</td>\n",
              "      <td>NaN</td>\n",
              "      <td>jquansah</td>\n",
              "      <td>SCB-OPS Cheque Payment</td>\n",
              "      <td>Deposit</td>\n",
              "      <td>Payment for December 2021/Reversed</td>\n",
              "      <td>0.0</td>\n",
              "      <td>30.00</td>\n",
              "      <td>TR0</td>\n",
              "      <td>TR0853239431</td>\n",
              "      <td>/1</td>\n",
              "      <td>Reversal</td>\n",
              "    </tr>\n",
              "    <tr>\n",
              "      <th>177904</th>\n",
              "      <td>377126</td>\n",
              "      <td>2022-03-15</td>\n",
              "      <td>2022-02-21</td>\n",
              "      <td>TR0853239431/1</td>\n",
              "      <td>0244834444</td>\n",
              "      <td>PPT Personal Pension Scheme</td>\n",
              "      <td>1010PPS044049</td>\n",
              "      <td>NaN</td>\n",
              "      <td>jquansah</td>\n",
              "      <td>SCB-OPS Cheque Payment</td>\n",
              "      <td>Deposit</td>\n",
              "      <td>Payment for December 2021/Reversed</td>\n",
              "      <td>0.0</td>\n",
              "      <td>75.00</td>\n",
              "      <td>TR0</td>\n",
              "      <td>TR0853239431</td>\n",
              "      <td>/1</td>\n",
              "      <td>Reversal</td>\n",
              "    </tr>\n",
              "    <tr>\n",
              "      <th>177905</th>\n",
              "      <td>377127</td>\n",
              "      <td>2022-03-15</td>\n",
              "      <td>2022-02-21</td>\n",
              "      <td>TR0853239431/1</td>\n",
              "      <td>0240436359</td>\n",
              "      <td>PPT Occupational Pension Scheme</td>\n",
              "      <td>1010OPS005860</td>\n",
              "      <td>NaN</td>\n",
              "      <td>jquansah</td>\n",
              "      <td>SCB-OPS Cheque Payment</td>\n",
              "      <td>Deposit</td>\n",
              "      <td>Payment for December 2021/Reversed</td>\n",
              "      <td>0.0</td>\n",
              "      <td>40.00</td>\n",
              "      <td>TR0</td>\n",
              "      <td>TR0853239431</td>\n",
              "      <td>/1</td>\n",
              "      <td>Reversal</td>\n",
              "    </tr>\n",
              "  </tbody>\n",
              "</table>\n",
              "<p>4842 rows × 18 columns</p>\n",
              "</div>\n",
              "      <button class=\"colab-df-convert\" onclick=\"convertToInteractive('df-44772044-94ae-47aa-9870-62539b0dafed')\"\n",
              "              title=\"Convert this dataframe to an interactive table.\"\n",
              "              style=\"display:none;\">\n",
              "        \n",
              "  <svg xmlns=\"http://www.w3.org/2000/svg\" height=\"24px\"viewBox=\"0 0 24 24\"\n",
              "       width=\"24px\">\n",
              "    <path d=\"M0 0h24v24H0V0z\" fill=\"none\"/>\n",
              "    <path d=\"M18.56 5.44l.94 2.06.94-2.06 2.06-.94-2.06-.94-.94-2.06-.94 2.06-2.06.94zm-11 1L8.5 8.5l.94-2.06 2.06-.94-2.06-.94L8.5 2.5l-.94 2.06-2.06.94zm10 10l.94 2.06.94-2.06 2.06-.94-2.06-.94-.94-2.06-.94 2.06-2.06.94z\"/><path d=\"M17.41 7.96l-1.37-1.37c-.4-.4-.92-.59-1.43-.59-.52 0-1.04.2-1.43.59L10.3 9.45l-7.72 7.72c-.78.78-.78 2.05 0 2.83L4 21.41c.39.39.9.59 1.41.59.51 0 1.02-.2 1.41-.59l7.78-7.78 2.81-2.81c.8-.78.8-2.07 0-2.86zM5.41 20L4 18.59l7.72-7.72 1.47 1.35L5.41 20z\"/>\n",
              "  </svg>\n",
              "      </button>\n",
              "      \n",
              "  <style>\n",
              "    .colab-df-container {\n",
              "      display:flex;\n",
              "      flex-wrap:wrap;\n",
              "      gap: 12px;\n",
              "    }\n",
              "\n",
              "    .colab-df-convert {\n",
              "      background-color: #E8F0FE;\n",
              "      border: none;\n",
              "      border-radius: 50%;\n",
              "      cursor: pointer;\n",
              "      display: none;\n",
              "      fill: #1967D2;\n",
              "      height: 32px;\n",
              "      padding: 0 0 0 0;\n",
              "      width: 32px;\n",
              "    }\n",
              "\n",
              "    .colab-df-convert:hover {\n",
              "      background-color: #E2EBFA;\n",
              "      box-shadow: 0px 1px 2px rgba(60, 64, 67, 0.3), 0px 1px 3px 1px rgba(60, 64, 67, 0.15);\n",
              "      fill: #174EA6;\n",
              "    }\n",
              "\n",
              "    [theme=dark] .colab-df-convert {\n",
              "      background-color: #3B4455;\n",
              "      fill: #D2E3FC;\n",
              "    }\n",
              "\n",
              "    [theme=dark] .colab-df-convert:hover {\n",
              "      background-color: #434B5C;\n",
              "      box-shadow: 0px 1px 3px 1px rgba(0, 0, 0, 0.15);\n",
              "      filter: drop-shadow(0px 1px 2px rgba(0, 0, 0, 0.3));\n",
              "      fill: #FFFFFF;\n",
              "    }\n",
              "  </style>\n",
              "\n",
              "      <script>\n",
              "        const buttonEl =\n",
              "          document.querySelector('#df-44772044-94ae-47aa-9870-62539b0dafed button.colab-df-convert');\n",
              "        buttonEl.style.display =\n",
              "          google.colab.kernel.accessAllowed ? 'block' : 'none';\n",
              "\n",
              "        async function convertToInteractive(key) {\n",
              "          const element = document.querySelector('#df-44772044-94ae-47aa-9870-62539b0dafed');\n",
              "          const dataTable =\n",
              "            await google.colab.kernel.invokeFunction('convertToInteractive',\n",
              "                                                     [key], {});\n",
              "          if (!dataTable) return;\n",
              "\n",
              "          const docLinkHtml = 'Like what you see? Visit the ' +\n",
              "            '<a target=\"_blank\" href=https://colab.research.google.com/notebooks/data_table.ipynb>data table notebook</a>'\n",
              "            + ' to learn more about interactive tables.';\n",
              "          element.innerHTML = '';\n",
              "          dataTable['output_type'] = 'display_data';\n",
              "          await google.colab.output.renderOutput(dataTable, element);\n",
              "          const docLink = document.createElement('div');\n",
              "          docLink.innerHTML = docLinkHtml;\n",
              "          element.appendChild(docLink);\n",
              "        }\n",
              "      </script>\n",
              "    </div>\n",
              "  </div>\n",
              "  "
            ],
            "text/plain": [
              "            Id Creation time [Sesseion date]    Batch number      Mobile  \\\n",
              "108940  266081    2021-09-22      2021-09-16    PPTMN13057/1  0555557940   \n",
              "110762  268438    2021-09-28      2021-09-24    PPT7DJ3860/1  0595108414   \n",
              "148235  327567    2022-01-10      2021-12-21    PPTBV76582/1  0553144664   \n",
              "148236  327569    2022-01-10      2021-12-21    PPTBX74808/1  0553144664   \n",
              "148237  327571    2022-01-10      2021-12-20    PPTF571160/1  0553144664   \n",
              "...        ...           ...             ...             ...         ...   \n",
              "177901  377123    2022-03-15      2022-02-21  TR0853239431/1  0509776530   \n",
              "177902  377124    2022-03-15      2022-02-21  TR0853239431/1  0548414783   \n",
              "177903  377125    2022-03-15      2022-02-21  TR0853239431/1  0241298889   \n",
              "177904  377126    2022-03-15      2022-02-21  TR0853239431/1  0244834444   \n",
              "177905  377127    2022-03-15      2022-02-21  TR0853239431/1  0240436359   \n",
              "\n",
              "                           Product type [Scheme number] [Other number]  \\\n",
              "108940      PPT Personal Pension Scheme   1010PPS013001     0781176871   \n",
              "110762      PPT Personal Pension Scheme   1010PPS043393            NaN   \n",
              "148235        PPT Provident Fund Scheme   1010PFS012849     0123817136   \n",
              "148236        PPT Provident Fund Scheme   1010PFS012849     0123817136   \n",
              "148237        PPT Provident Fund Scheme   1010PFS012849     0123817136   \n",
              "...                                 ...             ...            ...   \n",
              "177901  PPT Occupational Pension Scheme   1010OPS005870            NaN   \n",
              "177902  PPT Occupational Pension Scheme   1010OPS007508            NaN   \n",
              "177903  PPT Occupational Pension Scheme   1010OPS007507            NaN   \n",
              "177904      PPT Personal Pension Scheme   1010PPS044049            NaN   \n",
              "177905  PPT Occupational Pension Scheme   1010OPS005860            NaN   \n",
              "\n",
              "       User name                  Method     Type  \\\n",
              "108940  jquansah                    MOMO  DEPOSIT   \n",
              "110762  jquansah                    CARD  DEPOSIT   \n",
              "148235  jquansah                    MOMO  DEPOSIT   \n",
              "148236  jquansah                    MOMO  DEPOSIT   \n",
              "148237  jquansah                    MOMO  DEPOSIT   \n",
              "...          ...                     ...      ...   \n",
              "177901  jquansah  SCB-OPS Cheque Payment  Deposit   \n",
              "177902  jquansah  SCB-OPS Cheque Payment  Deposit   \n",
              "177903  jquansah  SCB-OPS Cheque Payment  Deposit   \n",
              "177904  jquansah  SCB-OPS Cheque Payment  Deposit   \n",
              "177905  jquansah  SCB-OPS Cheque Payment  Deposit   \n",
              "\n",
              "                                 Reference  [Contribution]  [Withdrawal] set1  \\\n",
              "108940               CONTRIBUTION/reversed             0.0        134.68  PPT   \n",
              "110762               CONTRIBUTION/reversed             0.0        100.00  PPT   \n",
              "148235               CONTRIBUTION/Reversed             0.0          1.00  PPT   \n",
              "148236               CONTRIBUTION/Reversed             0.0          1.00  PPT   \n",
              "148237               CONTRIBUTION/Reversed             0.0          1.00  PPT   \n",
              "...                                    ...             ...           ...  ...   \n",
              "177901  Payment for December 2021/Reversed             0.0         40.00  TR0   \n",
              "177902  Payment for December 2021/Reversed             0.0         45.00  TR0   \n",
              "177903  Payment for December 2021/Reversed             0.0         30.00  TR0   \n",
              "177904  Payment for December 2021/Reversed             0.0         75.00  TR0   \n",
              "177905  Payment for December 2021/Reversed             0.0         40.00  TR0   \n",
              "\n",
              "            NewBatch Reversal    Status  \n",
              "108940    PPTMN13057       /1  Reversal  \n",
              "110762    PPT7DJ3860       /1  Reversal  \n",
              "148235    PPTBV76582       /1  Reversal  \n",
              "148236    PPTBX74808       /1  Reversal  \n",
              "148237    PPTF571160       /1  Reversal  \n",
              "...              ...      ...       ...  \n",
              "177901  TR0853239431       /1  Reversal  \n",
              "177902  TR0853239431       /1  Reversal  \n",
              "177903  TR0853239431       /1  Reversal  \n",
              "177904  TR0853239431       /1  Reversal  \n",
              "177905  TR0853239431       /1  Reversal  \n",
              "\n",
              "[4842 rows x 18 columns]"
            ]
          },
          "execution_count": null,
          "metadata": {},
          "output_type": "execute_result"
        }
      ],
      "source": [
        "rever"
      ]
    },
    {
      "cell_type": "code",
      "execution_count": null,
      "metadata": {
        "colab": {
          "background_save": true
        },
        "id": "PDP8mRpG0p2A"
      },
      "outputs": [],
      "source": [
        "C = actual.loc[~((actual.NewBatch.isin(rever[\"NewBatch\"])))]"
      ]
    },
    {
      "cell_type": "code",
      "execution_count": null,
      "metadata": {
        "colab": {
          "background_save": true
        },
        "id": "7N287uuVSVIP"
      },
      "outputs": [],
      "source": [
        "c1 = C.loc[C['Product type'] == 'PPT Personal Pension Scheme']"
      ]
    },
    {
      "cell_type": "code",
      "execution_count": null,
      "metadata": {
        "colab": {
          "background_save": true
        },
        "id": "hWd_zQwM06F8",
        "outputId": "d3fb1e5c-2053-4791-fac5-fdafcb9661e0"
      },
      "outputs": [
        {
          "data": {
            "text/html": [
              "\n",
              "  <div id=\"df-2c73cde4-f4f8-4c64-abb7-d27069e2b614\">\n",
              "    <div class=\"colab-df-container\">\n",
              "      <div>\n",
              "<style scoped>\n",
              "    .dataframe tbody tr th:only-of-type {\n",
              "        vertical-align: middle;\n",
              "    }\n",
              "\n",
              "    .dataframe tbody tr th {\n",
              "        vertical-align: top;\n",
              "    }\n",
              "\n",
              "    .dataframe thead th {\n",
              "        text-align: right;\n",
              "    }\n",
              "</style>\n",
              "<table border=\"1\" class=\"dataframe\">\n",
              "  <thead>\n",
              "    <tr style=\"text-align: right;\">\n",
              "      <th></th>\n",
              "      <th>Id</th>\n",
              "      <th>Creation time</th>\n",
              "      <th>[Sesseion date]</th>\n",
              "      <th>Batch number</th>\n",
              "      <th>Mobile</th>\n",
              "      <th>Product type</th>\n",
              "      <th>[Scheme number]</th>\n",
              "      <th>[Other number]</th>\n",
              "      <th>User name</th>\n",
              "      <th>Method</th>\n",
              "      <th>Type</th>\n",
              "      <th>Reference</th>\n",
              "      <th>[Contribution]</th>\n",
              "      <th>[Withdrawal]</th>\n",
              "      <th>set1</th>\n",
              "      <th>NewBatch</th>\n",
              "      <th>Reversal</th>\n",
              "      <th>Status</th>\n",
              "    </tr>\n",
              "  </thead>\n",
              "  <tbody>\n",
              "    <tr>\n",
              "      <th>65657</th>\n",
              "      <td>241230</td>\n",
              "      <td>2021-08-16</td>\n",
              "      <td>2021-08-16</td>\n",
              "      <td>PPT0000012</td>\n",
              "      <td>0264330988</td>\n",
              "      <td>PPT Personal Pension Scheme</td>\n",
              "      <td>1010PPS043862</td>\n",
              "      <td>NaN</td>\n",
              "      <td>System</td>\n",
              "      <td>MOMO</td>\n",
              "      <td>DEPOSIT</td>\n",
              "      <td>CONTRIBUTION</td>\n",
              "      <td>3.0</td>\n",
              "      <td>0.0</td>\n",
              "      <td>PPT</td>\n",
              "      <td>PPT0000012</td>\n",
              "      <td>12</td>\n",
              "      <td>Actual</td>\n",
              "    </tr>\n",
              "    <tr>\n",
              "      <th>66293</th>\n",
              "      <td>247723</td>\n",
              "      <td>2021-08-24</td>\n",
              "      <td>2021-08-24</td>\n",
              "      <td>PPT000079</td>\n",
              "      <td>0551747672</td>\n",
              "      <td>PPT Personal Pension Scheme</td>\n",
              "      <td>1010PPS007999</td>\n",
              "      <td>1028174</td>\n",
              "      <td>System</td>\n",
              "      <td>MOMO</td>\n",
              "      <td>DEPOSIT</td>\n",
              "      <td>CONTRIBUTION</td>\n",
              "      <td>20.0</td>\n",
              "      <td>0.0</td>\n",
              "      <td>PPT</td>\n",
              "      <td>PPT000079</td>\n",
              "      <td>79</td>\n",
              "      <td>Actual</td>\n",
              "    </tr>\n",
              "    <tr>\n",
              "      <th>66294</th>\n",
              "      <td>247725</td>\n",
              "      <td>2021-08-24</td>\n",
              "      <td>2021-08-24</td>\n",
              "      <td>PPT000080</td>\n",
              "      <td>0249881699</td>\n",
              "      <td>PPT Personal Pension Scheme</td>\n",
              "      <td>1010PPS008630</td>\n",
              "      <td>1004077</td>\n",
              "      <td>System</td>\n",
              "      <td>MOMO</td>\n",
              "      <td>DEPOSIT</td>\n",
              "      <td>CONTRIBUTION</td>\n",
              "      <td>5.0</td>\n",
              "      <td>0.0</td>\n",
              "      <td>PPT</td>\n",
              "      <td>PPT000080</td>\n",
              "      <td>80</td>\n",
              "      <td>Actual</td>\n",
              "    </tr>\n",
              "    <tr>\n",
              "      <th>66313</th>\n",
              "      <td>247748</td>\n",
              "      <td>2021-08-24</td>\n",
              "      <td>2021-08-24</td>\n",
              "      <td>PPT000082</td>\n",
              "      <td>0240669325</td>\n",
              "      <td>PPT Personal Pension Scheme</td>\n",
              "      <td>1010PPS007889</td>\n",
              "      <td>1011518</td>\n",
              "      <td>System</td>\n",
              "      <td>MOMO</td>\n",
              "      <td>DEPOSIT</td>\n",
              "      <td>CONTRIBUTION</td>\n",
              "      <td>10.0</td>\n",
              "      <td>0.0</td>\n",
              "      <td>PPT</td>\n",
              "      <td>PPT000082</td>\n",
              "      <td>82</td>\n",
              "      <td>Actual</td>\n",
              "    </tr>\n",
              "    <tr>\n",
              "      <th>66314</th>\n",
              "      <td>247750</td>\n",
              "      <td>2021-08-24</td>\n",
              "      <td>2021-08-24</td>\n",
              "      <td>PPT000084</td>\n",
              "      <td>0544124651</td>\n",
              "      <td>PPT Personal Pension Scheme</td>\n",
              "      <td>1010PPS004710</td>\n",
              "      <td>1041645</td>\n",
              "      <td>System</td>\n",
              "      <td>MOMO</td>\n",
              "      <td>DEPOSIT</td>\n",
              "      <td>CONTRIBUTION</td>\n",
              "      <td>10.0</td>\n",
              "      <td>0.0</td>\n",
              "      <td>PPT</td>\n",
              "      <td>PPT000084</td>\n",
              "      <td>84</td>\n",
              "      <td>Actual</td>\n",
              "    </tr>\n",
              "    <tr>\n",
              "      <th>...</th>\n",
              "      <td>...</td>\n",
              "      <td>...</td>\n",
              "      <td>...</td>\n",
              "      <td>...</td>\n",
              "      <td>...</td>\n",
              "      <td>...</td>\n",
              "      <td>...</td>\n",
              "      <td>...</td>\n",
              "      <td>...</td>\n",
              "      <td>...</td>\n",
              "      <td>...</td>\n",
              "      <td>...</td>\n",
              "      <td>...</td>\n",
              "      <td>...</td>\n",
              "      <td>...</td>\n",
              "      <td>...</td>\n",
              "      <td>...</td>\n",
              "      <td>...</td>\n",
              "    </tr>\n",
              "    <tr>\n",
              "      <th>87857</th>\n",
              "      <td>238596</td>\n",
              "      <td>2021-08-10</td>\n",
              "      <td>2021-08-10</td>\n",
              "      <td>PA0008</td>\n",
              "      <td>0509245106</td>\n",
              "      <td>PPT Personal Pension Scheme</td>\n",
              "      <td>1010PPS007969</td>\n",
              "      <td>1019452</td>\n",
              "      <td>System</td>\n",
              "      <td>MOMO</td>\n",
              "      <td>DEPOSIT</td>\n",
              "      <td>CONTRIBUTION</td>\n",
              "      <td>100.0</td>\n",
              "      <td>0.0</td>\n",
              "      <td>PA0</td>\n",
              "      <td>Actual</td>\n",
              "      <td>08</td>\n",
              "      <td>Actual</td>\n",
              "    </tr>\n",
              "    <tr>\n",
              "      <th>88760</th>\n",
              "      <td>239591</td>\n",
              "      <td>2021-08-10</td>\n",
              "      <td>2021-08-10</td>\n",
              "      <td>PA0009</td>\n",
              "      <td>0264330988</td>\n",
              "      <td>PPT Personal Pension Scheme</td>\n",
              "      <td>1010PPS043862</td>\n",
              "      <td>NaN</td>\n",
              "      <td>System</td>\n",
              "      <td>MOMO</td>\n",
              "      <td>DEPOSIT</td>\n",
              "      <td>CONTRIBUTION</td>\n",
              "      <td>10.0</td>\n",
              "      <td>0.0</td>\n",
              "      <td>PA0</td>\n",
              "      <td>Actual</td>\n",
              "      <td>09</td>\n",
              "      <td>Actual</td>\n",
              "    </tr>\n",
              "    <tr>\n",
              "      <th>88761</th>\n",
              "      <td>239593</td>\n",
              "      <td>2021-08-10</td>\n",
              "      <td>2021-08-10</td>\n",
              "      <td>PA010</td>\n",
              "      <td>0264330988</td>\n",
              "      <td>PPT Personal Pension Scheme</td>\n",
              "      <td>1010PPS043862</td>\n",
              "      <td>NaN</td>\n",
              "      <td>System</td>\n",
              "      <td>MOMO</td>\n",
              "      <td>DEPOSIT</td>\n",
              "      <td>CONTRIBUTION</td>\n",
              "      <td>10.0</td>\n",
              "      <td>0.0</td>\n",
              "      <td>PA0</td>\n",
              "      <td>Actual</td>\n",
              "      <td>10</td>\n",
              "      <td>Actual</td>\n",
              "    </tr>\n",
              "    <tr>\n",
              "      <th>79667</th>\n",
              "      <td>228175</td>\n",
              "      <td>2021-07-15</td>\n",
              "      <td>2021-07-15</td>\n",
              "      <td>209</td>\n",
              "      <td>0541082573</td>\n",
              "      <td>PPT Personal Pension Scheme</td>\n",
              "      <td>1010PPS043693</td>\n",
              "      <td>NaN</td>\n",
              "      <td>System</td>\n",
              "      <td>MOMO</td>\n",
              "      <td>DEPOSIT</td>\n",
              "      <td>CONTRIBUTION</td>\n",
              "      <td>1.0</td>\n",
              "      <td>0.0</td>\n",
              "      <td>209</td>\n",
              "      <td>Actual</td>\n",
              "      <td>09</td>\n",
              "      <td>Actual</td>\n",
              "    </tr>\n",
              "    <tr>\n",
              "      <th>76898</th>\n",
              "      <td>224873</td>\n",
              "      <td>2021-07-06</td>\n",
              "      <td>2021-07-06</td>\n",
              "      <td>224</td>\n",
              "      <td>0207525483</td>\n",
              "      <td>PPT Personal Pension Scheme</td>\n",
              "      <td>1010PPS009056</td>\n",
              "      <td>1004520</td>\n",
              "      <td>System</td>\n",
              "      <td>MOMO</td>\n",
              "      <td>DEPOSIT</td>\n",
              "      <td>CONTRIBUTION</td>\n",
              "      <td>0.1</td>\n",
              "      <td>0.0</td>\n",
              "      <td>224</td>\n",
              "      <td>Actual</td>\n",
              "      <td>24</td>\n",
              "      <td>Actual</td>\n",
              "    </tr>\n",
              "  </tbody>\n",
              "</table>\n",
              "<p>120607 rows × 18 columns</p>\n",
              "</div>\n",
              "      <button class=\"colab-df-convert\" onclick=\"convertToInteractive('df-2c73cde4-f4f8-4c64-abb7-d27069e2b614')\"\n",
              "              title=\"Convert this dataframe to an interactive table.\"\n",
              "              style=\"display:none;\">\n",
              "        \n",
              "  <svg xmlns=\"http://www.w3.org/2000/svg\" height=\"24px\"viewBox=\"0 0 24 24\"\n",
              "       width=\"24px\">\n",
              "    <path d=\"M0 0h24v24H0V0z\" fill=\"none\"/>\n",
              "    <path d=\"M18.56 5.44l.94 2.06.94-2.06 2.06-.94-2.06-.94-.94-2.06-.94 2.06-2.06.94zm-11 1L8.5 8.5l.94-2.06 2.06-.94-2.06-.94L8.5 2.5l-.94 2.06-2.06.94zm10 10l.94 2.06.94-2.06 2.06-.94-2.06-.94-.94-2.06-.94 2.06-2.06.94z\"/><path d=\"M17.41 7.96l-1.37-1.37c-.4-.4-.92-.59-1.43-.59-.52 0-1.04.2-1.43.59L10.3 9.45l-7.72 7.72c-.78.78-.78 2.05 0 2.83L4 21.41c.39.39.9.59 1.41.59.51 0 1.02-.2 1.41-.59l7.78-7.78 2.81-2.81c.8-.78.8-2.07 0-2.86zM5.41 20L4 18.59l7.72-7.72 1.47 1.35L5.41 20z\"/>\n",
              "  </svg>\n",
              "      </button>\n",
              "      \n",
              "  <style>\n",
              "    .colab-df-container {\n",
              "      display:flex;\n",
              "      flex-wrap:wrap;\n",
              "      gap: 12px;\n",
              "    }\n",
              "\n",
              "    .colab-df-convert {\n",
              "      background-color: #E8F0FE;\n",
              "      border: none;\n",
              "      border-radius: 50%;\n",
              "      cursor: pointer;\n",
              "      display: none;\n",
              "      fill: #1967D2;\n",
              "      height: 32px;\n",
              "      padding: 0 0 0 0;\n",
              "      width: 32px;\n",
              "    }\n",
              "\n",
              "    .colab-df-convert:hover {\n",
              "      background-color: #E2EBFA;\n",
              "      box-shadow: 0px 1px 2px rgba(60, 64, 67, 0.3), 0px 1px 3px 1px rgba(60, 64, 67, 0.15);\n",
              "      fill: #174EA6;\n",
              "    }\n",
              "\n",
              "    [theme=dark] .colab-df-convert {\n",
              "      background-color: #3B4455;\n",
              "      fill: #D2E3FC;\n",
              "    }\n",
              "\n",
              "    [theme=dark] .colab-df-convert:hover {\n",
              "      background-color: #434B5C;\n",
              "      box-shadow: 0px 1px 3px 1px rgba(0, 0, 0, 0.15);\n",
              "      filter: drop-shadow(0px 1px 2px rgba(0, 0, 0, 0.3));\n",
              "      fill: #FFFFFF;\n",
              "    }\n",
              "  </style>\n",
              "\n",
              "      <script>\n",
              "        const buttonEl =\n",
              "          document.querySelector('#df-2c73cde4-f4f8-4c64-abb7-d27069e2b614 button.colab-df-convert');\n",
              "        buttonEl.style.display =\n",
              "          google.colab.kernel.accessAllowed ? 'block' : 'none';\n",
              "\n",
              "        async function convertToInteractive(key) {\n",
              "          const element = document.querySelector('#df-2c73cde4-f4f8-4c64-abb7-d27069e2b614');\n",
              "          const dataTable =\n",
              "            await google.colab.kernel.invokeFunction('convertToInteractive',\n",
              "                                                     [key], {});\n",
              "          if (!dataTable) return;\n",
              "\n",
              "          const docLinkHtml = 'Like what you see? Visit the ' +\n",
              "            '<a target=\"_blank\" href=https://colab.research.google.com/notebooks/data_table.ipynb>data table notebook</a>'\n",
              "            + ' to learn more about interactive tables.';\n",
              "          element.innerHTML = '';\n",
              "          dataTable['output_type'] = 'display_data';\n",
              "          await google.colab.output.renderOutput(dataTable, element);\n",
              "          const docLink = document.createElement('div');\n",
              "          docLink.innerHTML = docLinkHtml;\n",
              "          element.appendChild(docLink);\n",
              "        }\n",
              "      </script>\n",
              "    </div>\n",
              "  </div>\n",
              "  "
            ],
            "text/plain": [
              "           Id Creation time [Sesseion date] Batch number      Mobile  \\\n",
              "65657  241230    2021-08-16      2021-08-16   PPT0000012  0264330988   \n",
              "66293  247723    2021-08-24      2021-08-24    PPT000079  0551747672   \n",
              "66294  247725    2021-08-24      2021-08-24    PPT000080  0249881699   \n",
              "66313  247748    2021-08-24      2021-08-24    PPT000082  0240669325   \n",
              "66314  247750    2021-08-24      2021-08-24    PPT000084  0544124651   \n",
              "...       ...           ...             ...          ...         ...   \n",
              "87857  238596    2021-08-10      2021-08-10       PA0008  0509245106   \n",
              "88760  239591    2021-08-10      2021-08-10       PA0009  0264330988   \n",
              "88761  239593    2021-08-10      2021-08-10        PA010  0264330988   \n",
              "79667  228175    2021-07-15      2021-07-15          209  0541082573   \n",
              "76898  224873    2021-07-06      2021-07-06          224  0207525483   \n",
              "\n",
              "                      Product type [Scheme number] [Other number] User name  \\\n",
              "65657  PPT Personal Pension Scheme   1010PPS043862            NaN    System   \n",
              "66293  PPT Personal Pension Scheme   1010PPS007999        1028174    System   \n",
              "66294  PPT Personal Pension Scheme   1010PPS008630        1004077    System   \n",
              "66313  PPT Personal Pension Scheme   1010PPS007889        1011518    System   \n",
              "66314  PPT Personal Pension Scheme   1010PPS004710        1041645    System   \n",
              "...                            ...             ...            ...       ...   \n",
              "87857  PPT Personal Pension Scheme   1010PPS007969        1019452    System   \n",
              "88760  PPT Personal Pension Scheme   1010PPS043862            NaN    System   \n",
              "88761  PPT Personal Pension Scheme   1010PPS043862            NaN    System   \n",
              "79667  PPT Personal Pension Scheme   1010PPS043693            NaN    System   \n",
              "76898  PPT Personal Pension Scheme   1010PPS009056        1004520    System   \n",
              "\n",
              "      Method     Type     Reference  [Contribution]  [Withdrawal] set1  \\\n",
              "65657   MOMO  DEPOSIT  CONTRIBUTION             3.0           0.0  PPT   \n",
              "66293   MOMO  DEPOSIT  CONTRIBUTION            20.0           0.0  PPT   \n",
              "66294   MOMO  DEPOSIT  CONTRIBUTION             5.0           0.0  PPT   \n",
              "66313   MOMO  DEPOSIT  CONTRIBUTION            10.0           0.0  PPT   \n",
              "66314   MOMO  DEPOSIT  CONTRIBUTION            10.0           0.0  PPT   \n",
              "...      ...      ...           ...             ...           ...  ...   \n",
              "87857   MOMO  DEPOSIT  CONTRIBUTION           100.0           0.0  PA0   \n",
              "88760   MOMO  DEPOSIT  CONTRIBUTION            10.0           0.0  PA0   \n",
              "88761   MOMO  DEPOSIT  CONTRIBUTION            10.0           0.0  PA0   \n",
              "79667   MOMO  DEPOSIT  CONTRIBUTION             1.0           0.0  209   \n",
              "76898   MOMO  DEPOSIT  CONTRIBUTION             0.1           0.0  224   \n",
              "\n",
              "         NewBatch Reversal  Status  \n",
              "65657  PPT0000012       12  Actual  \n",
              "66293   PPT000079       79  Actual  \n",
              "66294   PPT000080       80  Actual  \n",
              "66313   PPT000082       82  Actual  \n",
              "66314   PPT000084       84  Actual  \n",
              "...           ...      ...     ...  \n",
              "87857      Actual       08  Actual  \n",
              "88760      Actual       09  Actual  \n",
              "88761      Actual       10  Actual  \n",
              "79667      Actual       09  Actual  \n",
              "76898      Actual       24  Actual  \n",
              "\n",
              "[120607 rows x 18 columns]"
            ]
          },
          "execution_count": null,
          "metadata": {},
          "output_type": "execute_result"
        }
      ],
      "source": [
        "c1"
      ]
    },
    {
      "cell_type": "markdown",
      "metadata": {
        "id": "gID-N4yCP16T"
      },
      "source": [
        ""
      ]
    },
    {
      "cell_type": "code",
      "execution_count": null,
      "metadata": {
        "colab": {
          "background_save": true
        },
        "id": "0VmygpkuP10z"
      },
      "outputs": [],
      "source": [
        ""
      ]
    },
    {
      "cell_type": "code",
      "execution_count": null,
      "metadata": {
        "colab": {
          "background_save": true
        },
        "id": "AdT07kKTP1vP"
      },
      "outputs": [],
      "source": [
        "f = pd.pivot_table(c1, index = ['[Scheme number]'], values = ['[Contribution]'],aggfunc = np.sum)"
      ]
    },
    {
      "cell_type": "code",
      "execution_count": null,
      "metadata": {
        "colab": {
          "background_save": true
        },
        "id": "otCeKc4gP1pO"
      },
      "outputs": [],
      "source": [
        "f.to_excel('f1.xlsx')"
      ]
    },
    {
      "cell_type": "code",
      "execution_count": null,
      "metadata": {
        "colab": {
          "background_save": true
        },
        "id": "KcRCDZ4bP1d7"
      },
      "outputs": [],
      "source": [
        ""
      ]
    },
    {
      "cell_type": "code",
      "execution_count": null,
      "metadata": {
        "colab": {
          "background_save": true
        },
        "id": "6ZTY8qSWP1Yl"
      },
      "outputs": [],
      "source": [
        "a = pd.read_excel('EASY PERNSION & RETIRE RITE.xlsx', sheet_name = 'Sheet1')"
      ]
    },
    {
      "cell_type": "code",
      "execution_count": null,
      "metadata": {
        "colab": {
          "background_save": true
        },
        "id": "XKzzKI4vP1TJ"
      },
      "outputs": [],
      "source": [
        ""
      ]
    },
    {
      "cell_type": "code",
      "execution_count": null,
      "metadata": {
        "colab": {
          "background_save": true
        },
        "id": "gL7Lca8cP1N3"
      },
      "outputs": [],
      "source": [
        ""
      ]
    },
    {
      "cell_type": "code",
      "execution_count": null,
      "metadata": {
        "colab": {
          "background_save": true
        },
        "id": "miJULMYvP1Ii"
      },
      "outputs": [],
      "source": [
        ""
      ]
    },
    {
      "cell_type": "code",
      "execution_count": null,
      "metadata": {
        "colab": {
          "background_save": true
        },
        "id": "xBoFk7iwP1Cs"
      },
      "outputs": [],
      "source": [
        ""
      ]
    },
    {
      "cell_type": "code",
      "execution_count": null,
      "metadata": {
        "colab": {
          "background_save": true
        },
        "id": "EByMz7-eP09b"
      },
      "outputs": [],
      "source": [
        ""
      ]
    },
    {
      "cell_type": "code",
      "execution_count": null,
      "metadata": {
        "colab": {
          "background_save": true
        },
        "id": "IqmHK4BaP03w"
      },
      "outputs": [],
      "source": [
        ""
      ]
    },
    {
      "cell_type": "code",
      "execution_count": null,
      "metadata": {
        "colab": {
          "background_save": true
        },
        "id": "-KSV43SrP0yx"
      },
      "outputs": [],
      "source": [
        ""
      ]
    },
    {
      "cell_type": "code",
      "execution_count": null,
      "metadata": {
        "colab": {
          "background_save": true
        },
        "id": "1-Q54qQLP0qw"
      },
      "outputs": [],
      "source": [
        ""
      ]
    },
    {
      "cell_type": "code",
      "execution_count": null,
      "metadata": {
        "colab": {
          "background_save": true
        },
        "id": "BCyAzwtbP0ks"
      },
      "outputs": [],
      "source": [
        ""
      ]
    },
    {
      "cell_type": "code",
      "execution_count": null,
      "metadata": {
        "colab": {
          "background_save": true
        },
        "id": "Fs3TZZAtP0fp"
      },
      "outputs": [],
      "source": [
        ""
      ]
    },
    {
      "cell_type": "code",
      "execution_count": null,
      "metadata": {
        "colab": {
          "background_save": true
        },
        "id": "DKM7CwXZP0UL"
      },
      "outputs": [],
      "source": [
        ""
      ]
    },
    {
      "cell_type": "markdown",
      "metadata": {
        "id": "7MSQIedPP308"
      },
      "source": [
        ""
      ]
    },
    {
      "cell_type": "code",
      "execution_count": null,
      "metadata": {
        "colab": {
          "background_save": true
        },
        "id": "Moa9sFO2eTF0"
      },
      "outputs": [],
      "source": [
        "df[\"[Sesseion date]\"] = pd.to_datetime(df[\"[Sesseion date]\"])\n",
        "df_s = df.sort_values(by='[Sesseion date]',ascending=True)\n",
        "df_s = df.drop_duplicates(subset=['[Scheme number]'], keep='last')\n"
      ]
    },
    {
      "cell_type": "code",
      "execution_count": null,
      "metadata": {
        "colab": {
          "background_save": true
        },
        "id": "vQbumcisskgI"
      },
      "outputs": [],
      "source": [
        "df[\"[Sesseion date]\"] = pd.to_datetime(df[\"[Sesseion date]\"])\n",
        "df_c = df.sort_values(by='[Sesseion date]',ascending=True)\n",
        "df_c = df.drop_duplicates(subset=['[Scheme number]'], keep='last')\n"
      ]
    },
    {
      "cell_type": "code",
      "execution_count": null,
      "metadata": {
        "colab": {
          "background_save": true
        },
        "id": "oHI4UOq5pA38",
        "outputId": "71eb1631-29b2-4124-ff5b-7bfd4a451439"
      },
      "outputs": [
        {
          "data": {
            "text/html": [
              "\n",
              "  <div id=\"df-57d039c7-33e4-4926-abce-ed785f0a0dae\">\n",
              "    <div class=\"colab-df-container\">\n",
              "      <div>\n",
              "<style scoped>\n",
              "    .dataframe tbody tr th:only-of-type {\n",
              "        vertical-align: middle;\n",
              "    }\n",
              "\n",
              "    .dataframe tbody tr th {\n",
              "        vertical-align: top;\n",
              "    }\n",
              "\n",
              "    .dataframe thead th {\n",
              "        text-align: right;\n",
              "    }\n",
              "</style>\n",
              "<table border=\"1\" class=\"dataframe\">\n",
              "  <thead>\n",
              "    <tr style=\"text-align: right;\">\n",
              "      <th></th>\n",
              "      <th>Id</th>\n",
              "      <th>Creation time</th>\n",
              "      <th>[Sesseion date]</th>\n",
              "      <th>Batch number</th>\n",
              "      <th>Mobile</th>\n",
              "      <th>Product type</th>\n",
              "      <th>[Scheme number]</th>\n",
              "      <th>[Other number]</th>\n",
              "      <th>User name</th>\n",
              "      <th>Method</th>\n",
              "      <th>Type</th>\n",
              "      <th>Reference</th>\n",
              "      <th>[Contribution]</th>\n",
              "      <th>[Withdrawal]</th>\n",
              "      <th>set1</th>\n",
              "    </tr>\n",
              "  </thead>\n",
              "  <tbody>\n",
              "    <tr>\n",
              "      <th>31</th>\n",
              "      <td>9405</td>\n",
              "      <td>2021-01-09</td>\n",
              "      <td>2020-12-18</td>\n",
              "      <td>TR0788750966</td>\n",
              "      <td>0544840057</td>\n",
              "      <td>PPT Occupational Pension Scheme</td>\n",
              "      <td>1010OPS000014</td>\n",
              "      <td>1001267</td>\n",
              "      <td>admin</td>\n",
              "      <td>NON-CASH</td>\n",
              "      <td>deposit</td>\n",
              "      <td>BALANCE B/FWD</td>\n",
              "      <td>115.00</td>\n",
              "      <td>0.0</td>\n",
              "      <td>TR0</td>\n",
              "    </tr>\n",
              "    <tr>\n",
              "      <th>34</th>\n",
              "      <td>9411</td>\n",
              "      <td>2021-01-09</td>\n",
              "      <td>2020-12-18</td>\n",
              "      <td>TR0788750966</td>\n",
              "      <td>0245616834</td>\n",
              "      <td>PPT Occupational Pension Scheme</td>\n",
              "      <td>1010OPS000976</td>\n",
              "      <td>1020228</td>\n",
              "      <td>admin</td>\n",
              "      <td>NON-CASH</td>\n",
              "      <td>deposit</td>\n",
              "      <td>BALANCE B/FWD</td>\n",
              "      <td>157.00</td>\n",
              "      <td>0.0</td>\n",
              "      <td>TR0</td>\n",
              "    </tr>\n",
              "    <tr>\n",
              "      <th>35</th>\n",
              "      <td>9413</td>\n",
              "      <td>2021-01-09</td>\n",
              "      <td>2020-12-18</td>\n",
              "      <td>TR0788750966</td>\n",
              "      <td>0207092570</td>\n",
              "      <td>PPT Occupational Pension Scheme</td>\n",
              "      <td>1010OPS000019</td>\n",
              "      <td>1001273</td>\n",
              "      <td>admin</td>\n",
              "      <td>NON-CASH</td>\n",
              "      <td>deposit</td>\n",
              "      <td>BALANCE B/FWD</td>\n",
              "      <td>116.00</td>\n",
              "      <td>0.0</td>\n",
              "      <td>TR0</td>\n",
              "    </tr>\n",
              "    <tr>\n",
              "      <th>37</th>\n",
              "      <td>9417</td>\n",
              "      <td>2021-01-09</td>\n",
              "      <td>2020-12-18</td>\n",
              "      <td>TR0788750966</td>\n",
              "      <td>0543895858</td>\n",
              "      <td>PPT Occupational Pension Scheme</td>\n",
              "      <td>1010OPS000021</td>\n",
              "      <td>1001275</td>\n",
              "      <td>admin</td>\n",
              "      <td>NON-CASH</td>\n",
              "      <td>deposit</td>\n",
              "      <td>BALANCE B/FWD</td>\n",
              "      <td>670.00</td>\n",
              "      <td>0.0</td>\n",
              "      <td>TR0</td>\n",
              "    </tr>\n",
              "    <tr>\n",
              "      <th>42</th>\n",
              "      <td>9427</td>\n",
              "      <td>2021-01-09</td>\n",
              "      <td>2020-12-18</td>\n",
              "      <td>TR0788750966</td>\n",
              "      <td>0243753204</td>\n",
              "      <td>PPT Occupational Pension Scheme</td>\n",
              "      <td>1010OPS000026</td>\n",
              "      <td>1003066</td>\n",
              "      <td>admin</td>\n",
              "      <td>NON-CASH</td>\n",
              "      <td>deposit</td>\n",
              "      <td>BALANCE B/FWD</td>\n",
              "      <td>1018.82</td>\n",
              "      <td>0.0</td>\n",
              "      <td>TR0</td>\n",
              "    </tr>\n",
              "    <tr>\n",
              "      <th>...</th>\n",
              "      <td>...</td>\n",
              "      <td>...</td>\n",
              "      <td>...</td>\n",
              "      <td>...</td>\n",
              "      <td>...</td>\n",
              "      <td>...</td>\n",
              "      <td>...</td>\n",
              "      <td>...</td>\n",
              "      <td>...</td>\n",
              "      <td>...</td>\n",
              "      <td>...</td>\n",
              "      <td>...</td>\n",
              "      <td>...</td>\n",
              "      <td>...</td>\n",
              "      <td>...</td>\n",
              "    </tr>\n",
              "    <tr>\n",
              "      <th>180271</th>\n",
              "      <td>383757</td>\n",
              "      <td>2022-03-21</td>\n",
              "      <td>2022-03-21</td>\n",
              "      <td>PPT8441253</td>\n",
              "      <td>0549292946</td>\n",
              "      <td>PPT Personal Pension Scheme</td>\n",
              "      <td>1010PPS043568</td>\n",
              "      <td>NaN</td>\n",
              "      <td>System</td>\n",
              "      <td>MOMO</td>\n",
              "      <td>DEPOSIT</td>\n",
              "      <td>CONTRIBUTION</td>\n",
              "      <td>1.00</td>\n",
              "      <td>0.0</td>\n",
              "      <td>PPT</td>\n",
              "    </tr>\n",
              "    <tr>\n",
              "      <th>180272</th>\n",
              "      <td>383760</td>\n",
              "      <td>2022-03-21</td>\n",
              "      <td>2022-03-21</td>\n",
              "      <td>PPTU441284</td>\n",
              "      <td>0242343001</td>\n",
              "      <td>PPT Personal Pension Scheme</td>\n",
              "      <td>1010PPS007417</td>\n",
              "      <td>1012220</td>\n",
              "      <td>System</td>\n",
              "      <td>MOMO</td>\n",
              "      <td>DEPOSIT</td>\n",
              "      <td>CONTRIBUTION</td>\n",
              "      <td>5.00</td>\n",
              "      <td>0.0</td>\n",
              "      <td>PPT</td>\n",
              "    </tr>\n",
              "    <tr>\n",
              "      <th>180273</th>\n",
              "      <td>383762</td>\n",
              "      <td>2022-03-21</td>\n",
              "      <td>2022-03-21</td>\n",
              "      <td>PPTA441318</td>\n",
              "      <td>0244698706</td>\n",
              "      <td>PPT Personal Pension Scheme</td>\n",
              "      <td>1010PPS008690</td>\n",
              "      <td>1017821</td>\n",
              "      <td>System</td>\n",
              "      <td>MOMO</td>\n",
              "      <td>DEPOSIT</td>\n",
              "      <td>CONTRIBUTION</td>\n",
              "      <td>10.00</td>\n",
              "      <td>0.0</td>\n",
              "      <td>PPT</td>\n",
              "    </tr>\n",
              "    <tr>\n",
              "      <th>180274</th>\n",
              "      <td>383764</td>\n",
              "      <td>2022-03-21</td>\n",
              "      <td>2022-03-21</td>\n",
              "      <td>PPTX441397</td>\n",
              "      <td>0546038666</td>\n",
              "      <td>PPT Personal Pension Scheme</td>\n",
              "      <td>1010PPS041216</td>\n",
              "      <td>1039363</td>\n",
              "      <td>System</td>\n",
              "      <td>MOMO</td>\n",
              "      <td>DEPOSIT</td>\n",
              "      <td>CONTRIBUTION</td>\n",
              "      <td>20.00</td>\n",
              "      <td>0.0</td>\n",
              "      <td>PPT</td>\n",
              "    </tr>\n",
              "    <tr>\n",
              "      <th>180275</th>\n",
              "      <td>383766</td>\n",
              "      <td>2022-03-21</td>\n",
              "      <td>2022-03-21</td>\n",
              "      <td>PPTG441399</td>\n",
              "      <td>0244884605</td>\n",
              "      <td>PPT Personal Pension Scheme</td>\n",
              "      <td>1010PPS045273</td>\n",
              "      <td>NaN</td>\n",
              "      <td>System</td>\n",
              "      <td>MOMO</td>\n",
              "      <td>DEPOSIT</td>\n",
              "      <td>CONTRIBUTION</td>\n",
              "      <td>25.00</td>\n",
              "      <td>0.0</td>\n",
              "      <td>PPT</td>\n",
              "    </tr>\n",
              "  </tbody>\n",
              "</table>\n",
              "<p>22169 rows × 15 columns</p>\n",
              "</div>\n",
              "      <button class=\"colab-df-convert\" onclick=\"convertToInteractive('df-57d039c7-33e4-4926-abce-ed785f0a0dae')\"\n",
              "              title=\"Convert this dataframe to an interactive table.\"\n",
              "              style=\"display:none;\">\n",
              "        \n",
              "  <svg xmlns=\"http://www.w3.org/2000/svg\" height=\"24px\"viewBox=\"0 0 24 24\"\n",
              "       width=\"24px\">\n",
              "    <path d=\"M0 0h24v24H0V0z\" fill=\"none\"/>\n",
              "    <path d=\"M18.56 5.44l.94 2.06.94-2.06 2.06-.94-2.06-.94-.94-2.06-.94 2.06-2.06.94zm-11 1L8.5 8.5l.94-2.06 2.06-.94-2.06-.94L8.5 2.5l-.94 2.06-2.06.94zm10 10l.94 2.06.94-2.06 2.06-.94-2.06-.94-.94-2.06-.94 2.06-2.06.94z\"/><path d=\"M17.41 7.96l-1.37-1.37c-.4-.4-.92-.59-1.43-.59-.52 0-1.04.2-1.43.59L10.3 9.45l-7.72 7.72c-.78.78-.78 2.05 0 2.83L4 21.41c.39.39.9.59 1.41.59.51 0 1.02-.2 1.41-.59l7.78-7.78 2.81-2.81c.8-.78.8-2.07 0-2.86zM5.41 20L4 18.59l7.72-7.72 1.47 1.35L5.41 20z\"/>\n",
              "  </svg>\n",
              "      </button>\n",
              "      \n",
              "  <style>\n",
              "    .colab-df-container {\n",
              "      display:flex;\n",
              "      flex-wrap:wrap;\n",
              "      gap: 12px;\n",
              "    }\n",
              "\n",
              "    .colab-df-convert {\n",
              "      background-color: #E8F0FE;\n",
              "      border: none;\n",
              "      border-radius: 50%;\n",
              "      cursor: pointer;\n",
              "      display: none;\n",
              "      fill: #1967D2;\n",
              "      height: 32px;\n",
              "      padding: 0 0 0 0;\n",
              "      width: 32px;\n",
              "    }\n",
              "\n",
              "    .colab-df-convert:hover {\n",
              "      background-color: #E2EBFA;\n",
              "      box-shadow: 0px 1px 2px rgba(60, 64, 67, 0.3), 0px 1px 3px 1px rgba(60, 64, 67, 0.15);\n",
              "      fill: #174EA6;\n",
              "    }\n",
              "\n",
              "    [theme=dark] .colab-df-convert {\n",
              "      background-color: #3B4455;\n",
              "      fill: #D2E3FC;\n",
              "    }\n",
              "\n",
              "    [theme=dark] .colab-df-convert:hover {\n",
              "      background-color: #434B5C;\n",
              "      box-shadow: 0px 1px 3px 1px rgba(0, 0, 0, 0.15);\n",
              "      filter: drop-shadow(0px 1px 2px rgba(0, 0, 0, 0.3));\n",
              "      fill: #FFFFFF;\n",
              "    }\n",
              "  </style>\n",
              "\n",
              "      <script>\n",
              "        const buttonEl =\n",
              "          document.querySelector('#df-57d039c7-33e4-4926-abce-ed785f0a0dae button.colab-df-convert');\n",
              "        buttonEl.style.display =\n",
              "          google.colab.kernel.accessAllowed ? 'block' : 'none';\n",
              "\n",
              "        async function convertToInteractive(key) {\n",
              "          const element = document.querySelector('#df-57d039c7-33e4-4926-abce-ed785f0a0dae');\n",
              "          const dataTable =\n",
              "            await google.colab.kernel.invokeFunction('convertToInteractive',\n",
              "                                                     [key], {});\n",
              "          if (!dataTable) return;\n",
              "\n",
              "          const docLinkHtml = 'Like what you see? Visit the ' +\n",
              "            '<a target=\"_blank\" href=https://colab.research.google.com/notebooks/data_table.ipynb>data table notebook</a>'\n",
              "            + ' to learn more about interactive tables.';\n",
              "          element.innerHTML = '';\n",
              "          dataTable['output_type'] = 'display_data';\n",
              "          await google.colab.output.renderOutput(dataTable, element);\n",
              "          const docLink = document.createElement('div');\n",
              "          docLink.innerHTML = docLinkHtml;\n",
              "          element.appendChild(docLink);\n",
              "        }\n",
              "      </script>\n",
              "    </div>\n",
              "  </div>\n",
              "  "
            ],
            "text/plain": [
              "            Id Creation time [Sesseion date]  Batch number      Mobile  \\\n",
              "31        9405    2021-01-09      2020-12-18  TR0788750966  0544840057   \n",
              "34        9411    2021-01-09      2020-12-18  TR0788750966  0245616834   \n",
              "35        9413    2021-01-09      2020-12-18  TR0788750966  0207092570   \n",
              "37        9417    2021-01-09      2020-12-18  TR0788750966  0543895858   \n",
              "42        9427    2021-01-09      2020-12-18  TR0788750966  0243753204   \n",
              "...        ...           ...             ...           ...         ...   \n",
              "180271  383757    2022-03-21      2022-03-21    PPT8441253  0549292946   \n",
              "180272  383760    2022-03-21      2022-03-21    PPTU441284  0242343001   \n",
              "180273  383762    2022-03-21      2022-03-21    PPTA441318  0244698706   \n",
              "180274  383764    2022-03-21      2022-03-21    PPTX441397  0546038666   \n",
              "180275  383766    2022-03-21      2022-03-21    PPTG441399  0244884605   \n",
              "\n",
              "                           Product type [Scheme number] [Other number]  \\\n",
              "31      PPT Occupational Pension Scheme   1010OPS000014        1001267   \n",
              "34      PPT Occupational Pension Scheme   1010OPS000976        1020228   \n",
              "35      PPT Occupational Pension Scheme   1010OPS000019        1001273   \n",
              "37      PPT Occupational Pension Scheme   1010OPS000021        1001275   \n",
              "42      PPT Occupational Pension Scheme   1010OPS000026        1003066   \n",
              "...                                 ...             ...            ...   \n",
              "180271      PPT Personal Pension Scheme   1010PPS043568            NaN   \n",
              "180272      PPT Personal Pension Scheme   1010PPS007417        1012220   \n",
              "180273      PPT Personal Pension Scheme   1010PPS008690        1017821   \n",
              "180274      PPT Personal Pension Scheme   1010PPS041216        1039363   \n",
              "180275      PPT Personal Pension Scheme   1010PPS045273            NaN   \n",
              "\n",
              "       User name    Method     Type      Reference  [Contribution]  \\\n",
              "31         admin  NON-CASH  deposit  BALANCE B/FWD          115.00   \n",
              "34         admin  NON-CASH  deposit  BALANCE B/FWD          157.00   \n",
              "35         admin  NON-CASH  deposit  BALANCE B/FWD          116.00   \n",
              "37         admin  NON-CASH  deposit  BALANCE B/FWD          670.00   \n",
              "42         admin  NON-CASH  deposit  BALANCE B/FWD         1018.82   \n",
              "...          ...       ...      ...            ...             ...   \n",
              "180271    System      MOMO  DEPOSIT   CONTRIBUTION            1.00   \n",
              "180272    System      MOMO  DEPOSIT   CONTRIBUTION            5.00   \n",
              "180273    System      MOMO  DEPOSIT   CONTRIBUTION           10.00   \n",
              "180274    System      MOMO  DEPOSIT   CONTRIBUTION           20.00   \n",
              "180275    System      MOMO  DEPOSIT   CONTRIBUTION           25.00   \n",
              "\n",
              "        [Withdrawal] set1  \n",
              "31               0.0  TR0  \n",
              "34               0.0  TR0  \n",
              "35               0.0  TR0  \n",
              "37               0.0  TR0  \n",
              "42               0.0  TR0  \n",
              "...              ...  ...  \n",
              "180271           0.0  PPT  \n",
              "180272           0.0  PPT  \n",
              "180273           0.0  PPT  \n",
              "180274           0.0  PPT  \n",
              "180275           0.0  PPT  \n",
              "\n",
              "[22169 rows x 15 columns]"
            ]
          },
          "execution_count": null,
          "metadata": {},
          "output_type": "execute_result"
        }
      ],
      "source": [
        "df_s"
      ]
    },
    {
      "cell_type": "code",
      "execution_count": null,
      "metadata": {
        "colab": {
          "background_save": true
        },
        "id": "hsY6F-_0tI6n"
      },
      "outputs": [],
      "source": [
        ""
      ]
    },
    {
      "cell_type": "code",
      "execution_count": null,
      "metadata": {
        "colab": {
          "background_save": true
        },
        "id": "-H8vxDtMf75v"
      },
      "outputs": [],
      "source": [
        "df_f = df_s.filter([\"[Sesseion date]\",'[Scheme number]'])"
      ]
    },
    {
      "cell_type": "code",
      "execution_count": null,
      "metadata": {
        "colab": {
          "background_save": true
        },
        "id": "GbRR0-JRtKkd"
      },
      "outputs": [],
      "source": [
        "df_e = df_c.filter(['[Contribution]','[Scheme number]'])"
      ]
    },
    {
      "cell_type": "code",
      "execution_count": null,
      "metadata": {
        "colab": {
          "background_save": true
        },
        "id": "PxjpTZxKhQh3"
      },
      "outputs": [],
      "source": [
        "df_f.rename(columns={'[Sesseion date]': 'Lastpayment'}, inplace = True)"
      ]
    },
    {
      "cell_type": "code",
      "execution_count": null,
      "metadata": {
        "colab": {
          "background_save": true
        },
        "id": "hKcm3aB_tvre"
      },
      "outputs": [],
      "source": [
        "df_e.rename(columns={'[Contribution]':'LastContributionAmount'}, inplace = True)"
      ]
    },
    {
      "cell_type": "code",
      "execution_count": null,
      "metadata": {
        "colab": {
          "background_save": true
        },
        "id": "7Q16WNvBuvAK"
      },
      "outputs": [],
      "source": [
        ""
      ]
    },
    {
      "cell_type": "code",
      "execution_count": null,
      "metadata": {
        "colab": {
          "background_save": true
        },
        "id": "-ifPJ_BWg6Mx"
      },
      "outputs": [],
      "source": [
        "C = pd.merge( a, df_f,\n",
        "                      on ='[Scheme number]', \n",
        "                      how ='left')"
      ]
    },
    {
      "cell_type": "code",
      "execution_count": null,
      "metadata": {
        "colab": {
          "background_save": true
        },
        "id": "mcx0EGqOw5gb",
        "outputId": "89cfd1dc-b7f5-4471-ce83-7a7adfca77db"
      },
      "outputs": [
        {
          "name": "stdout",
          "output_type": "stream",
          "text": [
            "<class 'pandas.core.frame.DataFrame'>\n",
            "Int64Index: 1103 entries, 0 to 1102\n",
            "Data columns (total 7 columns):\n",
            " #   Column             Non-Null Count  Dtype         \n",
            "---  ------             --------------  -----         \n",
            " 0   [Scheme number]    1103 non-null   object        \n",
            " 1   [Contribution]     1103 non-null   float64       \n",
            " 2   Assigned Group     1103 non-null   object        \n",
            " 3   Name               0 non-null      float64       \n",
            " 4   Phone Number       0 non-null      float64       \n",
            " 5   Last Payment Date  0 non-null      float64       \n",
            " 6   Lastpayment        1103 non-null   datetime64[ns]\n",
            "dtypes: datetime64[ns](1), float64(4), object(2)\n",
            "memory usage: 68.9+ KB\n"
          ]
        }
      ],
      "source": [
        "C.info()"
      ]
    },
    {
      "cell_type": "code",
      "execution_count": null,
      "metadata": {
        "colab": {
          "background_save": true
        },
        "id": "J-KDXkzNt5eu"
      },
      "outputs": [],
      "source": [
        "C = pd.merge( C, df_e,\n",
        "                      on ='[Scheme number]', \n",
        "                      how ='left')"
      ]
    },
    {
      "cell_type": "code",
      "execution_count": null,
      "metadata": {
        "colab": {
          "background_save": true
        },
        "id": "hBDfm4hc2Jv1",
        "outputId": "270e3193-482a-47aa-e722-90804c25afd9"
      },
      "outputs": [
        {
          "name": "stdout",
          "output_type": "stream",
          "text": [
            "<class 'pandas.core.frame.DataFrame'>\n",
            "Int64Index: 1103 entries, 0 to 1102\n",
            "Data columns (total 8 columns):\n",
            " #   Column                  Non-Null Count  Dtype         \n",
            "---  ------                  --------------  -----         \n",
            " 0   [Scheme number]         1103 non-null   object        \n",
            " 1   [Contribution]          1103 non-null   float64       \n",
            " 2   Assigned Group          1103 non-null   object        \n",
            " 3   Name                    0 non-null      float64       \n",
            " 4   Phone Number            0 non-null      float64       \n",
            " 5   Last Payment Date       0 non-null      float64       \n",
            " 6   Lastpayment             1103 non-null   datetime64[ns]\n",
            " 7   LastContributionAmount  1103 non-null   float64       \n",
            "dtypes: datetime64[ns](1), float64(5), object(2)\n",
            "memory usage: 77.6+ KB\n"
          ]
        }
      ],
      "source": [
        "C.info()"
      ]
    },
    {
      "cell_type": "code",
      "execution_count": null,
      "metadata": {
        "colab": {
          "background_save": true
        },
        "id": "8QbaG5ws2z-J"
      },
      "outputs": [],
      "source": [
        "nc = C.filter(['Mobile','[Scheme number]','[Contribution]','Lastpayment','LastContributionAmount'])"
      ]
    },
    {
      "cell_type": "code",
      "execution_count": null,
      "metadata": {
        "colab": {
          "background_save": true
        },
        "id": "R_p8ytA7vK8C",
        "outputId": "46daed10-2e4d-44a2-ab67-0fc760e0e91b"
      },
      "outputs": [
        {
          "data": {
            "text/html": [
              "\n",
              "  <div id=\"df-e2d24f0c-379e-464b-a544-1eeec0b658a5\">\n",
              "    <div class=\"colab-df-container\">\n",
              "      <div>\n",
              "<style scoped>\n",
              "    .dataframe tbody tr th:only-of-type {\n",
              "        vertical-align: middle;\n",
              "    }\n",
              "\n",
              "    .dataframe tbody tr th {\n",
              "        vertical-align: top;\n",
              "    }\n",
              "\n",
              "    .dataframe thead th {\n",
              "        text-align: right;\n",
              "    }\n",
              "</style>\n",
              "<table border=\"1\" class=\"dataframe\">\n",
              "  <thead>\n",
              "    <tr style=\"text-align: right;\">\n",
              "      <th></th>\n",
              "      <th>[Scheme number]</th>\n",
              "      <th>[Contribution]</th>\n",
              "      <th>Lastpayment</th>\n",
              "      <th>LastContributionAmount</th>\n",
              "    </tr>\n",
              "  </thead>\n",
              "  <tbody>\n",
              "    <tr>\n",
              "      <th>0</th>\n",
              "      <td>1010PPS009192</td>\n",
              "      <td>12500.00</td>\n",
              "      <td>2021-08-25</td>\n",
              "      <td>0.00</td>\n",
              "    </tr>\n",
              "    <tr>\n",
              "      <th>1</th>\n",
              "      <td>1010PPS009159</td>\n",
              "      <td>5620.00</td>\n",
              "      <td>2021-01-09</td>\n",
              "      <td>400.00</td>\n",
              "    </tr>\n",
              "    <tr>\n",
              "      <th>2</th>\n",
              "      <td>1010PPS009028</td>\n",
              "      <td>3800.00</td>\n",
              "      <td>2022-03-15</td>\n",
              "      <td>50.00</td>\n",
              "    </tr>\n",
              "    <tr>\n",
              "      <th>3</th>\n",
              "      <td>1010PPS009067</td>\n",
              "      <td>3620.00</td>\n",
              "      <td>2022-03-18</td>\n",
              "      <td>200.00</td>\n",
              "    </tr>\n",
              "    <tr>\n",
              "      <th>4</th>\n",
              "      <td>1010PPS009094</td>\n",
              "      <td>3080.00</td>\n",
              "      <td>2021-12-07</td>\n",
              "      <td>50.00</td>\n",
              "    </tr>\n",
              "    <tr>\n",
              "      <th>...</th>\n",
              "      <td>...</td>\n",
              "      <td>...</td>\n",
              "      <td>...</td>\n",
              "      <td>...</td>\n",
              "    </tr>\n",
              "    <tr>\n",
              "      <th>1098</th>\n",
              "      <td>1010PPS000710</td>\n",
              "      <td>0.05</td>\n",
              "      <td>2020-12-18</td>\n",
              "      <td>0.05</td>\n",
              "    </tr>\n",
              "    <tr>\n",
              "      <th>1099</th>\n",
              "      <td>1010PPS000704</td>\n",
              "      <td>0.04</td>\n",
              "      <td>2020-12-18</td>\n",
              "      <td>0.04</td>\n",
              "    </tr>\n",
              "    <tr>\n",
              "      <th>1100</th>\n",
              "      <td>1010PPS000705</td>\n",
              "      <td>0.04</td>\n",
              "      <td>2020-12-18</td>\n",
              "      <td>0.04</td>\n",
              "    </tr>\n",
              "    <tr>\n",
              "      <th>1101</th>\n",
              "      <td>1010PPS000700</td>\n",
              "      <td>0.01</td>\n",
              "      <td>2020-12-18</td>\n",
              "      <td>0.01</td>\n",
              "    </tr>\n",
              "    <tr>\n",
              "      <th>1102</th>\n",
              "      <td>1010PPS000701</td>\n",
              "      <td>0.01</td>\n",
              "      <td>2020-12-18</td>\n",
              "      <td>0.01</td>\n",
              "    </tr>\n",
              "  </tbody>\n",
              "</table>\n",
              "<p>1103 rows × 4 columns</p>\n",
              "</div>\n",
              "      <button class=\"colab-df-convert\" onclick=\"convertToInteractive('df-e2d24f0c-379e-464b-a544-1eeec0b658a5')\"\n",
              "              title=\"Convert this dataframe to an interactive table.\"\n",
              "              style=\"display:none;\">\n",
              "        \n",
              "  <svg xmlns=\"http://www.w3.org/2000/svg\" height=\"24px\"viewBox=\"0 0 24 24\"\n",
              "       width=\"24px\">\n",
              "    <path d=\"M0 0h24v24H0V0z\" fill=\"none\"/>\n",
              "    <path d=\"M18.56 5.44l.94 2.06.94-2.06 2.06-.94-2.06-.94-.94-2.06-.94 2.06-2.06.94zm-11 1L8.5 8.5l.94-2.06 2.06-.94-2.06-.94L8.5 2.5l-.94 2.06-2.06.94zm10 10l.94 2.06.94-2.06 2.06-.94-2.06-.94-.94-2.06-.94 2.06-2.06.94z\"/><path d=\"M17.41 7.96l-1.37-1.37c-.4-.4-.92-.59-1.43-.59-.52 0-1.04.2-1.43.59L10.3 9.45l-7.72 7.72c-.78.78-.78 2.05 0 2.83L4 21.41c.39.39.9.59 1.41.59.51 0 1.02-.2 1.41-.59l7.78-7.78 2.81-2.81c.8-.78.8-2.07 0-2.86zM5.41 20L4 18.59l7.72-7.72 1.47 1.35L5.41 20z\"/>\n",
              "  </svg>\n",
              "      </button>\n",
              "      \n",
              "  <style>\n",
              "    .colab-df-container {\n",
              "      display:flex;\n",
              "      flex-wrap:wrap;\n",
              "      gap: 12px;\n",
              "    }\n",
              "\n",
              "    .colab-df-convert {\n",
              "      background-color: #E8F0FE;\n",
              "      border: none;\n",
              "      border-radius: 50%;\n",
              "      cursor: pointer;\n",
              "      display: none;\n",
              "      fill: #1967D2;\n",
              "      height: 32px;\n",
              "      padding: 0 0 0 0;\n",
              "      width: 32px;\n",
              "    }\n",
              "\n",
              "    .colab-df-convert:hover {\n",
              "      background-color: #E2EBFA;\n",
              "      box-shadow: 0px 1px 2px rgba(60, 64, 67, 0.3), 0px 1px 3px 1px rgba(60, 64, 67, 0.15);\n",
              "      fill: #174EA6;\n",
              "    }\n",
              "\n",
              "    [theme=dark] .colab-df-convert {\n",
              "      background-color: #3B4455;\n",
              "      fill: #D2E3FC;\n",
              "    }\n",
              "\n",
              "    [theme=dark] .colab-df-convert:hover {\n",
              "      background-color: #434B5C;\n",
              "      box-shadow: 0px 1px 3px 1px rgba(0, 0, 0, 0.15);\n",
              "      filter: drop-shadow(0px 1px 2px rgba(0, 0, 0, 0.3));\n",
              "      fill: #FFFFFF;\n",
              "    }\n",
              "  </style>\n",
              "\n",
              "      <script>\n",
              "        const buttonEl =\n",
              "          document.querySelector('#df-e2d24f0c-379e-464b-a544-1eeec0b658a5 button.colab-df-convert');\n",
              "        buttonEl.style.display =\n",
              "          google.colab.kernel.accessAllowed ? 'block' : 'none';\n",
              "\n",
              "        async function convertToInteractive(key) {\n",
              "          const element = document.querySelector('#df-e2d24f0c-379e-464b-a544-1eeec0b658a5');\n",
              "          const dataTable =\n",
              "            await google.colab.kernel.invokeFunction('convertToInteractive',\n",
              "                                                     [key], {});\n",
              "          if (!dataTable) return;\n",
              "\n",
              "          const docLinkHtml = 'Like what you see? Visit the ' +\n",
              "            '<a target=\"_blank\" href=https://colab.research.google.com/notebooks/data_table.ipynb>data table notebook</a>'\n",
              "            + ' to learn more about interactive tables.';\n",
              "          element.innerHTML = '';\n",
              "          dataTable['output_type'] = 'display_data';\n",
              "          await google.colab.output.renderOutput(dataTable, element);\n",
              "          const docLink = document.createElement('div');\n",
              "          docLink.innerHTML = docLinkHtml;\n",
              "          element.appendChild(docLink);\n",
              "        }\n",
              "      </script>\n",
              "    </div>\n",
              "  </div>\n",
              "  "
            ],
            "text/plain": [
              "     [Scheme number]  [Contribution] Lastpayment  LastContributionAmount\n",
              "0      1010PPS009192        12500.00  2021-08-25                    0.00\n",
              "1      1010PPS009159         5620.00  2021-01-09                  400.00\n",
              "2      1010PPS009028         3800.00  2022-03-15                   50.00\n",
              "3      1010PPS009067         3620.00  2022-03-18                  200.00\n",
              "4      1010PPS009094         3080.00  2021-12-07                   50.00\n",
              "...              ...             ...         ...                     ...\n",
              "1098   1010PPS000710            0.05  2020-12-18                    0.05\n",
              "1099   1010PPS000704            0.04  2020-12-18                    0.04\n",
              "1100   1010PPS000705            0.04  2020-12-18                    0.04\n",
              "1101   1010PPS000700            0.01  2020-12-18                    0.01\n",
              "1102   1010PPS000701            0.01  2020-12-18                    0.01\n",
              "\n",
              "[1103 rows x 4 columns]"
            ]
          },
          "execution_count": null,
          "metadata": {},
          "output_type": "execute_result"
        }
      ],
      "source": [
        "nc"
      ]
    },
    {
      "cell_type": "code",
      "execution_count": null,
      "metadata": {
        "id": "B7XCIX5E1lkl"
      },
      "outputs": [],
      "source": [
        "e = pd.read_excel('MembersDump.xlsx')"
      ]
    },
    {
      "cell_type": "code",
      "execution_count": null,
      "metadata": {
        "id": "H8qvF_ER11EL"
      },
      "outputs": [],
      "source": [
        "e.info()"
      ]
    },
    {
      "cell_type": "code",
      "execution_count": null,
      "metadata": {
        "id": "bPaB083VJ0Ol"
      },
      "outputs": [],
      "source": [
        "e['FullName'] = e['First name'] + ' '+ e['[Last name]']"
      ]
    },
    {
      "cell_type": "code",
      "execution_count": null,
      "metadata": {
        "id": "BbJBX-ECDngG"
      },
      "outputs": [],
      "source": [
        "ne = e.filter(['FullName','[Scheme number]','Mobile'])"
      ]
    },
    {
      "cell_type": "code",
      "execution_count": null,
      "metadata": {
        "id": "4oan61gHFkC2"
      },
      "outputs": [],
      "source": [
        "n = pd.merge( C, ne,\n",
        "                      on ='[Scheme number]', \n",
        "                      how ='left')"
      ]
    },
    {
      "cell_type": "code",
      "execution_count": null,
      "metadata": {
        "id": "_L6akvpf0omw"
      },
      "outputs": [],
      "source": [
        "n"
      ]
    },
    {
      "cell_type": "code",
      "execution_count": null,
      "metadata": {
        "id": "0SBvtEvLimVD"
      },
      "outputs": [],
      "source": [
        "n.to_excel('a2.xlsx')"
      ]
    },
    {
      "cell_type": "code",
      "execution_count": null,
      "metadata": {
        "id": "vdZsVI3FG_S5"
      },
      "outputs": [],
      "source": [
        "\n",
        "rr = n[n['Group name']=='RETIRERITE']\n",
        "ep = n[n['Group name']=='EASY PENSION']"
      ]
    },
    {
      "cell_type": "code",
      "execution_count": null,
      "metadata": {
        "id": "hP6phPfOgfcT"
      },
      "outputs": [],
      "source": [
        ""
      ]
    },
    {
      "cell_type": "code",
      "execution_count": null,
      "metadata": {
        "id": "B91IMy2NLcXy"
      },
      "outputs": [],
      "source": [
        "ep"
      ]
    },
    {
      "cell_type": "code",
      "execution_count": null,
      "metadata": {
        "id": "dsC6NddJILiA"
      },
      "outputs": [],
      "source": [
        "ep1 = pd.pivot_table(ep, index = ['FullName','Mobile','[Scheme number]','Lastpayment','LastContributionAmount'], columns = ['Group name'], values = ['[Contribution]'],aggfunc = np.sum)"
      ]
    },
    {
      "cell_type": "code",
      "execution_count": null,
      "metadata": {
        "id": "IeF7PkKB1QQB"
      },
      "outputs": [],
      "source": [
        "rr1 = pd.pivot_table(rr, index = ['FullName','Mobile','[Scheme number]','Lastpayment','LastContributionAmount'], columns = ['Group name'], values = ['[Contribution]'],aggfunc = np.sum)"
      ]
    },
    {
      "cell_type": "code",
      "execution_count": null,
      "metadata": {
        "id": "TIblojepXtCM"
      },
      "outputs": [],
      "source": [
        "ep1"
      ]
    },
    {
      "cell_type": "code",
      "execution_count": null,
      "metadata": {
        "id": "XDA5mh0cMRrQ"
      },
      "outputs": [],
      "source": [
        "ep1.to_excel('EASYPENSION.xlsx')"
      ]
    },
    {
      "cell_type": "code",
      "execution_count": null,
      "metadata": {
        "id": "61j2-_zI1Wds"
      },
      "outputs": [],
      "source": [
        "rr1.to_excel('RETIRERITE.xlsx')"
      ]
    }
  ],
  "metadata": {
    "colab": {
      "collapsed_sections": [],
      "name": "RETIRERITE&EASYPENSION.ipynb",
      "provenance": [],
      "authorship_tag": "ABX9TyN9cbLdHVaH+LX+2a9/zaP5",
      "include_colab_link": true
    },
    "kernelspec": {
      "display_name": "Python 3",
      "name": "python3"
    },
    "language_info": {
      "name": "python"
    }
  },
  "nbformat": 4,
  "nbformat_minor": 0
}