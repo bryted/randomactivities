{
  "nbformat": 4,
  "nbformat_minor": 0,
  "metadata": {
    "colab": {
      "name": "tags and insight.ipynb",
      "provenance": [],
      "authorship_tag": "ABX9TyOQQ0Dr8miuu1XMWS9G1Zjc",
      "include_colab_link": true
    },
    "kernelspec": {
      "name": "python3",
      "display_name": "Python 3"
    },
    "language_info": {
      "name": "python"
    }
  },
  "cells": [
    {
      "cell_type": "markdown",
      "metadata": {
        "id": "view-in-github",
        "colab_type": "text"
      },
      "source": [
        "<a href=\"https://colab.research.google.com/github/bryted/randomactivities/blob/main/tags_and_insight.ipynb\" target=\"_parent\"><img src=\"https://colab.research.google.com/assets/colab-badge.svg\" alt=\"Open In Colab\"/></a>"
      ]
    },
    {
      "cell_type": "code",
      "execution_count": null,
      "metadata": {
        "id": "IqMDh5B2SbVe"
      },
      "outputs": [],
      "source": [
        "import pandas as pd\n",
        "import matplotlib as plt\n",
        "import numpy as np\n",
        "#!pip install xlsxwriter\n",
        "#!pip install openpyxl --upgrade --pre"
      ]
    },
    {
      "cell_type": "code",
      "source": [
        "pdd = pd.read_excel('PaymentDataDump.xlsx')\n"
      ],
      "metadata": {
        "id": "_ctBbBffSf4k"
      },
      "execution_count": null,
      "outputs": []
    },
    {
      "cell_type": "code",
      "source": [
        "pdd1 = pdd[pdd['Type'].str.contains('Savings Withdrawal','WITHDRAWAL')]\n"
      ],
      "metadata": {
        "id": "trYv_b6LSv9E"
      },
      "execution_count": null,
      "outputs": []
    },
    {
      "cell_type": "code",
      "source": [
        "pdd2 = pdd[pdd['Type']== 'WITHDRAWAL']\n",
        "pdd3 = pdd[pdd['Type']== 'Withdrawal']"
      ],
      "metadata": {
        "id": "1qYi0pkIW6g-"
      },
      "execution_count": null,
      "outputs": []
    },
    {
      "cell_type": "code",
      "source": [
        "pdd3.Type.value_counts()"
      ],
      "metadata": {
        "colab": {
          "base_uri": "https://localhost:8080/"
        },
        "id": "V5osoXRRX9yC",
        "outputId": "5c4bb010-0266-45fb-f5e4-bb353325308f"
      },
      "execution_count": null,
      "outputs": [
        {
          "output_type": "execute_result",
          "data": {
            "text/plain": [
              "Withdrawal    474\n",
              "Name: Type, dtype: int64"
            ]
          },
          "metadata": {},
          "execution_count": 211
        }
      ]
    },
    {
      "cell_type": "code",
      "source": [
        "df = pd.concat([pdd1,pdd2,pdd3])"
      ],
      "metadata": {
        "id": "094z_qckWSyq"
      },
      "execution_count": null,
      "outputs": []
    },
    {
      "cell_type": "code",
      "source": [
        "df.info()"
      ],
      "metadata": {
        "colab": {
          "base_uri": "https://localhost:8080/"
        },
        "id": "HVCOwAIQXdCz",
        "outputId": "48781f21-e863-44fc-ba0f-6c9f321c490f"
      },
      "execution_count": null,
      "outputs": [
        {
          "output_type": "stream",
          "name": "stdout",
          "text": [
            "<class 'pandas.core.frame.DataFrame'>\n",
            "Int64Index: 1129 entries, 9996 to 131115\n",
            "Data columns (total 14 columns):\n",
            " #   Column           Non-Null Count  Dtype  \n",
            "---  ------           --------------  -----  \n",
            " 0   Id               1129 non-null   int64  \n",
            " 1   Creation time    1129 non-null   int64  \n",
            " 2   [Sesseion date]  1129 non-null   int64  \n",
            " 3   Batch number     1129 non-null   object \n",
            " 4   Mobile           1129 non-null   object \n",
            " 5   Product type     1129 non-null   object \n",
            " 6   [Scheme number]  1129 non-null   object \n",
            " 7   [Other number]   1090 non-null   object \n",
            " 8   User name        1129 non-null   object \n",
            " 9   Method           1129 non-null   object \n",
            " 10  Type             1129 non-null   object \n",
            " 11  Reference        1129 non-null   object \n",
            " 12  [Contribution]   1129 non-null   float64\n",
            " 13  [Withdrawal]     1129 non-null   float64\n",
            "dtypes: float64(2), int64(3), object(9)\n",
            "memory usage: 132.3+ KB\n"
          ]
        }
      ]
    },
    {
      "cell_type": "code",
      "source": [
        "#df['Rever'] = df['Reference'].str[14:]"
      ],
      "metadata": {
        "id": "Vo-L4KnoY3i0"
      },
      "execution_count": null,
      "outputs": []
    },
    {
      "cell_type": "code",
      "source": [
        "reasons"
      ],
      "metadata": {
        "id": "GbKtzpWgEnQd"
      },
      "execution_count": null,
      "outputs": []
    },
    {
      "cell_type": "code",
      "source": [
        "df['Reasons'] = pd.np.where(df.Reference.str.contains('BUSINESS'), \"BUSINESS\",\n",
        "                   pd.np.where(df.Reference.str.contains(\"SCHOOL\"), \"EDUCATION\",\n",
        "                   pd.np.where(df.Reference.str.contains(\"SHOP\"), \"BUSINESS\",\n",
        "                   pd.np.where(df.Reference.str.contains('HOSPITAL'), 'MEDICAL' ,   \n",
        "                   pd.np.where(df.Reference.str.contains('BOOKS'), 'EDUCATIONAL' , \n",
        "                   pd.np.where(df.Reference.str.contains('GOODS'), 'BUSINESS' ,            \n",
        "                   pd.np.where(df.Reference.str.contains('DRUGS'), 'MEDICAL',            \n",
        "                   pd.np.where(df.Reference.str.contains('MEDICAL'), 'MEDICAL',            \n",
        "                   pd.np.where(df.Reference.str.contains('PERSONAL'), 'PERSONAL',            \n",
        "                   pd.np.where(df.Reference.str.contains('PAY'), 'FINANCIAL', \n",
        "                   pd.np.where(df.Reference.str.contains('TOP UP'), 'BUSINESS', \n",
        "                   pd.np.where(df.Reference.str.contains('PROJECT'), 'BUSINESS',\n",
        "                   pd.np.where(df.Reference.str.contains('MEDICINE'), 'MEDICAL',                      \n",
        "                   pd.np.where(df.Reference.str.contains('CHRISTMAS'), 'FINANCIAL',            \n",
        "                   pd.np.where(df.Reference.str.contains('RENT'), 'FINANCIAL',  \n",
        "                   pd.np.where(df.Reference.str.contains('TRAVELLING'), 'FINANCIAL',        \n",
        "                   pd.np.where(df.Reference.str.contains('PAY FEES'), 'EDUCTIONAL',\n",
        "                   pd.np.where(df.Reference.str.contains('UPKEEP'), 'FINANCIAL',\n",
        "                   pd.np.where(df.Reference.str.contains('MEDICATION'), 'FINANCIAL',\n",
        "                   pd.np.where(df.Reference.str.contains('DEDUCTIONS'), 'REFUND',\n",
        "                   pd.np.where(df.Reference.str.contains('BUY'), 'FINANCIAL',\n",
        "                   pd.np.where(df.Reference.str.contains('DEDUCTION'), 'REFUND',\n",
        "                   pd.np.where(df.Reference.str.contains('HEALTH'), 'MEDICAL',\n",
        "                   pd.np.where(df.Reference.str.contains('DEBT'), 'FINANCIAL',\n",
        "                   pd.np.where(df.Reference.str.contains('SUPPORT'), 'FINANCIAL',            \n",
        "                   pd.np.where(df.Reference.str.contains('CONFIDENTIAL'), 'PERSONAL',\n",
        "                   pd.np.where(df.Reference.str.contains('FEES'), 'FINANCIAL',\n",
        "                   pd.np.where(df.Reference.str.contains('EMERGENCY'), 'FINANCIAL',\n",
        "                   pd.np.where(df.Reference.str.contains('REPAIR'), 'FINANCIAL',\n",
        "                   pd.np.where(df.Reference.str.contains('CARE'), 'FINANCIAL',\n",
        "                   pd.np.where(df.Reference.str.contains('FARM'), 'BUSINESS',\n",
        "                   pd.np.where(df.Reference.str.contains('PAY FOR'), 'FINANCIAL',\n",
        "                   pd.np.where(df.Reference.str.contains('ADMISSION'), 'EDUCATIONAL',  \n",
        "                   pd.np.where(df.Reference.str.contains('POCKET'), 'FINANCIAL', \n",
        "                   pd.np.where(df.Reference.str.contains('LOAN'), 'FINANCIAL', \n",
        "                   pd.np.where(df.Reference.str.contains('SORT'), 'FINANCIAL', \n",
        "                   pd.np.where(df.Reference.str.contains('PURCHASE'), 'FINANCIAL',\n",
        "                   pd.np.where(df.Reference.str.contains('FINANCIAL'), 'FINANCIAL',\n",
        "                   pd.np.where(df.Reference.str.contains('URGENCY'), 'FINANCIAL', \n",
        "                   pd.np.where(df.Reference.str.contains('Personal'), 'FINANCIAL',                                                                                          \n",
        "                   pd.np.where(df.Reference.str.contains('Reverse'), 'REVERSAL', \n",
        "                   pd.np.where(df.Reference.str.contains('BILLS'), 'FINANCIAL',                                                                                          \n",
        "                   pd.np.where(df.Reference.str.contains('BUILDING'), 'FINANCIAL',                                                                                          \n",
        "                   pd.np.where(df.Reference.str.contains('EDUCATIONAL'), 'EDUCATIONAL',  \n",
        "                   pd.np.where(df.Reference.str.contains('educational'), 'FINANCIAL',                                                                                          \n",
        "                   pd.np.where(df.Reference.str.contains('reversed'), 'REVERSAL',                                                                                          \n",
        "                   pd.np.where(df.Reference.str.contains('TRAVEL'), 'FINANCIAL',                                                                                          \n",
        "                   pd.np.where(df.Reference.str.contains('UPKEEP'), 'FINANCIAL',                                                                                          \n",
        "                   pd.np.where(df.Reference.str.contains('Project'), 'FINANCIAL',                                                                                          \n",
        "                   pd.np.where(df.Reference.str.contains('project'), 'FINANCIAL',                                                                                          \n",
        "                   pd.np.where(df.Reference.str.contains('FUNERAL'), 'PERSONAL',                                                                                          \n",
        "                   pd.np.where(df.Reference.str.contains('TRANSPORTATION'), 'FINANCIAL',                                                                                          \n",
        "                   pd.np.where(df.Reference.str.contains('CAR'), 'FINANCIAL',                                                                                          \n",
        "                   pd.np.where(df.Reference.str.contains('UP KEEP'), 'FINANCIAL',                                                                                          \n",
        "                   pd.np.where(df.Reference.str.contains('PROBLEM'), 'FINANCIAL',                                                                                          \n",
        "                   pd.np.where(df.Reference.str.contains('MONEY'), 'FINANCIAL',                                                                                          \n",
        "                   pd.np.where(df.Reference.str.contains('ITEMS'), 'FINANCIAL',                                                                                          \n",
        "                   pd.np.where(df.Reference.str.contains('CHURCH'), 'FINANCIAL', \n",
        "                   pd.np.where(df.Reference.str.contains('TRANSPORT'), 'FINANCIAL',                                                                                          \n",
        "                   pd.np.where(df.Reference.str.contains('INVESTMENT'), 'FINANCIAL',                                                                                          \n",
        "                   pd.np.where(df.Reference.str.contains('CHECK UP'), 'FINANCIAL',                                                                                          \n",
        "                   pd.np.where(df.Reference.str.contains('URGENT ISSUE'), 'FINANCIAL',                                                                                          \n",
        "                   pd.np.where(df.Reference.str.contains('Educational'), 'EDUCATIONAL',                                                                                          \n",
        "                   pd.np.where(df.Reference.str.contains('goods'), 'FINANCIAL',                                                                                          \n",
        "                   pd.np.where(df.Reference.str.contains('taxi'), 'FINANCIAL',                                                                                          \n",
        "                                                                                                            \n",
        "                                                                                                           \n",
        "                                                                                                            \n",
        "                   \n",
        "\n",
        "\n",
        "\n",
        "\n",
        "\n",
        "\n",
        "\n",
        "\n",
        "\n",
        "\n",
        "\n",
        "\n",
        "\n",
        "\n",
        "\n",
        "\n",
        "                               'OTHER')))))))))))))))))))))))))))))))))))))))))))))))))))))))))))))))))"
      ],
      "metadata": {
        "id": "E4SPFGYJbEDp"
      },
      "execution_count": null,
      "outputs": []
    },
    {
      "cell_type": "code",
      "source": [
        "df\n"
      ],
      "metadata": {
        "colab": {
          "base_uri": "https://localhost:8080/",
          "height": 1000
        },
        "id": "czZL35Ztk40T",
        "outputId": "07191b1a-168c-445a-8399-9fffa4a5dc81"
      },
      "execution_count": null,
      "outputs": [
        {
          "output_type": "execute_result",
          "data": {
            "text/html": [
              "\n",
              "  <div id=\"df-e3d45b9f-626f-453b-b43c-e2d46b453901\">\n",
              "    <div class=\"colab-df-container\">\n",
              "      <div>\n",
              "<style scoped>\n",
              "    .dataframe tbody tr th:only-of-type {\n",
              "        vertical-align: middle;\n",
              "    }\n",
              "\n",
              "    .dataframe tbody tr th {\n",
              "        vertical-align: top;\n",
              "    }\n",
              "\n",
              "    .dataframe thead th {\n",
              "        text-align: right;\n",
              "    }\n",
              "</style>\n",
              "<table border=\"1\" class=\"dataframe\">\n",
              "  <thead>\n",
              "    <tr style=\"text-align: right;\">\n",
              "      <th></th>\n",
              "      <th>Id</th>\n",
              "      <th>Creation time</th>\n",
              "      <th>[Sesseion date]</th>\n",
              "      <th>Batch number</th>\n",
              "      <th>Mobile</th>\n",
              "      <th>Product type</th>\n",
              "      <th>[Scheme number]</th>\n",
              "      <th>[Other number]</th>\n",
              "      <th>User name</th>\n",
              "      <th>Method</th>\n",
              "      <th>Type</th>\n",
              "      <th>Reference</th>\n",
              "      <th>[Contribution]</th>\n",
              "      <th>[Withdrawal]</th>\n",
              "      <th>Reasons</th>\n",
              "    </tr>\n",
              "  </thead>\n",
              "  <tbody>\n",
              "    <tr>\n",
              "      <th>9996</th>\n",
              "      <td>288148</td>\n",
              "      <td>44505</td>\n",
              "      <td>44498</td>\n",
              "      <td>TR0645396325</td>\n",
              "      <td>0554834710</td>\n",
              "      <td>PPT TUC UNIWA Scheme</td>\n",
              "      <td>1010TUS000094</td>\n",
              "      <td>1002322</td>\n",
              "      <td>eobeng</td>\n",
              "      <td>MOMO</td>\n",
              "      <td>Savings Withdrawal</td>\n",
              "      <td>000094-291021-TO STOCK UP HIS SHOP</td>\n",
              "      <td>0.0</td>\n",
              "      <td>1000.0</td>\n",
              "      <td>BUSINESS</td>\n",
              "    </tr>\n",
              "    <tr>\n",
              "      <th>10231</th>\n",
              "      <td>300570</td>\n",
              "      <td>44530</td>\n",
              "      <td>44517</td>\n",
              "      <td>TR0858096499</td>\n",
              "      <td>0548349965</td>\n",
              "      <td>PPT TUC UNIWA Scheme</td>\n",
              "      <td>1010TUS000084</td>\n",
              "      <td>1002311</td>\n",
              "      <td>eobeng</td>\n",
              "      <td>MOMO</td>\n",
              "      <td>Savings Withdrawal</td>\n",
              "      <td>000084-171121-TO PAY BILLS</td>\n",
              "      <td>0.0</td>\n",
              "      <td>590.0</td>\n",
              "      <td>FINANCIAL</td>\n",
              "    </tr>\n",
              "    <tr>\n",
              "      <th>10387</th>\n",
              "      <td>263061</td>\n",
              "      <td>44456</td>\n",
              "      <td>44435</td>\n",
              "      <td>TR0271946763</td>\n",
              "      <td>0504572643</td>\n",
              "      <td>PPT Personal Pension Scheme</td>\n",
              "      <td>1010PPS006730</td>\n",
              "      <td>1031770</td>\n",
              "      <td>eobeng</td>\n",
              "      <td>MOMO</td>\n",
              "      <td>Savings Withdrawal</td>\n",
              "      <td>006730-27082021-PERSONAL</td>\n",
              "      <td>0.0</td>\n",
              "      <td>100.0</td>\n",
              "      <td>PERSONAL</td>\n",
              "    </tr>\n",
              "    <tr>\n",
              "      <th>10484</th>\n",
              "      <td>288150</td>\n",
              "      <td>44505</td>\n",
              "      <td>44498</td>\n",
              "      <td>TR0712892447</td>\n",
              "      <td>0246355960</td>\n",
              "      <td>PPT TUC UNIWA Scheme</td>\n",
              "      <td>1010TUS000166</td>\n",
              "      <td>1016779</td>\n",
              "      <td>eobeng</td>\n",
              "      <td>MOMO</td>\n",
              "      <td>Savings Withdrawal</td>\n",
              "      <td>000166-291021-TO COMPLETE A PROJECT</td>\n",
              "      <td>0.0</td>\n",
              "      <td>1500.0</td>\n",
              "      <td>BUSINESS</td>\n",
              "    </tr>\n",
              "    <tr>\n",
              "      <th>10557</th>\n",
              "      <td>266062</td>\n",
              "      <td>44461</td>\n",
              "      <td>44445</td>\n",
              "      <td>TR0522867633</td>\n",
              "      <td>0541928680</td>\n",
              "      <td>PPT Personal Pension Scheme</td>\n",
              "      <td>1010PPS006762</td>\n",
              "      <td>1020676</td>\n",
              "      <td>eobeng</td>\n",
              "      <td>MOMO</td>\n",
              "      <td>Savings Withdrawal</td>\n",
              "      <td>006762-06092021-PERSONAL</td>\n",
              "      <td>0.0</td>\n",
              "      <td>90.0</td>\n",
              "      <td>PERSONAL</td>\n",
              "    </tr>\n",
              "    <tr>\n",
              "      <th>...</th>\n",
              "      <td>...</td>\n",
              "      <td>...</td>\n",
              "      <td>...</td>\n",
              "      <td>...</td>\n",
              "      <td>...</td>\n",
              "      <td>...</td>\n",
              "      <td>...</td>\n",
              "      <td>...</td>\n",
              "      <td>...</td>\n",
              "      <td>...</td>\n",
              "      <td>...</td>\n",
              "      <td>...</td>\n",
              "      <td>...</td>\n",
              "      <td>...</td>\n",
              "      <td>...</td>\n",
              "    </tr>\n",
              "    <tr>\n",
              "      <th>130408</th>\n",
              "      <td>158020</td>\n",
              "      <td>44277</td>\n",
              "      <td>44274</td>\n",
              "      <td>TR0554765923</td>\n",
              "      <td>0276195662</td>\n",
              "      <td>PPT Personal Pension Scheme</td>\n",
              "      <td>1010PPS009123</td>\n",
              "      <td>1034294</td>\n",
              "      <td>byiadom</td>\n",
              "      <td>MOMO</td>\n",
              "      <td>Withdrawal</td>\n",
              "      <td>009123-19032021-PERSONAL</td>\n",
              "      <td>0.0</td>\n",
              "      <td>1000.0</td>\n",
              "      <td>PERSONAL</td>\n",
              "    </tr>\n",
              "    <tr>\n",
              "      <th>130487</th>\n",
              "      <td>140371</td>\n",
              "      <td>44238</td>\n",
              "      <td>44222</td>\n",
              "      <td>TR0672283479</td>\n",
              "      <td>0241188773</td>\n",
              "      <td>PPT Personal Pension Scheme</td>\n",
              "      <td>1010PPS009164</td>\n",
              "      <td>1000818</td>\n",
              "      <td>byiadom</td>\n",
              "      <td>Cash</td>\n",
              "      <td>Withdrawal</td>\n",
              "      <td>009164-26012021-BUSINESS TOP UP</td>\n",
              "      <td>0.0</td>\n",
              "      <td>2000.0</td>\n",
              "      <td>BUSINESS</td>\n",
              "    </tr>\n",
              "    <tr>\n",
              "      <th>130582</th>\n",
              "      <td>135954</td>\n",
              "      <td>44236</td>\n",
              "      <td>44211</td>\n",
              "      <td>TR0355337853</td>\n",
              "      <td>0551884722</td>\n",
              "      <td>PPT Personal Pension Scheme</td>\n",
              "      <td>1010PPS009207</td>\n",
              "      <td>1004544</td>\n",
              "      <td>byiadom</td>\n",
              "      <td>Cash</td>\n",
              "      <td>Withdrawal</td>\n",
              "      <td>009207-15012021-SCHOOL FEES</td>\n",
              "      <td>0.0</td>\n",
              "      <td>4000.0</td>\n",
              "      <td>EDUCATION</td>\n",
              "    </tr>\n",
              "    <tr>\n",
              "      <th>131105</th>\n",
              "      <td>209692</td>\n",
              "      <td>44354</td>\n",
              "      <td>44350</td>\n",
              "      <td>TR0483808953</td>\n",
              "      <td>0579015449</td>\n",
              "      <td>PPT Personal Pension Scheme</td>\n",
              "      <td>1010PPS012567</td>\n",
              "      <td>1047131</td>\n",
              "      <td>jquansah</td>\n",
              "      <td>MOMO</td>\n",
              "      <td>Withdrawal</td>\n",
              "      <td>012567-03062021-FOR A PROJECT</td>\n",
              "      <td>0.0</td>\n",
              "      <td>100.0</td>\n",
              "      <td>BUSINESS</td>\n",
              "    </tr>\n",
              "    <tr>\n",
              "      <th>131115</th>\n",
              "      <td>206018</td>\n",
              "      <td>44347</td>\n",
              "      <td>44341</td>\n",
              "      <td>TR0124763883</td>\n",
              "      <td>0201284843</td>\n",
              "      <td>PPT Personal Pension Scheme</td>\n",
              "      <td>1010PPS012599</td>\n",
              "      <td>1046627</td>\n",
              "      <td>byiadom</td>\n",
              "      <td>MOMO</td>\n",
              "      <td>Withdrawal</td>\n",
              "      <td>012599-25052021-PURCHASE OF BOOKS</td>\n",
              "      <td>0.0</td>\n",
              "      <td>6.5</td>\n",
              "      <td>EDUCATIONAL</td>\n",
              "    </tr>\n",
              "  </tbody>\n",
              "</table>\n",
              "<p>1129 rows × 15 columns</p>\n",
              "</div>\n",
              "      <button class=\"colab-df-convert\" onclick=\"convertToInteractive('df-e3d45b9f-626f-453b-b43c-e2d46b453901')\"\n",
              "              title=\"Convert this dataframe to an interactive table.\"\n",
              "              style=\"display:none;\">\n",
              "        \n",
              "  <svg xmlns=\"http://www.w3.org/2000/svg\" height=\"24px\"viewBox=\"0 0 24 24\"\n",
              "       width=\"24px\">\n",
              "    <path d=\"M0 0h24v24H0V0z\" fill=\"none\"/>\n",
              "    <path d=\"M18.56 5.44l.94 2.06.94-2.06 2.06-.94-2.06-.94-.94-2.06-.94 2.06-2.06.94zm-11 1L8.5 8.5l.94-2.06 2.06-.94-2.06-.94L8.5 2.5l-.94 2.06-2.06.94zm10 10l.94 2.06.94-2.06 2.06-.94-2.06-.94-.94-2.06-.94 2.06-2.06.94z\"/><path d=\"M17.41 7.96l-1.37-1.37c-.4-.4-.92-.59-1.43-.59-.52 0-1.04.2-1.43.59L10.3 9.45l-7.72 7.72c-.78.78-.78 2.05 0 2.83L4 21.41c.39.39.9.59 1.41.59.51 0 1.02-.2 1.41-.59l7.78-7.78 2.81-2.81c.8-.78.8-2.07 0-2.86zM5.41 20L4 18.59l7.72-7.72 1.47 1.35L5.41 20z\"/>\n",
              "  </svg>\n",
              "      </button>\n",
              "      \n",
              "  <style>\n",
              "    .colab-df-container {\n",
              "      display:flex;\n",
              "      flex-wrap:wrap;\n",
              "      gap: 12px;\n",
              "    }\n",
              "\n",
              "    .colab-df-convert {\n",
              "      background-color: #E8F0FE;\n",
              "      border: none;\n",
              "      border-radius: 50%;\n",
              "      cursor: pointer;\n",
              "      display: none;\n",
              "      fill: #1967D2;\n",
              "      height: 32px;\n",
              "      padding: 0 0 0 0;\n",
              "      width: 32px;\n",
              "    }\n",
              "\n",
              "    .colab-df-convert:hover {\n",
              "      background-color: #E2EBFA;\n",
              "      box-shadow: 0px 1px 2px rgba(60, 64, 67, 0.3), 0px 1px 3px 1px rgba(60, 64, 67, 0.15);\n",
              "      fill: #174EA6;\n",
              "    }\n",
              "\n",
              "    [theme=dark] .colab-df-convert {\n",
              "      background-color: #3B4455;\n",
              "      fill: #D2E3FC;\n",
              "    }\n",
              "\n",
              "    [theme=dark] .colab-df-convert:hover {\n",
              "      background-color: #434B5C;\n",
              "      box-shadow: 0px 1px 3px 1px rgba(0, 0, 0, 0.15);\n",
              "      filter: drop-shadow(0px 1px 2px rgba(0, 0, 0, 0.3));\n",
              "      fill: #FFFFFF;\n",
              "    }\n",
              "  </style>\n",
              "\n",
              "      <script>\n",
              "        const buttonEl =\n",
              "          document.querySelector('#df-e3d45b9f-626f-453b-b43c-e2d46b453901 button.colab-df-convert');\n",
              "        buttonEl.style.display =\n",
              "          google.colab.kernel.accessAllowed ? 'block' : 'none';\n",
              "\n",
              "        async function convertToInteractive(key) {\n",
              "          const element = document.querySelector('#df-e3d45b9f-626f-453b-b43c-e2d46b453901');\n",
              "          const dataTable =\n",
              "            await google.colab.kernel.invokeFunction('convertToInteractive',\n",
              "                                                     [key], {});\n",
              "          if (!dataTable) return;\n",
              "\n",
              "          const docLinkHtml = 'Like what you see? Visit the ' +\n",
              "            '<a target=\"_blank\" href=https://colab.research.google.com/notebooks/data_table.ipynb>data table notebook</a>'\n",
              "            + ' to learn more about interactive tables.';\n",
              "          element.innerHTML = '';\n",
              "          dataTable['output_type'] = 'display_data';\n",
              "          await google.colab.output.renderOutput(dataTable, element);\n",
              "          const docLink = document.createElement('div');\n",
              "          docLink.innerHTML = docLinkHtml;\n",
              "          element.appendChild(docLink);\n",
              "        }\n",
              "      </script>\n",
              "    </div>\n",
              "  </div>\n",
              "  "
            ],
            "text/plain": [
              "            Id  Creation time  ...  [Withdrawal]      Reasons\n",
              "9996    288148          44505  ...        1000.0     BUSINESS\n",
              "10231   300570          44530  ...         590.0    FINANCIAL\n",
              "10387   263061          44456  ...         100.0     PERSONAL\n",
              "10484   288150          44505  ...        1500.0     BUSINESS\n",
              "10557   266062          44461  ...          90.0     PERSONAL\n",
              "...        ...            ...  ...           ...          ...\n",
              "130408  158020          44277  ...        1000.0     PERSONAL\n",
              "130487  140371          44238  ...        2000.0     BUSINESS\n",
              "130582  135954          44236  ...        4000.0    EDUCATION\n",
              "131105  209692          44354  ...         100.0     BUSINESS\n",
              "131115  206018          44347  ...           6.5  EDUCATIONAL\n",
              "\n",
              "[1129 rows x 15 columns]"
            ]
          },
          "metadata": {},
          "execution_count": 244
        }
      ]
    },
    {
      "cell_type": "code",
      "source": [
        " sum = df.groupby('Reasons')['[Withdrawal]'].sum()"
      ],
      "metadata": {
        "id": "EtboZDsIk71V"
      },
      "execution_count": null,
      "outputs": []
    },
    {
      "cell_type": "code",
      "source": [
        "sum.to_excel('sum.xlsx')"
      ],
      "metadata": {
        "id": "2N5X3c0CnOic"
      },
      "execution_count": null,
      "outputs": []
    },
    {
      "cell_type": "code",
      "source": [
        "mean = df.groupby('Reasons')['[Withdrawal]'].mean()\n"
      ],
      "metadata": {
        "id": "qDUpTLFFmx8Y"
      },
      "execution_count": null,
      "outputs": []
    },
    {
      "cell_type": "code",
      "source": [
        "median = df.groupby('Reasons')['[Withdrawal]'].median()"
      ],
      "metadata": {
        "id": "4zOemslGpK5X"
      },
      "execution_count": null,
      "outputs": []
    },
    {
      "cell_type": "code",
      "source": [
        "median"
      ],
      "metadata": {
        "colab": {
          "base_uri": "https://localhost:8080/"
        },
        "id": "zpvu9fpVpR6S",
        "outputId": "d6486c60-d7f0-4b9d-ba6a-4c3b2e195456"
      },
      "execution_count": null,
      "outputs": [
        {
          "output_type": "execute_result",
          "data": {
            "text/plain": [
              "Reasons\n",
              "BUSINESS        217.0\n",
              "EDUCATION       356.0\n",
              "EDUCATIONAL     100.0\n",
              "FINANCIAL       200.0\n",
              "MEDICAL         250.0\n",
              "OTHER           290.0\n",
              "PERSONAL        200.0\n",
              "REFUND           50.0\n",
              "REVERSAL       1449.0\n",
              "Name: [Withdrawal], dtype: float64"
            ]
          },
          "metadata": {},
          "execution_count": 253
        }
      ]
    },
    {
      "cell_type": "code",
      "source": [
        "median.to_excel('median.xlsx')"
      ],
      "metadata": {
        "id": "SDLGTugvplP5"
      },
      "execution_count": null,
      "outputs": []
    },
    {
      "cell_type": "code",
      "source": [
        "mean.to_excel('mean.xlsx')"
      ],
      "metadata": {
        "id": "C3Y1uUjynUh2"
      },
      "execution_count": null,
      "outputs": []
    },
    {
      "cell_type": "code",
      "source": [
        "mean\n"
      ],
      "metadata": {
        "colab": {
          "base_uri": "https://localhost:8080/"
        },
        "id": "5f3sSBWKm9eH",
        "outputId": "97cfadfd-9a3b-4419-c24f-52134c523bfd"
      },
      "execution_count": null,
      "outputs": [
        {
          "output_type": "execute_result",
          "data": {
            "text/plain": [
              "Reasons\n",
              "BUSINESS        591.024155\n",
              "EDUCATION       534.942308\n",
              "EDUCATIONAL     257.416667\n",
              "FINANCIAL       455.972000\n",
              "MEDICAL         591.277778\n",
              "OTHER           474.088235\n",
              "PERSONAL        460.019278\n",
              "REFUND           92.647059\n",
              "REVERSAL       2814.911333\n",
              "Name: [Withdrawal], dtype: float64"
            ]
          },
          "metadata": {},
          "execution_count": 248
        }
      ]
    },
    {
      "cell_type": "code",
      "source": [
        "sum"
      ],
      "metadata": {
        "colab": {
          "base_uri": "https://localhost:8080/"
        },
        "id": "BkhbCaBtlzmF",
        "outputId": "3524e3ff-6b2b-44e3-a352-abb52768b010"
      },
      "execution_count": null,
      "outputs": [
        {
          "output_type": "execute_result",
          "data": {
            "text/plain": [
              "Reasons\n",
              "BUSINESS       122342.00\n",
              "EDUCATION       27817.00\n",
              "EDUCATIONAL      3089.00\n",
              "FINANCIAL      113993.00\n",
              "MEDICAL         31929.00\n",
              "OTHER           16119.00\n",
              "PERSONAL       216669.08\n",
              "REFUND           3150.00\n",
              "REVERSAL        42223.67\n",
              "Name: [Withdrawal], dtype: float64"
            ]
          },
          "metadata": {},
          "execution_count": 246
        }
      ]
    },
    {
      "cell_type": "code",
      "source": [
        "cat  = df.Reasons.value_counts()"
      ],
      "metadata": {
        "id": "bbR478nRM1qD"
      },
      "execution_count": null,
      "outputs": []
    },
    {
      "cell_type": "code",
      "source": [
        "cat"
      ],
      "metadata": {
        "colab": {
          "base_uri": "https://localhost:8080/"
        },
        "id": "fPdW5gjhTW1u",
        "outputId": "88f08035-34d4-4093-9b8a-0724f559de71"
      },
      "execution_count": null,
      "outputs": [
        {
          "output_type": "execute_result",
          "data": {
            "text/plain": [
              "PERSONAL       471\n",
              "FINANCIAL      250\n",
              "BUSINESS       207\n",
              "MEDICAL         54\n",
              "EDUCATION       52\n",
              "REFUND          34\n",
              "OTHER           34\n",
              "REVERSAL        15\n",
              "EDUCATIONAL     12\n",
              "Name: Reasons, dtype: int64"
            ]
          },
          "metadata": {},
          "execution_count": 237
        }
      ]
    },
    {
      "cell_type": "code",
      "source": [
        "#cat.to_excel('cat.xlsx')"
      ],
      "metadata": {
        "id": "jPAPEiVdU7Le"
      },
      "execution_count": null,
      "outputs": []
    },
    {
      "cell_type": "code",
      "source": [
        "#cat.columns = ['Reason','Count',]"
      ],
      "metadata": {
        "id": "c-_n_6dvTZVo"
      },
      "execution_count": null,
      "outputs": []
    },
    {
      "cell_type": "code",
      "source": [
        "print(cat)"
      ],
      "metadata": {
        "colab": {
          "base_uri": "https://localhost:8080/"
        },
        "id": "c_QceP8QUqAd",
        "outputId": "67456678-d3f0-4285-feb3-76e0e8074a73"
      },
      "execution_count": null,
      "outputs": [
        {
          "output_type": "stream",
          "name": "stdout",
          "text": [
            "PERSONAL       471\n",
            "FINANCIAL      250\n",
            "BUSINESS       207\n",
            "MEDICAL         54\n",
            "EDUCATION       52\n",
            "REFUND          34\n",
            "OTHER           34\n",
            "REVERSAL        15\n",
            "EDUCATIONAL     12\n",
            "Name: Reasons, dtype: int64\n"
          ]
        }
      ]
    },
    {
      "cell_type": "code",
      "source": [
        "#cat1 = cat.plot(kind = 'pie',figsize = (15,10), autopct = '')\n",
        "#cat1.set_title(\"Distribution of Reasons for Withdrawal\")\n",
        "#cat1.plot()"
      ],
      "metadata": {
        "id": "1RKHJmmdNq0e"
      },
      "execution_count": null,
      "outputs": []
    }
  ]
}