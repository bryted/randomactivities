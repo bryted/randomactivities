{
  "nbformat": 4,
  "nbformat_minor": 0,
  "metadata": {
    "colab": {
      "name": "Activity Ratio 2ipynb",
      "provenance": [],
      "authorship_tag": "ABX9TyNYXR1nQ41JydV4IEMkya1s",
      "include_colab_link": true
    },
    "kernelspec": {
      "name": "python3",
      "display_name": "Python 3"
    },
    "language_info": {
      "name": "python"
    }
  },
  "cells": [
    {
      "cell_type": "markdown",
      "metadata": {
        "id": "view-in-github",
        "colab_type": "text"
      },
      "source": [
        "<a href=\"https://colab.research.google.com/github/bryted/randomactivities/blob/main/Activity_Ratio_2ipynb.ipynb\" target=\"_parent\"><img src=\"https://colab.research.google.com/assets/colab-badge.svg\" alt=\"Open In Colab\"/></a>"
      ]
    },
    {
      "cell_type": "code",
      "execution_count": 248,
      "metadata": {
        "id": "S0LSGfmO8qpq"
      },
      "outputs": [],
      "source": [
        "import pandas as pd\n",
        "import numpy as np"
      ]
    },
    {
      "cell_type": "code",
      "source": [
        "#df = pd.read_excel('2020.xlsx')\n",
        "df1 = pd.read_excel('PAYJAN.xlsx')"
      ],
      "metadata": {
        "id": "7ulqf8zy8y-y"
      },
      "execution_count": 249,
      "outputs": []
    },
    {
      "cell_type": "code",
      "source": [
        "#df['Year'] = 20"
      ],
      "metadata": {
        "id": "HurN80tz8-sZ"
      },
      "execution_count": 250,
      "outputs": []
    },
    {
      "cell_type": "code",
      "source": [
        "#df1['Year'] = 2021"
      ],
      "metadata": {
        "id": "5ELe-sV99-2p"
      },
      "execution_count": 251,
      "outputs": []
    },
    {
      "cell_type": "markdown",
      "source": [
        "2020"
      ],
      "metadata": {
        "id": "3f5D1pT5_GXy"
      }
    },
    {
      "cell_type": "code",
      "source": [
        "df1['Product type'].value_counts()"
      ],
      "metadata": {
        "colab": {
          "base_uri": "https://localhost:8080/"
        },
        "id": "XAhDSVNtBsp6",
        "outputId": "2d478268-5f26-49ab-f217-654cd07e7023"
      },
      "execution_count": 252,
      "outputs": [
        {
          "output_type": "execute_result",
          "data": {
            "text/plain": [
              "PPT Personal Pension Scheme        7368\n",
              "PPT Occupational Pension Scheme    2408\n",
              "PPT TUC UNIWA Scheme                248\n",
              "PPT Provident Fund Scheme            85\n",
              "Name: Product type, dtype: int64"
            ]
          },
          "metadata": {},
          "execution_count": 252
        }
      ]
    },
    {
      "cell_type": "code",
      "source": [
        "df1['Sector'] = df['Product type'].replace({'PPT Personal Pension Scheme':'Informal','PPT Occupational Pension Scheme':'Formal','PPT TUC UNIWA Scheme':'Informal','PPT Provident Fund Scheme':'Formal'})"
      ],
      "metadata": {
        "id": "CU4zfbvJE3t_"
      },
      "execution_count": 253,
      "outputs": []
    },
    {
      "cell_type": "code",
      "source": [
        "df1.Sector.value_counts()"
      ],
      "metadata": {
        "colab": {
          "base_uri": "https://localhost:8080/"
        },
        "id": "7pGe3riQJGRO",
        "outputId": "8b8673a0-84b5-4bd0-e51d-d9d242c13859"
      },
      "execution_count": 254,
      "outputs": [
        {
          "output_type": "execute_result",
          "data": {
            "text/plain": [
              "Informal    7583\n",
              "Formal      2526\n",
              "Name: Sector, dtype: int64"
            ]
          },
          "metadata": {},
          "execution_count": 254
        }
      ]
    },
    {
      "cell_type": "code",
      "source": [
        "# Creating a column based on 1st 3 letters of batch number\n",
        "df1['Group'] = df1.iloc[:,3].str[:3]\n",
        "TR0 = df1[df1.Group == 'TR0']\n",
        "PPT = df1[df1.Group == 'PPT']\n",
        "PPT['NewBatch'] = PPT.iloc[:,3].str[:10]\n",
        "TR0['NewBatch'] = TR0.iloc[:,3].str[:12]\n",
        "\n",
        "frames = [PPT,TR0,]\n",
        "result = pd.concat(frames)\n"
      ],
      "metadata": {
        "colab": {
          "base_uri": "https://localhost:8080/"
        },
        "id": "Dcg0bZ_R-OLx",
        "outputId": "bc4ab826-8040-463a-b307-becce81e74b0"
      },
      "execution_count": 255,
      "outputs": [
        {
          "output_type": "stream",
          "name": "stderr",
          "text": [
            "/usr/local/lib/python3.7/dist-packages/ipykernel_launcher.py:5: SettingWithCopyWarning: \n",
            "A value is trying to be set on a copy of a slice from a DataFrame.\n",
            "Try using .loc[row_indexer,col_indexer] = value instead\n",
            "\n",
            "See the caveats in the documentation: https://pandas.pydata.org/pandas-docs/stable/user_guide/indexing.html#returning-a-view-versus-a-copy\n",
            "  \"\"\"\n",
            "/usr/local/lib/python3.7/dist-packages/ipykernel_launcher.py:6: SettingWithCopyWarning: \n",
            "A value is trying to be set on a copy of a slice from a DataFrame.\n",
            "Try using .loc[row_indexer,col_indexer] = value instead\n",
            "\n",
            "See the caveats in the documentation: https://pandas.pydata.org/pandas-docs/stable/user_guide/indexing.html#returning-a-view-versus-a-copy\n",
            "  \n"
          ]
        }
      ]
    },
    {
      "cell_type": "code",
      "source": [
        "#assigning tags based (reversal/actual)\n",
        "result.NewBatch.fillna('Actual',inplace=True)\n",
        "result['Reversal'] = result.iloc[:,3].str[-2:]\n",
        "result.loc[result['Reversal'] == '/1', 'Status'] = 'Reversal' \n",
        "result.loc[result['Reversal'] != '/1', 'Status'] = 'Actual' \n",
        "#converting date to datetime\n",
        "#result['Start date'] = pd.to_datetime(result['Start date'], format='%Y-%m-%d')"
      ],
      "metadata": {
        "id": "QAXqBlWpCgPd"
      },
      "execution_count": 256,
      "outputs": []
    },
    {
      "cell_type": "code",
      "source": [
        "result.Status.value_counts()"
      ],
      "metadata": {
        "colab": {
          "base_uri": "https://localhost:8080/"
        },
        "id": "bq9IXbcEDPJs",
        "outputId": "363b9cc6-46e4-4c7b-db00-47c0d05a5b70"
      },
      "execution_count": 257,
      "outputs": [
        {
          "output_type": "execute_result",
          "data": {
            "text/plain": [
              "Actual      10062\n",
              "Reversal       47\n",
              "Name: Status, dtype: int64"
            ]
          },
          "metadata": {},
          "execution_count": 257
        }
      ]
    },
    {
      "cell_type": "code",
      "source": [
        "#removing reversals\n",
        "actual=result[result['Status']=='Actual']\n",
        "rever=result[result['Status']=='Reversal']\n",
        "\n",
        "C = actual.loc[~((actual.NewBatch.isin(rever[\"NewBatch\"])))]\n",
        "C['[Withdrawal]'].replace(0.0, np.nan, inplace=True)\n",
        "C['[Contribution]'].replace(0.0, np.nan, inplace=True)"
      ],
      "metadata": {
        "colab": {
          "base_uri": "https://localhost:8080/"
        },
        "id": "nc2IcQEyDV2-",
        "outputId": "67e730ab-da84-468c-aac0-a3a15fbb89d0"
      },
      "execution_count": 258,
      "outputs": [
        {
          "output_type": "stream",
          "name": "stderr",
          "text": [
            "/usr/local/lib/python3.7/dist-packages/pandas/core/generic.py:6619: SettingWithCopyWarning: \n",
            "A value is trying to be set on a copy of a slice from a DataFrame\n",
            "\n",
            "See the caveats in the documentation: https://pandas.pydata.org/pandas-docs/stable/user_guide/indexing.html#returning-a-view-versus-a-copy\n",
            "  return self._update_inplace(result)\n"
          ]
        }
      ]
    },
    {
      "cell_type": "code",
      "source": [
        "C.info()"
      ],
      "metadata": {
        "colab": {
          "base_uri": "https://localhost:8080/"
        },
        "id": "fSRLa0M6DaRA",
        "outputId": "5547937d-34b9-4afb-ea4a-e3eb89cc2610"
      },
      "execution_count": 259,
      "outputs": [
        {
          "output_type": "stream",
          "name": "stdout",
          "text": [
            "<class 'pandas.core.frame.DataFrame'>\n",
            "Int64Index: 10015 entries, 0 to 10104\n",
            "Data columns (total 19 columns):\n",
            " #   Column           Non-Null Count  Dtype  \n",
            "---  ------           --------------  -----  \n",
            " 0   Id               10015 non-null  int64  \n",
            " 1   Creation time    10015 non-null  int64  \n",
            " 2   [Sesseion date]  10015 non-null  int64  \n",
            " 3   Batch number     10015 non-null  object \n",
            " 4   Mobile           10015 non-null  object \n",
            " 5   Product type     10015 non-null  object \n",
            " 6   [Scheme number]  10015 non-null  object \n",
            " 7   [Other number]   6228 non-null   object \n",
            " 8   User name        10015 non-null  object \n",
            " 9   Method           10015 non-null  object \n",
            " 10  Type             10015 non-null  object \n",
            " 11  Reference        10015 non-null  object \n",
            " 12  [Contribution]   9916 non-null   float64\n",
            " 13  [Withdrawal]     99 non-null     float64\n",
            " 14  Sector           10015 non-null  object \n",
            " 15  Group            10015 non-null  object \n",
            " 16  NewBatch         10015 non-null  object \n",
            " 17  Reversal         10015 non-null  object \n",
            " 18  Status           10015 non-null  object \n",
            "dtypes: float64(2), int64(3), object(14)\n",
            "memory usage: 1.5+ MB\n"
          ]
        }
      ]
    },
    {
      "cell_type": "code",
      "source": [
        "C.Sector.value_counts()"
      ],
      "metadata": {
        "colab": {
          "base_uri": "https://localhost:8080/"
        },
        "id": "HwjNXYtuISfg",
        "outputId": "fa23d739-c3f4-4db0-dbc7-5250c30fe0c2"
      },
      "execution_count": 260,
      "outputs": [
        {
          "output_type": "execute_result",
          "data": {
            "text/plain": [
              "Informal    7492\n",
              "Formal      2523\n",
              "Name: Sector, dtype: int64"
            ]
          },
          "metadata": {},
          "execution_count": 260
        }
      ]
    },
    {
      "cell_type": "code",
      "source": [
        "a = C[C['[Contribution]'].notna()]\n",
        "b = a.loc[a['Sector'] == 'Informal']"
      ],
      "metadata": {
        "id": "O7-ywVyjD4K6"
      },
      "execution_count": 261,
      "outputs": []
    },
    {
      "cell_type": "code",
      "source": [
        "b.info()"
      ],
      "metadata": {
        "colab": {
          "base_uri": "https://localhost:8080/"
        },
        "id": "3-hH_g0jEOdC",
        "outputId": "6ee691be-d0e1-48ea-9e62-c04c39f0cf0e"
      },
      "execution_count": 262,
      "outputs": [
        {
          "output_type": "stream",
          "name": "stdout",
          "text": [
            "<class 'pandas.core.frame.DataFrame'>\n",
            "Int64Index: 7407 entries, 0 to 10104\n",
            "Data columns (total 19 columns):\n",
            " #   Column           Non-Null Count  Dtype  \n",
            "---  ------           --------------  -----  \n",
            " 0   Id               7407 non-null   int64  \n",
            " 1   Creation time    7407 non-null   int64  \n",
            " 2   [Sesseion date]  7407 non-null   int64  \n",
            " 3   Batch number     7407 non-null   object \n",
            " 4   Mobile           7407 non-null   object \n",
            " 5   Product type     7407 non-null   object \n",
            " 6   [Scheme number]  7407 non-null   object \n",
            " 7   [Other number]   4658 non-null   object \n",
            " 8   User name        7407 non-null   object \n",
            " 9   Method           7407 non-null   object \n",
            " 10  Type             7407 non-null   object \n",
            " 11  Reference        7407 non-null   object \n",
            " 12  [Contribution]   7407 non-null   float64\n",
            " 13  [Withdrawal]     0 non-null      float64\n",
            " 14  Sector           7407 non-null   object \n",
            " 15  Group            7407 non-null   object \n",
            " 16  NewBatch         7407 non-null   object \n",
            " 17  Reversal         7407 non-null   object \n",
            " 18  Status           7407 non-null   object \n",
            "dtypes: float64(2), int64(3), object(14)\n",
            "memory usage: 1.1+ MB\n"
          ]
        }
      ]
    },
    {
      "cell_type": "code",
      "source": [
        "b['[Scheme number]'].nunique()"
      ],
      "metadata": {
        "colab": {
          "base_uri": "https://localhost:8080/"
        },
        "id": "_KHj8h8KLaxc",
        "outputId": "c0839a27-024c-40db-aa74-6a7389ec71d0"
      },
      "execution_count": 263,
      "outputs": [
        {
          "output_type": "execute_result",
          "data": {
            "text/plain": [
              "3078"
            ]
          },
          "metadata": {},
          "execution_count": 263
        }
      ]
    },
    {
      "cell_type": "markdown",
      "source": [
        "2021"
      ],
      "metadata": {
        "id": "iNjZV9MYNw0n"
      }
    },
    {
      "cell_type": "code",
      "source": [
        ""
      ],
      "metadata": {
        "id": "s44aMg67N2tN"
      },
      "execution_count": 263,
      "outputs": []
    }
  ]
}