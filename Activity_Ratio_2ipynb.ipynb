{
  "nbformat": 4,
  "nbformat_minor": 0,
  "metadata": {
    "colab": {
      "name": "Activity Ratio 2ipynb",
      "provenance": [],
      "authorship_tag": "ABX9TyPqSDQMIhyw7fHt+Fd85uG2",
      "include_colab_link": true
    },
    "kernelspec": {
      "name": "python3",
      "display_name": "Python 3"
    },
    "language_info": {
      "name": "python"
    }
  },
  "cells": [
    {
      "cell_type": "markdown",
      "metadata": {
        "id": "view-in-github",
        "colab_type": "text"
      },
      "source": [
        "<a href=\"https://colab.research.google.com/github/bryted/randomactivities/blob/main/Activity_Ratio_2ipynb.ipynb\" target=\"_parent\"><img src=\"https://colab.research.google.com/assets/colab-badge.svg\" alt=\"Open In Colab\"/></a>"
      ]
    },
    {
      "cell_type": "code",
      "execution_count": 93,
      "metadata": {
        "id": "S0LSGfmO8qpq"
      },
      "outputs": [],
      "source": [
        "import pandas as pd\n",
        "import numpy as np"
      ]
    },
    {
      "cell_type": "code",
      "source": [
        "#e = pd.read_excel('2020.xlsx')\n",
        "#f = pd.read_excel('2021.xlsx')\n",
        "#g = pd.read_excel('PAYFEB.xlsx')\n",
        "#h = pd.read_excel('PAYJAN.xlsx')"
      ],
      "metadata": {
        "id": "ATKbEeeW3Ufo"
      },
      "execution_count": 94,
      "outputs": []
    },
    {
      "cell_type": "code",
      "source": [
        "df1 = pd.read_excel('PaymentDataDump (1).xlsx')"
      ],
      "metadata": {
        "id": "4c2ryGoy5Bd-"
      },
      "execution_count": 95,
      "outputs": []
    },
    {
      "cell_type": "code",
      "source": [
        "#df1 = pd.concat([e,f,g,h])"
      ],
      "metadata": {
        "id": "ON8JSjyH4DEd"
      },
      "execution_count": 96,
      "outputs": []
    },
    {
      "cell_type": "code",
      "source": [
        "df1.Type.value_counts()"
      ],
      "metadata": {
        "colab": {
          "base_uri": "https://localhost:8080/"
        },
        "id": "VV4qPfln4PPu",
        "outputId": "fe6eab80-d994-4c78-c79b-20bd70fcfacd"
      },
      "execution_count": 97,
      "outputs": [
        {
          "output_type": "execute_result",
          "data": {
            "text/plain": [
              "DEPOSIT                          6962\n",
              "Deposit                          1509\n",
              "Savings Withdrawal                 46\n",
              "Retirement Withdrawal               9\n",
              "Over 60 years WITHDRAWAL            6\n",
              "Closure of Account Withdrawal       6\n",
              "PF Withdrawal                       1\n",
              "Name: Type, dtype: int64"
            ]
          },
          "metadata": {},
          "execution_count": 97
        }
      ]
    },
    {
      "cell_type": "code",
      "source": [
        "#df = pd.read_excel('2020.xlsx')\n",
        "#df1 = pd.read_excel('PAYFEB.xlsx')"
      ],
      "metadata": {
        "id": "7ulqf8zy8y-y"
      },
      "execution_count": 98,
      "outputs": []
    },
    {
      "cell_type": "code",
      "source": [
        "#df['Year'] = 20"
      ],
      "metadata": {
        "id": "HurN80tz8-sZ"
      },
      "execution_count": 99,
      "outputs": []
    },
    {
      "cell_type": "code",
      "source": [
        "#df1['Year'] = 2021"
      ],
      "metadata": {
        "id": "5ELe-sV99-2p"
      },
      "execution_count": 100,
      "outputs": []
    },
    {
      "cell_type": "markdown",
      "source": [
        "2020"
      ],
      "metadata": {
        "id": "3f5D1pT5_GXy"
      }
    },
    {
      "cell_type": "code",
      "source": [
        ""
      ],
      "metadata": {
        "id": "c537C2NG2cHC"
      },
      "execution_count": 100,
      "outputs": []
    },
    {
      "cell_type": "code",
      "source": [
        "df1['Product type'].value_counts()"
      ],
      "metadata": {
        "colab": {
          "base_uri": "https://localhost:8080/"
        },
        "id": "XAhDSVNtBsp6",
        "outputId": "a8776115-3e7c-44b1-a175-746f0fbb828b"
      },
      "execution_count": 101,
      "outputs": [
        {
          "output_type": "execute_result",
          "data": {
            "text/plain": [
              "PPT Personal Pension Scheme        7061\n",
              "PPT Occupational Pension Scheme    1217\n",
              "PPT TUC UNIWA Scheme                246\n",
              "PPT Provident Fund Scheme            15\n",
              "Name: Product type, dtype: int64"
            ]
          },
          "metadata": {},
          "execution_count": 101
        }
      ]
    },
    {
      "cell_type": "code",
      "source": [
        "df1['Sector'] = df1['Product type'].replace({'PPT Personal Pension Scheme':'Informal','PPT Occupational Pension Scheme':'Formal','PPT TUC UNIWA Scheme':'Informal','PPT Provident Fund Scheme':'Formal'})"
      ],
      "metadata": {
        "id": "CU4zfbvJE3t_"
      },
      "execution_count": 102,
      "outputs": []
    },
    {
      "cell_type": "code",
      "source": [
        "df1.Sector.value_counts()"
      ],
      "metadata": {
        "colab": {
          "base_uri": "https://localhost:8080/"
        },
        "id": "7pGe3riQJGRO",
        "outputId": "a51d314b-08a7-402d-d562-f0f4f22b392c"
      },
      "execution_count": 103,
      "outputs": [
        {
          "output_type": "execute_result",
          "data": {
            "text/plain": [
              "Informal    7307\n",
              "Formal      1232\n",
              "Name: Sector, dtype: int64"
            ]
          },
          "metadata": {},
          "execution_count": 103
        }
      ]
    },
    {
      "cell_type": "code",
      "source": [
        "# Creating a column based on 1st 3 letters of batch number\n",
        "df1['Group'] = df1.iloc[:,3].str[:3]\n",
        "TR0 = df1[df1.Group == 'TR0']\n",
        "PPT = df1[df1.Group == 'PPT']\n",
        "PPT['NewBatch'] = PPT.iloc[:,3].str[:10]\n",
        "TR0['NewBatch'] = TR0.iloc[:,3].str[:12]\n",
        "\n",
        "frames = [PPT,TR0,]\n",
        "result = pd.concat(frames)\n"
      ],
      "metadata": {
        "colab": {
          "base_uri": "https://localhost:8080/"
        },
        "id": "Dcg0bZ_R-OLx",
        "outputId": "34b86319-38c1-423f-8f20-1f0cf06bae91"
      },
      "execution_count": 104,
      "outputs": [
        {
          "output_type": "stream",
          "name": "stderr",
          "text": [
            "/usr/local/lib/python3.7/dist-packages/ipykernel_launcher.py:5: SettingWithCopyWarning: \n",
            "A value is trying to be set on a copy of a slice from a DataFrame.\n",
            "Try using .loc[row_indexer,col_indexer] = value instead\n",
            "\n",
            "See the caveats in the documentation: https://pandas.pydata.org/pandas-docs/stable/user_guide/indexing.html#returning-a-view-versus-a-copy\n",
            "  \"\"\"\n",
            "/usr/local/lib/python3.7/dist-packages/ipykernel_launcher.py:6: SettingWithCopyWarning: \n",
            "A value is trying to be set on a copy of a slice from a DataFrame.\n",
            "Try using .loc[row_indexer,col_indexer] = value instead\n",
            "\n",
            "See the caveats in the documentation: https://pandas.pydata.org/pandas-docs/stable/user_guide/indexing.html#returning-a-view-versus-a-copy\n",
            "  \n"
          ]
        }
      ]
    },
    {
      "cell_type": "code",
      "source": [
        "#assigning tags based (reversal/actual)\n",
        "result.NewBatch.fillna('Actual',inplace=True)\n",
        "result['Reversal'] = result.iloc[:,3].str[-2:]\n",
        "result.loc[result['Reversal'] == '/1', 'Status'] = 'Reversal' \n",
        "result.loc[result['Reversal'] != '/1', 'Status'] = 'Actual' \n",
        "#converting date to datetime\n",
        "#result['Start date'] = pd.to_datetime(result['Start date'], format='%Y-%m-%d')"
      ],
      "metadata": {
        "id": "QAXqBlWpCgPd"
      },
      "execution_count": 105,
      "outputs": []
    },
    {
      "cell_type": "code",
      "source": [
        "result.Status.value_counts()"
      ],
      "metadata": {
        "colab": {
          "base_uri": "https://localhost:8080/"
        },
        "id": "bq9IXbcEDPJs",
        "outputId": "ea00d427-2a0e-4343-cc26-b5a20853bd4f"
      },
      "execution_count": 106,
      "outputs": [
        {
          "output_type": "execute_result",
          "data": {
            "text/plain": [
              "Actual      8530\n",
              "Reversal       9\n",
              "Name: Status, dtype: int64"
            ]
          },
          "metadata": {},
          "execution_count": 106
        }
      ]
    },
    {
      "cell_type": "code",
      "source": [
        "#removing reversals\n",
        "actual=result[result['Status']=='Actual']\n",
        "rever=result[result['Status']=='Reversal']\n",
        "\n",
        "C = actual.loc[~((actual.NewBatch.isin(rever[\"NewBatch\"])))]\n",
        "C['[Withdrawal]'].replace(0.0, np.nan, inplace=True)\n",
        "C['[Contribution]'].replace(0.0, np.nan, inplace=True)"
      ],
      "metadata": {
        "colab": {
          "base_uri": "https://localhost:8080/"
        },
        "id": "nc2IcQEyDV2-",
        "outputId": "caad0bf3-2011-43d3-c31d-b2927b44b071"
      },
      "execution_count": 107,
      "outputs": [
        {
          "output_type": "stream",
          "name": "stderr",
          "text": [
            "/usr/local/lib/python3.7/dist-packages/pandas/core/generic.py:6619: SettingWithCopyWarning: \n",
            "A value is trying to be set on a copy of a slice from a DataFrame\n",
            "\n",
            "See the caveats in the documentation: https://pandas.pydata.org/pandas-docs/stable/user_guide/indexing.html#returning-a-view-versus-a-copy\n",
            "  return self._update_inplace(result)\n"
          ]
        }
      ]
    },
    {
      "cell_type": "code",
      "source": [
        "C.info()"
      ],
      "metadata": {
        "colab": {
          "base_uri": "https://localhost:8080/"
        },
        "id": "fSRLa0M6DaRA",
        "outputId": "16636af1-f91d-4295-9d4d-24ae7e318941"
      },
      "execution_count": 108,
      "outputs": [
        {
          "output_type": "stream",
          "name": "stdout",
          "text": [
            "<class 'pandas.core.frame.DataFrame'>\n",
            "Int64Index: 8521 entries, 0 to 8538\n",
            "Data columns (total 19 columns):\n",
            " #   Column           Non-Null Count  Dtype  \n",
            "---  ------           --------------  -----  \n",
            " 0   Id               8521 non-null   int64  \n",
            " 1   Creation time    8521 non-null   int64  \n",
            " 2   [Sesseion date]  8521 non-null   int64  \n",
            " 3   Batch number     8521 non-null   object \n",
            " 4   Mobile           8521 non-null   object \n",
            " 5   Product type     8521 non-null   object \n",
            " 6   [Scheme number]  8521 non-null   object \n",
            " 7   [Other number]   5323 non-null   object \n",
            " 8   User name        8521 non-null   object \n",
            " 9   Method           8521 non-null   object \n",
            " 10  Type             8521 non-null   object \n",
            " 11  Reference        8521 non-null   object \n",
            " 12  [Contribution]   8460 non-null   float64\n",
            " 13  [Withdrawal]     61 non-null     float64\n",
            " 14  Sector           8521 non-null   object \n",
            " 15  Group            8521 non-null   object \n",
            " 16  NewBatch         8521 non-null   object \n",
            " 17  Reversal         8521 non-null   object \n",
            " 18  Status           8521 non-null   object \n",
            "dtypes: float64(2), int64(3), object(14)\n",
            "memory usage: 1.3+ MB\n"
          ]
        }
      ]
    },
    {
      "cell_type": "code",
      "source": [
        "C.to_excel('February dump.xlsx')"
      ],
      "metadata": {
        "id": "tkmpSJ-vJu5n"
      },
      "execution_count": 110,
      "outputs": []
    },
    {
      "cell_type": "code",
      "source": [
        "C.Sector.value_counts()"
      ],
      "metadata": {
        "colab": {
          "base_uri": "https://localhost:8080/"
        },
        "id": "HwjNXYtuISfg",
        "outputId": "b1149295-0741-41d9-e7bc-8f5679ad489d"
      },
      "execution_count": 90,
      "outputs": [
        {
          "output_type": "execute_result",
          "data": {
            "text/plain": [
              "Informal    7301\n",
              "Formal      1220\n",
              "Name: Sector, dtype: int64"
            ]
          },
          "metadata": {},
          "execution_count": 90
        }
      ]
    },
    {
      "cell_type": "code",
      "source": [
        "a = C[C['[Contribution]'].notna()]\n",
        "b = a.loc[a['Sector'] == 'Informal']"
      ],
      "metadata": {
        "id": "O7-ywVyjD4K6"
      },
      "execution_count": 91,
      "outputs": []
    },
    {
      "cell_type": "code",
      "source": [
        "b.info()"
      ],
      "metadata": {
        "colab": {
          "base_uri": "https://localhost:8080/"
        },
        "id": "3-hH_g0jEOdC",
        "outputId": "d3a4584e-bad6-43bf-ebf0-fc6e364a08ec"
      },
      "execution_count": 92,
      "outputs": [
        {
          "output_type": "stream",
          "name": "stdout",
          "text": [
            "<class 'pandas.core.frame.DataFrame'>\n",
            "Int64Index: 7243 entries, 0 to 8538\n",
            "Data columns (total 19 columns):\n",
            " #   Column           Non-Null Count  Dtype  \n",
            "---  ------           --------------  -----  \n",
            " 0   Id               7243 non-null   int64  \n",
            " 1   Creation time    7243 non-null   int64  \n",
            " 2   [Sesseion date]  7243 non-null   int64  \n",
            " 3   Batch number     7243 non-null   object \n",
            " 4   Mobile           7243 non-null   object \n",
            " 5   Product type     7243 non-null   object \n",
            " 6   [Scheme number]  7243 non-null   object \n",
            " 7   [Other number]   4821 non-null   object \n",
            " 8   User name        7243 non-null   object \n",
            " 9   Method           7243 non-null   object \n",
            " 10  Type             7243 non-null   object \n",
            " 11  Reference        7243 non-null   object \n",
            " 12  [Contribution]   7243 non-null   float64\n",
            " 13  [Withdrawal]     0 non-null      float64\n",
            " 14  Sector           7243 non-null   object \n",
            " 15  Group            7243 non-null   object \n",
            " 16  NewBatch         7243 non-null   object \n",
            " 17  Reversal         7243 non-null   object \n",
            " 18  Status           7243 non-null   object \n",
            "dtypes: float64(2), int64(3), object(14)\n",
            "memory usage: 1.1+ MB\n"
          ]
        }
      ]
    },
    {
      "cell_type": "code",
      "source": [
        "b['[Scheme number]'].nunique()"
      ],
      "metadata": {
        "colab": {
          "base_uri": "https://localhost:8080/"
        },
        "id": "_KHj8h8KLaxc",
        "outputId": "7557e9a6-f031-4353-c836-1e20fef9b033"
      },
      "execution_count": 75,
      "outputs": [
        {
          "output_type": "execute_result",
          "data": {
            "text/plain": [
              "1747"
            ]
          },
          "metadata": {},
          "execution_count": 75
        }
      ]
    },
    {
      "cell_type": "markdown",
      "source": [
        "2021"
      ],
      "metadata": {
        "id": "iNjZV9MYNw0n"
      }
    },
    {
      "cell_type": "code",
      "source": [
        ""
      ],
      "metadata": {
        "id": "s44aMg67N2tN"
      },
      "execution_count": 75,
      "outputs": []
    }
  ]
}