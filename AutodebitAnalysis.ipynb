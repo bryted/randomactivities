{
  "nbformat": 4,
  "nbformat_minor": 0,
  "metadata": {
    "colab": {
      "name": "AutodebitAnalysis.ipynb",
      "provenance": [],
      "authorship_tag": "ABX9TyN/c+wCZM7LlcgJF0rIdBmf",
      "include_colab_link": true
    },
    "kernelspec": {
      "name": "python3",
      "display_name": "Python 3"
    },
    "language_info": {
      "name": "python"
    }
  },
  "cells": [
    {
      "cell_type": "markdown",
      "metadata": {
        "id": "view-in-github",
        "colab_type": "text"
      },
      "source": [
        "<a href=\"https://colab.research.google.com/github/bryted/randomactivities/blob/main/AutodebitAnalysis.ipynb\" target=\"_parent\"><img src=\"https://colab.research.google.com/assets/colab-badge.svg\" alt=\"Open In Colab\"/></a>"
      ]
    },
    {
      "cell_type": "code",
      "source": [
        "import pandas as pd\n",
        "import numpy as np"
      ],
      "metadata": {
        "id": "q08G3ddJOZ3x"
      },
      "execution_count": null,
      "outputs": []
    },
    {
      "cell_type": "code",
      "execution_count": null,
      "metadata": {
        "id": "YkF5sm_jOJQv"
      },
      "outputs": [],
      "source": [
        "df = pd.read_excel('maximus-autodebit_export-1645791374589.xlsx')"
      ]
    },
    {
      "cell_type": "code",
      "source": [
        "df['CreationTime'] = pd.to_datetime(df['CreationTime'], errors ='ignore').dt.date\n",
        "df['Firstpaymentdate'] = pd.to_datetime(df['Firstpaymentdate'], errors ='coerce').dt.date\n",
        "df['Lastpaymentdate'] = pd.to_datetime(df['Lastpaymentdate'], errors ='coerce').dt.date\n",
        "df['Nextpaymentdate'] = pd.to_datetime(df['Nextpaymentdate'], errors ='coerce').dt.date"
      ],
      "metadata": {
        "id": "ACwEr-JMO4Td"
      },
      "execution_count": null,
      "outputs": []
    },
    {
      "cell_type": "code",
      "source": [
        "c = pd.to_datetime('2022-03-28').date()"
      ],
      "metadata": {
        "id": "NscxCU6nl8MR"
      },
      "execution_count": null,
      "outputs": []
    },
    {
      "cell_type": "code",
      "source": [
        "d = df.loc[df['CreationTime'] <= c]"
      ],
      "metadata": {
        "id": "F0XNtYPRV_SH"
      },
      "execution_count": null,
      "outputs": []
    },
    {
      "cell_type": "code",
      "source": [
        "d.info()"
      ],
      "metadata": {
        "colab": {
          "base_uri": "https://localhost:8080/"
        },
        "id": "JNxYEp0mmNP1",
        "outputId": "578b7f65-f923-412c-e589-4c29bba8c8e8"
      },
      "execution_count": null,
      "outputs": [
        {
          "output_type": "stream",
          "name": "stdout",
          "text": [
            "<class 'pandas.core.frame.DataFrame'>\n",
            "Int64Index: 2194 entries, 0 to 2193\n",
            "Data columns (total 11 columns):\n",
            " #   Column            Non-Null Count  Dtype  \n",
            "---  ------            --------------  -----  \n",
            " 0   Code              2194 non-null   object \n",
            " 1   Schemenumber      2194 non-null   object \n",
            " 2   Mobile            2194 non-null   int64  \n",
            " 3   Network           2194 non-null   object \n",
            " 4   Amount            2194 non-null   float64\n",
            " 5   Frequency         2194 non-null   object \n",
            " 6   Firstpaymentdate  2194 non-null   object \n",
            " 7   Lastpaymentdate   2194 non-null   object \n",
            " 8   Nextpaymentdate   2194 non-null   object \n",
            " 9   Status            2194 non-null   object \n",
            " 10  CreationTime      2194 non-null   object \n",
            "dtypes: float64(1), int64(1), object(9)\n",
            "memory usage: 205.7+ KB\n"
          ]
        }
      ]
    },
    {
      "cell_type": "code",
      "source": [
        "date = pd.to_datetime('2021-12-31').date()"
      ],
      "metadata": {
        "id": "qHT49v90gZfe"
      },
      "execution_count": null,
      "outputs": []
    },
    {
      "cell_type": "code",
      "source": [
        "a = df.loc[((df['Firstpaymentdate'] <= date) & (df['Status'] == 'Active'))]"
      ],
      "metadata": {
        "id": "jguRGDI1Vdfc"
      },
      "execution_count": null,
      "outputs": []
    },
    {
      "cell_type": "code",
      "source": [
        "a"
      ],
      "metadata": {
        "colab": {
          "base_uri": "https://localhost:8080/",
          "height": 487
        },
        "id": "tJTTWcmZWDeu",
        "outputId": "67761c46-8f3f-4a17-9f3d-37551efd1270"
      },
      "execution_count": null,
      "outputs": [
        {
          "output_type": "execute_result",
          "data": {
            "text/html": [
              "\n",
              "  <div id=\"df-8ddac74a-a085-464c-8bf6-924f87b26781\">\n",
              "    <div class=\"colab-df-container\">\n",
              "      <div>\n",
              "<style scoped>\n",
              "    .dataframe tbody tr th:only-of-type {\n",
              "        vertical-align: middle;\n",
              "    }\n",
              "\n",
              "    .dataframe tbody tr th {\n",
              "        vertical-align: top;\n",
              "    }\n",
              "\n",
              "    .dataframe thead th {\n",
              "        text-align: right;\n",
              "    }\n",
              "</style>\n",
              "<table border=\"1\" class=\"dataframe\">\n",
              "  <thead>\n",
              "    <tr style=\"text-align: right;\">\n",
              "      <th></th>\n",
              "      <th>Code</th>\n",
              "      <th>Schemenumber</th>\n",
              "      <th>Mobile</th>\n",
              "      <th>Network</th>\n",
              "      <th>Amount</th>\n",
              "      <th>Frequency</th>\n",
              "      <th>Firstpaymentdate</th>\n",
              "      <th>Lastpaymentdate</th>\n",
              "      <th>Nextpaymentdate</th>\n",
              "      <th>Status</th>\n",
              "      <th>CreationTime</th>\n",
              "    </tr>\n",
              "  </thead>\n",
              "  <tbody>\n",
              "    <tr>\n",
              "      <th>216</th>\n",
              "      <td>ADC3399</td>\n",
              "      <td>1010PPS044145</td>\n",
              "      <td>233202144859</td>\n",
              "      <td>Vodafone</td>\n",
              "      <td>5.0</td>\n",
              "      <td>WEEKLY</td>\n",
              "      <td>2021-12-29</td>\n",
              "      <td>2022-02-24</td>\n",
              "      <td>2022-03-03</td>\n",
              "      <td>Active</td>\n",
              "      <td>2021-12-29</td>\n",
              "    </tr>\n",
              "    <tr>\n",
              "      <th>217</th>\n",
              "      <td>AD35398</td>\n",
              "      <td>1010PPS009040</td>\n",
              "      <td>233507089363</td>\n",
              "      <td>Vodafone</td>\n",
              "      <td>10.0</td>\n",
              "      <td>DAILY</td>\n",
              "      <td>2021-12-29</td>\n",
              "      <td>2022-01-07</td>\n",
              "      <td>2022-01-03</td>\n",
              "      <td>Active</td>\n",
              "      <td>2021-12-29</td>\n",
              "    </tr>\n",
              "    <tr>\n",
              "      <th>218</th>\n",
              "      <td>AD48397</td>\n",
              "      <td>1010PPS045000</td>\n",
              "      <td>233559024442</td>\n",
              "      <td>MTN</td>\n",
              "      <td>3.0</td>\n",
              "      <td>DAILY</td>\n",
              "      <td>2021-12-25</td>\n",
              "      <td>2021-12-25</td>\n",
              "      <td>2021-12-25</td>\n",
              "      <td>Active</td>\n",
              "      <td>2021-12-25</td>\n",
              "    </tr>\n",
              "    <tr>\n",
              "      <th>219</th>\n",
              "      <td>ADZ7396</td>\n",
              "      <td>1010PPS006041</td>\n",
              "      <td>233249978807</td>\n",
              "      <td>MTN</td>\n",
              "      <td>20.0</td>\n",
              "      <td>MONTHLY</td>\n",
              "      <td>2021-12-25</td>\n",
              "      <td>2022-02-25</td>\n",
              "      <td>2022-03-25</td>\n",
              "      <td>Active</td>\n",
              "      <td>2021-12-25</td>\n",
              "    </tr>\n",
              "    <tr>\n",
              "      <th>220</th>\n",
              "      <td>ADU1395</td>\n",
              "      <td>1010PPS014576</td>\n",
              "      <td>233549360203</td>\n",
              "      <td>MTN</td>\n",
              "      <td>10.0</td>\n",
              "      <td>MONTHLY</td>\n",
              "      <td>2021-12-25</td>\n",
              "      <td>2022-01-25</td>\n",
              "      <td>2022-02-25</td>\n",
              "      <td>Active</td>\n",
              "      <td>2021-12-25</td>\n",
              "    </tr>\n",
              "    <tr>\n",
              "      <th>...</th>\n",
              "      <td>...</td>\n",
              "      <td>...</td>\n",
              "      <td>...</td>\n",
              "      <td>...</td>\n",
              "      <td>...</td>\n",
              "      <td>...</td>\n",
              "      <td>...</td>\n",
              "      <td>...</td>\n",
              "      <td>...</td>\n",
              "      <td>...</td>\n",
              "      <td>...</td>\n",
              "    </tr>\n",
              "    <tr>\n",
              "      <th>2188</th>\n",
              "      <td>14201</td>\n",
              "      <td>1010PPS006364</td>\n",
              "      <td>233242746290</td>\n",
              "      <td>MTN</td>\n",
              "      <td>10.0</td>\n",
              "      <td>MONTHLY</td>\n",
              "      <td>2019-11-13</td>\n",
              "      <td>2022-02-13</td>\n",
              "      <td>2022-03-13</td>\n",
              "      <td>Active</td>\n",
              "      <td>2019-11-12</td>\n",
              "    </tr>\n",
              "    <tr>\n",
              "      <th>2189</th>\n",
              "      <td>14196</td>\n",
              "      <td>1010PPS006727</td>\n",
              "      <td>233552373815</td>\n",
              "      <td>MTN</td>\n",
              "      <td>5.0</td>\n",
              "      <td>WEEKLY</td>\n",
              "      <td>2020-01-01</td>\n",
              "      <td>2022-02-22</td>\n",
              "      <td>2022-03-01</td>\n",
              "      <td>Active</td>\n",
              "      <td>2019-11-11</td>\n",
              "    </tr>\n",
              "    <tr>\n",
              "      <th>2190</th>\n",
              "      <td>14192</td>\n",
              "      <td>1010PPS008032</td>\n",
              "      <td>233246206078</td>\n",
              "      <td>MTN</td>\n",
              "      <td>5.0</td>\n",
              "      <td>WEEKLY</td>\n",
              "      <td>2019-11-12</td>\n",
              "      <td>2022-01-29</td>\n",
              "      <td>2022-02-01</td>\n",
              "      <td>Active</td>\n",
              "      <td>2019-11-11</td>\n",
              "    </tr>\n",
              "    <tr>\n",
              "      <th>2191</th>\n",
              "      <td>14191</td>\n",
              "      <td>1010PPS008316</td>\n",
              "      <td>233243384308</td>\n",
              "      <td>MTN</td>\n",
              "      <td>10.0</td>\n",
              "      <td>WEEKLY</td>\n",
              "      <td>2019-11-12</td>\n",
              "      <td>2022-02-22</td>\n",
              "      <td>2022-03-01</td>\n",
              "      <td>Active</td>\n",
              "      <td>2019-11-11</td>\n",
              "    </tr>\n",
              "    <tr>\n",
              "      <th>2193</th>\n",
              "      <td>14099</td>\n",
              "      <td>1010PPS004780</td>\n",
              "      <td>233547060469</td>\n",
              "      <td>MTN</td>\n",
              "      <td>2.0</td>\n",
              "      <td>WEEKLY</td>\n",
              "      <td>2019-11-12</td>\n",
              "      <td>2022-01-18</td>\n",
              "      <td>2022-01-25</td>\n",
              "      <td>Active</td>\n",
              "      <td>2019-11-04</td>\n",
              "    </tr>\n",
              "  </tbody>\n",
              "</table>\n",
              "<p>1806 rows × 11 columns</p>\n",
              "</div>\n",
              "      <button class=\"colab-df-convert\" onclick=\"convertToInteractive('df-8ddac74a-a085-464c-8bf6-924f87b26781')\"\n",
              "              title=\"Convert this dataframe to an interactive table.\"\n",
              "              style=\"display:none;\">\n",
              "        \n",
              "  <svg xmlns=\"http://www.w3.org/2000/svg\" height=\"24px\"viewBox=\"0 0 24 24\"\n",
              "       width=\"24px\">\n",
              "    <path d=\"M0 0h24v24H0V0z\" fill=\"none\"/>\n",
              "    <path d=\"M18.56 5.44l.94 2.06.94-2.06 2.06-.94-2.06-.94-.94-2.06-.94 2.06-2.06.94zm-11 1L8.5 8.5l.94-2.06 2.06-.94-2.06-.94L8.5 2.5l-.94 2.06-2.06.94zm10 10l.94 2.06.94-2.06 2.06-.94-2.06-.94-.94-2.06-.94 2.06-2.06.94z\"/><path d=\"M17.41 7.96l-1.37-1.37c-.4-.4-.92-.59-1.43-.59-.52 0-1.04.2-1.43.59L10.3 9.45l-7.72 7.72c-.78.78-.78 2.05 0 2.83L4 21.41c.39.39.9.59 1.41.59.51 0 1.02-.2 1.41-.59l7.78-7.78 2.81-2.81c.8-.78.8-2.07 0-2.86zM5.41 20L4 18.59l7.72-7.72 1.47 1.35L5.41 20z\"/>\n",
              "  </svg>\n",
              "      </button>\n",
              "      \n",
              "  <style>\n",
              "    .colab-df-container {\n",
              "      display:flex;\n",
              "      flex-wrap:wrap;\n",
              "      gap: 12px;\n",
              "    }\n",
              "\n",
              "    .colab-df-convert {\n",
              "      background-color: #E8F0FE;\n",
              "      border: none;\n",
              "      border-radius: 50%;\n",
              "      cursor: pointer;\n",
              "      display: none;\n",
              "      fill: #1967D2;\n",
              "      height: 32px;\n",
              "      padding: 0 0 0 0;\n",
              "      width: 32px;\n",
              "    }\n",
              "\n",
              "    .colab-df-convert:hover {\n",
              "      background-color: #E2EBFA;\n",
              "      box-shadow: 0px 1px 2px rgba(60, 64, 67, 0.3), 0px 1px 3px 1px rgba(60, 64, 67, 0.15);\n",
              "      fill: #174EA6;\n",
              "    }\n",
              "\n",
              "    [theme=dark] .colab-df-convert {\n",
              "      background-color: #3B4455;\n",
              "      fill: #D2E3FC;\n",
              "    }\n",
              "\n",
              "    [theme=dark] .colab-df-convert:hover {\n",
              "      background-color: #434B5C;\n",
              "      box-shadow: 0px 1px 3px 1px rgba(0, 0, 0, 0.15);\n",
              "      filter: drop-shadow(0px 1px 2px rgba(0, 0, 0, 0.3));\n",
              "      fill: #FFFFFF;\n",
              "    }\n",
              "  </style>\n",
              "\n",
              "      <script>\n",
              "        const buttonEl =\n",
              "          document.querySelector('#df-8ddac74a-a085-464c-8bf6-924f87b26781 button.colab-df-convert');\n",
              "        buttonEl.style.display =\n",
              "          google.colab.kernel.accessAllowed ? 'block' : 'none';\n",
              "\n",
              "        async function convertToInteractive(key) {\n",
              "          const element = document.querySelector('#df-8ddac74a-a085-464c-8bf6-924f87b26781');\n",
              "          const dataTable =\n",
              "            await google.colab.kernel.invokeFunction('convertToInteractive',\n",
              "                                                     [key], {});\n",
              "          if (!dataTable) return;\n",
              "\n",
              "          const docLinkHtml = 'Like what you see? Visit the ' +\n",
              "            '<a target=\"_blank\" href=https://colab.research.google.com/notebooks/data_table.ipynb>data table notebook</a>'\n",
              "            + ' to learn more about interactive tables.';\n",
              "          element.innerHTML = '';\n",
              "          dataTable['output_type'] = 'display_data';\n",
              "          await google.colab.output.renderOutput(dataTable, element);\n",
              "          const docLink = document.createElement('div');\n",
              "          docLink.innerHTML = docLinkHtml;\n",
              "          element.appendChild(docLink);\n",
              "        }\n",
              "      </script>\n",
              "    </div>\n",
              "  </div>\n",
              "  "
            ],
            "text/plain": [
              "         Code   Schemenumber        Mobile  ... Nextpaymentdate  Status CreationTime\n",
              "216   ADC3399  1010PPS044145  233202144859  ...      2022-03-03  Active   2021-12-29\n",
              "217   AD35398  1010PPS009040  233507089363  ...      2022-01-03  Active   2021-12-29\n",
              "218   AD48397  1010PPS045000  233559024442  ...      2021-12-25  Active   2021-12-25\n",
              "219   ADZ7396  1010PPS006041  233249978807  ...      2022-03-25  Active   2021-12-25\n",
              "220   ADU1395  1010PPS014576  233549360203  ...      2022-02-25  Active   2021-12-25\n",
              "...       ...            ...           ...  ...             ...     ...          ...\n",
              "2188    14201  1010PPS006364  233242746290  ...      2022-03-13  Active   2019-11-12\n",
              "2189    14196  1010PPS006727  233552373815  ...      2022-03-01  Active   2019-11-11\n",
              "2190    14192  1010PPS008032  233246206078  ...      2022-02-01  Active   2019-11-11\n",
              "2191    14191  1010PPS008316  233243384308  ...      2022-03-01  Active   2019-11-11\n",
              "2193    14099  1010PPS004780  233547060469  ...      2022-01-25  Active   2019-11-04\n",
              "\n",
              "[1806 rows x 11 columns]"
            ]
          },
          "metadata": {},
          "execution_count": 426
        }
      ]
    },
    {
      "cell_type": "code",
      "source": [
        "a['days'] = date - a['Firstpaymentdate']"
      ],
      "metadata": {
        "colab": {
          "base_uri": "https://localhost:8080/"
        },
        "id": "AO-61Bbugma3",
        "outputId": "9bee840b-9dc3-4c4a-d241-85c6614a92d8"
      },
      "execution_count": null,
      "outputs": [
        {
          "output_type": "stream",
          "name": "stderr",
          "text": [
            "/usr/local/lib/python3.7/dist-packages/ipykernel_launcher.py:1: SettingWithCopyWarning: \n",
            "A value is trying to be set on a copy of a slice from a DataFrame.\n",
            "Try using .loc[row_indexer,col_indexer] = value instead\n",
            "\n",
            "See the caveats in the documentation: https://pandas.pydata.org/pandas-docs/stable/user_guide/indexing.html#returning-a-view-versus-a-copy\n",
            "  \"\"\"Entry point for launching an IPython kernel.\n"
          ]
        }
      ]
    },
    {
      "cell_type": "code",
      "source": [
        "a.loc[a[\"Frequency\"]=='DAILY', \"RATE\"] = 30\n",
        "a.loc[a[\"Frequency\"]=='MONTHLY', \"RATE\"] = 1\n",
        "a.loc[a[\"Frequency\"]=='WEEKLY', \"RATE\"] = 4"
      ],
      "metadata": {
        "colab": {
          "base_uri": "https://localhost:8080/"
        },
        "id": "JWjiNq5-TUSv",
        "outputId": "4205adc1-0598-409b-ceea-ba445abf2988"
      },
      "execution_count": null,
      "outputs": [
        {
          "output_type": "stream",
          "name": "stderr",
          "text": [
            "/usr/local/lib/python3.7/dist-packages/pandas/core/indexing.py:1684: SettingWithCopyWarning: \n",
            "A value is trying to be set on a copy of a slice from a DataFrame.\n",
            "Try using .loc[row_indexer,col_indexer] = value instead\n",
            "\n",
            "See the caveats in the documentation: https://pandas.pydata.org/pandas-docs/stable/user_guide/indexing.html#returning-a-view-versus-a-copy\n",
            "  self.obj[key] = infer_fill_value(value)\n",
            "/usr/local/lib/python3.7/dist-packages/pandas/core/indexing.py:1817: SettingWithCopyWarning: \n",
            "A value is trying to be set on a copy of a slice from a DataFrame.\n",
            "Try using .loc[row_indexer,col_indexer] = value instead\n",
            "\n",
            "See the caveats in the documentation: https://pandas.pydata.org/pandas-docs/stable/user_guide/indexing.html#returning-a-view-versus-a-copy\n",
            "  self._setitem_single_column(loc, value, pi)\n"
          ]
        }
      ]
    },
    {
      "cell_type": "code",
      "source": [
        "a['value'] = a.Amount * a.RATE"
      ],
      "metadata": {
        "colab": {
          "base_uri": "https://localhost:8080/"
        },
        "id": "xw8XuP2qVcbN",
        "outputId": "856f219b-d6ac-46b1-f8e5-a3ffc7eb4b87"
      },
      "execution_count": null,
      "outputs": [
        {
          "output_type": "stream",
          "name": "stderr",
          "text": [
            "/usr/local/lib/python3.7/dist-packages/ipykernel_launcher.py:1: SettingWithCopyWarning: \n",
            "A value is trying to be set on a copy of a slice from a DataFrame.\n",
            "Try using .loc[row_indexer,col_indexer] = value instead\n",
            "\n",
            "See the caveats in the documentation: https://pandas.pydata.org/pandas-docs/stable/user_guide/indexing.html#returning-a-view-versus-a-copy\n",
            "  \"\"\"Entry point for launching an IPython kernel.\n"
          ]
        }
      ]
    },
    {
      "cell_type": "code",
      "source": [
        ""
      ],
      "metadata": {
        "id": "w8sgUm8WYeCl"
      },
      "execution_count": null,
      "outputs": []
    },
    {
      "cell_type": "code",
      "source": [
        "a.value.sum()"
      ],
      "metadata": {
        "colab": {
          "base_uri": "https://localhost:8080/"
        },
        "id": "Fr121GqROe2T",
        "outputId": "820e0f14-4d6e-4c36-d875-54ccf2b0de3e"
      },
      "execution_count": null,
      "outputs": [
        {
          "output_type": "execute_result",
          "data": {
            "text/plain": [
              "215877.81000000003"
            ]
          },
          "metadata": {},
          "execution_count": 430
        }
      ]
    }
  ]
}